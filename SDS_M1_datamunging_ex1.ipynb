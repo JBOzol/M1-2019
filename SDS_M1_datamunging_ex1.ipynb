{
  "nbformat": 4,
  "nbformat_minor": 0,
  "metadata": {
    "kernelspec": {
      "display_name": "R",
      "language": "R",
      "name": "ir"
    },
    "language_info": {
      "mimetype": "text/x-r-source",
      "name": "R",
      "pygments_lexer": "r",
      "version": "3.4.2",
      "file_extension": ".r",
      "codemirror_mode": "r"
    },
    "colab": {
      "name": "SDS_M1_datamunging_ex1.ipynb",
      "version": "0.3.2",
      "provenance": [],
      "collapsed_sections": [],
      "include_colab_link": true
    }
  },
  "cells": [
    {
      "cell_type": "markdown",
      "metadata": {
        "id": "view-in-github",
        "colab_type": "text"
      },
      "source": [
        "<a href=\"https://colab.research.google.com/github/SDS-AAU/M1-2019/blob/master/SDS_M1_datamunging_ex1.ipynb\" target=\"_parent\"><img src=\"https://colab.research.google.com/assets/colab-badge.svg\" alt=\"Open In Colab\"/></a>"
      ]
    },
    {
      "cell_type": "code",
      "metadata": {
        "_uuid": "e91a8c71ecbabe307ebf19867d6249f8d75ed045",
        "_execution_state": "idle",
        "trusted": true,
        "id": "d31J-xWgYt4e",
        "colab_type": "code",
        "colab": {}
      },
      "source": [
        "## Importing packages\n",
        "library(tidyverse) # metapackage with lots of helpful functions"
      ],
      "execution_count": 0,
      "outputs": []
    },
    {
      "cell_type": "markdown",
      "metadata": {
        "_uuid": "e9b2f353c305538df9dd9f19fa794887a3bf6967",
        "id": "e7wbZQ7qYt4k",
        "colab_type": "text"
      },
      "source": [
        "Ok, lets explore the starwars dataset. "
      ]
    },
    {
      "cell_type": "code",
      "metadata": {
        "trusted": true,
        "_uuid": "77d3158499a4848a47ff7ec06b89dfd4fe7ba106",
        "id": "DMxrpbEAYt4m",
        "colab_type": "code",
        "colab": {}
      },
      "source": [
        "starwars %>% head()"
      ],
      "execution_count": 0,
      "outputs": []
    },
    {
      "cell_type": "code",
      "metadata": {
        "id": "yVq3PlgGm5cu",
        "colab_type": "code",
        "colab": {}
      },
      "source": [
        "starwars %>% glimpse()"
      ],
      "execution_count": 0,
      "outputs": []
    },
    {
      "cell_type": "markdown",
      "metadata": {
        "_uuid": "84c6a444f0606744646722eb8cf4ab69ab575c5e",
        "id": "FyyzTeaoYt4r",
        "colab_type": "text"
      },
      "source": [
        "Ok, now its your turn: Can you tell me:\n",
        "\n",
        "1. Who is the tallest droid?"
      ]
    },
    {
      "cell_type": "code",
      "metadata": {
        "trusted": true,
        "_uuid": "75656fcf1511b8a037629f5b37a2d7d78212e36f",
        "id": "ZNEeIyZ8Yt4s",
        "colab_type": "code",
        "colab": {}
      },
      "source": [
        ""
      ],
      "execution_count": 0,
      "outputs": []
    },
    {
      "cell_type": "markdown",
      "metadata": {
        "_uuid": "770c1a78a7d3438d1848815c127bbf2f623cce55",
        "id": "v0yvmckfYt4x",
        "colab_type": "text"
      },
      "source": [
        "2. Are characters with different hair colors also of different average weight? (strange hypothesis, though)"
      ]
    },
    {
      "cell_type": "code",
      "metadata": {
        "trusted": true,
        "_uuid": "13fd096364ca2ed14247beb9c559324cc991cc0b",
        "id": "bywylByyYt4z",
        "colab_type": "code",
        "colab": {}
      },
      "source": [
        ""
      ],
      "execution_count": 0,
      "outputs": []
    },
    {
      "cell_type": "markdown",
      "metadata": {
        "_uuid": "90235d3a1bdd444e7352438093e43e7d69e1b5f6",
        "id": "xsNQA50EYt44",
        "colab_type": "text"
      },
      "source": [
        "3: Which homeworld is the most populated one?\n",
        "\n"
      ]
    },
    {
      "cell_type": "code",
      "metadata": {
        "trusted": true,
        "_uuid": "eff220d632736a8f7116af4fdee7a6bde49beff0",
        "id": "emgjTHx-Yt46",
        "colab_type": "code",
        "colab": {}
      },
      "source": [
        ""
      ],
      "execution_count": 0,
      "outputs": []
    },
    {
      "cell_type": "markdown",
      "metadata": {
        "id": "_ZOGyII4nLcQ",
        "colab_type": "text"
      },
      "source": [
        "4: And on which homeworld can we find the on average heaviest humans?"
      ]
    },
    {
      "cell_type": "code",
      "metadata": {
        "id": "qSnzviTBnJAE",
        "colab_type": "code",
        "colab": {}
      },
      "source": [
        ""
      ],
      "execution_count": 0,
      "outputs": []
    }
  ]
}