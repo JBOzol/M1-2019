{
  "nbformat": 4,
  "nbformat_minor": 0,
  "metadata": {
    "Rmd_header": {
      "author": "Daniel S. Hain (dsh@business.aau.dk)",
      "output": {
        "html_document": {
          "df_print": "paged",
          "number_sections": true,
          "toc": true,
          "toc_float": true
        }
      },
      "title": "Data manipulation & Exploration (in R)"
    },
    "kernelspec": {
      "display_name": "R",
      "language": "R",
      "name": "ir"
    },
    "language_info": {
      "codemirror_mode": "r",
      "file_extension": ".r",
      "mimetype": "text/x-r-source",
      "name": "R",
      "pygments_lexer": "r"
    },
    "colab": {
      "name": "M1_1_data_munging.ipynb",
      "version": "0.3.2",
      "provenance": [],
      "collapsed_sections": [
        "esJNnPrCCMAL",
        "O8q3xMOvCMAS",
        "WhIio1W3CMAj",
        "sYQnk9KsCMAq",
        "hUurPu9lCMAx",
        "aZgny0HwCMBA",
        "DfgvA54TCMBK",
        "0e-rIFH4CMBR",
        "ncI2Xr3sCMBY",
        "yeZEkFoOCMBe",
        "skHsjtkuCMBi",
        "LBEIMNwjCMBq",
        "NfzgLywJCMBy",
        "QLkGvWvuCMBz",
        "cnxB5C0ZCMB1",
        "FF26yNjcCMB4",
        "y6ZgVnNICMCH",
        "wFQmMciCCMCI",
        "x10prcCSCMCM",
        "shWf_FlNCMCR",
        "wSRl-qriCMCT",
        "ZqFBUPJgCMCY",
        "UBukhNpKCMCZ",
        "E2NJ0quOCMCb",
        "AHtEwvTQCMCf",
        "JCsbRFG-CMCh",
        "GIRvyO-qCMCo",
        "eQKOK_6MCMCz"
      ],
      "include_colab_link": true
    }
  },
  "cells": [
    {
      "cell_type": "markdown",
      "metadata": {
        "id": "view-in-github",
        "colab_type": "text"
      },
      "source": [
        "<a href=\"https://colab.research.google.com/github/SDS-AAU/M1-2019/blob/master/notebooks/M1_1_data_munging.ipynb\" target=\"_parent\"><img src=\"https://colab.research.google.com/assets/colab-badge.svg\" alt=\"Open In Colab\"/></a>"
      ]
    },
    {
      "cell_type": "code",
      "metadata": {
        "Rmd_chunk_options": "setup, include=FALSE",
        "autoscroll": false,
        "id": "GWmbHClFCL_Y",
        "colab_type": "code",
        "colab": {}
      },
      "source": [
        "### Generic preamble\n",
        "Sys.setenv(LANG = \"en\") # For english language\n",
        "options(scipen = 5) # To deactivate annoying scientific number notation\n",
        "set.seed(1337) # To have a seed defined for reproducability\n",
        "\n",
        "rm(list=ls()); graphics.off() # get rid of everything in the workspace\n",
        "if (!require(\"pacman\")) install.packages(\"pacman\") # package for loading and checking packages :)\n",
        "\n",
        "### Install packages if necessary\n",
        "pacman::p_load(tidyverse, # Collection of all the good stuff like dplyr, ggplot2 ect.\n",
        "               magrittr, # For extra-piping operators (eg. %<>%)\n",
        "               countrycode, # Helpful functions when working with countrycodes\n",
        "               skimr, # For skimming\n",
        "               wbstats # for getting worldbank data via their API\n",
        "               )"
      ],
      "execution_count": 0,
      "outputs": []
    },
    {
      "cell_type": "markdown",
      "metadata": {
        "id": "V7nY9wjICL_d",
        "colab_type": "text"
      },
      "source": [
        "\n",
        "Short upfront note:\n",
        "\n",
        "Google colab does not support `R` kernels. Alternatively, you can use the Microsoft Azure solution, which is quite similar but slower. However, there is a little trick how to make `R` run with colab.\n",
        "\n",
        "* You can simply run the `demo.ipynb` from [IRkernel Github](https://colab.research.google.com/github/IRkernel/IRkernel/blob/master/example-notebooks/Demo.ipynb)\n",
        "* Make changes and then save a copy to your Google Drive.\n",
        "* You can also see all 3 example notebooks [here](https://github.com/IRkernel/IRkernel/tree/master/example-notebooks).\n",
        "\n",
        "# Introduction\n",
        "In this session, you will learn the basic grammar of data manipulation, some best-practice advices. Since data manipulation always follows a purpose and requires some understanding of the data at hand, we will also have a first glance data exploration and visualization. However, we will her only cover the very basics and skip most of the details. Again, you will have a dedicated sessions lateron.\n",
        "\n",
        "In this session, you will learn:\n",
        "\n",
        "* How to do basic variable filtering, selection, and manipulation\n",
        "* How to create various types of data summarization\n",
        "* How to also apply these actions on grouped data\n",
        "* How to join data from different sources\n",
        "* How to reshape (pivot) your data\n",
        "\n",
        "From my experience, this covers ca. 95% of common data manipulation tasks. Sound like fun? Lets get started!\n",
        "\n",
        "# Reminder: Base-R\n",
        "\n",
        "## Basics\n",
        "\n",
        "### Assignments\n",
        "\n",
        "You can assign a value to an object using `assign()`,  `<-`, or `=`.\n"
      ]
    },
    {
      "cell_type": "code",
      "metadata": {
        "autoscroll": false,
        "id": "oB1Tqc04CL_e",
        "colab_type": "code",
        "outputId": "e24e31fb-1340-49d5-fa19-cc031196cd52",
        "colab": {
          "base_uri": "https://localhost:8080/",
          "height": 68
        }
      },
      "source": [
        "x <- 3         # Assignment\n",
        "x              # Evaluate the expression and print result\n",
        "\n",
        "y <- 4         # Assignment\n",
        "y + 5          # Evaluation, y remains 4\n",
        "\n",
        "z <- x + 17*y  # Assignment\n",
        "z              # Evaluation\n",
        "\n",
        "rm(z)          # Remove z: deletes the object.\n",
        "# z             # Error!"
      ],
      "execution_count": 0,
      "outputs": [
        {
          "output_type": "display_data",
          "data": {
            "text/plain": [
              "[1] 3"
            ],
            "text/latex": "3",
            "text/markdown": "3",
            "text/html": [
              "3"
            ]
          },
          "metadata": {
            "tags": []
          }
        },
        {
          "output_type": "display_data",
          "data": {
            "text/plain": [
              "[1] 9"
            ],
            "text/latex": "9",
            "text/markdown": "9",
            "text/html": [
              "9"
            ]
          },
          "metadata": {
            "tags": []
          }
        },
        {
          "output_type": "display_data",
          "data": {
            "text/plain": [
              "[1] 71"
            ],
            "text/latex": "71",
            "text/markdown": "71",
            "text/html": [
              "71"
            ]
          },
          "metadata": {
            "tags": []
          }
        }
      ]
    },
    {
      "cell_type": "markdown",
      "metadata": {
        "id": "vBhGSeI8CL_g",
        "colab_type": "text"
      },
      "source": [
        "\n",
        "\n",
        "### Value comparisons\n",
        "\n",
        "Comparisons return boolean values: TRUE or FALSE (often abbreviated to `T` and `F`)\n"
      ]
    },
    {
      "cell_type": "code",
      "metadata": {
        "autoscroll": false,
        "id": "d8xp5S77CL_g",
        "colab_type": "code",
        "outputId": "4895236d-262d-46e6-a1a1-9d9b5a36f20d",
        "colab": {
          "base_uri": "https://localhost:8080/",
          "height": 68
        }
      },
      "source": [
        "2==2  # Equality\n",
        "2!=2  # Inequality\n",
        "x <= y # less than or equal: \"<\", \">\", and \">=\" also work"
      ],
      "execution_count": 0,
      "outputs": [
        {
          "output_type": "display_data",
          "data": {
            "text/plain": [
              "[1] TRUE"
            ],
            "text/latex": "TRUE",
            "text/markdown": "TRUE",
            "text/html": [
              "TRUE"
            ]
          },
          "metadata": {
            "tags": []
          }
        },
        {
          "output_type": "display_data",
          "data": {
            "text/plain": [
              "[1] FALSE"
            ],
            "text/latex": "FALSE",
            "text/markdown": "FALSE",
            "text/html": [
              "FALSE"
            ]
          },
          "metadata": {
            "tags": []
          }
        },
        {
          "output_type": "display_data",
          "data": {
            "text/plain": [
              "[1] TRUE"
            ],
            "text/latex": "TRUE",
            "text/markdown": "TRUE",
            "text/html": [
              "TRUE"
            ]
          },
          "metadata": {
            "tags": []
          }
        }
      ]
    },
    {
      "cell_type": "markdown",
      "metadata": {
        "id": "fstTTyXGCL_j",
        "colab_type": "text"
      },
      "source": [
        "\n",
        "\n",
        "### Special constants: `NA`, `NULL`, `Inf`, `-Inf`, `NaN`\n",
        "\n",
        "`NA` indicates missing or undefined data\n"
      ]
    },
    {
      "cell_type": "code",
      "metadata": {
        "autoscroll": false,
        "id": "vqTFWLUjCL_k",
        "colab_type": "code",
        "colab": {}
      },
      "source": [
        "5 + NA      # When used in an expression, the result is generally NA\n",
        "is.na(5+NA) # Check if missing\n",
        "\n",
        "mean(c(1, 2, NA, 4, 5)) # many functions requiring numeric vectors output  when one is included\n",
        "mean(c(1, 2, NA, 4, 5), na.rm = TRUE) # Not if we provide the right argument to ignore them"
      ],
      "execution_count": 0,
      "outputs": []
    },
    {
      "cell_type": "markdown",
      "metadata": {
        "id": "lRfpzSO5CL_m",
        "colab_type": "text"
      },
      "source": [
        "\n",
        "`NULL` indicates an empty object, e.g. a null/empty list\n"
      ]
    },
    {
      "cell_type": "code",
      "metadata": {
        "autoscroll": false,
        "id": "ub2xd42fCL_n",
        "colab_type": "code",
        "colab": {}
      },
      "source": [
        "10 + NULL     # use returns an empty object (length zero)\n",
        "is.null(NULL) # check if NULL"
      ],
      "execution_count": 0,
      "outputs": []
    },
    {
      "cell_type": "markdown",
      "metadata": {
        "id": "JBskyJ3LCL_p",
        "colab_type": "text"
      },
      "source": [
        "\n",
        "`Inf` and `-Inf` represent positive and negative infinity. They can be returned by  mathematical operations like division of a number by zero.\n"
      ]
    },
    {
      "cell_type": "code",
      "metadata": {
        "autoscroll": false,
        "id": "3y5F8XIcCL_q",
        "colab_type": "code",
        "colab": {}
      },
      "source": [
        "5/0\n",
        "is.finite(5/0) # Check if a number is finite"
      ],
      "execution_count": 0,
      "outputs": []
    },
    {
      "cell_type": "markdown",
      "metadata": {
        "id": "v8nmUPX0CL_t",
        "colab_type": "text"
      },
      "source": [
        "\n",
        "`NaN` (Not a Number) - the result of an operation that cannot be reasonably defined\n"
      ]
    },
    {
      "cell_type": "code",
      "metadata": {
        "autoscroll": false,
        "id": "j2JPf6p8CL_t",
        "colab_type": "code",
        "colab": {}
      },
      "source": [
        "0/0\n",
        "is.nan(0/0)"
      ],
      "execution_count": 0,
      "outputs": []
    },
    {
      "cell_type": "markdown",
      "metadata": {
        "id": "an4JvAXYCL_w",
        "colab_type": "text"
      },
      "source": [
        "\n",
        "## Object classes\n",
        "\n",
        "### Vectors\n",
        "\n"
      ]
    },
    {
      "cell_type": "code",
      "metadata": {
        "autoscroll": false,
        "id": "u_p3XOKxCL_x",
        "colab_type": "code",
        "colab": {}
      },
      "source": [
        "v1 <- c(1, 5, 11, 33)       # Numeric vector, length 4\n",
        "v1\n",
        "\n",
        "v2 <- c(\"hello\",\"world\")    # Character vector, length 2 (a vector of strings)\n",
        "v2\n",
        "\n",
        "v3 <- c(TRUE, TRUE, FALSE)  # Logical vector, same as c(T, T, F)\n",
        "v3"
      ],
      "execution_count": 0,
      "outputs": []
    },
    {
      "cell_type": "markdown",
      "metadata": {
        "id": "60GbVww-CL_z",
        "colab_type": "text"
      },
      "source": [
        "\n",
        "Combining different types of elements in one vector will coerce the elements  to the least restrictive type:\n"
      ]
    },
    {
      "cell_type": "code",
      "metadata": {
        "autoscroll": false,
        "id": "7KjE3gVvCL_0",
        "colab_type": "code",
        "colab": {}
      },
      "source": [
        "v4 <- c(v1,v2,v3,\"boo\") \t# All elements turn into strings\n",
        "v4"
      ],
      "execution_count": 0,
      "outputs": []
    },
    {
      "cell_type": "markdown",
      "metadata": {
        "id": "rB2Ux0xTCL_3",
        "colab_type": "text"
      },
      "source": [
        "\n",
        "Element-wise operations:\n"
      ]
    },
    {
      "cell_type": "code",
      "metadata": {
        "autoscroll": false,
        "id": "u_9G2vS1CL_4",
        "colab_type": "code",
        "colab": {}
      },
      "source": [
        "v1 + v3      # Element-wise addition (reminder: TRUE counts as 1, FALSE as 0)\n",
        "v1 + 1       # Add 1 to each element\n",
        "v1 * 2       # Multiply EACH element by 2 (not like real vector multiplication)\n",
        "v1 + c(1,7)  # (1,7) is a vector of different length... what happens here?"
      ],
      "execution_count": 0,
      "outputs": []
    },
    {
      "cell_type": "markdown",
      "metadata": {
        "id": "NYDKCicMCL_6",
        "colab_type": "text"
      },
      "source": [
        "\n",
        "Mathematical operations:\n"
      ]
    },
    {
      "cell_type": "code",
      "metadata": {
        "autoscroll": false,
        "id": "X8lAtCdRCL_6",
        "colab_type": "code",
        "colab": {}
      },
      "source": [
        "sum(v1)      # The sum of all elements\n",
        "mean(v1)     # The average of all elements\n",
        "sd(v1)       # The standard deviation\n",
        "cor(v1,v1*5) # Correlation between v1 and v1*5"
      ],
      "execution_count": 0,
      "outputs": []
    },
    {
      "cell_type": "markdown",
      "metadata": {
        "id": "KY46p8HYCL_8",
        "colab_type": "text"
      },
      "source": [
        "\n",
        "Logical operations:\n"
      ]
    },
    {
      "cell_type": "code",
      "metadata": {
        "autoscroll": false,
        "id": "QFpv2PS1CL_9",
        "colab_type": "code",
        "colab": {}
      },
      "source": [
        "v1 > 2       # Each element is compared to 2, returns logical vector\n",
        "v1==v2       # Are corresponding elements equivalent, returns logical vector.\n",
        "v1!=v2       # Are corresponding elements *not* equivalent? Same as !(v1==v2)\n",
        "(v1>2) | (v2>0)   # | is the boolean OR, returns a vector.\n",
        "(v1>2) & (v2>0)   # & is the boolean AND, returns a vector.\n",
        "(v1>2) || (v2>0)  # || is the boolean OR, returns a single value (if it is true at least once)\n",
        "(v1>2) && (v2>0)  # && is the boolean AND, returns a single value (if it is true at least once)"
      ],
      "execution_count": 0,
      "outputs": []
    },
    {
      "cell_type": "markdown",
      "metadata": {
        "id": "YyJBiDbkCL__",
        "colab_type": "text"
      },
      "source": [
        "\n",
        "Adressing vector elements:\n"
      ]
    },
    {
      "cell_type": "code",
      "metadata": {
        "autoscroll": false,
        "id": "8ZG8KzqDCL__",
        "colab_type": "code",
        "colab": {}
      },
      "source": [
        "v1[3]             # third element of v1\n",
        "v1[2:4]           # elements 2, to 4 of v1\n",
        "v1[c(1,3)]        # elements 1 and 3 - note that your indexes are a vector\n",
        "v1[c(T,T,F,F,F)]  # elements 1 and 2 - only the ones that are TRUE\n",
        "v1[v1>3]          # v1>3 is a logical vector TRUE for elements >3"
      ],
      "execution_count": 0,
      "outputs": []
    },
    {
      "cell_type": "markdown",
      "metadata": {
        "id": "cOM7UrL1CMAB",
        "colab_type": "text"
      },
      "source": [
        "\n",
        "**NOTE:** If you are used to languages indexing from 0 (eg. Python), `R` will surprise you by indexing from 1.\n",
        "\n",
        "To add more elements to a vector, simply assign them values.\n"
      ]
    },
    {
      "cell_type": "code",
      "metadata": {
        "autoscroll": false,
        "id": "eKmTo4w8CMAC",
        "colab_type": "code",
        "colab": {}
      },
      "source": [
        "v1[6:10] <- 6:10\n",
        "v1"
      ],
      "execution_count": 0,
      "outputs": []
    },
    {
      "cell_type": "markdown",
      "metadata": {
        "id": "eKYP08eMCMAF",
        "colab_type": "text"
      },
      "source": [
        "\n",
        "We can also directly assign the vector a length:\n"
      ]
    },
    {
      "cell_type": "code",
      "metadata": {
        "autoscroll": false,
        "id": "Y013GAynCMAG",
        "colab_type": "code",
        "colab": {}
      },
      "source": [
        "length(v1) <- 15 # the last 5 elements are added as missing data: NA\n",
        "v1"
      ],
      "execution_count": 0,
      "outputs": []
    },
    {
      "cell_type": "markdown",
      "metadata": {
        "id": "esJNnPrCCMAL",
        "colab_type": "text"
      },
      "source": [
        "\n",
        "\n",
        "\n",
        "### Factors\n",
        "\n",
        "Factors are used to store categorical data.\n"
      ]
    },
    {
      "cell_type": "code",
      "metadata": {
        "autoscroll": false,
        "collapsed": true,
        "id": "HxK70h0JCMAM",
        "colab_type": "code",
        "colab": {}
      },
      "source": [
        "eye.col.v <- c(\"brown\", \"green\", \"brown\", \"blue\", \"blue\", \"blue\")         #vector\n",
        "eye.col.f <- factor(c(\"brown\", \"green\", \"brown\", \"blue\", \"blue\", \"blue\")) #factor\n",
        "eye.col.v\n",
        "eye.col.f"
      ],
      "execution_count": 0,
      "outputs": []
    },
    {
      "cell_type": "markdown",
      "metadata": {
        "id": "YAaGD8SrCMAP",
        "colab_type": "text"
      },
      "source": [
        "\n",
        "`R` will identify the different levels of the factor - e.g. all distinct values. The data is stored internally as integers - each number corresponding to a factor level.\n",
        "\n"
      ]
    },
    {
      "cell_type": "code",
      "metadata": {
        "autoscroll": false,
        "collapsed": true,
        "id": "-XrpEd4yCMAQ",
        "colab_type": "code",
        "colab": {}
      },
      "source": [
        "levels(eye.col.f)  # The levels (distinct values) of the factor (categorical variable)\n",
        "\n",
        "as.numeric(eye.col.f)  # The factor as numeric values: 1 is  blue, 2 is brown, 3 is green\n",
        "as.numeric(eye.col.v)  # The character vector, however, can not be coerced to numeric\n",
        "\n",
        "as.character(eye.col.f)\n",
        "as.character(eye.col.v)"
      ],
      "execution_count": 0,
      "outputs": []
    },
    {
      "cell_type": "markdown",
      "metadata": {
        "id": "O8q3xMOvCMAS",
        "colab_type": "text"
      },
      "source": [
        "\n",
        "\n",
        "### Matrces & Arrays\n",
        "\n",
        "A matrix is a vector with dimensions:\n"
      ]
    },
    {
      "cell_type": "code",
      "metadata": {
        "autoscroll": false,
        "collapsed": true,
        "id": "bNEgzzj3CMAT",
        "colab_type": "code",
        "colab": {}
      },
      "source": [
        "m <- rep(1, 20)   # A vector of 20 elements, all 1\n",
        "dim(m) <- c(5,4)  # Dimensions set to 5 & 4, so m is now a 5x4 matrix\n",
        "m"
      ],
      "execution_count": 0,
      "outputs": []
    },
    {
      "cell_type": "markdown",
      "metadata": {
        "id": "hWxcYyI_CMAW",
        "colab_type": "text"
      },
      "source": [
        "\n",
        "Create a matrix using `matrix()`:\n"
      ]
    },
    {
      "cell_type": "code",
      "metadata": {
        "autoscroll": false,
        "collapsed": true,
        "id": "QXoHVN2mCMAW",
        "colab_type": "code",
        "colab": {}
      },
      "source": [
        "m <- matrix(data=1, nrow=5, ncol=4)  # same matrix as above, 5x4, full of 1s\n",
        "m <- matrix(1,5,4) \t\t\t             # same matrix as above (lazy style)\n",
        "dim(m)                                # What are the dimensions of m?\n",
        "m"
      ],
      "execution_count": 0,
      "outputs": []
    },
    {
      "cell_type": "markdown",
      "metadata": {
        "id": "R7Vq6WHCCMAY",
        "colab_type": "text"
      },
      "source": [
        "\n",
        "Create a matrix by combining vectors:\n"
      ]
    },
    {
      "cell_type": "code",
      "metadata": {
        "autoscroll": false,
        "collapsed": true,
        "id": "51qefqlACMAY",
        "colab_type": "code",
        "colab": {}
      },
      "source": [
        "m <- cbind(1:5, 5:1, 5:9)  # Bind 3 vectors as columns, 5x3 matrix\n",
        "m <- rbind(1:5, 5:1, 5:9)  # Bind 3 vectors as rows, 3x5 matrix\n",
        "m <- matrix(1:10,10,10)\n",
        "m"
      ],
      "execution_count": 0,
      "outputs": []
    },
    {
      "cell_type": "markdown",
      "metadata": {
        "id": "VhKyW6bQCMAa",
        "colab_type": "text"
      },
      "source": [
        "\n",
        "Select matrix elements:\n"
      ]
    },
    {
      "cell_type": "code",
      "metadata": {
        "autoscroll": false,
        "collapsed": true,
        "id": "srjJo9wvCMAb",
        "colab_type": "code",
        "colab": {}
      },
      "source": [
        "m[2,3]  # Matrix m, row 2, column 3 - a single cell\n",
        "m[2,]   # The whole second row of m as a vector\n",
        "m[,2]   # The whole second column of m as a vector\n",
        "m[1:2,4:6] # submatrix: rows 1 and 2, columns 4, 5 and 6\n",
        "m[-1,]     # all rows *except* the first one"
      ],
      "execution_count": 0,
      "outputs": []
    },
    {
      "cell_type": "markdown",
      "metadata": {
        "id": "MzPl0FySCMAc",
        "colab_type": "text"
      },
      "source": [
        "\n",
        "Conditional operations\n"
      ]
    },
    {
      "cell_type": "code",
      "metadata": {
        "autoscroll": false,
        "collapsed": true,
        "id": "d5O_xiFgCMAd",
        "colab_type": "code",
        "colab": {}
      },
      "source": [
        "m[1,] == m[,1]  # Are elements in row 1 equivalent to corresponding elements from column 1?\n",
        "m > 3           # A logical matrix: TRUE for m elements >3, FALSE otherwise\n",
        "m[m > 3]        # Selects only TRUE elements - that is ones greater than 3"
      ],
      "execution_count": 0,
      "outputs": []
    },
    {
      "cell_type": "markdown",
      "metadata": {
        "id": "E5ZhYt_SCMAf",
        "colab_type": "text"
      },
      "source": [
        "\n",
        "Other matrix manipulation\n"
      ]
    },
    {
      "cell_type": "code",
      "metadata": {
        "autoscroll": false,
        "collapsed": true,
        "id": "szOUubjiCMAh",
        "colab_type": "code",
        "colab": {}
      },
      "source": [
        "t(m)          # Transpose m\n",
        "m %*% t(m)    # %*% does matrix multiplication\n",
        "m * m         # * does element-wise multiplication"
      ],
      "execution_count": 0,
      "outputs": []
    },
    {
      "cell_type": "markdown",
      "metadata": {
        "id": "WhIio1W3CMAj",
        "colab_type": "text"
      },
      "source": [
        "\n",
        "\n",
        "\n",
        "### Arrays: more than 2 dimensions\n",
        "\n",
        "Created with the `array()` function:\n"
      ]
    },
    {
      "cell_type": "code",
      "metadata": {
        "autoscroll": false,
        "collapsed": true,
        "id": "Ba88v6aUCMAk",
        "colab_type": "code",
        "colab": {}
      },
      "source": [
        "a <- array(data=1:18,dim=c(3,3,2)) # 3d with dimensions 3x3x2\n",
        "a <- array(1:18,c(3,3,2))          # the same array\n",
        "a"
      ],
      "execution_count": 0,
      "outputs": []
    },
    {
      "cell_type": "markdown",
      "metadata": {
        "id": "uo3He-6ICMAn",
        "colab_type": "text"
      },
      "source": [
        "\n",
        "Since arrays have 3 dimensions, also a 3rd element can be used for slicing&dicinhg.\n"
      ]
    },
    {
      "cell_type": "code",
      "metadata": {
        "autoscroll": false,
        "collapsed": true,
        "id": "w-b0poM_CMAo",
        "colab_type": "code",
        "colab": {}
      },
      "source": [
        "a[1,3,2]"
      ],
      "execution_count": 0,
      "outputs": []
    },
    {
      "cell_type": "markdown",
      "metadata": {
        "id": "sYQnk9KsCMAq",
        "colab_type": "text"
      },
      "source": [
        "\n",
        "\n",
        "### Lists\n",
        "\n",
        "Lists are collections of objects (e.g. of strings, vectors, matrices, other lists, etc.)\n"
      ]
    },
    {
      "cell_type": "code",
      "metadata": {
        "autoscroll": false,
        "collapsed": true,
        "id": "zVY0GCzsCMAr",
        "colab_type": "code",
        "colab": {}
      },
      "source": [
        "l1 <- list(boo=v1,foo=v2,moo=v3,zoo=\"Animals!\")  # A list with four components\n",
        "l2 <- list(v1,v2,v3,\"Animals!\")\n",
        "\n",
        "l3 <- list()\n",
        "l4 <- NULL\n"
      ],
      "execution_count": 0,
      "outputs": []
    },
    {
      "cell_type": "code",
      "metadata": {
        "autoscroll": false,
        "collapsed": true,
        "id": "z0PHVhM8CMAt",
        "colab_type": "code",
        "colab": {}
      },
      "source": [
        "l1[\"boo\"]      # Access boo: this returns a list.\n",
        "l1[[\"boo\"]]    # Access boo: this returns the numeric vector\n",
        "l1[[1]]        # Returns the first component of the list, equivalent to above.\n",
        "l1[[1]][2]     # Acess the second element in the first list\n",
        "l1$boo         # Named elements can be accessed using the $ operator - equivalent to [[]]"
      ],
      "execution_count": 0,
      "outputs": []
    },
    {
      "cell_type": "markdown",
      "metadata": {
        "id": "zvGct5yKCMAv",
        "colab_type": "text"
      },
      "source": [
        "\n",
        "Add more elements to a list:\n"
      ]
    },
    {
      "cell_type": "code",
      "metadata": {
        "autoscroll": false,
        "collapsed": true,
        "id": "0II911fhCMAw",
        "colab_type": "code",
        "colab": {}
      },
      "source": [
        "l3[[1]] <- 11 # add an element to the empty list l3\n",
        "l4[[3]] <- c(22, 23) # add a vector as element 3 in the empty list l4.\n",
        "                     # Since we added element 3, elements 1 & 2 will be generated and empty (NULL)\n",
        "l1[[5]] <- \"More elements!\" # The list l1 had 4 elements, we're adding a 5th here.\n",
        "l1[[8]] <- 1:11 # We added an 8th element, but not 6th or 7th. Those will be created empty (NULL)\n",
        "l1$Something <- \"A thing\"  # Adds a ninth element - \"A thing\", named \"Something\""
      ],
      "execution_count": 0,
      "outputs": []
    },
    {
      "cell_type": "markdown",
      "metadata": {
        "id": "hUurPu9lCMAx",
        "colab_type": "text"
      },
      "source": [
        "\n",
        "\n",
        "### Data Frames\n",
        "The data frame is a special kind of list used for storing dataset tables. Think of rows as cases, columns as variables. Each column is a vector or factor.\n",
        "\n",
        "Note: While base `R` uses the `data.frame`, we later when working with `tidyverse` use the `tibble` instead, which is the same but modifies some annoying behaviors of the original data type (eg. no default interpretations of strings as factors, no `rownames`. More on that later).\n",
        "\n",
        "Creating a dataframe:\n"
      ]
    },
    {
      "cell_type": "code",
      "metadata": {
        "autoscroll": false,
        "collapsed": true,
        "id": "_-gVggsrCMAy",
        "colab_type": "code",
        "colab": {}
      },
      "source": [
        "dfr1 <- data.frame( ID=1:4,\n",
        "                    FirstName=c(\"Jesper\",\"Jonas\",\"Pernille\",\"Helle\"),\n",
        "                    Female=c(F,F,T,T),\n",
        "                    Age=c(22,33,44,55) )\n",
        "\n",
        "dfr1$FirstName   # Access the second column of dfr1."
      ],
      "execution_count": 0,
      "outputs": []
    },
    {
      "cell_type": "markdown",
      "metadata": {
        "id": "5Gpjn4B0CMAz",
        "colab_type": "text"
      },
      "source": [
        "\n",
        "**Notice** that `R` thinks this is a categorical variable  and so it's treating it like a factor, not a character vector. You can tell `R` you don't like factors from the start using `stringsAsFactors=FALSE`. I find that annoying. The `tibble` (introduced later) does not do that.\n",
        "\n"
      ]
    },
    {
      "cell_type": "code",
      "metadata": {
        "autoscroll": false,
        "collapsed": true,
        "id": "1WQ952yRCMA0",
        "colab_type": "code",
        "colab": {}
      },
      "source": [
        "dfr2 <- data.frame(FirstName=c(\"John\",\"Jim\",\"Jane\",\"Jill\"), stringsAsFactors=FALSE)\n",
        "dfr2$FirstName   # Success: not a factor."
      ],
      "execution_count": 0,
      "outputs": []
    },
    {
      "cell_type": "markdown",
      "metadata": {
        "id": "7Oh2haOtCMA2",
        "colab_type": "text"
      },
      "source": [
        "\n",
        "Access elements of the data frame. Notation is `dfr[row, column]` Rows can be acessed by number or condition, columns by number or name. Alternatively, columns can be acessed by `dfr$column`\n"
      ]
    },
    {
      "cell_type": "code",
      "metadata": {
        "autoscroll": false,
        "collapsed": true,
        "id": "Lp0DJ69sCMA3",
        "colab_type": "code",
        "colab": {}
      },
      "source": [
        "dfr1[1,]   # First row, all columns\n",
        "dfr1[,1]   # First column, all rows\n",
        "dfr1$Age   # Age column, all rows\n",
        "dfr1[1:2,3:4] # Rows 1 and 2, columns 3 and 4 - the gender and age of John & Jim\n",
        "dfr1[c(1,3),] # Rows 1 and 3, all columns"
      ],
      "execution_count": 0,
      "outputs": []
    },
    {
      "cell_type": "markdown",
      "metadata": {
        "id": "OquFTleNCMA6",
        "colab_type": "text"
      },
      "source": [
        "\n",
        "Find the names of everyone over the age of 30 in the data\n"
      ]
    },
    {
      "cell_type": "code",
      "metadata": {
        "autoscroll": false,
        "collapsed": true,
        "id": "0AdsL9hVCMA7",
        "colab_type": "code",
        "colab": {}
      },
      "source": [
        "dfr1[dfr1$Age>30,2]"
      ],
      "execution_count": 0,
      "outputs": []
    },
    {
      "cell_type": "markdown",
      "metadata": {
        "id": "ZvfCU5dTCMA9",
        "colab_type": "text"
      },
      "source": [
        "\n",
        "Find the average age of all females in the data:\n"
      ]
    },
    {
      "cell_type": "code",
      "metadata": {
        "autoscroll": false,
        "collapsed": true,
        "id": "BXVUW1tfCMA-",
        "colab_type": "code",
        "colab": {}
      },
      "source": [
        "mean (dfr1[dfr1$Female==TRUE,4])"
      ],
      "execution_count": 0,
      "outputs": []
    },
    {
      "cell_type": "markdown",
      "metadata": {
        "id": "aZgny0HwCMBA",
        "colab_type": "text"
      },
      "source": [
        "\n",
        "\n",
        "## Flow Control (loops & friends)\n",
        "Loops are powerful little helpers to do the same operation iterating over a number of items.\n",
        "\n",
        "If statements: `if (condition) expr1 else expr2`\n"
      ]
    },
    {
      "cell_type": "code",
      "metadata": {
        "autoscroll": false,
        "collapsed": true,
        "id": "vrTqnvvUCMBA",
        "colab_type": "code",
        "colab": {}
      },
      "source": [
        "x <- 5; y <- 10\n",
        "if (x==0) y <- 0 else y <- y/x\n",
        "y"
      ],
      "execution_count": 0,
      "outputs": []
    },
    {
      "cell_type": "markdown",
      "metadata": {
        "id": "KaNVRFYjCMBC",
        "colab_type": "text"
      },
      "source": [
        "\n",
        "for loops: `for (variable in sequence) expr`\n"
      ]
    },
    {
      "cell_type": "code",
      "metadata": {
        "autoscroll": false,
        "collapsed": true,
        "id": "YXk717NrCMBC",
        "colab_type": "code",
        "colab": {}
      },
      "source": [
        "for (i in 1:x)  { print(paste(\"OMG, i just counted to\", i)) }"
      ],
      "execution_count": 0,
      "outputs": []
    },
    {
      "cell_type": "markdown",
      "metadata": {
        "id": "hAL2fdvQCMBE",
        "colab_type": "text"
      },
      "source": [
        "\n",
        "While loop: `while (condintion) expr`\n"
      ]
    },
    {
      "cell_type": "code",
      "metadata": {
        "autoscroll": false,
        "collapsed": true,
        "id": "PeXZVgPMCMBE",
        "colab_type": "code",
        "colab": {}
      },
      "source": [
        "while (x > 0) {print(x); x <- x-1;}"
      ],
      "execution_count": 0,
      "outputs": []
    },
    {
      "cell_type": "markdown",
      "metadata": {
        "id": "WslnHqkPCMBH",
        "colab_type": "text"
      },
      "source": [
        "\n",
        "Repeat loop: `repeat expr, use break to exit the loop`\n"
      ]
    },
    {
      "cell_type": "code",
      "metadata": {
        "autoscroll": false,
        "collapsed": true,
        "id": "UR1gOLMDCMBH",
        "colab_type": "code",
        "colab": {}
      },
      "source": [
        "repeat { print(x); x <- x+1; if (x>7) break}"
      ],
      "execution_count": 0,
      "outputs": []
    },
    {
      "cell_type": "markdown",
      "metadata": {
        "id": "DfgvA54TCMBK",
        "colab_type": "text"
      },
      "source": [
        "\n",
        "## R troubleshooting\n",
        "\n",
        "While I generate many (and often very creative) errors in R, there are three simple things that will most often go wrong for me. Those include:\n",
        "\n",
        "* Capitalization. R is case sensitive - a graph vertex named \"Jack\" is not the same as one named \"jack\". The function `rowSums` won't work as \"rowsums\" or \"RowSums\".\n",
        "* Object class. While many functions are willing to take anything you throw at them, some will still surprisingly require character vector or a factor instead of a numeric vector, or a matrix instead of a data frame. Functions will also occasionally return results in an unexpected format.\n",
        "* Package namespaces. Occasionally problems will arise when different packages contain functions with the same name. R may warn you about this by saying something like \"The following object(s) are masked from 'package:igraph'\" as you load a package. One way to deal with this is to call functions from a package explicitly using '::'. For instance, if function 'blah' is present in packages A and B, you can call A::blah\n",
        "\n"
      ]
    },
    {
      "cell_type": "code",
      "metadata": {
        "autoscroll": false,
        "collapsed": true,
        "id": "_vsa-4S2CMBK",
        "colab_type": "code",
        "colab": {}
      },
      "source": [
        "# library(dplyr)          # load a package\n",
        "# detach(package:dplyr)   # detach a package"
      ],
      "execution_count": 0,
      "outputs": []
    },
    {
      "cell_type": "markdown",
      "metadata": {
        "id": "Ueua6MVCCMBM",
        "colab_type": "text"
      },
      "source": [
        "\n",
        "For more advanced troubleshooting, check out `try()`, `tryCatch()`, and `debug()`.\n"
      ]
    },
    {
      "cell_type": "code",
      "metadata": {
        "autoscroll": false,
        "collapsed": true,
        "id": "oTHNPzTpCMBM",
        "colab_type": "code",
        "colab": {}
      },
      "source": [
        "?tryCatch"
      ],
      "execution_count": 0,
      "outputs": []
    },
    {
      "cell_type": "markdown",
      "metadata": {
        "id": "7NSWg_03CMBP",
        "colab_type": "text"
      },
      "source": [
        "\n",
        "Generally, just using `?functionyouwonderabout` often solves problems. There you can review the functions arguments, inputs, outputs, syntax etc.\n",
        "\n",
        "# R 2.0: The Tidyverse\n",
        "\n",
        "## What is it all about?\n",
        "Base `R` comes with quite some functionality for slicing and dicing data, there also exists a myriad specialized packages for more tricky data manipulation. To read others' code and example as well as to perform some special operations, you all should be able to use standard `R` syntax.\n",
        "\n",
        "However, the factors, the `[row, column]` syntax anhd so forth are not very comfortable and intuitive. Further, for more tricky operation such as certain aggregations etc., one has to rely on a variety of packages, which often come with an own syntax.\n",
        "\n",
        "The good news is: The efforts of a small set of key-developers (foremost [Hadley Wickham](http://hadley.nz/)) has let to the development of the  [`tidyverse`](https://www.tidyverse.org/), an ecosystem of `R` packages particularly designed for data science applications. All packages share an underlying design philosophy, common API, grammar, and data structures.\n",
        "\n",
        "Among the most amazing contributions here is [`dplyr`](https://dplyr.tidyverse.org/), a grammar of data manipulation, providing a consistent set of verbs that help you solve the most common data manipulation challenges. I use `dplyr` for 90% of my data-manipulation tasks for the following reasons:\n",
        "\n",
        "* All the underlying code is runs optimized in `C++`, making it faster than most base `R`\n",
        "* It consistently unifies the grammar of data manipulation to a small set of operations, which can be flexibly combined to master almost every task\n",
        "* It is designed to work neathly with the `%>%` pipe-operator of [magrittr](hhttps://magrittr.tidyverse.org/) (more on that later)\n",
        "* its syntax is very similar to the logic of `SQL` and other data-management languages\n",
        "* It expanded far beoyond its original 5 verbs, and now replaces most base R commands with optimized, clever, and high-performance alternatives\n",
        "* It works neathly with many databases, such as `SQL` (with addon packages `DBI` and `dbplyr`)\n",
        "\n",
        "I will not touch on all packages there, but the complete `tidyverse` covers almost all issues of data manipulation. They all operate under the same logic, are fast, and usually your best choice for almost any given problem. Particularly `dplyr` is enourmeously powerfull, and has a lot more functions than the basics I cover here. So, for every given probloblem, your first question (to yourself or [stackoverflow](https://stackoverflow.com/)) should be:\n",
        "\n",
        "1: Is there a way to solve my problem in `dplyr`?\n",
        "2: If not, is there another `tidyverse` package dedicated to this problem?\n",
        "\n",
        "For the sake of illustration, I will load every package of the `tidyverse` one-by-one when we need it. However, normally I just load `library(tidyverse)` all at once, since I need a lot of these packages often anyhow\n",
        "\n"
      ]
    },
    {
      "cell_type": "code",
      "metadata": {
        "Rmd_chunk_options": "warning=FALSE",
        "autoscroll": false,
        "id": "0S4xS8xNCMBQ",
        "colab_type": "code",
        "colab": {}
      },
      "source": [
        "library(tidyverse) # To load the whole compilation of packages"
      ],
      "execution_count": 0,
      "outputs": []
    },
    {
      "cell_type": "markdown",
      "metadata": {
        "id": "0e-rIFH4CMBR",
        "colab_type": "text"
      },
      "source": [
        "\n",
        "\n",
        "## Piping in `dplyr`\n",
        "\n",
        "![Cleaning](https://www.dropbox.com/s/13okk1po1gqae6b/pipe.jpg?dl=1)\n",
        "\n",
        "in traditional `R` syntax, data-manipulations are carried out one by one. For example, one would first assign a new variable `x$numbers <- 1:5`, then maybe manipulate it `x$numbers <- x$numbers * 2`, and subset it `x <- x[x$numbers > 4]`. `dplyr` makes use of `margrittr`'s pipes, written like `%>%`.\n",
        "\n",
        "A pipe means take the output of it's left-hand side and insert it as first input in the function on the right-hand side. Accordingly, all `dplyr` functions follow the syntax that their first input is always the data to be manipulated. Therefore, they can all be \"piped\".\n",
        "\n",
        "For example, we could pipe as follows (don't worry about the other syntax yet):\n"
      ]
    },
    {
      "cell_type": "code",
      "metadata": {
        "autoscroll": false,
        "id": "7fQZlji-CMBS",
        "colab_type": "code",
        "colab": {}
      },
      "source": [
        "x <- tibble(numbers = 1:5) %>%\n",
        "  mutate(numbers = numbers * 2) %>%\n",
        "  filter(numbers > 4)\n",
        "\n",
        "x"
      ],
      "execution_count": 0,
      "outputs": []
    },
    {
      "cell_type": "markdown",
      "metadata": {
        "id": "e6P4qbdiCMBT",
        "colab_type": "text"
      },
      "source": [
        "\n",
        "It basically reads like:\n",
        "\n",
        "* Create a dataframe (to be precise, a `tibble`) with the variable \"numbers\" and assign the values 1:5.\n",
        "* THEN multiply them with 2.\n",
        ": THEN subset the dataframe to only rows with a nuimber value higher than 4.\n",
        "\n",
        "It first looks not so intuitive, but it will become your second nature. Using pipes facilitates fast, reproducible and easily readable coding practices, and all of you are encouraged to go on with that.\n",
        "\n",
        "**Note:** `%>%` pipes do not autometically assign their output to the left-hand side object, meaning the original dataset will not per se be overwritten. To do that, there are two ways:\n",
        "\n",
        "1: Initially, assign the output to the original data with `<-`\n",
        "2: Initially, use `margrittr`'s `%<>%` command, meaning: Assign and pipe.\n",
        "\n"
      ]
    },
    {
      "cell_type": "code",
      "metadata": {
        "autoscroll": false,
        "id": "69E9A8AoCMBT",
        "colab_type": "code",
        "colab": {}
      },
      "source": [
        "# This will create an output, but not change x\n",
        "x %>%\n",
        "  filter(numbers > 5)\n",
        "\n",
        "# This will re-assign x\n",
        "x <- x %>%\n",
        "  filter(numbers > 5)\n",
        "# is equivalent to\n",
        "x %<>%\n",
        "  filter(numbers > 5)"
      ],
      "execution_count": 0,
      "outputs": []
    },
    {
      "cell_type": "markdown",
      "metadata": {
        "id": "xUr3fKx8CMBW",
        "colab_type": "text"
      },
      "source": [
        "\n",
        "In conclusion: The pipe basically passes on dataframe between functions in the following way:\n"
      ]
    },
    {
      "cell_type": "code",
      "metadata": {
        "Rmd_chunk_options": "eval = FALSE, warning = FALSE",
        "autoscroll": false,
        "id": "2WfU8KZZCMBW",
        "colab_type": "code",
        "colab": {}
      },
      "source": [
        "# Only pseudo code here, does not run\n",
        "x %>% fun()\n",
        "# Is equivalent to\n",
        "fun(x)\n",
        "\n",
        "# While\n",
        "x %<>% fun()\n",
        "# Is equivalent to\n",
        "x <- fun(x)"
      ],
      "execution_count": 0,
      "outputs": []
    },
    {
      "cell_type": "markdown",
      "metadata": {
        "id": "ncI2Xr3sCMBY",
        "colab_type": "text"
      },
      "source": [
        "\n",
        "## The 5 core verbs of data-manipulation\n",
        "So, let's zoom in the `dplyr` functionality and syntax for a moment, before we illustrate it at the following data-manipulation tasks.\n",
        "\n",
        "At ity's core are 5 central verbs of data/manipulation, which are\n",
        "\n",
        "1. `filter()` picks cases based on their values.\n",
        "2. `select()` picks variables based on their names.\n",
        "3. `arrange()` changes the ordering of the rows.\n",
        "4. `mutate()` adds new variables that are functions of existing variables\n",
        "5. `summarise()` reduces multiple values down to a single summary.\n",
        "\n",
        "These all combine naturally with `group_by()` which allows you to perform any operation \"by group\". You can learn more about them in `vignette(\"dplyr\")`. As well as these single-table verbs, dplyr also provides a variety of two-table verbs (joins and mutations), which you can learn about in `vignette(\"two-table\")`.\n",
        "\n",
        "We will explore now a bit with the starwars dataset, which comes together with `dplyr`. First, let's get an intuition what's in it. `head()` shows us the first 10 rows.\n",
        "\n"
      ]
    },
    {
      "cell_type": "code",
      "metadata": {
        "autoscroll": false,
        "collapsed": true,
        "id": "trD1j1x0CMBa",
        "colab_type": "code",
        "colab": {}
      },
      "source": [
        "starwars %>% head() # The \"startwars\" dataset is an integrated dplyr goddie :)"
      ],
      "execution_count": 0,
      "outputs": []
    },
    {
      "cell_type": "markdown",
      "metadata": {
        "id": "66Y8dnL-CMBb",
        "colab_type": "text"
      },
      "source": [
        "\n",
        "`glimpse()` gives us anh overview over all variable types.\n",
        "\n"
      ]
    },
    {
      "cell_type": "code",
      "metadata": {
        "autoscroll": false,
        "collapsed": true,
        "id": "yismVt1YCMBc",
        "colab_type": "code",
        "colab": {}
      },
      "source": [
        "starwars %>% glimpse()"
      ],
      "execution_count": 0,
      "outputs": []
    },
    {
      "cell_type": "markdown",
      "metadata": {
        "id": "yeZEkFoOCMBe",
        "colab_type": "text"
      },
      "source": [
        "\n",
        "\n",
        "\n",
        "### 1: `filter()`\n",
        "The verb `filter()` lets you subset a dataframe by rows (observations), meaning the output will filter for only rows which fulfill a certain condition.\n",
        "\n",
        "![Filter](https://www.dropbox.com/s/bmonr9ulkd9v5tf/dplyr_filter.png?dl=1)\n",
        "\n"
      ]
    },
    {
      "cell_type": "code",
      "metadata": {
        "autoscroll": false,
        "collapsed": true,
        "id": "lo2cI6h7CMBf",
        "colab_type": "code",
        "colab": {}
      },
      "source": [
        "starwars %>%\n",
        "  filter(species == \"Droid\")"
      ],
      "execution_count": 0,
      "outputs": []
    },
    {
      "cell_type": "markdown",
      "metadata": {
        "id": "wlE2qsuyCMBg",
        "colab_type": "text"
      },
      "source": [
        "\n",
        "Conditions can be combined with boolean operators (`&, |`)\n",
        "\n"
      ]
    },
    {
      "cell_type": "code",
      "metadata": {
        "autoscroll": false,
        "collapsed": true,
        "id": "cP3_pw5ECMBh",
        "colab_type": "code",
        "colab": {}
      },
      "source": [
        "starwars %>%\n",
        "  filter(homeworld == \"Tatooine\" & species == \"Droid\")"
      ],
      "execution_count": 0,
      "outputs": []
    },
    {
      "cell_type": "markdown",
      "metadata": {
        "id": "skHsjtkuCMBi",
        "colab_type": "text"
      },
      "source": [
        "\n",
        "### 2: `select()`\n",
        "The verb `select()` lets you subset a dataframe by column (variable), meaning the output will only contain certain columns in the stated order\n",
        "\n"
      ]
    },
    {
      "cell_type": "code",
      "metadata": {
        "autoscroll": false,
        "collapsed": true,
        "id": "FAD-ORM8CMBj",
        "colab_type": "code",
        "colab": {}
      },
      "source": [
        "starwars %>%\n",
        "  select(name, homeworld) %>%\n",
        "  head(10)"
      ],
      "execution_count": 0,
      "outputs": []
    },
    {
      "cell_type": "markdown",
      "metadata": {
        "id": "_OpCGG4pCMBl",
        "colab_type": "text"
      },
      "source": [
        "\n",
        "It can also be used to deselect columns with a leading `-`\n",
        "\n"
      ]
    },
    {
      "cell_type": "code",
      "metadata": {
        "autoscroll": false,
        "collapsed": true,
        "id": "yQZF3pZ3CMBl",
        "colab_type": "code",
        "colab": {}
      },
      "source": [
        "starwars %>%\n",
        "  select(-birth_year, -skin_color) %>%\n",
        "  head(10)"
      ],
      "execution_count": 0,
      "outputs": []
    },
    {
      "cell_type": "markdown",
      "metadata": {
        "id": "QR2JdKLcCMBn",
        "colab_type": "text"
      },
      "source": [
        "\n",
        "Lastly, many of `dplyr`'s other conditions and helper functions can be applied to select or deselect columns. More on that later.\n"
      ]
    },
    {
      "cell_type": "code",
      "metadata": {
        "autoscroll": false,
        "collapsed": true,
        "id": "4WJUH3eaCMBo",
        "colab_type": "code",
        "colab": {}
      },
      "source": [
        "starwars %>%\n",
        "  select(name, ends_with(\"color\")) %>%\n",
        "  head(10)"
      ],
      "execution_count": 0,
      "outputs": []
    },
    {
      "cell_type": "markdown",
      "metadata": {
        "id": "LBEIMNwjCMBq",
        "colab_type": "text"
      },
      "source": [
        "\n",
        "### 3: `arrange()`\n",
        "The verb `arrange()` defines the way the rows of your dataframe are ordered\n",
        "\n",
        "![Arrange](https://www.dropbox.com/s/edoturkaj9oduyl/dplyr_arrange.png?dl=1)\n",
        "\n"
      ]
    },
    {
      "cell_type": "code",
      "metadata": {
        "autoscroll": false,
        "collapsed": true,
        "id": "sc-lqm37CMBv",
        "colab_type": "code",
        "colab": {}
      },
      "source": [
        "starwars %>%\n",
        "  arrange(homeworld, desc(mass)) %>% # Note: desc() witll order it descending, so the heaviest one first.\n",
        "  head(10)"
      ],
      "execution_count": 0,
      "outputs": []
    },
    {
      "cell_type": "markdown",
      "metadata": {
        "id": "NfzgLywJCMBy",
        "colab_type": "text"
      },
      "source": [
        "\n",
        "### 4: `mutate()`\n",
        "The verb `mutate()` lets you manipulate existing variables or create new ones.\n",
        "\n",
        "![Mutate](https://www.dropbox.com/s/w19b5mhpv603tg0/dplyr_mutate.png?dl=1)\n",
        "\n"
      ]
    },
    {
      "cell_type": "code",
      "metadata": {
        "autoscroll": false,
        "collapsed": true,
        "id": "s90Z11xyCMBy",
        "colab_type": "code",
        "colab": {}
      },
      "source": [
        "starwars %>%\n",
        "  mutate(bmi = mass / ((height / 100)  ^ 2), # If you didnt know how to calculate the BMI, now you do...\n",
        "         mass.rel = mass / max(mass, na.rm = TRUE)) %>%\n",
        "  select(name:mass, mass.rel, bmi) %>%\n",
        "  arrange(desc(bmi)) %>%\n",
        "  head(10)"
      ],
      "execution_count": 0,
      "outputs": []
    },
    {
      "cell_type": "markdown",
      "metadata": {
        "id": "QLkGvWvuCMBz",
        "colab_type": "text"
      },
      "source": [
        "\n",
        "\n",
        "### 5: `summarize()`\n",
        "The verb `summarize()` reduces your dataset to one observation, which is summarized according to a defined function.\n",
        "\n",
        "![Summarize](https://www.dropbox.com/s/2pb07846mzg1huo/dplyr_summarize.png?dl=1)\n",
        "\n"
      ]
    },
    {
      "cell_type": "code",
      "metadata": {
        "autoscroll": false,
        "collapsed": true,
        "id": "j-ZwQjQHCMB0",
        "colab_type": "code",
        "colab": {}
      },
      "source": [
        "starwars %>%\n",
        "  summarize(min.height = min(height, na.rm = TRUE),\n",
        "            mean.height = mean(height, na.rm = TRUE),\n",
        "            max.height = max(height, na.rm = TRUE),\n",
        "            sd.height = sd(height, na.rm = TRUE) )"
      ],
      "execution_count": 0,
      "outputs": []
    },
    {
      "cell_type": "markdown",
      "metadata": {
        "id": "cnxB5C0ZCMB1",
        "colab_type": "text"
      },
      "source": [
        "\n",
        "\n",
        "### Bonus: Doing manipulation by group: `group_by`\n",
        "Finally, `by_group()` is offers the perfect complement to the 5 basic verbs, since it allows to perform aqll the above mentioned tasks sepperate according to used-defined groupings in one or multiple categories. Lets look at some examples:\n",
        "\n",
        "![Group](https://www.dropbox.com/s/lpuoesmr9hqwfdg/dplyr_group.png?dl=1)\n",
        "\n",
        "First of all, it works amazingly well with the `summarize()` verb, producing within group summaries\n",
        "\n"
      ]
    },
    {
      "cell_type": "code",
      "metadata": {
        "autoscroll": false,
        "collapsed": true,
        "id": "mBUXv6SBCMB2",
        "colab_type": "code",
        "colab": {}
      },
      "source": [
        "starwars %>%\n",
        "  group_by(homeworld) %>%\n",
        "  summarize(mean.height = mean(height, na.rm = TRUE)) %>%\n",
        "  ungroup() %>%\n",
        "  arrange(desc(mean.height))"
      ],
      "execution_count": 0,
      "outputs": []
    },
    {
      "cell_type": "markdown",
      "metadata": {
        "id": "FF26yNjcCMB4",
        "colab_type": "text"
      },
      "source": [
        "\n",
        "Note that it is adviced to finish always such operations with `ungroup()`. Otherwise, the still active grouping might at a later point lead to all kind of unforseen results.\n",
        "\n",
        "## Your turn\n",
        "\n",
        "Some little exercises in between: Lets go to this [fun exercise on colab](https://colab.research.google.com/drive/1G2pr-SJA5V7QWhMt5fStmlDGU7i2ZUFs), and show what you learned!\n",
        "\n",
        "## Two-table verbs\n",
        "It's rare that a data analysis involves only a single table of data. In practice, you'll normally have many tables that contribute to an analysis, and you need flexible tools to combine them. In `dplyr`, there are three families of verbs that work with two tables at a time:\n",
        "\n",
        "1. Mutating joins, which add new variables to one table from matching rows in another.\n",
        "2. Filtering joins, which filter observations from one table based on whether or not they match an observation in the other table.\n",
        "3. Set operations, which combine the observations in the data sets as if they were set elements.\n",
        "\n",
        "Among those, mutating joins are the by far most used ones, so we will briefly discuss them here, and cover other types later in the applied part. For questions right away, consult `vignette(two-\"two-table\")`. Mutating joins allow you to combine variables from multiple tables (merging data). We here assume our data is \"tidy\" (meaning: rows = observations, columns = variables).\n",
        "\n",
        "Lets briefly create some example data:\n"
      ]
    },
    {
      "cell_type": "code",
      "metadata": {
        "autoscroll": false,
        "collapsed": true,
        "id": "n8ba5JVYCMB4",
        "colab_type": "code",
        "colab": {}
      },
      "source": [
        "df1 <- data_frame(x = c(1, 2), y = 2:1)\n",
        "df2 <- data_frame(x = c(1, 3), a = 10, b = \"a\")\n",
        "df1\n",
        "df2"
      ],
      "execution_count": 0,
      "outputs": []
    },
    {
      "cell_type": "markdown",
      "metadata": {
        "id": "svfh-IDLCMB6",
        "colab_type": "text"
      },
      "source": [
        "\n",
        "There are 4 types of mutating join to combine variables from dataframe `x` and `y, which differ in their behaviour when a match is not found. We'll illustrate each with a simple example:\n",
        "\n",
        "1. `left_join(x, y)` includes all observations in `x`, regardless of whether they match or not. This is the most commonly used join because it ensures that you don't lose observations from your primary table.\n"
      ]
    },
    {
      "cell_type": "code",
      "metadata": {
        "autoscroll": false,
        "collapsed": true,
        "id": "qY3s06ypCMB6",
        "colab_type": "code",
        "colab": {}
      },
      "source": [
        "df1 %>% left_join(df2)"
      ],
      "execution_count": 0,
      "outputs": []
    },
    {
      "cell_type": "markdown",
      "metadata": {
        "id": "XFd6LN09CMB9",
        "colab_type": "text"
      },
      "source": [
        "\n",
        "\n",
        "2. `right_join(x, y)` includes all observations in `y`. It's equivalent to `left_join(y, x)`, but the columns will be ordered differently.\n"
      ]
    },
    {
      "cell_type": "code",
      "metadata": {
        "autoscroll": false,
        "collapsed": true,
        "id": "L6qvjBn3CMB9",
        "colab_type": "code",
        "colab": {}
      },
      "source": [
        "df1 %>% right_join(df2)"
      ],
      "execution_count": 0,
      "outputs": []
    },
    {
      "cell_type": "code",
      "metadata": {
        "autoscroll": false,
        "collapsed": true,
        "id": "JAZ1QZsRCMB-",
        "colab_type": "code",
        "colab": {}
      },
      "source": [
        "df2 %>% left_join(df1)"
      ],
      "execution_count": 0,
      "outputs": []
    },
    {
      "cell_type": "markdown",
      "metadata": {
        "id": "1kcI_WCVCMB_",
        "colab_type": "text"
      },
      "source": [
        "\n",
        "3. `inner_join(x, y)` only includes observations that match in both `x` and `y`.\n"
      ]
    },
    {
      "cell_type": "code",
      "metadata": {
        "autoscroll": false,
        "collapsed": true,
        "id": "fG8Zd-zmCMB_",
        "colab_type": "code",
        "colab": {}
      },
      "source": [
        "df1 %>% inner_join(df2)"
      ],
      "execution_count": 0,
      "outputs": []
    },
    {
      "cell_type": "markdown",
      "metadata": {
        "id": "VzxFAc4_CMCC",
        "colab_type": "text"
      },
      "source": [
        "\n",
        "4. `full_join()` includes all observations from `x` and `y`.\n"
      ]
    },
    {
      "cell_type": "code",
      "metadata": {
        "autoscroll": false,
        "collapsed": true,
        "id": "wMAl9T2LCMCC",
        "colab_type": "code",
        "colab": {}
      },
      "source": [
        "df1 %>% full_join(df2)"
      ],
      "execution_count": 0,
      "outputs": []
    },
    {
      "cell_type": "markdown",
      "metadata": {
        "id": "e3ITcEOtCMCD",
        "colab_type": "text"
      },
      "source": [
        "\n",
        "The left, right and full joins are collectively know as **outer joins**. When a row doesn't match in an outer join, the new variables are filled in with missing values.\n",
        "\n",
        "While mutating joins are primarily used to add new variables, they can also generate new observations. If a match is not unique, a join will add all possible combinations (the Cartesian product) of the matching observations:\n",
        "\n"
      ]
    },
    {
      "cell_type": "code",
      "metadata": {
        "autoscroll": false,
        "collapsed": true,
        "id": "9uxtrfbqCMCD",
        "colab_type": "code",
        "colab": {}
      },
      "source": [
        "df1 <- data_frame(x = c(1, 1, 2), y = 1:3)\n",
        "df2 <- data_frame(x = c(1, 1, 2), z = c(\"a\", \"b\", \"a\"))\n",
        "\n",
        "df1 %>% left_join(df2)"
      ],
      "execution_count": 0,
      "outputs": []
    },
    {
      "cell_type": "markdown",
      "metadata": {
        "id": "VQlRTMm8CMCE",
        "colab_type": "text"
      },
      "source": [
        "\n",
        "Note: In case of multiple matches in `y`, adittional rows will be added. Therefore, if that is not the behavior you want, use the `distinct()` function afterwards.\n",
        "\n",
        "By default, joins are performed on the bases of **all** variables appearing in `x` and `y`. You can also specify one or multiple variables that should be matched by using the `by` argument. This can also be used to match on variables with different names in `x` and `y`.\n",
        "\n"
      ]
    },
    {
      "cell_type": "code",
      "metadata": {
        "autoscroll": false,
        "collapsed": true,
        "id": "tXqbuMHKCMCF",
        "colab_type": "code",
        "colab": {}
      },
      "source": [
        "df1 <- data_frame(x = c(3, 2, 1), y = 1:3, z = c(1,3,4))\n",
        "df2 <- data_frame(x = c(1, 2, 3), y = 2:4, q = c(\"a\", \"b\", \"a\"))\n",
        "\n",
        "df1 %>% left_join(df2, by = \"x\")\n",
        "df1 %>% left_join(df2, by = c(\"x\", \"y\"))\n",
        "df1 %>% left_join(df2, by = c(\"x\" = \"y\"))"
      ],
      "execution_count": 0,
      "outputs": []
    },
    {
      "cell_type": "markdown",
      "metadata": {
        "id": "y6ZgVnNICMCH",
        "colab_type": "text"
      },
      "source": [
        "\n",
        "##  Final remarks\n",
        "Even though that doesnt sound too much, when combining them right, these basic verbs will enable you to do ca 80% of common data manipulation tasks.\n",
        "\n",
        "![](https://www.dropbox.com/s/ia4lu84dr41qs7k/tidy_workflow.png?dl=1)\n",
        "\n",
        "\n",
        "## Your turn\n",
        "\n",
        "Some little exercises in between: Lets go to this [funh colab notebook exercise](https://colab.research.google.com/drive/1r0jZP2txNQsYIHyYPHVfV-A_etn_J259) and show what you learned!\n",
        "\n",
        "\n",
        "# Case Study: Cleaning up historical data on voting of the United Nations General Assembly\n",
        "\n",
        "So, after we refreshed the basic grammar of data-manipulation, we will put it to a test in the following example. We will step-by-step explore the power of the basic grammar of data-manipulation.\n",
        "\n",
        "We will use the \"UN General Assembly Voting\" dataset, and explore the pattern and some underlying mechanisms of country voting choices. Lets get started!\n",
        "\n",
        "![UNGA](https://www.dropbox.com/s/3vmtmr0rfq7fe5p/un.jpeg?dl=1)\n",
        "\n",
        "Source: Erik Voeten \"Data and Analyses of Voting in the UN General Assembly\" Routledge Handbook of International Organization, edited by Bob Reinalda (published May 27, 2013). Available at SSRN: http://ssrn.com/abstract=2111149\n",
        "\n",
        "\n",
        "## Step 1: Optaining the deta\n",
        "Usually, we would now have to download some data online, access it via an API or a local database, or something like that. The full dataset is available at [Harvard's DataVerse](https://dataverse.harvard.edu/dataset.xhtml?persistentId=hdl:1902.1/12379).  For a first warm up, we will skip this part, and use the following data I conveniently prepared for you.\n",
        "\n",
        "A little hint here in case you want to load a `.csv` and stuff the like: The `data.table` package was a really nice function called `fread()` ( stands for \"friendly read\"), which by now replases mostly `R`'s standard `read.table`, `read.csv()` ect. since it is just faster, automatically recognizes most data format, and codes the variables smarter. However, back to our data. For my own workflow in R, I prefer to save datasets as `.rds` file, which creates a serialized version of the dataset and then saves it with gzip compression. Thatreduces the disk-space of datasets, while they are still read faster than for example a `.csv`.\n",
        "\n"
      ]
    },
    {
      "cell_type": "code",
      "metadata": {
        "autoscroll": false,
        "id": "9mqbdxe9CMCH",
        "colab_type": "code",
        "colab": {}
      },
      "source": [
        "rm(list=ls())\n",
        "votes <- readRDS(url(\"https://www.dropbox.com/s/dtqu1nl7e7uge87/UN_votes.rds?dl=1\"))"
      ],
      "execution_count": 0,
      "outputs": []
    },
    {
      "cell_type": "markdown",
      "metadata": {
        "id": "wFQmMciCCMCI",
        "colab_type": "text"
      },
      "source": [
        "\n",
        "\n",
        "## Step 2: First Inspection\n",
        "\n",
        "Lets first have a look what's in the dataset.\n",
        "\n"
      ]
    },
    {
      "cell_type": "code",
      "metadata": {
        "autoscroll": false,
        "id": "VrBfAy3fCMCI",
        "colab_type": "code",
        "outputId": "580e1ae6-dc68-47bd-d51c-a695adc42f10",
        "colab": {
          "base_uri": "https://localhost:8080/",
          "height": 288
        }
      },
      "source": [
        "votes  %>% head(10)"
      ],
      "execution_count": 0,
      "outputs": [
        {
          "output_type": "display_data",
          "data": {
            "text/plain": [
              "   rcid session vote ccode\n",
              "1  46   2       1     2   \n",
              "2  46   2       1    20   \n",
              "3  46   2       9    31   \n",
              "4  46   2       1    40   \n",
              "5  46   2       1    41   \n",
              "6  46   2       1    42   \n",
              "7  46   2       9    51   \n",
              "8  46   2       9    52   \n",
              "9  46   2       9    53   \n",
              "10 46   2       9    54   "
            ],
            "text/latex": "A tibble: 10 × 4\n\\begin{tabular}{r|llll}\n rcid & session & vote & ccode\\\\\n <dbl> & <dbl> & <dbl> & <int>\\\\\n\\hline\n\t 46 & 2 & 1 &  2\\\\\n\t 46 & 2 & 1 & 20\\\\\n\t 46 & 2 & 9 & 31\\\\\n\t 46 & 2 & 1 & 40\\\\\n\t 46 & 2 & 1 & 41\\\\\n\t 46 & 2 & 1 & 42\\\\\n\t 46 & 2 & 9 & 51\\\\\n\t 46 & 2 & 9 & 52\\\\\n\t 46 & 2 & 9 & 53\\\\\n\t 46 & 2 & 9 & 54\\\\\n\\end{tabular}\n",
            "text/markdown": "\nA tibble: 10 × 4\n\n| rcid &lt;dbl&gt; | session &lt;dbl&gt; | vote &lt;dbl&gt; | ccode &lt;int&gt; |\n|---|---|---|---|\n| 46 | 2 | 1 |  2 |\n| 46 | 2 | 1 | 20 |\n| 46 | 2 | 9 | 31 |\n| 46 | 2 | 1 | 40 |\n| 46 | 2 | 1 | 41 |\n| 46 | 2 | 1 | 42 |\n| 46 | 2 | 9 | 51 |\n| 46 | 2 | 9 | 52 |\n| 46 | 2 | 9 | 53 |\n| 46 | 2 | 9 | 54 |\n\n",
            "text/html": [
              "<table>\n",
              "<caption>A tibble: 10 × 4</caption>\n",
              "<thead>\n",
              "\t<tr><th scope=col>rcid</th><th scope=col>session</th><th scope=col>vote</th><th scope=col>ccode</th></tr>\n",
              "\t<tr><th scope=col>&lt;dbl&gt;</th><th scope=col>&lt;dbl&gt;</th><th scope=col>&lt;dbl&gt;</th><th scope=col>&lt;int&gt;</th></tr>\n",
              "</thead>\n",
              "<tbody>\n",
              "\t<tr><td>46</td><td>2</td><td>1</td><td> 2</td></tr>\n",
              "\t<tr><td>46</td><td>2</td><td>1</td><td>20</td></tr>\n",
              "\t<tr><td>46</td><td>2</td><td>9</td><td>31</td></tr>\n",
              "\t<tr><td>46</td><td>2</td><td>1</td><td>40</td></tr>\n",
              "\t<tr><td>46</td><td>2</td><td>1</td><td>41</td></tr>\n",
              "\t<tr><td>46</td><td>2</td><td>1</td><td>42</td></tr>\n",
              "\t<tr><td>46</td><td>2</td><td>9</td><td>51</td></tr>\n",
              "\t<tr><td>46</td><td>2</td><td>9</td><td>52</td></tr>\n",
              "\t<tr><td>46</td><td>2</td><td>9</td><td>53</td></tr>\n",
              "\t<tr><td>46</td><td>2</td><td>9</td><td>54</td></tr>\n",
              "</tbody>\n",
              "</table>\n"
            ]
          },
          "metadata": {
            "tags": []
          }
        }
      ]
    },
    {
      "cell_type": "code",
      "metadata": {
        "autoscroll": false,
        "id": "Gz5_6Y9vCMCK",
        "colab_type": "code",
        "outputId": "50d558aa-fcc9-42ea-c89e-cb46aecc7967",
        "colab": {
          "base_uri": "https://localhost:8080/",
          "height": 119
        }
      },
      "source": [
        "votes  %>% glimpse()"
      ],
      "execution_count": 0,
      "outputs": [
        {
          "output_type": "stream",
          "text": [
            "Observations: 508,929\n",
            "Variables: 4\n",
            "$ rcid    \u001b[3m\u001b[90m<dbl>\u001b[39m\u001b[23m 46, 46, 46, 46, 46, 46, 46, 46, 46, 46, 46, 46, 46, 46, 46, 4…\n",
            "$ session \u001b[3m\u001b[90m<dbl>\u001b[39m\u001b[23m 2, 2, 2, 2, 2, 2, 2, 2, 2, 2, 2, 2, 2, 2, 2, 2, 2, 2, 2, 2, 2…\n",
            "$ vote    \u001b[3m\u001b[90m<dbl>\u001b[39m\u001b[23m 1, 1, 9, 1, 1, 1, 9, 9, 9, 9, 9, 9, 9, 9, 9, 1, 9, 1, 1, 1, 1…\n",
            "$ ccode   \u001b[3m\u001b[90m<int>\u001b[39m\u001b[23m 2, 20, 31, 40, 41, 42, 51, 52, 53, 54, 55, 56, 57, 58, 60, 70…\n"
          ],
          "name": "stdout"
        }
      ]
    },
    {
      "cell_type": "markdown",
      "metadata": {
        "id": "x10prcCSCMCM",
        "colab_type": "text"
      },
      "source": [
        "\n",
        "We see that the dataset is with 508,929 observations already somewhat large. We find a set of 4 variables. Doesn't sound so exiting on first glance. Anyhow, lets talk for a moment about the variables we have:\n",
        "\n",
        "* **`rcid:`** The roll-call ID, serving as an unique identifyer for the resolution vouted on.\n",
        "* **`session:`** The number of the session of the annual UNGA, starting with 1 for the historically first meeting\n",
        "* **`vote:`** A numerical code representing the country's choice of vote:\n",
        "     * 1 = Yes\n",
        "     * 2 = Abstain\n",
        "     * 3 = No\n",
        "     * 8 = Not present\n",
        "     * 9 = Not a member\n",
        "* **`ccode:`** A numerical code to identify the country\n",
        "\n",
        "So, to sum up:\n",
        "\n",
        "* Every row contains a voting choice for a particular resolution on country level.\n",
        "* Consequently, we will for every resulution have a single row for every country.\n",
        "* All variables are coded numerically\n",
        "\n",
        "## Step 3: Preprocessing\n",
        "\n",
        "Whatever data you obtian, it usually needs a bit of manual \"massage\" to be ready for further analysis. Common steps here are\n",
        "\n",
        "1. Check variable format (dates, strings, numeric etc.)\n",
        "2. Check variable scaling (range, outliers)\n",
        "3. Deal with missing values\n",
        "\n",
        "While there are some more issues you could run into, we in the following go through a couple of common problems and see some easy ways how to solve them.\n",
        "\n",
        "### Filtering\n",
        "One step of data cleaning is removing observations (rows) that you're not interested in. In this case, you want to remove \"Not present\" and \"Not a member\". Since we are for now not interested in them, lets get rid of them\n",
        "\n"
      ]
    },
    {
      "cell_type": "code",
      "metadata": {
        "autoscroll": false,
        "id": "EPuDr-CKCMCM",
        "colab_type": "code",
        "outputId": "f964e538-b7dd-45d6-a57a-093751f3d241",
        "colab": {
          "base_uri": "https://localhost:8080/",
          "height": 288
        }
      },
      "source": [
        "votes %>% filter(vote <= 3)  %>% head(10)"
      ],
      "execution_count": 0,
      "outputs": [
        {
          "output_type": "display_data",
          "data": {
            "text/plain": [
              "   rcid session vote ccode\n",
              "1  46   2       1     2   \n",
              "2  46   2       1    20   \n",
              "3  46   2       1    40   \n",
              "4  46   2       1    41   \n",
              "5  46   2       1    42   \n",
              "6  46   2       1    70   \n",
              "7  46   2       1    90   \n",
              "8  46   2       1    91   \n",
              "9  46   2       1    92   \n",
              "10 46   2       1    93   "
            ],
            "text/latex": "A tibble: 10 × 4\n\\begin{tabular}{r|llll}\n rcid & session & vote & ccode\\\\\n <dbl> & <dbl> & <dbl> & <int>\\\\\n\\hline\n\t 46 & 2 & 1 &  2\\\\\n\t 46 & 2 & 1 & 20\\\\\n\t 46 & 2 & 1 & 40\\\\\n\t 46 & 2 & 1 & 41\\\\\n\t 46 & 2 & 1 & 42\\\\\n\t 46 & 2 & 1 & 70\\\\\n\t 46 & 2 & 1 & 90\\\\\n\t 46 & 2 & 1 & 91\\\\\n\t 46 & 2 & 1 & 92\\\\\n\t 46 & 2 & 1 & 93\\\\\n\\end{tabular}\n",
            "text/markdown": "\nA tibble: 10 × 4\n\n| rcid &lt;dbl&gt; | session &lt;dbl&gt; | vote &lt;dbl&gt; | ccode &lt;int&gt; |\n|---|---|---|---|\n| 46 | 2 | 1 |  2 |\n| 46 | 2 | 1 | 20 |\n| 46 | 2 | 1 | 40 |\n| 46 | 2 | 1 | 41 |\n| 46 | 2 | 1 | 42 |\n| 46 | 2 | 1 | 70 |\n| 46 | 2 | 1 | 90 |\n| 46 | 2 | 1 | 91 |\n| 46 | 2 | 1 | 92 |\n| 46 | 2 | 1 | 93 |\n\n",
            "text/html": [
              "<table>\n",
              "<caption>A tibble: 10 × 4</caption>\n",
              "<thead>\n",
              "\t<tr><th scope=col>rcid</th><th scope=col>session</th><th scope=col>vote</th><th scope=col>ccode</th></tr>\n",
              "\t<tr><th scope=col>&lt;dbl&gt;</th><th scope=col>&lt;dbl&gt;</th><th scope=col>&lt;dbl&gt;</th><th scope=col>&lt;int&gt;</th></tr>\n",
              "</thead>\n",
              "<tbody>\n",
              "\t<tr><td>46</td><td>2</td><td>1</td><td> 2</td></tr>\n",
              "\t<tr><td>46</td><td>2</td><td>1</td><td>20</td></tr>\n",
              "\t<tr><td>46</td><td>2</td><td>1</td><td>40</td></tr>\n",
              "\t<tr><td>46</td><td>2</td><td>1</td><td>41</td></tr>\n",
              "\t<tr><td>46</td><td>2</td><td>1</td><td>42</td></tr>\n",
              "\t<tr><td>46</td><td>2</td><td>1</td><td>70</td></tr>\n",
              "\t<tr><td>46</td><td>2</td><td>1</td><td>90</td></tr>\n",
              "\t<tr><td>46</td><td>2</td><td>1</td><td>91</td></tr>\n",
              "\t<tr><td>46</td><td>2</td><td>1</td><td>92</td></tr>\n",
              "\t<tr><td>46</td><td>2</td><td>1</td><td>93</td></tr>\n",
              "</tbody>\n",
              "</table>\n"
            ]
          },
          "metadata": {
            "tags": []
          }
        }
      ]
    },
    {
      "cell_type": "markdown",
      "metadata": {
        "id": "shWf_FlNCMCR",
        "colab_type": "text"
      },
      "source": [
        "\n",
        "\n",
        "### Adding a year column\n",
        "The next step of data cleaning is manipulating your variables (columns) to make them more informative. In this case, you have a session column that is hard to interpret intuitively. But since the UN started voting in 1946, and holds one session per year, you can get the year of a UN resolution by adding 1945 to the session number.\n",
        "\n"
      ]
    },
    {
      "cell_type": "code",
      "metadata": {
        "autoscroll": false,
        "id": "mfBgzjtaCMCR",
        "colab_type": "code",
        "colab": {}
      },
      "source": [
        "votes %>%\n",
        "  mutate(year = session + 1945) %>%\n",
        "  head(10)"
      ],
      "execution_count": 0,
      "outputs": []
    },
    {
      "cell_type": "markdown",
      "metadata": {
        "id": "wSRl-qriCMCT",
        "colab_type": "text"
      },
      "source": [
        "\n",
        "### Adding a country column\n",
        "The country codes in the ccode column are what's called [Correlates of War codes](http://cow.dss.ucdavis.edu/data-sets/cow-country-codes), a numerical coding convention for country names. This isn't ideal for an analysis, since you'd like to work with recognizable country names.\n",
        "\n",
        "For this and similar cases, the R package [`countrycode`](https://github.com/vincentarelbundock/countrycode) is really practical, since it allows for fast and easy ways to switch between many standard country-coding conventions.\n",
        "\n"
      ]
    },
    {
      "cell_type": "code",
      "metadata": {
        "autoscroll": false,
        "collapsed": true,
        "id": "ypFpeoPCCMCT",
        "colab_type": "code",
        "colab": {}
      },
      "source": [
        "library(countrycode)\n",
        "\n",
        "votes  %>%\n",
        "  mutate(country = countrycode(ccode, \"cown\", \"country.name\")) %>%\n",
        "  head(10)"
      ],
      "execution_count": 0,
      "outputs": []
    },
    {
      "cell_type": "markdown",
      "metadata": {
        "id": "HbdWVj7sCMCV",
        "colab_type": "text"
      },
      "source": [
        "\n",
        "Here,we tell `countrycode` to transfer the Correlates of War Code (\"cown\") to the easily readable country name (\"country.name\"). Other transformations such as to ISO2 and ISO3 alphanumerical codes are also possible. Neath, isn't it?\n",
        "\n",
        "Note that we up to now never changed the original `votes` data. All pipes upto now just created an output for illustration. To really change the data, we have to use the assign-and-pipe `%<>%`, or the manual assignment `<-`. So, lets finish this cleaning up and pipe the whole preprocessing all together. Since not all counrty codes matched a country name, we will also filter the unmatchedc out\n",
        "\n"
      ]
    },
    {
      "cell_type": "code",
      "metadata": {
        "autoscroll": false,
        "collapsed": true,
        "id": "pT1JLzPYCMCX",
        "colab_type": "code",
        "colab": {}
      },
      "source": [
        "votes %<>%\n",
        "  filter(vote <= 3) %>%\n",
        "  mutate(year = session + 1945,\n",
        "         country = countrycode(ccode, \"cown\", \"country.name\")) %>%\n",
        "  filter(!is.na(country)) %>%\n",
        "  arrange(year, rcid, ccode)\n",
        "\n",
        "votes %>% head(10)"
      ],
      "execution_count": 0,
      "outputs": []
    },
    {
      "cell_type": "markdown",
      "metadata": {
        "id": "ZqFBUPJgCMCY",
        "colab_type": "text"
      },
      "source": [
        "\n",
        "## Generating first insights\n",
        "\n",
        "### Summarizing the full dataset\n",
        "In this analysis, we're going to focus on \"% of votes that are yes\" as a metric for the \"agreeableness\" of countries. we'll start by finding this summary for the entire dataset: the fraction of all votes in their history that were \"yes\". Note that within your call to `summarize()`, you can use `n()` to find the total number of votes and `mean(vote == 1)` (since the output of the logical operation is FALSE or TRUE, which is equivalent to 0 or 1) to find the fraction of \"yes\" votes.\n",
        "\n"
      ]
    },
    {
      "cell_type": "code",
      "metadata": {
        "autoscroll": false,
        "collapsed": true,
        "id": "V4cyBfCOCMCY",
        "colab_type": "code",
        "colab": {}
      },
      "source": [
        "votes %>%\n",
        "  summarize(total = n(),\n",
        "            percent_yes = mean(vote == 1))"
      ],
      "execution_count": 0,
      "outputs": []
    },
    {
      "cell_type": "markdown",
      "metadata": {
        "id": "UBukhNpKCMCZ",
        "colab_type": "text"
      },
      "source": [
        "\n",
        "Ok, we see that in general, countries tend to be \"aggreable\". While nice to know, this is not terribly informative. As always, single numbers tell us little, trends, context, and comparison does usually provide more insights. So lets start with putting this number in perspective.\n",
        "\n",
        "### Summarizing by year\n",
        "The `summarize()` function is especially useful when used within groups. Here, it gives not a overal summary, but one for every group instance. For example, we might like to know how much the average \"agreeableness\" of countries changed from year to year. To examine this, you can use `group_by()` to perform your summary not for the entire dataset, but within each year.\n",
        "\n"
      ]
    },
    {
      "cell_type": "code",
      "metadata": {
        "autoscroll": false,
        "collapsed": true,
        "id": "VG6DZNDJCMCa",
        "colab_type": "code",
        "colab": {}
      },
      "source": [
        "year <- votes %>%\n",
        "  arrange(year) %>%\n",
        "  group_by(year) %>%\n",
        "  summarize(total = n(),\n",
        "            percent_yes = mean(vote == 1))\n",
        "\n",
        "year %>% head(10)"
      ],
      "execution_count": 0,
      "outputs": []
    },
    {
      "cell_type": "markdown",
      "metadata": {
        "id": "E2NJ0quOCMCb",
        "colab_type": "text"
      },
      "source": [
        "\n",
        "On first galance, it looks like the overall \"agreeableness\" seems to increase over time.\n",
        "\n",
        "### Summarizing by country\n",
        "In the last exercise, you performed a summary of the votes within each year. You could instead summarize() within each country, which would let you compare voting patterns between countries. For further analysis, we wil create a new dataframe on country level.\n",
        "\n"
      ]
    },
    {
      "cell_type": "code",
      "metadata": {
        "autoscroll": false,
        "collapsed": true,
        "id": "ODVZLZ0fCMCb",
        "colab_type": "code",
        "colab": {}
      },
      "source": [
        "country <- votes %>%\n",
        "  group_by(country) %>%\n",
        "  summarize(total = n(),\n",
        "            percent_yes = mean(vote == 1))\n",
        "\n",
        "country %>% head(10)"
      ],
      "execution_count": 0,
      "outputs": []
    },
    {
      "cell_type": "markdown",
      "metadata": {
        "id": "Uk9DETSbCMCc",
        "colab_type": "text"
      },
      "source": [
        "\n",
        "Let's inspect this country level voting pattern by looking at the most and least agreable countries by arranging the dataframe.\n",
        "\n"
      ]
    },
    {
      "cell_type": "code",
      "metadata": {
        "autoscroll": false,
        "collapsed": true,
        "id": "ftIvafpeCMCc",
        "colab_type": "code",
        "colab": {}
      },
      "source": [
        "country %>%\n",
        "  arrange(desc(percent_yes)) %>% head(10)\n",
        "\n",
        "country %>%\n",
        "  arrange(percent_yes) %>% head(10)"
      ],
      "execution_count": 0,
      "outputs": []
    },
    {
      "cell_type": "markdown",
      "metadata": {
        "id": "cV8gX-1hCMCe",
        "colab_type": "text"
      },
      "source": [
        "\n",
        "Here we have the top-10 agreable and non-agreable countries (note the use of `slice()`, one of the many advanced `dplyr` verbs). We see that Zanzibar is an absolutely non-agreeing country. Yet, we also see that they only participated in 2 votes. So, is that number reliable and informative? That is a classical example of how we might get misleading results when working with aggregated data without thorroughly investigating it upfront.\n",
        "\n",
        "So, in conclusion: We might want to get rid of countries with very litte total votes.\n",
        "\n"
      ]
    },
    {
      "cell_type": "code",
      "metadata": {
        "autoscroll": false,
        "collapsed": true,
        "id": "BoKGYiHYCMCe",
        "colab_type": "code",
        "colab": {}
      },
      "source": [
        "country %<>%\n",
        "  filter(total >= 100)"
      ],
      "execution_count": 0,
      "outputs": []
    },
    {
      "cell_type": "markdown",
      "metadata": {
        "id": "AHtEwvTQCMCf",
        "colab_type": "text"
      },
      "source": [
        "\n",
        "## First (petite) graphical exploration\n",
        "Allright, lets go on with a little analysis of time trends. Here, we will do a bit more graphical exploration. Therefore, lets have a mini-introduction to graphical plotting. Since this will be done more in detail in later sessions, I will keep it short.\n",
        "\n",
        "### Digression: The Grammar of graphics, and [`ggplot2`](https://ggplot2.tidyverse.org/)\n",
        "`ggplot2` can be thought of as a mini-language (domain-specific language) within the `R` language. It is an R implementation of [Wilkinson's Grammar of Graphics book](https://www.springer.com/gp/book/9780387245447). [A Layered Grammar of Graphics](http://vita.had.co.nz/papers/layered-grammar.pdf) describes Hadley's implementation of these thoughts in the ggplot2's design. Conceptually, the main idea behind the Grammar of Graphics is that a statistical graphic is a mapping from variables to aesthetic attributes (x axis value, y axis value, color, shape, size) of geometric objects (points, line, bars). While the Grammar of Graphic contains more elements, we will focus in this brief intro in the two main ones, aestetics and geometries.\n",
        "\n",
        "* **Aestetics:** Devine the \"surface\" of your plot, in terms of what has to be mapped (size, coplor) on the x and y (and potentially adittional) axes. Aesteticts are defined within the `aes()` function.\n",
        "* **Geometries:** Visual elements you can see in the plot itself, such as bars, lines, and points. They are defined within various `geom_XYZ()` functions.\n",
        "\n",
        "Basically, you define a surface grid and then plot something on top. We will talk about all of that in depth in later sessions, for now that's all you need to know to understand the following simple examples.\n",
        "\n",
        "\n",
        "### Plotting by year\n",
        "So, lets graphically explore the development of agreeability over time. The code below is very simple. We pass our data `year` to the `ggplot()` function, which here only contains the basic aestetics `aes()`. In this case, we would like to map the `year` on the `x`, and the value of the `percent_yes` variable on the `y` axis. That defines the plot's surface. Then, we use the `+` to add a geometric element (it is similar to the logic of the `%>%` pipe), in this case a line-plot with `geom_line()`.\n",
        "\n"
      ]
    },
    {
      "cell_type": "code",
      "metadata": {
        "autoscroll": false,
        "collapsed": true,
        "id": "aE2AaZrACMCf",
        "colab_type": "code",
        "colab": {}
      },
      "source": [
        "library(ggplot2)\n",
        "\n",
        "year %>%\n",
        "  ggplot(aes(x = year, y = percent_yes) ) +\n",
        "  geom_line()"
      ],
      "execution_count": 0,
      "outputs": []
    },
    {
      "cell_type": "markdown",
      "metadata": {
        "id": "JCsbRFG-CMCh",
        "colab_type": "text"
      },
      "source": [
        "\n",
        "Looks like the trend of increasing agreeability sort of peaked in the 80s.\n",
        "\n",
        "### Summarizing by year and country\n",
        "Ok, that was nice so far, even though not terribly interesting, since it's hard to interpret aggregated numbers of almost all the world's countries combined. More tangible insights we might get when zooming in a single country, or comparing trends over a set of countries. Therefore we need a bit of a different data structure. We now need one observation not for year or country, but for every country and year. Fortunatelly, that's easily done via multiple groupings.\n",
        "\n"
      ]
    },
    {
      "cell_type": "code",
      "metadata": {
        "autoscroll": false,
        "collapsed": true,
        "id": "6Vc9unUiCMCh",
        "colab_type": "code",
        "colab": {}
      },
      "source": [
        "year_country <- votes %>%\n",
        "  group_by(year, country) %>%\n",
        "  summarize(total = n(),\n",
        "            percent_yes = mean(vote == 1))\n",
        "\n",
        "year_country  %>% head(10)"
      ],
      "execution_count": 0,
      "outputs": []
    },
    {
      "cell_type": "markdown",
      "metadata": {
        "id": "gP02qMdzCMCi",
        "colab_type": "text"
      },
      "source": [
        "\n",
        "Ok, with this datastructure, we can do some interesting analysis. For example, we can only look at the development of Danish votes by filtering.\n",
        "\n"
      ]
    },
    {
      "cell_type": "code",
      "metadata": {
        "autoscroll": false,
        "collapsed": true,
        "id": "N-9ghJHfCMCi",
        "colab_type": "code",
        "colab": {}
      },
      "source": [
        "year_country %>%\n",
        "  filter(country == \"Denmark\") %>%\n",
        "  ggplot(aes(x = year, y = percent_yes) ) +\n",
        "  geom_line()"
      ],
      "execution_count": 0,
      "outputs": []
    },
    {
      "cell_type": "markdown",
      "metadata": {
        "id": "7-Q_LyeyCMCk",
        "colab_type": "text"
      },
      "source": [
        "\n",
        "**Note on the `%in%` operator:** In case we want to compare a set of countries now, it would be convenient if we could select many of them in an easy way. Here, the `%in%` operator is handy. It basically just takes two vectors `x` and `y`, and for every element in `x` returns a Logical indication of this element is also contained in `y`. Example:\n",
        "\n"
      ]
    },
    {
      "cell_type": "code",
      "metadata": {
        "autoscroll": false,
        "collapsed": true,
        "id": "VsY8scdaCMCk",
        "colab_type": "code",
        "colab": {}
      },
      "source": [
        "c(\"the\", \"cake\", \"is\", \"a\", \"lie\") %in% c(\"I\", \"would\", \"love\", \"to\", \"eat\", \"a\", \"cake\")"
      ],
      "execution_count": 0,
      "outputs": []
    },
    {
      "cell_type": "markdown",
      "metadata": {
        "id": "MmVm1y0aCMCm",
        "colab_type": "text"
      },
      "source": [
        "\n",
        "We can following the same idea create a vector of country anmes we want to compare, and then filter our dataset for these countries.\n"
      ]
    },
    {
      "cell_type": "code",
      "metadata": {
        "autoscroll": false,
        "collapsed": true,
        "id": "J5z9FlttCMCm",
        "colab_type": "code",
        "colab": {}
      },
      "source": [
        "countries <- c(\"United States\", \"China\", \"France\", \"Denmark\")\n",
        "\n",
        "year_country %>%\n",
        "  filter(country %in% countries)  %>% head(10)"
      ],
      "execution_count": 0,
      "outputs": []
    },
    {
      "cell_type": "markdown",
      "metadata": {
        "id": "DjEl7q-ZCMCn",
        "colab_type": "text"
      },
      "source": [
        "\n",
        "So,l lets plot these countries. To have them all displayed in one plot, we could either create a `geom_line()` for every subset (would be silly), or define in ggplot's `aes()` that the categorical variable `country` should be mapped with different colors. Therefore, for every country, a sepperate line in a different color will be created.\n",
        "\n"
      ]
    },
    {
      "cell_type": "code",
      "metadata": {
        "autoscroll": false,
        "collapsed": true,
        "id": "eFl1rdPiCMCn",
        "colab_type": "code",
        "colab": {}
      },
      "source": [
        "year_country %>%\n",
        "  filter(country %in% countries) %>%\n",
        "ggplot(aes(year, percent_yes, color = country)) +\n",
        "  geom_line(key_glyph = \"timeseries\")\n",
        "\n",
        "# Note: key_glyph = \"timeseries\" is only an argument that does a pretty timeseries-style legend :)"
      ],
      "execution_count": 0,
      "outputs": []
    },
    {
      "cell_type": "markdown",
      "metadata": {
        "id": "GIRvyO-qCMCo",
        "colab_type": "text"
      },
      "source": [
        "\n",
        "We indeed see differences between countries. While Denmark seens to be somewhat stable around 50% agreement/disagreement (the Danish style...), the USA over time moved to a very low rate of agreement. China, which got its UN seat just in the 70s, appears to be the mosyt agreeable country in our small sample.\n",
        "\n",
        "We could obviously go on with all kind of similar graphical analysis, but I do not want to spoiler too much of what is about to come in later sessions. So, lets leave it with that.\n",
        "\n",
        "## Joining our data with contextual information\n",
        "Up to now, we just looked at general voting pattern, and then a bit more nuanced at pattern over time and across countries. What the specific votes whewre about, we up to now did not really care. However, every vote corresponds to an important geo- and sociopolitic issue. So, it's time to bring in a bit of context. Therefore, we will now also draw from an adittional dataset with more detailed information on the content of the corresponding vote, which we up to now treated as pure numbers. Lets take a look:\n",
        "\n",
        "\n"
      ]
    },
    {
      "cell_type": "code",
      "metadata": {
        "autoscroll": false,
        "collapsed": true,
        "id": "k7ERKuKzCMCo",
        "colab_type": "code",
        "colab": {}
      },
      "source": [
        "descriptions <- readRDS(url(\"https://www.dropbox.com/s/k5eym73lwndjbim/UN_votes_descriptions.rds?dl=1\"))"
      ],
      "execution_count": 0,
      "outputs": []
    },
    {
      "cell_type": "code",
      "metadata": {
        "autoscroll": false,
        "collapsed": true,
        "id": "QAdj_ui0CMCp",
        "colab_type": "code",
        "colab": {}
      },
      "source": [
        "descriptions %>% head(10)"
      ],
      "execution_count": 0,
      "outputs": []
    },
    {
      "cell_type": "code",
      "metadata": {
        "autoscroll": false,
        "collapsed": true,
        "id": "56-xgqPBCMCs",
        "colab_type": "code",
        "colab": {}
      },
      "source": [
        "descriptions %>% glimpse()"
      ],
      "execution_count": 0,
      "outputs": []
    },
    {
      "cell_type": "markdown",
      "metadata": {
        "id": "chH3ygHeCMCu",
        "colab_type": "text"
      },
      "source": [
        "\n",
        "We find the following variables:\n",
        "\n",
        "* `rcid`: The corresponding ID, which we already know from the previous dataset\n",
        "* `session`: Likewise, the corresponging session number\n",
        "* `date`: The day of the vote\n",
        "* `unres`: The code of the corresponding UN resolution (Check it out in private, is very interesting)\n",
        "\n",
        "Furthermore, there are 6 \"dummy\" (meaning 0 or 1 corresponding to FALSE or TRUE) regarding the broad topic of the resolution\n",
        "\n",
        "* `me`: Palestinian conflict\n",
        "* `nu`: Nuclear weapons and nuclear material\n",
        "* `di`: Arms control and disarmament\n",
        "* `hr`: Human rights\n",
        "* `co`: Colonialism\n",
        "* `ec`: Economic development\n",
        "\n",
        "Little sidenote: We see that the `date` column here is formatted differntly, in the \"YYYY-MM-DD\" formaat. To transform it to a \"YYYY\" (year only) format, we could manipulate the string via **regular expressions** the `tidyverse` package [`stringr`](https://stringr.tidyverse.org) (which we will explore a bit later), or in base-R. However, working with differtent time format is always messy, and the `tidyverse` has a dedicated package for it, [`lubridate`](https://lubridate.tidyverse.org/). So we will use this opportunity for a simple date-transformation exercise:\n",
        "\n"
      ]
    },
    {
      "cell_type": "code",
      "metadata": {
        "Rmd_chunk_options": "warning = FALSE",
        "autoscroll": false,
        "collapsed": true,
        "id": "50ZfJYRYCMCu",
        "colab_type": "code",
        "colab": {}
      },
      "source": [
        "library(lubridate)\n",
        "descriptions %<>%\n",
        "  mutate(year = year(date))\n",
        "\n",
        "descriptions %>% head(10)"
      ],
      "execution_count": 0,
      "outputs": []
    },
    {
      "cell_type": "markdown",
      "metadata": {
        "id": "h_MU7CDiCMCv",
        "colab_type": "text"
      },
      "source": [
        "\n",
        "Neath, isnt it? In similar way, you can easily switch between date formats.\n",
        "\n",
        "We only have one row per resolution, not as in `votes` one per country vote. Since both dataframes share the `rcid`and `year` variable, we can join on these to augment our votes data with contextual information.\n"
      ]
    },
    {
      "cell_type": "code",
      "metadata": {
        "autoscroll": false,
        "collapsed": true,
        "id": "5b4dH7jNCMCv",
        "colab_type": "code",
        "colab": {}
      },
      "source": [
        "votes_joined <- votes %>%\n",
        "  select(-ccode) %>%\n",
        "  inner_join(descriptions %>% select(-date, -session, -unres), by = c(\"rcid\", \"year\"))\n",
        "\n",
        "votes_joined %>% head(10)"
      ],
      "execution_count": 0,
      "outputs": []
    },
    {
      "cell_type": "markdown",
      "metadata": {
        "id": "xZra-fYaCMCw",
        "colab_type": "text"
      },
      "source": [
        "\n",
        "Here, we perform an `inner_join()`, meaning that it will contain only rows that appear in both dataframes. We do so since we from now on want to look only at votes with contextual information (which are missing in some cases). Note that we deselect unused variables in `description` directly in the join.\n",
        "\n",
        "Lets look what is voted in ceretain issues. Why not see how the USA over time voted on colonialism related issues.\n",
        "\n"
      ]
    },
    {
      "cell_type": "code",
      "metadata": {
        "autoscroll": false,
        "collapsed": true,
        "id": "AYQaKlIpCMCw",
        "colab_type": "code",
        "colab": {}
      },
      "source": [
        "votes_joined %>%\n",
        "  filter(country == \"United States\", co == 1) %>%\n",
        "  group_by(year) %>%\n",
        "  summarize(percent_yes = mean(vote == 1)) %>%\n",
        "  ggplot(aes(year, percent_yes)) +\n",
        "  geom_line() +\n",
        "  labs(y = \"Percentage Yes votes on colonialism\")"
      ],
      "execution_count": 0,
      "outputs": []
    },
    {
      "cell_type": "markdown",
      "metadata": {
        "id": "JpVnXvmMCMCx",
        "colab_type": "text"
      },
      "source": [
        "\n",
        "We could also do the same exercise over all topics together in one plot.\n",
        "\n",
        "## Working with tidy data (pivoting, reshaping, or changing between long and wide data formats)\n",
        "By now, we worked with the traditional data structure, where every column corresponds to one variable. We also call that a **wide*\"** data format. This is in most cases the most efficient and prefered way to keep your data. However, there are some cases, where another dataformat would be more convenient.\n",
        "\n",
        "For example, for range of graphical as well as numerical summaries, it would be nice to have every observation and every variable to be mapped in a single row. This format is also calles **long** (or in R slang, **tidy**) data. Adittionally, some real life datasets (including a lot of WorldBank, Eurostats, OECD, ect.) data is usually available in a long format. Therefore, weare in need of easily switching between long and wide formats, to **reshape** your data (in Excel slang, people call that **pivoting**).\n",
        "\n",
        "Luckily, R's `tidyr` package offers you exactly these functionalities in 4 easy functions.\n",
        "\n",
        "![tidyr](https://www.dropbox.com/s/z6ulno9e00zfu77/tidyr.png?dl=1)\n",
        "\n",
        "In detail, they are:\n",
        "\n",
        "* `gather()`: collapse columns into rows (wide to long). **NOTE:** Since new `dplyr` release called `pivot_longer()`\n",
        "* `spread()`: spread two columns into multiple columns (long to wide). **NOTE:** Since new `dplyr` release called `pivot_wider()`\n",
        "* `unite()`: Unite multiple columns into one\n",
        "* `separate()`: separate one column into multiple\n",
        "\n",
        "### Tidying our data\n",
        "For our task, we will now reshape our dataframe from wide to long (tidy), therefore use the `gather()` function. In order to represent the joined vote-topic data in a tidy form so we can analyze and graph by topic, we need to transform the data so that each row has one combination of country-vote-topic. This will change the data from having six columns (`me`, `nu`, `di`, `hr`, `co`, `ec`) to having two columns (`topic` and `has_topic`).\n",
        "\n",
        "![Gathering](https://www.dropbox.com/s/zonkov4i48tbdqo/dplyr_gather.png?dl=1)\n",
        "\n"
      ]
    },
    {
      "cell_type": "code",
      "metadata": {
        "autoscroll": false,
        "id": "akaGdEMCCMCx",
        "colab_type": "code",
        "colab": {}
      },
      "source": [
        "library(tidyr)\n",
        "votes_tidy <- votes_joined %>%\n",
        "  gather(key = topic, value = has_topic, me:ec) %>%\n",
        "  filter(has_topic == 1)\n",
        "\n",
        "votes_tidy %>% head(10)"
      ],
      "execution_count": 0,
      "outputs": []
    },
    {
      "cell_type": "markdown",
      "metadata": {
        "id": "bMLb57lJCMCy",
        "colab_type": "text"
      },
      "source": [
        "\n",
        "### Recoding the topics\n",
        "There's one more step of data cleaning to make this more interpretable. To interpret the data more easily, recode the data to replace these codes with their full name. You can do that with `dplyr`'s `recode()` function, which replaces values with ones you specify.\n",
        "\n"
      ]
    },
    {
      "cell_type": "code",
      "metadata": {
        "autoscroll": false,
        "id": "vz35kgnBCMCy",
        "colab_type": "code",
        "colab": {}
      },
      "source": [
        "votes_tidy %<>%\n",
        "  mutate(topic = recode(topic,\n",
        "                        me = \"Palestinian conflict\",\n",
        "                        nu = \"Nuclear weapons and nuclear material\",\n",
        "                        di = \"Arms control and disarmament\",\n",
        "                        hr = \"Human rights\",\n",
        "                        co = \"Colonialism\",\n",
        "                        ec = \"Economic development\"))"
      ],
      "execution_count": 0,
      "outputs": []
    },
    {
      "cell_type": "markdown",
      "metadata": {
        "id": "eQKOK_6MCMCz",
        "colab_type": "text"
      },
      "source": [
        "\n",
        "### Summarize by country, year, and topic\n",
        "In previous exercises, you summarized the votes dataset by country, by year, and by country-year combination. Now that you have `topic` as an additional variable, you can summarize the votes for each combination of country, year, and topic (e.g. for the United States in 2013 on the topic of nuclear weapons.). This shows one of the advantages of working with tidy data: The ease to summarize lexible on categort+variable level.\n",
        "\n"
      ]
    },
    {
      "cell_type": "code",
      "metadata": {
        "autoscroll": false,
        "collapsed": true,
        "id": "r8cKCzewCMCz",
        "colab_type": "code",
        "colab": {}
      },
      "source": [
        "votes_tidy %>%\n",
        "  group_by(country, year, topic) %>%\n",
        "  summarize(total = n(), percent_yes = mean(vote == 1)) %>%\n",
        "  ungroup() %>%\n",
        "  head(10)"
      ],
      "execution_count": 0,
      "outputs": []
    },
    {
      "cell_type": "markdown",
      "metadata": {
        "id": "DHrDe7bYCMC0",
        "colab_type": "text"
      },
      "source": [
        "\n",
        "### Visualizing trends in topics for one country\n",
        "Now we have a unique mapping of country, year, and topic, therefore can sily create summaries and summary graphs on all kind of level. For example, lets compare how the USA and Denmark over time voted on different topics. To create the plots for all topic at once, we will introduce a new `ggplot2` geometry, a `facet_wrap` over `topic`. This just creates a sepperate plot for every category within `topic`. Just take it here for the sake of illustration, the details will be covered in later sessions.\n",
        "\n"
      ]
    },
    {
      "cell_type": "code",
      "metadata": {
        "autoscroll": false,
        "id": "zl78hCEICMC0",
        "colab_type": "code",
        "colab": {}
      },
      "source": [
        "votes_tidy %>%\n",
        "  group_by(country, year, topic) %>%\n",
        "  summarize(total = n(), percent_yes = mean(vote == 1)) %>%\n",
        "  ungroup() %>%\n",
        "  filter(country %in% c(\"United States\", \"Denmark\")) %>%\n",
        "  ggplot(aes(x = year, y = percent_yes, color = country)) +\n",
        "  geom_line(key_glyph = \"timeseries\") +\n",
        "  facet_wrap(~ topic) +\n",
        "  labs(title = \"UN votes by topic\",\n",
        "       subtitle = \"Comparing USA and Denmark\",\n",
        "       y = \"Percentage Yes votes\")"
      ],
      "execution_count": 0,
      "outputs": []
    },
    {
      "cell_type": "markdown",
      "metadata": {
        "id": "X7hRKlJnCMC1",
        "colab_type": "text"
      },
      "source": [
        "\n",
        "Up to now, we always created line plots (`geom_line()`), but we could also do a scatterplot (`geom_point()`). To make time-trends more visible, we could add a smoothed trend-line (`geom_smooth()`, don't bother with the details for now)\n",
        "\n",
        "\n"
      ]
    },
    {
      "cell_type": "code",
      "metadata": {
        "autoscroll": false,
        "id": "Epb1bjY6CMC1",
        "colab_type": "code",
        "colab": {}
      },
      "source": [
        "votes_tidy %>%\n",
        "  group_by(country, year, topic) %>%\n",
        "  summarize(total = n(), percent_yes = mean(vote == 1)) %>%\n",
        "  ungroup() %>%\n",
        "  filter(country == \"United States\") %>%\n",
        "  ggplot(aes(x = year, y = percent_yes)) +\n",
        "  geom_point() +\n",
        "  geom_smooth(se = TRUE) +\n",
        "  facet_wrap(~ topic) +\n",
        "  labs(title = \"UN votes by topic\",\n",
        "       subtitle = \"USA only\",\n",
        "       y = \"Percentage Yes votes\",\n",
        "       caption = \"Including trend-line\")"
      ],
      "execution_count": 0,
      "outputs": []
    },
    {
      "cell_type": "markdown",
      "metadata": {
        "id": "bXnImjYtCMC3",
        "colab_type": "text"
      },
      "source": [
        "\n",
        "Ok, byt that's enough about visualization for now, I do not want to spoiler too much. Only thing I wanted to illustrate here is how easily multiple geometric layers can be added in ine plot.\n",
        "\n",
        "Another intersting thing we could do now is to find the most aggreable topic per country, emaning the one every country is most inclined to voe for \"yes\". As you will see, that is easily done in tidy data with combining the well known verbs. You're getting a hang on it, right? Here I introduce one of the adittional `dplyr` helper verbs, `slice()`, which \"slices\" the rows given as arguments out of the dataframe.\n",
        "\n"
      ]
    },
    {
      "cell_type": "code",
      "metadata": {
        "autoscroll": false,
        "id": "CEBIFOsHCMC4",
        "colab_type": "code",
        "colab": {}
      },
      "source": [
        "votes_tidy %>%\n",
        "  group_by(country, topic) %>%\n",
        "  summarize(total = n(), percent_yes = mean(vote == 1)) %>%\n",
        "  ungroup() %>%\n",
        "  arrange(country, desc(total)) %>%\n",
        "  group_by(country) %>%\n",
        "  slice(1) %>%\n",
        "  ungroup() %>%\n",
        "  filter(total > 50) %>%\n",
        "  arrange(desc(percent_yes)) %>% head(10)"
      ],
      "execution_count": 0,
      "outputs": []
    },
    {
      "cell_type": "markdown",
      "metadata": {
        "id": "bRbCg2gJCMC6",
        "colab_type": "text"
      },
      "source": [
        "\n",
        "Similarly, we could look at the top-3 countries in favor of every topic.\n",
        "\n"
      ]
    },
    {
      "cell_type": "code",
      "metadata": {
        "autoscroll": false,
        "id": "uGAetAb1CMC6",
        "colab_type": "code",
        "colab": {}
      },
      "source": [
        "votes_tidy %>%\n",
        "  group_by(country, topic) %>%\n",
        "  summarize(total = n(), percent_yes = mean(vote == 1)) %>%\n",
        "  ungroup() %>%\n",
        "  filter(total > 50) %>%\n",
        "  arrange(topic, desc(percent_yes), desc(total)) %>%\n",
        "  group_by(topic) %>%\n",
        "  slice(1:3) %>%\n",
        "  select(topic, everything())"
      ],
      "execution_count": 0,
      "outputs": []
    },
    {
      "cell_type": "markdown",
      "metadata": {
        "id": "FB-ZXyeVCMC9",
        "colab_type": "text"
      },
      "source": [
        "\n",
        "The combined use of `group_by()`, `arrange()`, and `slice()` is extremly neath to produce all kind of top-n summaries.\n",
        "\n",
        "**Note on regular expressions:** In cases when we need to manipulate or search character strings, knwoledge of regular [regular expressions](https://www.rstudio.com/wp-content/uploads/2016/09/RegExCheatsheet.pdf) is extremely useful. We not have time to venture further into that. We will here use the `tidyverse` package [`stringr`](https://stringr.tidyverse.org/articles/regular-expressions.html). For now, let's just assume:\n",
        "\n",
        "1: We would like to identify rows where a certain string appears....\n"
      ]
    },
    {
      "cell_type": "code",
      "metadata": {
        "autoscroll": false,
        "id": "vF6jVDQFCMC9",
        "colab_type": "code",
        "colab": {}
      },
      "source": [
        "library(stringr)\n",
        "votes_tidy %>%\n",
        "  filter(topic %>% str_detect(\"Economic\")) %>% head(10)"
      ],
      "execution_count": 0,
      "outputs": []
    },
    {
      "cell_type": "markdown",
      "metadata": {
        "id": "REzuVzsSCMC_",
        "colab_type": "text"
      },
      "source": [
        "\n",
        "2: or we want to replace a certain character string... eg. because it is just too long...\n"
      ]
    },
    {
      "cell_type": "code",
      "metadata": {
        "autoscroll": false,
        "id": "htnB6gMfCMDA",
        "colab_type": "code",
        "colab": {}
      },
      "source": [
        "votes_tidy %>%\n",
        "  filter(topic %>% str_detect(\"Economic\")) %>%\n",
        "  mutate(topic = topic %>% str_replace_all(\" development\", \" dev.\")) %>% head(10)"
      ],
      "execution_count": 0,
      "outputs": []
    },
    {
      "cell_type": "markdown",
      "metadata": {
        "id": "bsIgBb0KCMDB",
        "colab_type": "text"
      },
      "source": [
        "\n",
        "Regular expressions are a bit of a mess to learn, but extremely powerful. In case you need it, give it a shot!\n",
        "\n"
      ]
    },
    {
      "cell_type": "markdown",
      "metadata": {
        "id": "BIOy10cJCMDC",
        "colab_type": "text"
      },
      "source": [
        "## Joining with macroeconomic data\n",
        "Ok, so far so good. To complement this exhaustive exercise, we will add some adittional economic data from the WorldBank. Most large economkic data providers such as the Worldbank, UN, OECD, and Eurostat by now offer access to their data via an API, so we can conveniently access their database directly from our laptop at home. Nice, right? How to work with APIs will be, again, a topic of later sessions, so do not expect too many details here.\n",
        "\n",
        "However, the large R community has made substantial effort to ease the access  to govermental data, resulting in many packes serving as wrappers for the corresponding APIs. That means, most of these databases can nowadays be accessed via high-level R commands, without having to bother with the programming language of the API. Moste noteworthy, the [R openGov](http://ropengov.github.io/) initiative. For this exercise, we will use the [`wbstats`](https://github.com/GIST-ORNL/wbstats) package, which lets you easily search, access, and download tfrom the WorldBank data catalogue.\n",
        "\n",
        "The package is pretty cool, and lets us search the whole WB data native from our R.\n",
        "\n",
        "Lets check it out!"
      ]
    },
    {
      "cell_type": "code",
      "metadata": {
        "id": "sjSL2cai41_q",
        "colab_type": "code",
        "colab": {}
      },
      "source": [
        "str(wb_cachelist, max.level = 1)"
      ],
      "execution_count": 0,
      "outputs": []
    },
    {
      "cell_type": "markdown",
      "metadata": {
        "id": "H71by5Fo5Ed_",
        "colab_type": "text"
      },
      "source": [
        "We can also search indicators by text-pattern."
      ]
    },
    {
      "cell_type": "code",
      "metadata": {
        "id": "zWHn0duN5Hrw",
        "colab_type": "code",
        "colab": {}
      },
      "source": [
        "wbsearch(pattern = \"military\")"
      ],
      "execution_count": 0,
      "outputs": []
    },
    {
      "cell_type": "markdown",
      "metadata": {
        "id": "TNKeSMTY5PvN",
        "colab_type": "text"
      },
      "source": [
        "Interesting, lets get some military related variables out..."
      ]
    },
    {
      "cell_type": "code",
      "metadata": {
        "id": "Sw02V5Zw5R_6",
        "colab_type": "code",
        "colab": {}
      },
      "source": [
        "military_data <- wb(indicator = c(\"MS.MIL.XPND.GD.ZS\", \"MS.MIL.XPRT.KD\", \"MS.MIL.TOTL.TF.ZS\"), startdate = 1980, enddate = 2015)\n",
        "head(military_data)"
      ],
      "execution_count": 0,
      "outputs": []
    },
    {
      "cell_type": "markdown",
      "metadata": {
        "id": "AIRbRx1o5UYy",
        "colab_type": "text"
      },
      "source": [
        "## Clean the data a bit\n",
        "Tada! That was easy. However, we already see some issues with our data we need to solve before we can conveniently work with it.\n",
        "\n",
        "1. The \"Date\" (meaning \"year\") variable is coded as a character string. We would like to have a numeric value (like in our viting data) instead\n",
        "2. The basolute variable ``\n",
        "3. The counrty names might not be written 100% as in our data. We might want to join via the normed \"iso3\" countrycode instead.\n",
        "4. The data we get from the WB is \"tidy\" (long). In casde we want to join it with our data, we are in need of making it a wide dataset again.\n",
        "\n",
        "Lets do that!"
      ]
    },
    {
      "cell_type": "code",
      "metadata": {
        "id": "rw9D5D1g5ncI",
        "colab_type": "code",
        "colab": {}
      },
      "source": [
        "military_cleaned <- military_data %>%\n",
        "  rename(year = date) %>%\n",
        "  mutate(year = as.numeric(year),\n",
        "         country = countrycode(iso3c, \"iso3c\", \"country.name\") ) %>%\n",
        "  filter(!is.na(country)) %>%\n",
        "  select(country, year, indicatorID, value) %>%\n",
        "  spread(key =  indicatorID, value = value) %>%\n",
        "  mutate(MS.MIL.XPRT.KD = log(MS.MIL.XPRT.KD))\n",
        "\n",
        "military_cleaned %>% head()"
      ],
      "execution_count": 0,
      "outputs": []
    },
    {
      "cell_type": "markdown",
      "metadata": {
        "id": "_NCbvTSR5ceW",
        "colab_type": "text"
      },
      "source": [
        "Lets see who spends most..."
      ]
    },
    {
      "cell_type": "code",
      "metadata": {
        "id": "zebncq5H5pR2",
        "colab_type": "code",
        "colab": {}
      },
      "source": [
        "military_cleaned %>%\n",
        "  group_by(country) %>%\n",
        "  summarize(mil.gdp = mean(MS.MIL.XPND.GD.ZS)) %>%\n",
        "  arrange(desc(mil.gdp)) %>%\n",
        "  head(10)"
      ],
      "execution_count": 0,
      "outputs": []
    },
    {
      "cell_type": "markdown",
      "metadata": {
        "id": "7aWHA4Aw5wbO",
        "colab_type": "text"
      },
      "source": [
        ""
      ]
    },
    {
      "cell_type": "markdown",
      "metadata": {
        "id": "w1OkuA714ibb",
        "colab_type": "text"
      },
      "source": [
        "## Your turn\n",
        "And to conclude this session, lets explore a bit on our own. A [fun colab notebook exercise](https://colab.research.google.com/drive/1UBDaHb4dQ9BJrOOAd3yk09lilRlAvo7t) is waiting for you again!\n",
        "\n",
        "Have fun, and see you next time!\n",
        "\n",
        "# Endnotes"
      ]
    },
    {
      "cell_type": "code",
      "metadata": {
        "autoscroll": false,
        "id": "iCrnamxfCMDB",
        "colab_type": "code",
        "colab": {}
      },
      "source": [
        "sessionInfo()"
      ],
      "execution_count": 0,
      "outputs": []
    }
  ]
}