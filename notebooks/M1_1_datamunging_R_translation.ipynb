{
  "nbformat": 4,
  "nbformat_minor": 0,
  "metadata": {
    "kernelspec": {
      "display_name": "R",
      "language": "R",
      "name": "ir"
    },
    "language_info": {
      "mimetype": "text/x-r-source",
      "name": "R",
      "pygments_lexer": "r",
      "version": "3.4.2",
      "file_extension": ".r",
      "codemirror_mode": "r"
    },
    "colab": {
      "name": "SDS_M1_datamunging_python_R.ipynb",
      "version": "0.3.2",
      "provenance": [],
      "collapsed_sections": []
    }
  },
  "cells": [
    {
      "cell_type": "code",
      "metadata": {
        "_uuid": "e91a8c71ecbabe307ebf19867d6249f8d75ed045",
        "_execution_state": "idle",
        "trusted": true,
        "id": "d31J-xWgYt4e",
        "colab_type": "code",
        "outputId": "35feb2c7-a491-451f-9c07-04d2878450ad",
        "colab": {
          "base_uri": "https://localhost:8080/",
          "height": 347
        }
      },
      "source": [
        "## Importing packages\n",
        "library(tidyverse) # metapackage with lots of helpful functions\n",
        "library(magrittr)"
      ],
      "execution_count": 1,
      "outputs": [
        {
          "output_type": "stream",
          "text": [
            "── \u001b[1mAttaching packages\u001b[22m ─────────────────────────────────────── tidyverse 1.2.1 ──\n",
            "\u001b[32m✔\u001b[39m \u001b[34mggplot2\u001b[39m 3.2.1     \u001b[32m✔\u001b[39m \u001b[34mpurrr  \u001b[39m 0.3.2\n",
            "\u001b[32m✔\u001b[39m \u001b[34mtibble \u001b[39m 2.1.3     \u001b[32m✔\u001b[39m \u001b[34mdplyr  \u001b[39m 0.8.3\n",
            "\u001b[32m✔\u001b[39m \u001b[34mtidyr  \u001b[39m 0.8.3     \u001b[32m✔\u001b[39m \u001b[34mstringr\u001b[39m 1.4.0\n",
            "\u001b[32m✔\u001b[39m \u001b[34mreadr  \u001b[39m 1.3.1     \u001b[32m✔\u001b[39m \u001b[34mforcats\u001b[39m 0.4.0\n",
            "── \u001b[1mConflicts\u001b[22m ────────────────────────────────────────── tidyverse_conflicts() ──\n",
            "\u001b[31m✖\u001b[39m \u001b[34mdplyr\u001b[39m::\u001b[32mfilter()\u001b[39m masks \u001b[34mstats\u001b[39m::filter()\n",
            "\u001b[31m✖\u001b[39m \u001b[34mdplyr\u001b[39m::\u001b[32mlag()\u001b[39m    masks \u001b[34mstats\u001b[39m::lag()\n",
            "\n",
            "Attaching package: ‘magrittr’\n",
            "\n",
            "The following object is masked from ‘package:purrr’:\n",
            "\n",
            "    set_names\n",
            "\n",
            "The following object is masked from ‘package:tidyr’:\n",
            "\n",
            "    extract\n",
            "\n"
          ],
          "name": "stderr"
        }
      ]
    },
    {
      "cell_type": "markdown",
      "metadata": {
        "_uuid": "e9b2f353c305538df9dd9f19fa794887a3bf6967",
        "id": "e7wbZQ7qYt4k",
        "colab_type": "text"
      },
      "source": [
        "# Exploring the police dataset\n",
        "\n",
        "Alright, lets get started. First, load the data (csv) from the SDS server"
      ]
    },
    {
      "cell_type": "code",
      "metadata": {
        "id": "7kD_WTBDIw0q",
        "colab_type": "code",
        "outputId": "072a4188-bfd3-45f7-f8ac-48fecd688937",
        "colab": {
          "base_uri": "https://localhost:8080/",
          "height": 312
        }
      },
      "source": [
        "data <- read_csv(\"http://sds-datacrunch.aau.dk/public/RI-clean.csv\")"
      ],
      "execution_count": 2,
      "outputs": [
        {
          "output_type": "stream",
          "text": [
            "Parsed with column specification:\n",
            "cols(\n",
            "  .default = col_character(),\n",
            "  stop_date = \u001b[34mcol_date(format = \"\")\u001b[39m,\n",
            "  stop_time = \u001b[34mcol_time(format = \"\")\u001b[39m,\n",
            "  county_name = \u001b[33mcol_logical()\u001b[39m,\n",
            "  county_fips = \u001b[33mcol_logical()\u001b[39m,\n",
            "  fine_grained_location = \u001b[33mcol_logical()\u001b[39m,\n",
            "  driver_age_raw = \u001b[32mcol_double()\u001b[39m,\n",
            "  driver_age = \u001b[32mcol_double()\u001b[39m,\n",
            "  search_conducted = \u001b[33mcol_logical()\u001b[39m,\n",
            "  contraband_found = \u001b[33mcol_logical()\u001b[39m,\n",
            "  is_arrested = \u001b[33mcol_logical()\u001b[39m,\n",
            "  out_of_state = \u001b[33mcol_logical()\u001b[39m,\n",
            "  drugs_related_stop = \u001b[33mcol_logical()\u001b[39m\n",
            ")\n",
            "See spec(...) for full column specifications.\n"
          ],
          "name": "stderr"
        }
      ]
    },
    {
      "cell_type": "markdown",
      "metadata": {
        "id": "8dK0qkt2JgCq",
        "colab_type": "text"
      },
      "source": [
        "Lets do a first inspection of the dataset."
      ]
    },
    {
      "cell_type": "code",
      "metadata": {
        "id": "lPq8za4sJawr",
        "colab_type": "code",
        "outputId": "9f1eda52-b236-4e88-b4f6-21f8d02af4d7",
        "colab": {
          "base_uri": "https://localhost:8080/",
          "height": 430
        }
      },
      "source": [
        "data %>% head()"
      ],
      "execution_count": 3,
      "outputs": [
        {
          "output_type": "display_data",
          "data": {
            "text/plain": [
              "  id            state stop_date  stop_time location_raw county_name county_fips\n",
              "1 RI-2005-00001 RI    2005-01-02 01:55:00  Zone K1      NA          NA         \n",
              "2 RI-2005-00002 RI    2005-01-02 20:30:00  Zone X4      NA          NA         \n",
              "3 RI-2005-00003 RI    2005-01-04 11:30:00  Zone X1      NA          NA         \n",
              "4 RI-2005-00004 RI    2005-01-04 12:55:00  Zone X4      NA          NA         \n",
              "5 RI-2005-00005 RI    2005-01-06 01:30:00  Zone X4      NA          NA         \n",
              "6 RI-2005-00006 RI    2005-01-12 08:05:00  Zone X1      NA          NA         \n",
              "  fine_grained_location police_department driver_gender ⋯ search_conducted\n",
              "1 NA                    600               M             ⋯ FALSE           \n",
              "2 NA                    500               M             ⋯ FALSE           \n",
              "3 NA                    000               NA            ⋯ FALSE           \n",
              "4 NA                    500               M             ⋯ FALSE           \n",
              "5 NA                    500               M             ⋯ FALSE           \n",
              "6 NA                    000               M             ⋯ FALSE           \n",
              "  search_type_raw search_type contraband_found stop_outcome is_arrested\n",
              "1 NA              NA          FALSE            Citation     FALSE      \n",
              "2 NA              NA          FALSE            Citation     FALSE      \n",
              "3 NA              NA          FALSE            NA              NA      \n",
              "4 NA              NA          FALSE            Citation     FALSE      \n",
              "5 NA              NA          FALSE            Citation     FALSE      \n",
              "6 NA              NA          FALSE            Citation     FALSE      \n",
              "  stop_duration out_of_state drugs_related_stop district\n",
              "1 0-15 Min      FALSE        FALSE              Zone K1 \n",
              "2 16-30 Min     FALSE        FALSE              Zone X4 \n",
              "3 NA               NA        FALSE              Zone X1 \n",
              "4 0-15 Min      FALSE        FALSE              Zone X4 \n",
              "5 0-15 Min      FALSE        FALSE              Zone X4 \n",
              "6 30+ Min        TRUE        FALSE              Zone X1 "
            ],
            "text/latex": "A tibble: 6 × 26\n\\begin{tabular}{r|llllllllllllllllllllllllll}\n id & state & stop\\_date & stop\\_time & location\\_raw & county\\_name & county\\_fips & fine\\_grained\\_location & police\\_department & driver\\_gender & driver\\_age\\_raw & driver\\_age & driver\\_race\\_raw & driver\\_race & violation\\_raw & violation & search\\_conducted & search\\_type\\_raw & search\\_type & contraband\\_found & stop\\_outcome & is\\_arrested & stop\\_duration & out\\_of\\_state & drugs\\_related\\_stop & district\\\\\n <chr> & <chr> & <date> & <time> & <chr> & <lgl> & <lgl> & <lgl> & <chr> & <chr> & <dbl> & <dbl> & <chr> & <chr> & <chr> & <chr> & <lgl> & <chr> & <chr> & <lgl> & <chr> & <lgl> & <chr> & <lgl> & <lgl> & <chr>\\\\\n\\hline\n\t RI-2005-00001 & RI & 2005-01-02 & 01:55:00 & Zone K1 & NA & NA & NA & 600 & M  & 1985 & 20 & W  & White & Speeding                       & Speeding  & FALSE & NA & NA & FALSE & Citation & FALSE & 0-15 Min  & FALSE & FALSE & Zone K1\\\\\n\t RI-2005-00002 & RI & 2005-01-02 & 20:30:00 & Zone X4 & NA & NA & NA & 500 & M  & 1987 & 18 & W  & White & Speeding                       & Speeding  & FALSE & NA & NA & FALSE & Citation & FALSE & 16-30 Min & FALSE & FALSE & Zone X4\\\\\n\t RI-2005-00003 & RI & 2005-01-04 & 11:30:00 & Zone X1 & NA & NA & NA & 000 & NA &   NA & NA & NA & NA    & NA                             & NA        & FALSE & NA & NA & FALSE & NA       &    NA & NA        &    NA & FALSE & Zone X1\\\\\n\t RI-2005-00004 & RI & 2005-01-04 & 12:55:00 & Zone X4 & NA & NA & NA & 500 & M  & 1986 & 19 & W  & White & Equipment/Inspection Violation & Equipment & FALSE & NA & NA & FALSE & Citation & FALSE & 0-15 Min  & FALSE & FALSE & Zone X4\\\\\n\t RI-2005-00005 & RI & 2005-01-06 & 01:30:00 & Zone X4 & NA & NA & NA & 500 & M  & 1978 & 27 & B  & Black & Equipment/Inspection Violation & Equipment & FALSE & NA & NA & FALSE & Citation & FALSE & 0-15 Min  & FALSE & FALSE & Zone X4\\\\\n\t RI-2005-00006 & RI & 2005-01-12 & 08:05:00 & Zone X1 & NA & NA & NA & 000 & M  & 1973 & 32 & B  & Black & Call for Service               & Other     & FALSE & NA & NA & FALSE & Citation & FALSE & 30+ Min   &  TRUE & FALSE & Zone X1\\\\\n\\end{tabular}\n",
            "text/markdown": "\nA tibble: 6 × 26\n\n| id &lt;chr&gt; | state &lt;chr&gt; | stop_date &lt;date&gt; | stop_time &lt;time&gt; | location_raw &lt;chr&gt; | county_name &lt;lgl&gt; | county_fips &lt;lgl&gt; | fine_grained_location &lt;lgl&gt; | police_department &lt;chr&gt; | driver_gender &lt;chr&gt; | ⋯ ⋯ | search_conducted &lt;lgl&gt; | search_type_raw &lt;chr&gt; | search_type &lt;chr&gt; | contraband_found &lt;lgl&gt; | stop_outcome &lt;chr&gt; | is_arrested &lt;lgl&gt; | stop_duration &lt;chr&gt; | out_of_state &lt;lgl&gt; | drugs_related_stop &lt;lgl&gt; | district &lt;chr&gt; |\n|---|---|---|---|---|---|---|---|---|---|---|---|---|---|---|---|---|---|---|---|---|\n| RI-2005-00001 | RI | 2005-01-02 | 01:55:00 | Zone K1 | NA | NA | NA | 600 | M  | ⋯ | FALSE | NA | NA | FALSE | Citation | FALSE | 0-15 Min  | FALSE | FALSE | Zone K1 |\n| RI-2005-00002 | RI | 2005-01-02 | 20:30:00 | Zone X4 | NA | NA | NA | 500 | M  | ⋯ | FALSE | NA | NA | FALSE | Citation | FALSE | 16-30 Min | FALSE | FALSE | Zone X4 |\n| RI-2005-00003 | RI | 2005-01-04 | 11:30:00 | Zone X1 | NA | NA | NA | 000 | NA | ⋯ | FALSE | NA | NA | FALSE | NA       |    NA | NA        |    NA | FALSE | Zone X1 |\n| RI-2005-00004 | RI | 2005-01-04 | 12:55:00 | Zone X4 | NA | NA | NA | 500 | M  | ⋯ | FALSE | NA | NA | FALSE | Citation | FALSE | 0-15 Min  | FALSE | FALSE | Zone X4 |\n| RI-2005-00005 | RI | 2005-01-06 | 01:30:00 | Zone X4 | NA | NA | NA | 500 | M  | ⋯ | FALSE | NA | NA | FALSE | Citation | FALSE | 0-15 Min  | FALSE | FALSE | Zone X4 |\n| RI-2005-00006 | RI | 2005-01-12 | 08:05:00 | Zone X1 | NA | NA | NA | 000 | M  | ⋯ | FALSE | NA | NA | FALSE | Citation | FALSE | 30+ Min   |  TRUE | FALSE | Zone X1 |\n\n",
            "text/html": [
              "<table>\n",
              "<caption>A tibble: 6 × 26</caption>\n",
              "<thead>\n",
              "\t<tr><th scope=col>id</th><th scope=col>state</th><th scope=col>stop_date</th><th scope=col>stop_time</th><th scope=col>location_raw</th><th scope=col>county_name</th><th scope=col>county_fips</th><th scope=col>fine_grained_location</th><th scope=col>police_department</th><th scope=col>driver_gender</th><th scope=col>⋯</th><th scope=col>search_conducted</th><th scope=col>search_type_raw</th><th scope=col>search_type</th><th scope=col>contraband_found</th><th scope=col>stop_outcome</th><th scope=col>is_arrested</th><th scope=col>stop_duration</th><th scope=col>out_of_state</th><th scope=col>drugs_related_stop</th><th scope=col>district</th></tr>\n",
              "\t<tr><th scope=col>&lt;chr&gt;</th><th scope=col>&lt;chr&gt;</th><th scope=col>&lt;date&gt;</th><th scope=col>&lt;time&gt;</th><th scope=col>&lt;chr&gt;</th><th scope=col>&lt;lgl&gt;</th><th scope=col>&lt;lgl&gt;</th><th scope=col>&lt;lgl&gt;</th><th scope=col>&lt;chr&gt;</th><th scope=col>&lt;chr&gt;</th><th scope=col>⋯</th><th scope=col>&lt;lgl&gt;</th><th scope=col>&lt;chr&gt;</th><th scope=col>&lt;chr&gt;</th><th scope=col>&lt;lgl&gt;</th><th scope=col>&lt;chr&gt;</th><th scope=col>&lt;lgl&gt;</th><th scope=col>&lt;chr&gt;</th><th scope=col>&lt;lgl&gt;</th><th scope=col>&lt;lgl&gt;</th><th scope=col>&lt;chr&gt;</th></tr>\n",
              "</thead>\n",
              "<tbody>\n",
              "\t<tr><td>RI-2005-00001</td><td>RI</td><td>2005-01-02</td><td>01:55:00</td><td>Zone K1</td><td>NA</td><td>NA</td><td>NA</td><td>600</td><td>M </td><td>⋯</td><td>FALSE</td><td>NA</td><td>NA</td><td>FALSE</td><td>Citation</td><td>FALSE</td><td>0-15 Min </td><td>FALSE</td><td>FALSE</td><td>Zone K1</td></tr>\n",
              "\t<tr><td>RI-2005-00002</td><td>RI</td><td>2005-01-02</td><td>20:30:00</td><td>Zone X4</td><td>NA</td><td>NA</td><td>NA</td><td>500</td><td>M </td><td>⋯</td><td>FALSE</td><td>NA</td><td>NA</td><td>FALSE</td><td>Citation</td><td>FALSE</td><td>16-30 Min</td><td>FALSE</td><td>FALSE</td><td>Zone X4</td></tr>\n",
              "\t<tr><td>RI-2005-00003</td><td>RI</td><td>2005-01-04</td><td>11:30:00</td><td>Zone X1</td><td>NA</td><td>NA</td><td>NA</td><td>000</td><td>NA</td><td>⋯</td><td>FALSE</td><td>NA</td><td>NA</td><td>FALSE</td><td>NA      </td><td>   NA</td><td>NA       </td><td>   NA</td><td>FALSE</td><td>Zone X1</td></tr>\n",
              "\t<tr><td>RI-2005-00004</td><td>RI</td><td>2005-01-04</td><td>12:55:00</td><td>Zone X4</td><td>NA</td><td>NA</td><td>NA</td><td>500</td><td>M </td><td>⋯</td><td>FALSE</td><td>NA</td><td>NA</td><td>FALSE</td><td>Citation</td><td>FALSE</td><td>0-15 Min </td><td>FALSE</td><td>FALSE</td><td>Zone X4</td></tr>\n",
              "\t<tr><td>RI-2005-00005</td><td>RI</td><td>2005-01-06</td><td>01:30:00</td><td>Zone X4</td><td>NA</td><td>NA</td><td>NA</td><td>500</td><td>M </td><td>⋯</td><td>FALSE</td><td>NA</td><td>NA</td><td>FALSE</td><td>Citation</td><td>FALSE</td><td>0-15 Min </td><td>FALSE</td><td>FALSE</td><td>Zone X4</td></tr>\n",
              "\t<tr><td>RI-2005-00006</td><td>RI</td><td>2005-01-12</td><td>08:05:00</td><td>Zone X1</td><td>NA</td><td>NA</td><td>NA</td><td>000</td><td>M </td><td>⋯</td><td>FALSE</td><td>NA</td><td>NA</td><td>FALSE</td><td>Citation</td><td>FALSE</td><td>30+ Min  </td><td> TRUE</td><td>FALSE</td><td>Zone X1</td></tr>\n",
              "</tbody>\n",
              "</table>\n"
            ]
          },
          "metadata": {
            "tags": []
          }
        }
      ]
    },
    {
      "cell_type": "code",
      "metadata": {
        "id": "bDfZOLG0JP3Q",
        "colab_type": "code",
        "outputId": "f3fe5804-0f57-4051-d403-11b7ab87a681",
        "colab": {
          "base_uri": "https://localhost:8080/",
          "height": 503
        }
      },
      "source": [
        "data %>% glimpse()"
      ],
      "execution_count": 4,
      "outputs": [
        {
          "output_type": "stream",
          "text": [
            "Observations: 509,681\n",
            "Variables: 26\n",
            "$ id                    \u001b[3m\u001b[90m<chr>\u001b[39m\u001b[23m \"RI-2005-00001\", \"RI-2005-00002\", \"RI-2005-0000…\n",
            "$ state                 \u001b[3m\u001b[90m<chr>\u001b[39m\u001b[23m \"RI\", \"RI\", \"RI\", \"RI\", \"RI\", \"RI\", \"RI\", \"RI\",…\n",
            "$ stop_date             \u001b[3m\u001b[90m<date>\u001b[39m\u001b[23m 2005-01-02, 2005-01-02, 2005-01-04, 2005-01-04…\n",
            "$ stop_time             \u001b[3m\u001b[90m<time>\u001b[39m\u001b[23m 01:55:00, 20:30:00, 11:30:00, 12:55:00, 01:30:…\n",
            "$ location_raw          \u001b[3m\u001b[90m<chr>\u001b[39m\u001b[23m \"Zone K1\", \"Zone X4\", \"Zone X1\", \"Zone X4\", \"Zo…\n",
            "$ county_name           \u001b[3m\u001b[90m<lgl>\u001b[39m\u001b[23m NA, NA, NA, NA, NA, NA, NA, NA, NA, NA, NA, NA,…\n",
            "$ county_fips           \u001b[3m\u001b[90m<lgl>\u001b[39m\u001b[23m NA, NA, NA, NA, NA, NA, NA, NA, NA, NA, NA, NA,…\n",
            "$ fine_grained_location \u001b[3m\u001b[90m<lgl>\u001b[39m\u001b[23m NA, NA, NA, NA, NA, NA, NA, NA, NA, NA, NA, NA,…\n",
            "$ police_department     \u001b[3m\u001b[90m<chr>\u001b[39m\u001b[23m \"600\", \"500\", \"000\", \"500\", \"500\", \"000\", \"300\"…\n",
            "$ driver_gender         \u001b[3m\u001b[90m<chr>\u001b[39m\u001b[23m \"M\", \"M\", NA, \"M\", \"M\", \"M\", \"M\", \"M\", \"M\", \"M\"…\n",
            "$ driver_age_raw        \u001b[3m\u001b[90m<dbl>\u001b[39m\u001b[23m 1985, 1987, NA, 1986, 1978, 1973, 1965, 1967, 1…\n",
            "$ driver_age            \u001b[3m\u001b[90m<dbl>\u001b[39m\u001b[23m 20, 18, NA, 19, 27, 32, 40, 38, 33, 18, 29, 27,…\n",
            "$ driver_race_raw       \u001b[3m\u001b[90m<chr>\u001b[39m\u001b[23m \"W\", \"W\", NA, \"W\", \"B\", \"B\", \"W\", \"H\", \"W\", \"W\"…\n",
            "$ driver_race           \u001b[3m\u001b[90m<chr>\u001b[39m\u001b[23m \"White\", \"White\", NA, \"White\", \"Black\", \"Black\"…\n",
            "$ violation_raw         \u001b[3m\u001b[90m<chr>\u001b[39m\u001b[23m \"Speeding\", \"Speeding\", NA, \"Equipment/Inspecti…\n",
            "$ violation             \u001b[3m\u001b[90m<chr>\u001b[39m\u001b[23m \"Speeding\", \"Speeding\", NA, \"Equipment\", \"Equip…\n",
            "$ search_conducted      \u001b[3m\u001b[90m<lgl>\u001b[39m\u001b[23m FALSE, FALSE, FALSE, FALSE, FALSE, FALSE, FALSE…\n",
            "$ search_type_raw       \u001b[3m\u001b[90m<chr>\u001b[39m\u001b[23m NA, NA, NA, NA, NA, NA, NA, NA, NA, \"Probable C…\n",
            "$ search_type           \u001b[3m\u001b[90m<chr>\u001b[39m\u001b[23m NA, NA, NA, NA, NA, NA, NA, NA, NA, \"Probable C…\n",
            "$ contraband_found      \u001b[3m\u001b[90m<lgl>\u001b[39m\u001b[23m FALSE, FALSE, FALSE, FALSE, FALSE, FALSE, FALSE…\n",
            "$ stop_outcome          \u001b[3m\u001b[90m<chr>\u001b[39m\u001b[23m \"Citation\", \"Citation\", NA, \"Citation\", \"Citati…\n",
            "$ is_arrested           \u001b[3m\u001b[90m<lgl>\u001b[39m\u001b[23m FALSE, FALSE, NA, FALSE, FALSE, FALSE, FALSE, F…\n",
            "$ stop_duration         \u001b[3m\u001b[90m<chr>\u001b[39m\u001b[23m \"0-15 Min\", \"16-30 Min\", NA, \"0-15 Min\", \"0-15 …\n",
            "$ out_of_state          \u001b[3m\u001b[90m<lgl>\u001b[39m\u001b[23m FALSE, FALSE, NA, FALSE, FALSE, TRUE, TRUE, TRU…\n",
            "$ drugs_related_stop    \u001b[3m\u001b[90m<lgl>\u001b[39m\u001b[23m FALSE, FALSE, FALSE, FALSE, FALSE, FALSE, FALSE…\n",
            "$ district              \u001b[3m\u001b[90m<chr>\u001b[39m\u001b[23m \"Zone K1\", \"Zone X4\", \"Zone X1\", \"Zone X4\", \"Zo…\n"
          ],
          "name": "stdout"
        }
      ]
    },
    {
      "cell_type": "markdown",
      "metadata": {
        "id": "sN6HNL_qJnto",
        "colab_type": "text"
      },
      "source": [
        "- Each row is one traffic stop\n",
        "- NaN are missing values"
      ]
    },
    {
      "cell_type": "code",
      "metadata": {
        "id": "LoSL2NqMJ2iq",
        "colab_type": "code",
        "outputId": "8ba8dcb5-dae3-4995-8595-04146fdc4d26",
        "colab": {
          "base_uri": "https://localhost:8080/",
          "height": 430
        }
      },
      "source": [
        "data %>%\n",
        "filter(driver_gender %>% is.na()) %>%\n",
        "head()"
      ],
      "execution_count": 5,
      "outputs": [
        {
          "output_type": "display_data",
          "data": {
            "text/plain": [
              "  id            state stop_date  stop_time location_raw county_name county_fips\n",
              "1 RI-2005-00003 RI    2005-01-04 11:30:00  Zone X1      NA          NA         \n",
              "2 RI-2005-00018 RI    2005-03-05 00:20:00  Zone X4      NA          NA         \n",
              "3 RI-2005-00036 RI    2005-06-08 08:40:00  Zone X4      NA          NA         \n",
              "4 RI-2005-00075 RI    2005-08-17 13:20:00  Zone X1      NA          NA         \n",
              "5 RI-2005-00076 RI    2005-08-17 15:59:00  Zone X1      NA          NA         \n",
              "6 RI-2005-00081 RI    2005-08-24 18:00:00  Zone X1      NA          NA         \n",
              "  fine_grained_location police_department driver_gender ⋯ search_conducted\n",
              "1 NA                    000               NA            ⋯ FALSE           \n",
              "2 NA                    500               NA            ⋯ FALSE           \n",
              "3 NA                    500               NA            ⋯ FALSE           \n",
              "4 NA                    000               NA            ⋯ FALSE           \n",
              "5 NA                    000               NA            ⋯ FALSE           \n",
              "6 NA                    000               NA            ⋯ FALSE           \n",
              "  search_type_raw search_type contraband_found stop_outcome is_arrested\n",
              "1 NA              NA          FALSE            NA           NA         \n",
              "2 NA              NA          FALSE            NA           NA         \n",
              "3 NA              NA          FALSE            NA           NA         \n",
              "4 NA              NA          FALSE            NA           NA         \n",
              "5 NA              NA          FALSE            NA           NA         \n",
              "6 NA              NA          FALSE            NA           NA         \n",
              "  stop_duration out_of_state drugs_related_stop district\n",
              "1 NA            NA           FALSE              Zone X1 \n",
              "2 NA            NA           FALSE              Zone X4 \n",
              "3 NA            NA           FALSE              Zone X4 \n",
              "4 NA            NA           FALSE              Zone X1 \n",
              "5 NA            NA           FALSE              Zone X1 \n",
              "6 NA            NA           FALSE              Zone X1 "
            ],
            "text/latex": "A tibble: 6 × 26\n\\begin{tabular}{r|llllllllllllllllllllllllll}\n id & state & stop\\_date & stop\\_time & location\\_raw & county\\_name & county\\_fips & fine\\_grained\\_location & police\\_department & driver\\_gender & driver\\_age\\_raw & driver\\_age & driver\\_race\\_raw & driver\\_race & violation\\_raw & violation & search\\_conducted & search\\_type\\_raw & search\\_type & contraband\\_found & stop\\_outcome & is\\_arrested & stop\\_duration & out\\_of\\_state & drugs\\_related\\_stop & district\\\\\n <chr> & <chr> & <date> & <time> & <chr> & <lgl> & <lgl> & <lgl> & <chr> & <chr> & <dbl> & <dbl> & <chr> & <chr> & <chr> & <chr> & <lgl> & <chr> & <chr> & <lgl> & <chr> & <lgl> & <chr> & <lgl> & <lgl> & <chr>\\\\\n\\hline\n\t RI-2005-00003 & RI & 2005-01-04 & 11:30:00 & Zone X1 & NA & NA & NA & 000 & NA & NA & NA & NA & NA & NA & NA & FALSE & NA & NA & FALSE & NA & NA & NA & NA & FALSE & Zone X1\\\\\n\t RI-2005-00018 & RI & 2005-03-05 & 00:20:00 & Zone X4 & NA & NA & NA & 500 & NA & NA & NA & NA & NA & NA & NA & FALSE & NA & NA & FALSE & NA & NA & NA & NA & FALSE & Zone X4\\\\\n\t RI-2005-00036 & RI & 2005-06-08 & 08:40:00 & Zone X4 & NA & NA & NA & 500 & NA & NA & NA & NA & NA & NA & NA & FALSE & NA & NA & FALSE & NA & NA & NA & NA & FALSE & Zone X4\\\\\n\t RI-2005-00075 & RI & 2005-08-17 & 13:20:00 & Zone X1 & NA & NA & NA & 000 & NA & NA & NA & NA & NA & NA & NA & FALSE & NA & NA & FALSE & NA & NA & NA & NA & FALSE & Zone X1\\\\\n\t RI-2005-00076 & RI & 2005-08-17 & 15:59:00 & Zone X1 & NA & NA & NA & 000 & NA & NA & NA & NA & NA & NA & NA & FALSE & NA & NA & FALSE & NA & NA & NA & NA & FALSE & Zone X1\\\\\n\t RI-2005-00081 & RI & 2005-08-24 & 18:00:00 & Zone X1 & NA & NA & NA & 000 & NA & NA & NA & NA & NA & NA & NA & FALSE & NA & NA & FALSE & NA & NA & NA & NA & FALSE & Zone X1\\\\\n\\end{tabular}\n",
            "text/markdown": "\nA tibble: 6 × 26\n\n| id &lt;chr&gt; | state &lt;chr&gt; | stop_date &lt;date&gt; | stop_time &lt;time&gt; | location_raw &lt;chr&gt; | county_name &lt;lgl&gt; | county_fips &lt;lgl&gt; | fine_grained_location &lt;lgl&gt; | police_department &lt;chr&gt; | driver_gender &lt;chr&gt; | ⋯ ⋯ | search_conducted &lt;lgl&gt; | search_type_raw &lt;chr&gt; | search_type &lt;chr&gt; | contraband_found &lt;lgl&gt; | stop_outcome &lt;chr&gt; | is_arrested &lt;lgl&gt; | stop_duration &lt;chr&gt; | out_of_state &lt;lgl&gt; | drugs_related_stop &lt;lgl&gt; | district &lt;chr&gt; |\n|---|---|---|---|---|---|---|---|---|---|---|---|---|---|---|---|---|---|---|---|---|\n| RI-2005-00003 | RI | 2005-01-04 | 11:30:00 | Zone X1 | NA | NA | NA | 000 | NA | ⋯ | FALSE | NA | NA | FALSE | NA | NA | NA | NA | FALSE | Zone X1 |\n| RI-2005-00018 | RI | 2005-03-05 | 00:20:00 | Zone X4 | NA | NA | NA | 500 | NA | ⋯ | FALSE | NA | NA | FALSE | NA | NA | NA | NA | FALSE | Zone X4 |\n| RI-2005-00036 | RI | 2005-06-08 | 08:40:00 | Zone X4 | NA | NA | NA | 500 | NA | ⋯ | FALSE | NA | NA | FALSE | NA | NA | NA | NA | FALSE | Zone X4 |\n| RI-2005-00075 | RI | 2005-08-17 | 13:20:00 | Zone X1 | NA | NA | NA | 000 | NA | ⋯ | FALSE | NA | NA | FALSE | NA | NA | NA | NA | FALSE | Zone X1 |\n| RI-2005-00076 | RI | 2005-08-17 | 15:59:00 | Zone X1 | NA | NA | NA | 000 | NA | ⋯ | FALSE | NA | NA | FALSE | NA | NA | NA | NA | FALSE | Zone X1 |\n| RI-2005-00081 | RI | 2005-08-24 | 18:00:00 | Zone X1 | NA | NA | NA | 000 | NA | ⋯ | FALSE | NA | NA | FALSE | NA | NA | NA | NA | FALSE | Zone X1 |\n\n",
            "text/html": [
              "<table>\n",
              "<caption>A tibble: 6 × 26</caption>\n",
              "<thead>\n",
              "\t<tr><th scope=col>id</th><th scope=col>state</th><th scope=col>stop_date</th><th scope=col>stop_time</th><th scope=col>location_raw</th><th scope=col>county_name</th><th scope=col>county_fips</th><th scope=col>fine_grained_location</th><th scope=col>police_department</th><th scope=col>driver_gender</th><th scope=col>⋯</th><th scope=col>search_conducted</th><th scope=col>search_type_raw</th><th scope=col>search_type</th><th scope=col>contraband_found</th><th scope=col>stop_outcome</th><th scope=col>is_arrested</th><th scope=col>stop_duration</th><th scope=col>out_of_state</th><th scope=col>drugs_related_stop</th><th scope=col>district</th></tr>\n",
              "\t<tr><th scope=col>&lt;chr&gt;</th><th scope=col>&lt;chr&gt;</th><th scope=col>&lt;date&gt;</th><th scope=col>&lt;time&gt;</th><th scope=col>&lt;chr&gt;</th><th scope=col>&lt;lgl&gt;</th><th scope=col>&lt;lgl&gt;</th><th scope=col>&lt;lgl&gt;</th><th scope=col>&lt;chr&gt;</th><th scope=col>&lt;chr&gt;</th><th scope=col>⋯</th><th scope=col>&lt;lgl&gt;</th><th scope=col>&lt;chr&gt;</th><th scope=col>&lt;chr&gt;</th><th scope=col>&lt;lgl&gt;</th><th scope=col>&lt;chr&gt;</th><th scope=col>&lt;lgl&gt;</th><th scope=col>&lt;chr&gt;</th><th scope=col>&lt;lgl&gt;</th><th scope=col>&lt;lgl&gt;</th><th scope=col>&lt;chr&gt;</th></tr>\n",
              "</thead>\n",
              "<tbody>\n",
              "\t<tr><td>RI-2005-00003</td><td>RI</td><td>2005-01-04</td><td>11:30:00</td><td>Zone X1</td><td>NA</td><td>NA</td><td>NA</td><td>000</td><td>NA</td><td>⋯</td><td>FALSE</td><td>NA</td><td>NA</td><td>FALSE</td><td>NA</td><td>NA</td><td>NA</td><td>NA</td><td>FALSE</td><td>Zone X1</td></tr>\n",
              "\t<tr><td>RI-2005-00018</td><td>RI</td><td>2005-03-05</td><td>00:20:00</td><td>Zone X4</td><td>NA</td><td>NA</td><td>NA</td><td>500</td><td>NA</td><td>⋯</td><td>FALSE</td><td>NA</td><td>NA</td><td>FALSE</td><td>NA</td><td>NA</td><td>NA</td><td>NA</td><td>FALSE</td><td>Zone X4</td></tr>\n",
              "\t<tr><td>RI-2005-00036</td><td>RI</td><td>2005-06-08</td><td>08:40:00</td><td>Zone X4</td><td>NA</td><td>NA</td><td>NA</td><td>500</td><td>NA</td><td>⋯</td><td>FALSE</td><td>NA</td><td>NA</td><td>FALSE</td><td>NA</td><td>NA</td><td>NA</td><td>NA</td><td>FALSE</td><td>Zone X4</td></tr>\n",
              "\t<tr><td>RI-2005-00075</td><td>RI</td><td>2005-08-17</td><td>13:20:00</td><td>Zone X1</td><td>NA</td><td>NA</td><td>NA</td><td>000</td><td>NA</td><td>⋯</td><td>FALSE</td><td>NA</td><td>NA</td><td>FALSE</td><td>NA</td><td>NA</td><td>NA</td><td>NA</td><td>FALSE</td><td>Zone X1</td></tr>\n",
              "\t<tr><td>RI-2005-00076</td><td>RI</td><td>2005-08-17</td><td>15:59:00</td><td>Zone X1</td><td>NA</td><td>NA</td><td>NA</td><td>000</td><td>NA</td><td>⋯</td><td>FALSE</td><td>NA</td><td>NA</td><td>FALSE</td><td>NA</td><td>NA</td><td>NA</td><td>NA</td><td>FALSE</td><td>Zone X1</td></tr>\n",
              "\t<tr><td>RI-2005-00081</td><td>RI</td><td>2005-08-24</td><td>18:00:00</td><td>Zone X1</td><td>NA</td><td>NA</td><td>NA</td><td>000</td><td>NA</td><td>⋯</td><td>FALSE</td><td>NA</td><td>NA</td><td>FALSE</td><td>NA</td><td>NA</td><td>NA</td><td>NA</td><td>FALSE</td><td>Zone X1</td></tr>\n",
              "</tbody>\n",
              "</table>\n"
            ]
          },
          "metadata": {
            "tags": []
          }
        }
      ]
    },
    {
      "cell_type": "markdown",
      "metadata": {
        "id": "fnGRkKhociQA",
        "colab_type": "text"
      },
      "source": [
        "Lets use `summarize_all()` and `gather()` to get an overview on missing values across the dataset."
      ]
    },
    {
      "cell_type": "code",
      "metadata": {
        "id": "zf0VATSWMyT-",
        "colab_type": "code",
        "outputId": "b4838f48-22f2-4a52-c558-0da946c8b29c",
        "colab": {
          "base_uri": "https://localhost:8080/",
          "height": 615
        }
      },
      "source": [
        "data %>%\n",
        "summarise_all(function(x) sum(is.null(x))) %>% gather()"
      ],
      "execution_count": 6,
      "outputs": [
        {
          "output_type": "display_data",
          "data": {
            "text/plain": [
              "   key                   value\n",
              "1  id                    0    \n",
              "2  state                 0    \n",
              "3  stop_date             0    \n",
              "4  stop_time             0    \n",
              "5  location_raw          0    \n",
              "6  county_name           0    \n",
              "7  county_fips           0    \n",
              "8  fine_grained_location 0    \n",
              "9  police_department     0    \n",
              "10 driver_gender         0    \n",
              "11 driver_age_raw        0    \n",
              "12 driver_age            0    \n",
              "13 driver_race_raw       0    \n",
              "14 driver_race           0    \n",
              "15 violation_raw         0    \n",
              "16 violation             0    \n",
              "17 search_conducted      0    \n",
              "18 search_type_raw       0    \n",
              "19 search_type           0    \n",
              "20 contraband_found      0    \n",
              "21 stop_outcome          0    \n",
              "22 is_arrested           0    \n",
              "23 stop_duration         0    \n",
              "24 out_of_state          0    \n",
              "25 drugs_related_stop    0    \n",
              "26 district              0    "
            ],
            "text/latex": "A tibble: 26 × 2\n\\begin{tabular}{r|ll}\n key & value\\\\\n <chr> & <int>\\\\\n\\hline\n\t id                    & 0\\\\\n\t state                 & 0\\\\\n\t stop\\_date             & 0\\\\\n\t stop\\_time             & 0\\\\\n\t location\\_raw          & 0\\\\\n\t county\\_name           & 0\\\\\n\t county\\_fips           & 0\\\\\n\t fine\\_grained\\_location & 0\\\\\n\t police\\_department     & 0\\\\\n\t driver\\_gender         & 0\\\\\n\t driver\\_age\\_raw        & 0\\\\\n\t driver\\_age            & 0\\\\\n\t driver\\_race\\_raw       & 0\\\\\n\t driver\\_race           & 0\\\\\n\t violation\\_raw         & 0\\\\\n\t violation             & 0\\\\\n\t search\\_conducted      & 0\\\\\n\t search\\_type\\_raw       & 0\\\\\n\t search\\_type           & 0\\\\\n\t contraband\\_found      & 0\\\\\n\t stop\\_outcome          & 0\\\\\n\t is\\_arrested           & 0\\\\\n\t stop\\_duration         & 0\\\\\n\t out\\_of\\_state          & 0\\\\\n\t drugs\\_related\\_stop    & 0\\\\\n\t district              & 0\\\\\n\\end{tabular}\n",
            "text/markdown": "\nA tibble: 26 × 2\n\n| key &lt;chr&gt; | value &lt;int&gt; |\n|---|---|\n| id                    | 0 |\n| state                 | 0 |\n| stop_date             | 0 |\n| stop_time             | 0 |\n| location_raw          | 0 |\n| county_name           | 0 |\n| county_fips           | 0 |\n| fine_grained_location | 0 |\n| police_department     | 0 |\n| driver_gender         | 0 |\n| driver_age_raw        | 0 |\n| driver_age            | 0 |\n| driver_race_raw       | 0 |\n| driver_race           | 0 |\n| violation_raw         | 0 |\n| violation             | 0 |\n| search_conducted      | 0 |\n| search_type_raw       | 0 |\n| search_type           | 0 |\n| contraband_found      | 0 |\n| stop_outcome          | 0 |\n| is_arrested           | 0 |\n| stop_duration         | 0 |\n| out_of_state          | 0 |\n| drugs_related_stop    | 0 |\n| district              | 0 |\n\n",
            "text/html": [
              "<table>\n",
              "<caption>A tibble: 26 × 2</caption>\n",
              "<thead>\n",
              "\t<tr><th scope=col>key</th><th scope=col>value</th></tr>\n",
              "\t<tr><th scope=col>&lt;chr&gt;</th><th scope=col>&lt;int&gt;</th></tr>\n",
              "</thead>\n",
              "<tbody>\n",
              "\t<tr><td>id                   </td><td>0</td></tr>\n",
              "\t<tr><td>state                </td><td>0</td></tr>\n",
              "\t<tr><td>stop_date            </td><td>0</td></tr>\n",
              "\t<tr><td>stop_time            </td><td>0</td></tr>\n",
              "\t<tr><td>location_raw         </td><td>0</td></tr>\n",
              "\t<tr><td>county_name          </td><td>0</td></tr>\n",
              "\t<tr><td>county_fips          </td><td>0</td></tr>\n",
              "\t<tr><td>fine_grained_location</td><td>0</td></tr>\n",
              "\t<tr><td>police_department    </td><td>0</td></tr>\n",
              "\t<tr><td>driver_gender        </td><td>0</td></tr>\n",
              "\t<tr><td>driver_age_raw       </td><td>0</td></tr>\n",
              "\t<tr><td>driver_age           </td><td>0</td></tr>\n",
              "\t<tr><td>driver_race_raw      </td><td>0</td></tr>\n",
              "\t<tr><td>driver_race          </td><td>0</td></tr>\n",
              "\t<tr><td>violation_raw        </td><td>0</td></tr>\n",
              "\t<tr><td>violation            </td><td>0</td></tr>\n",
              "\t<tr><td>search_conducted     </td><td>0</td></tr>\n",
              "\t<tr><td>search_type_raw      </td><td>0</td></tr>\n",
              "\t<tr><td>search_type          </td><td>0</td></tr>\n",
              "\t<tr><td>contraband_found     </td><td>0</td></tr>\n",
              "\t<tr><td>stop_outcome         </td><td>0</td></tr>\n",
              "\t<tr><td>is_arrested          </td><td>0</td></tr>\n",
              "\t<tr><td>stop_duration        </td><td>0</td></tr>\n",
              "\t<tr><td>out_of_state         </td><td>0</td></tr>\n",
              "\t<tr><td>drugs_related_stop   </td><td>0</td></tr>\n",
              "\t<tr><td>district             </td><td>0</td></tr>\n",
              "</tbody>\n",
              "</table>\n"
            ]
          },
          "metadata": {
            "tags": []
          }
        }
      ]
    },
    {
      "cell_type": "markdown",
      "metadata": {
        "id": "dDtHDLv-c2RO",
        "colab_type": "text"
      },
      "source": [
        "Clean the data a bit"
      ]
    },
    {
      "cell_type": "code",
      "metadata": {
        "id": "wE-Qu5HxQIyQ",
        "colab_type": "code",
        "colab": {}
      },
      "source": [
        "# We drop the county_name columns.\n",
        "data %<>%\n",
        "select(-county_name)"
      ],
      "execution_count": 0,
      "outputs": []
    },
    {
      "cell_type": "code",
      "metadata": {
        "id": "ssu6M-eWQmjz",
        "colab_type": "code",
        "colab": {}
      },
      "source": [
        "# Drop all rows where stop_data, time, and driver_gender are missing\n",
        "data %<>%\n",
        "drop_na(stop_date, stop_time, driver_gender)"
      ],
      "execution_count": 0,
      "outputs": []
    },
    {
      "cell_type": "markdown",
      "metadata": {
        "id": "sVp8FfN0ZgEo",
        "colab_type": "text"
      },
      "source": [
        "# Adjusting dates, times and index"
      ]
    },
    {
      "cell_type": "code",
      "metadata": {
        "id": "VEPzqWdEQ6jG",
        "colab_type": "code",
        "outputId": "8453a4c5-9c0e-437c-cf2b-d6635c18d99c",
        "colab": {
          "base_uri": "https://localhost:8080/",
          "height": 149
        }
      },
      "source": [
        "# We start by concatenating the two string columns into one that we call combined, using paste()\n",
        "datetime_stop <-  paste(data$stop_date, data$stop_time, sep = \" \")\n",
        "\n",
        "datetime_stop %>% head()"
      ],
      "execution_count": 11,
      "outputs": [
        {
          "output_type": "display_data",
          "data": {
            "text/plain": [
              "[1] \"2005-01-02 01:55:00\" \"2005-01-02 20:30:00\" \"2005-01-04 11:30:00\"\n",
              "[4] \"2005-01-04 12:55:00\" \"2005-01-06 01:30:00\" \"2005-01-12 08:05:00\""
            ],
            "text/latex": "\\begin{enumerate*}\n\\item '2005-01-02 01:55:00'\n\\item '2005-01-02 20:30:00'\n\\item '2005-01-04 11:30:00'\n\\item '2005-01-04 12:55:00'\n\\item '2005-01-06 01:30:00'\n\\item '2005-01-12 08:05:00'\n\\end{enumerate*}\n",
            "text/markdown": "1. '2005-01-02 01:55:00'\n2. '2005-01-02 20:30:00'\n3. '2005-01-04 11:30:00'\n4. '2005-01-04 12:55:00'\n5. '2005-01-06 01:30:00'\n6. '2005-01-12 08:05:00'\n\n\n",
            "text/html": [
              "<ol class=list-inline>\n",
              "\t<li>'2005-01-02 01:55:00'</li>\n",
              "\t<li>'2005-01-02 20:30:00'</li>\n",
              "\t<li>'2005-01-04 11:30:00'</li>\n",
              "\t<li>'2005-01-04 12:55:00'</li>\n",
              "\t<li>'2005-01-06 01:30:00'</li>\n",
              "\t<li>'2005-01-12 08:05:00'</li>\n",
              "</ol>\n"
            ]
          },
          "metadata": {
            "tags": []
          }
        }
      ]
    },
    {
      "cell_type": "code",
      "metadata": {
        "id": "A2CCyDIteS-B",
        "colab_type": "code",
        "colab": {
          "base_uri": "https://localhost:8080/",
          "height": 104
        },
        "outputId": "c4cbd39f-1699-4ca2-ea68-d6fe2b3a25a4"
      },
      "source": [
        "# The lubridate library helps us to transform strings into dates ore datetimes (timestamps)\n",
        "library(lubridate)\n",
        "datetime_stop  %>% \n",
        "as_datetime() %>%\n",
        "head()"
      ],
      "execution_count": 16,
      "outputs": [
        {
          "output_type": "stream",
          "text": [
            "Warning message:\n",
            "“ 10 failed to parse.”"
          ],
          "name": "stderr"
        },
        {
          "output_type": "display_data",
          "data": {
            "text/plain": [
              "[1] \"2005-01-02 01:55:00 UTC\" \"2005-01-02 20:30:00 UTC\"\n",
              "[3] \"2005-01-04 11:30:00 UTC\" \"2005-01-04 12:55:00 UTC\"\n",
              "[5] \"2005-01-06 01:30:00 UTC\" \"2005-01-12 08:05:00 UTC\""
            ]
          },
          "metadata": {
            "tags": []
          }
        }
      ]
    },
    {
      "cell_type": "markdown",
      "metadata": {
        "id": "kJjNX4UEaO-t",
        "colab_type": "text"
      },
      "source": [
        "# Explore the data step/by/step"
      ]
    },
    {
      "cell_type": "code",
      "metadata": {
        "id": "eJeM5YM4bCQX",
        "colab_type": "code",
        "outputId": "9c4723b4-3f17-408b-ac9e-c00ce23f5f32",
        "colab": {
          "base_uri": "https://localhost:8080/",
          "height": 223
        }
      },
      "source": [
        "# Count number of stop outcomes\n",
        "data %>%\n",
        "group_by(stop_outcome) %>%\n",
        "summarize(n = n())"
      ],
      "execution_count": 19,
      "outputs": [
        {
          "output_type": "display_data",
          "data": {
            "text/plain": [
              "  stop_outcome     n     \n",
              "1 Arrest Driver     14630\n",
              "2 Arrest Passenger   1973\n",
              "3 Citation         428388\n",
              "4 N/D                3431\n",
              "5 No Action          3337\n",
              "6 Warning           28849\n",
              "7 NA                29073"
            ],
            "text/latex": "A tibble: 7 × 2\n\\begin{tabular}{r|ll}\n stop\\_outcome & n\\\\\n <chr> & <int>\\\\\n\\hline\n\t Arrest Driver    &  14630\\\\\n\t Arrest Passenger &   1973\\\\\n\t Citation         & 428388\\\\\n\t N/D              &   3431\\\\\n\t No Action        &   3337\\\\\n\t Warning          &  28849\\\\\n\t NA               &  29073\\\\\n\\end{tabular}\n",
            "text/markdown": "\nA tibble: 7 × 2\n\n| stop_outcome &lt;chr&gt; | n &lt;int&gt; |\n|---|---|\n| Arrest Driver    |  14630 |\n| Arrest Passenger |   1973 |\n| Citation         | 428388 |\n| N/D              |   3431 |\n| No Action        |   3337 |\n| Warning          |  28849 |\n| NA               |  29073 |\n\n",
            "text/html": [
              "<table>\n",
              "<caption>A tibble: 7 × 2</caption>\n",
              "<thead>\n",
              "\t<tr><th scope=col>stop_outcome</th><th scope=col>n</th></tr>\n",
              "\t<tr><th scope=col>&lt;chr&gt;</th><th scope=col>&lt;int&gt;</th></tr>\n",
              "</thead>\n",
              "<tbody>\n",
              "\t<tr><td>Arrest Driver   </td><td> 14630</td></tr>\n",
              "\t<tr><td>Arrest Passenger</td><td>  1973</td></tr>\n",
              "\t<tr><td>Citation        </td><td>428388</td></tr>\n",
              "\t<tr><td>N/D             </td><td>  3431</td></tr>\n",
              "\t<tr><td>No Action       </td><td>  3337</td></tr>\n",
              "\t<tr><td>Warning         </td><td> 28849</td></tr>\n",
              "\t<tr><td>NA              </td><td> 29073</td></tr>\n",
              "</tbody>\n",
              "</table>\n"
            ]
          },
          "metadata": {
            "tags": []
          }
        }
      ]
    },
    {
      "cell_type": "code",
      "metadata": {
        "id": "IKsmPP00aOdD",
        "colab_type": "code",
        "outputId": "747fcf5f-74ae-46b3-e5af-1e22feb9d99b",
        "colab": {
          "base_uri": "https://localhost:8080/",
          "height": 223
        }
      },
      "source": [
        "# there are many ways to do the same thing. Meet count(), the short form of group_by(x) %>% summarize(n = n())\n",
        "data %>%\n",
        "count(stop_outcome, sort = TRUE)"
      ],
      "execution_count": 20,
      "outputs": [
        {
          "output_type": "display_data",
          "data": {
            "text/plain": [
              "  stop_outcome     n     \n",
              "1 Citation         428388\n",
              "2 NA                29073\n",
              "3 Warning           28849\n",
              "4 Arrest Driver     14630\n",
              "5 N/D                3431\n",
              "6 No Action          3337\n",
              "7 Arrest Passenger   1973"
            ],
            "text/latex": "A tibble: 7 × 2\n\\begin{tabular}{r|ll}\n stop\\_outcome & n\\\\\n <chr> & <int>\\\\\n\\hline\n\t Citation         & 428388\\\\\n\t NA               &  29073\\\\\n\t Warning          &  28849\\\\\n\t Arrest Driver    &  14630\\\\\n\t N/D              &   3431\\\\\n\t No Action        &   3337\\\\\n\t Arrest Passenger &   1973\\\\\n\\end{tabular}\n",
            "text/markdown": "\nA tibble: 7 × 2\n\n| stop_outcome &lt;chr&gt; | n &lt;int&gt; |\n|---|---|\n| Citation         | 428388 |\n| NA               |  29073 |\n| Warning          |  28849 |\n| Arrest Driver    |  14630 |\n| N/D              |   3431 |\n| No Action        |   3337 |\n| Arrest Passenger |   1973 |\n\n",
            "text/html": [
              "<table>\n",
              "<caption>A tibble: 7 × 2</caption>\n",
              "<thead>\n",
              "\t<tr><th scope=col>stop_outcome</th><th scope=col>n</th></tr>\n",
              "\t<tr><th scope=col>&lt;chr&gt;</th><th scope=col>&lt;int&gt;</th></tr>\n",
              "</thead>\n",
              "<tbody>\n",
              "\t<tr><td>Citation        </td><td>428388</td></tr>\n",
              "\t<tr><td>NA              </td><td> 29073</td></tr>\n",
              "\t<tr><td>Warning         </td><td> 28849</td></tr>\n",
              "\t<tr><td>Arrest Driver   </td><td> 14630</td></tr>\n",
              "\t<tr><td>N/D             </td><td>  3431</td></tr>\n",
              "\t<tr><td>No Action       </td><td>  3337</td></tr>\n",
              "\t<tr><td>Arrest Passenger</td><td>  1973</td></tr>\n",
              "</tbody>\n",
              "</table>\n"
            ]
          },
          "metadata": {
            "tags": []
          }
        }
      ]
    },
    {
      "cell_type": "code",
      "metadata": {
        "id": "AnHCxNEEcKEC",
        "colab_type": "code",
        "outputId": "f1ea1d8e-5862-4142-d649-cbe2fe973304",
        "colab": {
          "base_uri": "https://localhost:8080/",
          "height": 202
        }
      },
      "source": [
        "# Relative proportions\n",
        "data %>%\n",
        "count(driver_race, sort = TRUE) %>%\n",
        "mutate(pct = (n / sum(n)) %>% round(2) )"
      ],
      "execution_count": 21,
      "outputs": [
        {
          "output_type": "display_data",
          "data": {
            "text/plain": [
              "  driver_race n      pct \n",
              "1 White       344734 0.68\n",
              "2 Black        68579 0.13\n",
              "3 Hispanic     53125 0.10\n",
              "4 NA           29073 0.06\n",
              "5 Asian        12826 0.03\n",
              "6 Other         1344 0.00"
            ],
            "text/latex": "A tibble: 6 × 3\n\\begin{tabular}{r|lll}\n driver\\_race & n & pct\\\\\n <chr> & <int> & <dbl>\\\\\n\\hline\n\t White    & 344734 & 0.68\\\\\n\t Black    &  68579 & 0.13\\\\\n\t Hispanic &  53125 & 0.10\\\\\n\t NA       &  29073 & 0.06\\\\\n\t Asian    &  12826 & 0.03\\\\\n\t Other    &   1344 & 0.00\\\\\n\\end{tabular}\n",
            "text/markdown": "\nA tibble: 6 × 3\n\n| driver_race &lt;chr&gt; | n &lt;int&gt; | pct &lt;dbl&gt; |\n|---|---|---|\n| White    | 344734 | 0.68 |\n| Black    |  68579 | 0.13 |\n| Hispanic |  53125 | 0.10 |\n| NA       |  29073 | 0.06 |\n| Asian    |  12826 | 0.03 |\n| Other    |   1344 | 0.00 |\n\n",
            "text/html": [
              "<table>\n",
              "<caption>A tibble: 6 × 3</caption>\n",
              "<thead>\n",
              "\t<tr><th scope=col>driver_race</th><th scope=col>n</th><th scope=col>pct</th></tr>\n",
              "\t<tr><th scope=col>&lt;chr&gt;</th><th scope=col>&lt;int&gt;</th><th scope=col>&lt;dbl&gt;</th></tr>\n",
              "</thead>\n",
              "<tbody>\n",
              "\t<tr><td>White   </td><td>344734</td><td>0.68</td></tr>\n",
              "\t<tr><td>Black   </td><td> 68579</td><td>0.13</td></tr>\n",
              "\t<tr><td>Hispanic</td><td> 53125</td><td>0.10</td></tr>\n",
              "\t<tr><td>NA      </td><td> 29073</td><td>0.06</td></tr>\n",
              "\t<tr><td>Asian   </td><td> 12826</td><td>0.03</td></tr>\n",
              "\t<tr><td>Other   </td><td>  1344</td><td>0.00</td></tr>\n",
              "</tbody>\n",
              "</table>\n"
            ]
          },
          "metadata": {
            "tags": []
          }
        }
      ]
    },
    {
      "cell_type": "markdown",
      "metadata": {
        "id": "-NAdom8keZjg",
        "colab_type": "text"
      },
      "source": [
        "### Let's try out some hypotheses\n",
        "\n",
        "One hypothesis could be that the stop_outcome is different for different races. Discrimination?"
      ]
    },
    {
      "cell_type": "code",
      "metadata": {
        "id": "17PlvAQWeBVW",
        "colab_type": "code",
        "outputId": "aace5eec-879e-47c8-bd10-e8870e97597a",
        "colab": {
          "base_uri": "https://localhost:8080/",
          "height": 719
        }
      },
      "source": [
        "data %>%\n",
        "count(driver_race, stop_outcome) %>%\n",
        "group_by(driver_race) %>%\n",
        "mutate(pct = (n / sum(n)) %>% round(2) ) \n"
      ],
      "execution_count": 22,
      "outputs": [
        {
          "output_type": "display_data",
          "data": {
            "text/plain": [
              "   driver_race stop_outcome     n      pct \n",
              "1  Asian       Arrest Driver       231 0.02\n",
              "2  Asian       Arrest Passenger     27 0.00\n",
              "3  Asian       Citation          11899 0.93\n",
              "4  Asian       N/D                  60 0.00\n",
              "5  Asian       No Action            76 0.01\n",
              "6  Asian       Warning             533 0.04\n",
              "7  Black       Arrest Driver      3379 0.05\n",
              "8  Black       Arrest Passenger    559 0.01\n",
              "9  Black       Citation          58874 0.86\n",
              "10 Black       N/D                 623 0.01\n",
              "11 Black       No Action           483 0.01\n",
              "12 Black       Warning            4661 0.07\n",
              "13 Hispanic    Arrest Driver      2800 0.05\n",
              "14 Hispanic    Arrest Passenger    356 0.01\n",
              "15 Hispanic    Citation          45273 0.85\n",
              "16 Hispanic    N/D                 478 0.01\n",
              "17 Hispanic    No Action           445 0.01\n",
              "18 Hispanic    Warning            3773 0.07\n",
              "19 Other       Arrest Driver        11 0.01\n",
              "20 Other       Arrest Passenger      3 0.00\n",
              "21 Other       Citation           1234 0.92\n",
              "22 Other       N/D                   6 0.00\n",
              "23 Other       No Action            11 0.01\n",
              "24 Other       Warning              79 0.06\n",
              "25 White       Arrest Driver      8209 0.02\n",
              "26 White       Arrest Passenger   1028 0.00\n",
              "27 White       Citation         311108 0.90\n",
              "28 White       N/D                2264 0.01\n",
              "29 White       No Action          2322 0.01\n",
              "30 White       Warning           19803 0.06\n",
              "31 NA          NA                29073 1.00"
            ],
            "text/latex": "A grouped_df: 31 × 4\n\\begin{tabular}{r|llll}\n driver\\_race & stop\\_outcome & n & pct\\\\\n <chr> & <chr> & <int> & <dbl>\\\\\n\\hline\n\t Asian    & Arrest Driver    &    231 & 0.02\\\\\n\t Asian    & Arrest Passenger &     27 & 0.00\\\\\n\t Asian    & Citation         &  11899 & 0.93\\\\\n\t Asian    & N/D              &     60 & 0.00\\\\\n\t Asian    & No Action        &     76 & 0.01\\\\\n\t Asian    & Warning          &    533 & 0.04\\\\\n\t Black    & Arrest Driver    &   3379 & 0.05\\\\\n\t Black    & Arrest Passenger &    559 & 0.01\\\\\n\t Black    & Citation         &  58874 & 0.86\\\\\n\t Black    & N/D              &    623 & 0.01\\\\\n\t Black    & No Action        &    483 & 0.01\\\\\n\t Black    & Warning          &   4661 & 0.07\\\\\n\t Hispanic & Arrest Driver    &   2800 & 0.05\\\\\n\t Hispanic & Arrest Passenger &    356 & 0.01\\\\\n\t Hispanic & Citation         &  45273 & 0.85\\\\\n\t Hispanic & N/D              &    478 & 0.01\\\\\n\t Hispanic & No Action        &    445 & 0.01\\\\\n\t Hispanic & Warning          &   3773 & 0.07\\\\\n\t Other    & Arrest Driver    &     11 & 0.01\\\\\n\t Other    & Arrest Passenger &      3 & 0.00\\\\\n\t Other    & Citation         &   1234 & 0.92\\\\\n\t Other    & N/D              &      6 & 0.00\\\\\n\t Other    & No Action        &     11 & 0.01\\\\\n\t Other    & Warning          &     79 & 0.06\\\\\n\t White    & Arrest Driver    &   8209 & 0.02\\\\\n\t White    & Arrest Passenger &   1028 & 0.00\\\\\n\t White    & Citation         & 311108 & 0.90\\\\\n\t White    & N/D              &   2264 & 0.01\\\\\n\t White    & No Action        &   2322 & 0.01\\\\\n\t White    & Warning          &  19803 & 0.06\\\\\n\t NA       & NA               &  29073 & 1.00\\\\\n\\end{tabular}\n",
            "text/markdown": "\nA grouped_df: 31 × 4\n\n| driver_race &lt;chr&gt; | stop_outcome &lt;chr&gt; | n &lt;int&gt; | pct &lt;dbl&gt; |\n|---|---|---|---|\n| Asian    | Arrest Driver    |    231 | 0.02 |\n| Asian    | Arrest Passenger |     27 | 0.00 |\n| Asian    | Citation         |  11899 | 0.93 |\n| Asian    | N/D              |     60 | 0.00 |\n| Asian    | No Action        |     76 | 0.01 |\n| Asian    | Warning          |    533 | 0.04 |\n| Black    | Arrest Driver    |   3379 | 0.05 |\n| Black    | Arrest Passenger |    559 | 0.01 |\n| Black    | Citation         |  58874 | 0.86 |\n| Black    | N/D              |    623 | 0.01 |\n| Black    | No Action        |    483 | 0.01 |\n| Black    | Warning          |   4661 | 0.07 |\n| Hispanic | Arrest Driver    |   2800 | 0.05 |\n| Hispanic | Arrest Passenger |    356 | 0.01 |\n| Hispanic | Citation         |  45273 | 0.85 |\n| Hispanic | N/D              |    478 | 0.01 |\n| Hispanic | No Action        |    445 | 0.01 |\n| Hispanic | Warning          |   3773 | 0.07 |\n| Other    | Arrest Driver    |     11 | 0.01 |\n| Other    | Arrest Passenger |      3 | 0.00 |\n| Other    | Citation         |   1234 | 0.92 |\n| Other    | N/D              |      6 | 0.00 |\n| Other    | No Action        |     11 | 0.01 |\n| Other    | Warning          |     79 | 0.06 |\n| White    | Arrest Driver    |   8209 | 0.02 |\n| White    | Arrest Passenger |   1028 | 0.00 |\n| White    | Citation         | 311108 | 0.90 |\n| White    | N/D              |   2264 | 0.01 |\n| White    | No Action        |   2322 | 0.01 |\n| White    | Warning          |  19803 | 0.06 |\n| NA       | NA               |  29073 | 1.00 |\n\n",
            "text/html": [
              "<table>\n",
              "<caption>A grouped_df: 31 × 4</caption>\n",
              "<thead>\n",
              "\t<tr><th scope=col>driver_race</th><th scope=col>stop_outcome</th><th scope=col>n</th><th scope=col>pct</th></tr>\n",
              "\t<tr><th scope=col>&lt;chr&gt;</th><th scope=col>&lt;chr&gt;</th><th scope=col>&lt;int&gt;</th><th scope=col>&lt;dbl&gt;</th></tr>\n",
              "</thead>\n",
              "<tbody>\n",
              "\t<tr><td>Asian   </td><td>Arrest Driver   </td><td>   231</td><td>0.02</td></tr>\n",
              "\t<tr><td>Asian   </td><td>Arrest Passenger</td><td>    27</td><td>0.00</td></tr>\n",
              "\t<tr><td>Asian   </td><td>Citation        </td><td> 11899</td><td>0.93</td></tr>\n",
              "\t<tr><td>Asian   </td><td>N/D             </td><td>    60</td><td>0.00</td></tr>\n",
              "\t<tr><td>Asian   </td><td>No Action       </td><td>    76</td><td>0.01</td></tr>\n",
              "\t<tr><td>Asian   </td><td>Warning         </td><td>   533</td><td>0.04</td></tr>\n",
              "\t<tr><td>Black   </td><td>Arrest Driver   </td><td>  3379</td><td>0.05</td></tr>\n",
              "\t<tr><td>Black   </td><td>Arrest Passenger</td><td>   559</td><td>0.01</td></tr>\n",
              "\t<tr><td>Black   </td><td>Citation        </td><td> 58874</td><td>0.86</td></tr>\n",
              "\t<tr><td>Black   </td><td>N/D             </td><td>   623</td><td>0.01</td></tr>\n",
              "\t<tr><td>Black   </td><td>No Action       </td><td>   483</td><td>0.01</td></tr>\n",
              "\t<tr><td>Black   </td><td>Warning         </td><td>  4661</td><td>0.07</td></tr>\n",
              "\t<tr><td>Hispanic</td><td>Arrest Driver   </td><td>  2800</td><td>0.05</td></tr>\n",
              "\t<tr><td>Hispanic</td><td>Arrest Passenger</td><td>   356</td><td>0.01</td></tr>\n",
              "\t<tr><td>Hispanic</td><td>Citation        </td><td> 45273</td><td>0.85</td></tr>\n",
              "\t<tr><td>Hispanic</td><td>N/D             </td><td>   478</td><td>0.01</td></tr>\n",
              "\t<tr><td>Hispanic</td><td>No Action       </td><td>   445</td><td>0.01</td></tr>\n",
              "\t<tr><td>Hispanic</td><td>Warning         </td><td>  3773</td><td>0.07</td></tr>\n",
              "\t<tr><td>Other   </td><td>Arrest Driver   </td><td>    11</td><td>0.01</td></tr>\n",
              "\t<tr><td>Other   </td><td>Arrest Passenger</td><td>     3</td><td>0.00</td></tr>\n",
              "\t<tr><td>Other   </td><td>Citation        </td><td>  1234</td><td>0.92</td></tr>\n",
              "\t<tr><td>Other   </td><td>N/D             </td><td>     6</td><td>0.00</td></tr>\n",
              "\t<tr><td>Other   </td><td>No Action       </td><td>    11</td><td>0.01</td></tr>\n",
              "\t<tr><td>Other   </td><td>Warning         </td><td>    79</td><td>0.06</td></tr>\n",
              "\t<tr><td>White   </td><td>Arrest Driver   </td><td>  8209</td><td>0.02</td></tr>\n",
              "\t<tr><td>White   </td><td>Arrest Passenger</td><td>  1028</td><td>0.00</td></tr>\n",
              "\t<tr><td>White   </td><td>Citation        </td><td>311108</td><td>0.90</td></tr>\n",
              "\t<tr><td>White   </td><td>N/D             </td><td>  2264</td><td>0.01</td></tr>\n",
              "\t<tr><td>White   </td><td>No Action       </td><td>  2322</td><td>0.01</td></tr>\n",
              "\t<tr><td>White   </td><td>Warning         </td><td> 19803</td><td>0.06</td></tr>\n",
              "\t<tr><td>NA      </td><td>NA              </td><td> 29073</td><td>1.00</td></tr>\n",
              "</tbody>\n",
              "</table>\n"
            ]
          },
          "metadata": {
            "tags": []
          }
        }
      ]
    },
    {
      "cell_type": "markdown",
      "metadata": {
        "id": "Ga_ofnEi8Rxu",
        "colab_type": "text"
      },
      "source": [
        "Nice, can we have that also in a easy to investigate matrix? Sure, lets use `spread()`. Notice there are many more functions to do that, such as `prob.table`, but I here stay in the `dplyr` framework"
      ]
    },
    {
      "cell_type": "code",
      "metadata": {
        "id": "GNED6BLr9P3Q",
        "colab_type": "code",
        "outputId": "ec5e8390-b67e-462c-b93b-da829cba8e88",
        "colab": {
          "base_uri": "https://localhost:8080/",
          "height": 202
        }
      },
      "source": [
        "data %>%\n",
        "count(driver_race, stop_outcome) %>%\n",
        "group_by(driver_race) %>%\n",
        "mutate(pct = (n / sum(n, na.rm = TRUE)) %>% round(2) ) %>%\n",
        "select(-n) %>%\n",
        "spread(stop_outcome, pct)"
      ],
      "execution_count": 23,
      "outputs": [
        {
          "output_type": "display_data",
          "data": {
            "text/plain": [
              "  driver_race Arrest Driver Arrest Passenger Citation N/D  No Action Warning\n",
              "1 Asian       0.02          0.00             0.93     0.00 0.01      0.04   \n",
              "2 Black       0.05          0.01             0.86     0.01 0.01      0.07   \n",
              "3 Hispanic    0.05          0.01             0.85     0.01 0.01      0.07   \n",
              "4 Other       0.01          0.00             0.92     0.00 0.01      0.06   \n",
              "5 White       0.02          0.00             0.90     0.01 0.01      0.06   \n",
              "6 NA            NA            NA               NA       NA   NA        NA   \n",
              "  <NA>\n",
              "1 NA  \n",
              "2 NA  \n",
              "3 NA  \n",
              "4 NA  \n",
              "5 NA  \n",
              "6  1  "
            ],
            "text/latex": "A grouped_df: 6 × 8\n\\begin{tabular}{r|llllllll}\n driver\\_race & Arrest Driver & Arrest Passenger & Citation & N/D & No Action & Warning & <NA>\\\\\n <chr> & <dbl> & <dbl> & <dbl> & <dbl> & <dbl> & <dbl> & <dbl>\\\\\n\\hline\n\t Asian    & 0.02 & 0.00 & 0.93 & 0.00 & 0.01 & 0.04 & NA\\\\\n\t Black    & 0.05 & 0.01 & 0.86 & 0.01 & 0.01 & 0.07 & NA\\\\\n\t Hispanic & 0.05 & 0.01 & 0.85 & 0.01 & 0.01 & 0.07 & NA\\\\\n\t Other    & 0.01 & 0.00 & 0.92 & 0.00 & 0.01 & 0.06 & NA\\\\\n\t White    & 0.02 & 0.00 & 0.90 & 0.01 & 0.01 & 0.06 & NA\\\\\n\t NA       &   NA &   NA &   NA &   NA &   NA &   NA &  1\\\\\n\\end{tabular}\n",
            "text/markdown": "\nA grouped_df: 6 × 8\n\n| driver_race &lt;chr&gt; | Arrest Driver &lt;dbl&gt; | Arrest Passenger &lt;dbl&gt; | Citation &lt;dbl&gt; | N/D &lt;dbl&gt; | No Action &lt;dbl&gt; | Warning &lt;dbl&gt; | &lt;NA&gt; &lt;dbl&gt; |\n|---|---|---|---|---|---|---|---|\n| Asian    | 0.02 | 0.00 | 0.93 | 0.00 | 0.01 | 0.04 | NA |\n| Black    | 0.05 | 0.01 | 0.86 | 0.01 | 0.01 | 0.07 | NA |\n| Hispanic | 0.05 | 0.01 | 0.85 | 0.01 | 0.01 | 0.07 | NA |\n| Other    | 0.01 | 0.00 | 0.92 | 0.00 | 0.01 | 0.06 | NA |\n| White    | 0.02 | 0.00 | 0.90 | 0.01 | 0.01 | 0.06 | NA |\n| NA       |   NA |   NA |   NA |   NA |   NA |   NA |  1 |\n\n",
            "text/html": [
              "<table>\n",
              "<caption>A grouped_df: 6 × 8</caption>\n",
              "<thead>\n",
              "\t<tr><th scope=col>driver_race</th><th scope=col>Arrest Driver</th><th scope=col>Arrest Passenger</th><th scope=col>Citation</th><th scope=col>N/D</th><th scope=col>No Action</th><th scope=col>Warning</th><th scope=col>&lt;NA&gt;</th></tr>\n",
              "\t<tr><th scope=col>&lt;chr&gt;</th><th scope=col>&lt;dbl&gt;</th><th scope=col>&lt;dbl&gt;</th><th scope=col>&lt;dbl&gt;</th><th scope=col>&lt;dbl&gt;</th><th scope=col>&lt;dbl&gt;</th><th scope=col>&lt;dbl&gt;</th><th scope=col>&lt;dbl&gt;</th></tr>\n",
              "</thead>\n",
              "<tbody>\n",
              "\t<tr><td>Asian   </td><td>0.02</td><td>0.00</td><td>0.93</td><td>0.00</td><td>0.01</td><td>0.04</td><td>NA</td></tr>\n",
              "\t<tr><td>Black   </td><td>0.05</td><td>0.01</td><td>0.86</td><td>0.01</td><td>0.01</td><td>0.07</td><td>NA</td></tr>\n",
              "\t<tr><td>Hispanic</td><td>0.05</td><td>0.01</td><td>0.85</td><td>0.01</td><td>0.01</td><td>0.07</td><td>NA</td></tr>\n",
              "\t<tr><td>Other   </td><td>0.01</td><td>0.00</td><td>0.92</td><td>0.00</td><td>0.01</td><td>0.06</td><td>NA</td></tr>\n",
              "\t<tr><td>White   </td><td>0.02</td><td>0.00</td><td>0.90</td><td>0.01</td><td>0.01</td><td>0.06</td><td>NA</td></tr>\n",
              "\t<tr><td>NA      </td><td>  NA</td><td>  NA</td><td>  NA</td><td>  NA</td><td>  NA</td><td>  NA</td><td> 1</td></tr>\n",
              "</tbody>\n",
              "</table>\n"
            ]
          },
          "metadata": {
            "tags": []
          }
        }
      ]
    },
    {
      "cell_type": "markdown",
      "metadata": {
        "id": "h_qbv-Uy_SW6",
        "colab_type": "text"
      },
      "source": [
        "We might also have a look at nice datasummary. The `summarytools` package has some nice functions to do so."
      ]
    },
    {
      "cell_type": "code",
      "metadata": {
        "id": "uhcXGhZy_glP",
        "colab_type": "code",
        "colab": {}
      },
      "source": [
        "# install.packages(\"summarytools\")\n",
        "# library(summarytools)"
      ],
      "execution_count": 0,
      "outputs": []
    },
    {
      "cell_type": "code",
      "metadata": {
        "id": "m5NyNWSS_g1g",
        "colab_type": "code",
        "colab": {}
      },
      "source": [
        "# data %>% dfSummary()"
      ],
      "execution_count": 0,
      "outputs": []
    },
    {
      "cell_type": "markdown",
      "metadata": {
        "id": "u6lEpg_WB-o8",
        "colab_type": "text"
      },
      "source": [
        "### Filtering by multiple conditions\n",
        "\n",
        "Again, we can use `dplyr` `filter()` with multiple conditions, or `group_by()` + `summarize()` for summaries in nested groups."
      ]
    },
    {
      "cell_type": "code",
      "metadata": {
        "id": "w5aIu0rwCrky",
        "colab_type": "code",
        "colab": {
          "base_uri": "https://localhost:8080/",
          "height": 651
        },
        "outputId": "73866984-96ae-4b5b-ce19-3cef0e558cc2"
      },
      "source": [
        "# Filter for being histanic and arrested\n",
        "data %>%\n",
        "filter(driver_race == \"Hispanic\" & is_arrested == TRUE) %>%\n",
        "head(10)"
      ],
      "execution_count": 24,
      "outputs": [
        {
          "output_type": "display_data",
          "data": {
            "text/plain": [
              "   id            state stop_date  stop_time location_raw county_fips\n",
              "1  RI-2005-00175 RI    2005-10-01 00:50:00  Zone X4      NA         \n",
              "2  RI-2005-00180 RI    2005-10-01 01:30:00  Zone X4      NA         \n",
              "3  RI-2005-00784 RI    2005-10-05 07:50:00  Zone X4      NA         \n",
              "4  RI-2005-00785 RI    2005-10-05 07:50:00  Zone X4      NA         \n",
              "5  RI-2005-00914 RI    2005-10-06 02:00:00  Zone X4      NA         \n",
              "6  RI-2005-01057 RI    2005-10-07 00:50:00  Zone X4      NA         \n",
              "7  RI-2005-01060 RI    2005-10-07 00:50:00  Zone X4      NA         \n",
              "8  RI-2005-01810 RI    2005-10-12 06:38:00  Zone K2      NA         \n",
              "9  RI-2005-01871 RI    2005-10-12 20:30:00  Zone K3      NA         \n",
              "10 RI-2005-01872 RI    2005-10-12 20:30:00  Zone K3      NA         \n",
              "   fine_grained_location police_department driver_gender driver_age_raw ⋯\n",
              "1  NA                    500               M             1977           ⋯\n",
              "2  NA                    500               M             1978           ⋯\n",
              "3  NA                    500               M             1957           ⋯\n",
              "4  NA                    500               M             1957           ⋯\n",
              "5  NA                    500               M             1979           ⋯\n",
              "6  NA                    500               M             1973           ⋯\n",
              "7  NA                    500               M             1973           ⋯\n",
              "8  NA                    502               M             1971           ⋯\n",
              "9  NA                    300               M             1987           ⋯\n",
              "10 NA                    300               M             1987           ⋯\n",
              "   search_conducted search_type_raw search_type      contraband_found\n",
              "1  FALSE            NA              NA               FALSE           \n",
              "2  FALSE            NA              NA               FALSE           \n",
              "3  FALSE            NA              NA               FALSE           \n",
              "4  FALSE            NA              NA               FALSE           \n",
              "5  FALSE            NA              NA               FALSE           \n",
              "6  FALSE            NA              NA               FALSE           \n",
              "7  FALSE            NA              NA               FALSE           \n",
              "8   TRUE            Inventory/Tow   Inventory        FALSE           \n",
              "9   TRUE            Terry Frisk     Protective Frisk FALSE           \n",
              "10  TRUE            Terry Frisk     Protective Frisk FALSE           \n",
              "   stop_outcome  is_arrested stop_duration out_of_state drugs_related_stop\n",
              "1  Arrest Driver TRUE        30+ Min       FALSE        FALSE             \n",
              "2  Arrest Driver TRUE        30+ Min       FALSE        FALSE             \n",
              "3  Arrest Driver TRUE        16-30 Min     FALSE        FALSE             \n",
              "4  Arrest Driver TRUE        16-30 Min     FALSE        FALSE             \n",
              "5  Arrest Driver TRUE        30+ Min       FALSE        FALSE             \n",
              "6  Arrest Driver TRUE        16-30 Min     FALSE        FALSE             \n",
              "7  Arrest Driver TRUE        16-30 Min     FALSE        FALSE             \n",
              "8  Arrest Driver TRUE        30+ Min       FALSE        FALSE             \n",
              "9  Arrest Driver TRUE        0-15 Min      FALSE        FALSE             \n",
              "10 Arrest Driver TRUE        0-15 Min      FALSE        FALSE             \n",
              "   district\n",
              "1  Zone X4 \n",
              "2  Zone X4 \n",
              "3  Zone X4 \n",
              "4  Zone X4 \n",
              "5  Zone X4 \n",
              "6  Zone X4 \n",
              "7  Zone X4 \n",
              "8  Zone K2 \n",
              "9  Zone K3 \n",
              "10 Zone K3 "
            ],
            "text/latex": "A tibble: 10 × 25\n\\begin{tabular}{r|lllllllllllllllllllllllll}\n id & state & stop\\_date & stop\\_time & location\\_raw & county\\_fips & fine\\_grained\\_location & police\\_department & driver\\_gender & driver\\_age\\_raw & driver\\_age & driver\\_race\\_raw & driver\\_race & violation\\_raw & violation & search\\_conducted & search\\_type\\_raw & search\\_type & contraband\\_found & stop\\_outcome & is\\_arrested & stop\\_duration & out\\_of\\_state & drugs\\_related\\_stop & district\\\\\n <chr> & <chr> & <date> & <time> & <chr> & <lgl> & <lgl> & <chr> & <chr> & <dbl> & <dbl> & <chr> & <chr> & <chr> & <chr> & <lgl> & <chr> & <chr> & <lgl> & <chr> & <lgl> & <chr> & <lgl> & <lgl> & <chr>\\\\\n\\hline\n\t RI-2005-00175 & RI & 2005-10-01 & 00:50:00 & Zone X4 & NA & NA & 500 & M & 1977 & 28 & H & Hispanic & Other Traffic Violation & Moving violation    & FALSE & NA            & NA               & FALSE & Arrest Driver & TRUE & 30+ Min   & FALSE & FALSE & Zone X4\\\\\n\t RI-2005-00180 & RI & 2005-10-01 & 01:30:00 & Zone X4 & NA & NA & 500 & M & 1978 & 27 & H & Hispanic & Other Traffic Violation & Moving violation    & FALSE & NA            & NA               & FALSE & Arrest Driver & TRUE & 30+ Min   & FALSE & FALSE & Zone X4\\\\\n\t RI-2005-00784 & RI & 2005-10-05 & 07:50:00 & Zone X4 & NA & NA & 500 & M & 1957 & 48 & H & Hispanic & Registration Violation  & Registration/plates & FALSE & NA            & NA               & FALSE & Arrest Driver & TRUE & 16-30 Min & FALSE & FALSE & Zone X4\\\\\n\t RI-2005-00785 & RI & 2005-10-05 & 07:50:00 & Zone X4 & NA & NA & 500 & M & 1957 & 48 & H & Hispanic & Registration Violation  & Registration/plates & FALSE & NA            & NA               & FALSE & Arrest Driver & TRUE & 16-30 Min & FALSE & FALSE & Zone X4\\\\\n\t RI-2005-00914 & RI & 2005-10-06 & 02:00:00 & Zone X4 & NA & NA & 500 & M & 1979 & 26 & L & Hispanic & Other Traffic Violation & Moving violation    & FALSE & NA            & NA               & FALSE & Arrest Driver & TRUE & 30+ Min   & FALSE & FALSE & Zone X4\\\\\n\t RI-2005-01057 & RI & 2005-10-07 & 00:50:00 & Zone X4 & NA & NA & 500 & M & 1973 & 32 & L & Hispanic & Other Traffic Violation & Moving violation    & FALSE & NA            & NA               & FALSE & Arrest Driver & TRUE & 16-30 Min & FALSE & FALSE & Zone X4\\\\\n\t RI-2005-01060 & RI & 2005-10-07 & 00:50:00 & Zone X4 & NA & NA & 500 & M & 1973 & 32 & L & Hispanic & Other Traffic Violation & Moving violation    & FALSE & NA            & NA               & FALSE & Arrest Driver & TRUE & 16-30 Min & FALSE & FALSE & Zone X4\\\\\n\t RI-2005-01810 & RI & 2005-10-12 & 06:38:00 & Zone K2 & NA & NA & 502 & M & 1971 & 34 & H & Hispanic & Other Traffic Violation & Moving violation    &  TRUE & Inventory/Tow & Inventory        & FALSE & Arrest Driver & TRUE & 30+ Min   & FALSE & FALSE & Zone K2\\\\\n\t RI-2005-01871 & RI & 2005-10-12 & 20:30:00 & Zone K3 & NA & NA & 300 & M & 1987 & 18 & H & Hispanic & Other Traffic Violation & Moving violation    &  TRUE & Terry Frisk   & Protective Frisk & FALSE & Arrest Driver & TRUE & 0-15 Min  & FALSE & FALSE & Zone K3\\\\\n\t RI-2005-01872 & RI & 2005-10-12 & 20:30:00 & Zone K3 & NA & NA & 300 & M & 1987 & 18 & H & Hispanic & Other Traffic Violation & Moving violation    &  TRUE & Terry Frisk   & Protective Frisk & FALSE & Arrest Driver & TRUE & 0-15 Min  & FALSE & FALSE & Zone K3\\\\\n\\end{tabular}\n",
            "text/markdown": "\nA tibble: 10 × 25\n\n| id &lt;chr&gt; | state &lt;chr&gt; | stop_date &lt;date&gt; | stop_time &lt;time&gt; | location_raw &lt;chr&gt; | county_fips &lt;lgl&gt; | fine_grained_location &lt;lgl&gt; | police_department &lt;chr&gt; | driver_gender &lt;chr&gt; | driver_age_raw &lt;dbl&gt; | ⋯ ⋯ | search_conducted &lt;lgl&gt; | search_type_raw &lt;chr&gt; | search_type &lt;chr&gt; | contraband_found &lt;lgl&gt; | stop_outcome &lt;chr&gt; | is_arrested &lt;lgl&gt; | stop_duration &lt;chr&gt; | out_of_state &lt;lgl&gt; | drugs_related_stop &lt;lgl&gt; | district &lt;chr&gt; |\n|---|---|---|---|---|---|---|---|---|---|---|---|---|---|---|---|---|---|---|---|---|\n| RI-2005-00175 | RI | 2005-10-01 | 00:50:00 | Zone X4 | NA | NA | 500 | M | 1977 | ⋯ | FALSE | NA            | NA               | FALSE | Arrest Driver | TRUE | 30+ Min   | FALSE | FALSE | Zone X4 |\n| RI-2005-00180 | RI | 2005-10-01 | 01:30:00 | Zone X4 | NA | NA | 500 | M | 1978 | ⋯ | FALSE | NA            | NA               | FALSE | Arrest Driver | TRUE | 30+ Min   | FALSE | FALSE | Zone X4 |\n| RI-2005-00784 | RI | 2005-10-05 | 07:50:00 | Zone X4 | NA | NA | 500 | M | 1957 | ⋯ | FALSE | NA            | NA               | FALSE | Arrest Driver | TRUE | 16-30 Min | FALSE | FALSE | Zone X4 |\n| RI-2005-00785 | RI | 2005-10-05 | 07:50:00 | Zone X4 | NA | NA | 500 | M | 1957 | ⋯ | FALSE | NA            | NA               | FALSE | Arrest Driver | TRUE | 16-30 Min | FALSE | FALSE | Zone X4 |\n| RI-2005-00914 | RI | 2005-10-06 | 02:00:00 | Zone X4 | NA | NA | 500 | M | 1979 | ⋯ | FALSE | NA            | NA               | FALSE | Arrest Driver | TRUE | 30+ Min   | FALSE | FALSE | Zone X4 |\n| RI-2005-01057 | RI | 2005-10-07 | 00:50:00 | Zone X4 | NA | NA | 500 | M | 1973 | ⋯ | FALSE | NA            | NA               | FALSE | Arrest Driver | TRUE | 16-30 Min | FALSE | FALSE | Zone X4 |\n| RI-2005-01060 | RI | 2005-10-07 | 00:50:00 | Zone X4 | NA | NA | 500 | M | 1973 | ⋯ | FALSE | NA            | NA               | FALSE | Arrest Driver | TRUE | 16-30 Min | FALSE | FALSE | Zone X4 |\n| RI-2005-01810 | RI | 2005-10-12 | 06:38:00 | Zone K2 | NA | NA | 502 | M | 1971 | ⋯ |  TRUE | Inventory/Tow | Inventory        | FALSE | Arrest Driver | TRUE | 30+ Min   | FALSE | FALSE | Zone K2 |\n| RI-2005-01871 | RI | 2005-10-12 | 20:30:00 | Zone K3 | NA | NA | 300 | M | 1987 | ⋯ |  TRUE | Terry Frisk   | Protective Frisk | FALSE | Arrest Driver | TRUE | 0-15 Min  | FALSE | FALSE | Zone K3 |\n| RI-2005-01872 | RI | 2005-10-12 | 20:30:00 | Zone K3 | NA | NA | 300 | M | 1987 | ⋯ |  TRUE | Terry Frisk   | Protective Frisk | FALSE | Arrest Driver | TRUE | 0-15 Min  | FALSE | FALSE | Zone K3 |\n\n",
            "text/html": [
              "<table>\n",
              "<caption>A tibble: 10 × 25</caption>\n",
              "<thead>\n",
              "\t<tr><th scope=col>id</th><th scope=col>state</th><th scope=col>stop_date</th><th scope=col>stop_time</th><th scope=col>location_raw</th><th scope=col>county_fips</th><th scope=col>fine_grained_location</th><th scope=col>police_department</th><th scope=col>driver_gender</th><th scope=col>driver_age_raw</th><th scope=col>⋯</th><th scope=col>search_conducted</th><th scope=col>search_type_raw</th><th scope=col>search_type</th><th scope=col>contraband_found</th><th scope=col>stop_outcome</th><th scope=col>is_arrested</th><th scope=col>stop_duration</th><th scope=col>out_of_state</th><th scope=col>drugs_related_stop</th><th scope=col>district</th></tr>\n",
              "\t<tr><th scope=col>&lt;chr&gt;</th><th scope=col>&lt;chr&gt;</th><th scope=col>&lt;date&gt;</th><th scope=col>&lt;time&gt;</th><th scope=col>&lt;chr&gt;</th><th scope=col>&lt;lgl&gt;</th><th scope=col>&lt;lgl&gt;</th><th scope=col>&lt;chr&gt;</th><th scope=col>&lt;chr&gt;</th><th scope=col>&lt;dbl&gt;</th><th scope=col>⋯</th><th scope=col>&lt;lgl&gt;</th><th scope=col>&lt;chr&gt;</th><th scope=col>&lt;chr&gt;</th><th scope=col>&lt;lgl&gt;</th><th scope=col>&lt;chr&gt;</th><th scope=col>&lt;lgl&gt;</th><th scope=col>&lt;chr&gt;</th><th scope=col>&lt;lgl&gt;</th><th scope=col>&lt;lgl&gt;</th><th scope=col>&lt;chr&gt;</th></tr>\n",
              "</thead>\n",
              "<tbody>\n",
              "\t<tr><td>RI-2005-00175</td><td>RI</td><td>2005-10-01</td><td>00:50:00</td><td>Zone X4</td><td>NA</td><td>NA</td><td>500</td><td>M</td><td>1977</td><td>⋯</td><td>FALSE</td><td>NA           </td><td>NA              </td><td>FALSE</td><td>Arrest Driver</td><td>TRUE</td><td>30+ Min  </td><td>FALSE</td><td>FALSE</td><td>Zone X4</td></tr>\n",
              "\t<tr><td>RI-2005-00180</td><td>RI</td><td>2005-10-01</td><td>01:30:00</td><td>Zone X4</td><td>NA</td><td>NA</td><td>500</td><td>M</td><td>1978</td><td>⋯</td><td>FALSE</td><td>NA           </td><td>NA              </td><td>FALSE</td><td>Arrest Driver</td><td>TRUE</td><td>30+ Min  </td><td>FALSE</td><td>FALSE</td><td>Zone X4</td></tr>\n",
              "\t<tr><td>RI-2005-00784</td><td>RI</td><td>2005-10-05</td><td>07:50:00</td><td>Zone X4</td><td>NA</td><td>NA</td><td>500</td><td>M</td><td>1957</td><td>⋯</td><td>FALSE</td><td>NA           </td><td>NA              </td><td>FALSE</td><td>Arrest Driver</td><td>TRUE</td><td>16-30 Min</td><td>FALSE</td><td>FALSE</td><td>Zone X4</td></tr>\n",
              "\t<tr><td>RI-2005-00785</td><td>RI</td><td>2005-10-05</td><td>07:50:00</td><td>Zone X4</td><td>NA</td><td>NA</td><td>500</td><td>M</td><td>1957</td><td>⋯</td><td>FALSE</td><td>NA           </td><td>NA              </td><td>FALSE</td><td>Arrest Driver</td><td>TRUE</td><td>16-30 Min</td><td>FALSE</td><td>FALSE</td><td>Zone X4</td></tr>\n",
              "\t<tr><td>RI-2005-00914</td><td>RI</td><td>2005-10-06</td><td>02:00:00</td><td>Zone X4</td><td>NA</td><td>NA</td><td>500</td><td>M</td><td>1979</td><td>⋯</td><td>FALSE</td><td>NA           </td><td>NA              </td><td>FALSE</td><td>Arrest Driver</td><td>TRUE</td><td>30+ Min  </td><td>FALSE</td><td>FALSE</td><td>Zone X4</td></tr>\n",
              "\t<tr><td>RI-2005-01057</td><td>RI</td><td>2005-10-07</td><td>00:50:00</td><td>Zone X4</td><td>NA</td><td>NA</td><td>500</td><td>M</td><td>1973</td><td>⋯</td><td>FALSE</td><td>NA           </td><td>NA              </td><td>FALSE</td><td>Arrest Driver</td><td>TRUE</td><td>16-30 Min</td><td>FALSE</td><td>FALSE</td><td>Zone X4</td></tr>\n",
              "\t<tr><td>RI-2005-01060</td><td>RI</td><td>2005-10-07</td><td>00:50:00</td><td>Zone X4</td><td>NA</td><td>NA</td><td>500</td><td>M</td><td>1973</td><td>⋯</td><td>FALSE</td><td>NA           </td><td>NA              </td><td>FALSE</td><td>Arrest Driver</td><td>TRUE</td><td>16-30 Min</td><td>FALSE</td><td>FALSE</td><td>Zone X4</td></tr>\n",
              "\t<tr><td>RI-2005-01810</td><td>RI</td><td>2005-10-12</td><td>06:38:00</td><td>Zone K2</td><td>NA</td><td>NA</td><td>502</td><td>M</td><td>1971</td><td>⋯</td><td> TRUE</td><td>Inventory/Tow</td><td>Inventory       </td><td>FALSE</td><td>Arrest Driver</td><td>TRUE</td><td>30+ Min  </td><td>FALSE</td><td>FALSE</td><td>Zone K2</td></tr>\n",
              "\t<tr><td>RI-2005-01871</td><td>RI</td><td>2005-10-12</td><td>20:30:00</td><td>Zone K3</td><td>NA</td><td>NA</td><td>300</td><td>M</td><td>1987</td><td>⋯</td><td> TRUE</td><td>Terry Frisk  </td><td>Protective Frisk</td><td>FALSE</td><td>Arrest Driver</td><td>TRUE</td><td>0-15 Min </td><td>FALSE</td><td>FALSE</td><td>Zone K3</td></tr>\n",
              "\t<tr><td>RI-2005-01872</td><td>RI</td><td>2005-10-12</td><td>20:30:00</td><td>Zone K3</td><td>NA</td><td>NA</td><td>300</td><td>M</td><td>1987</td><td>⋯</td><td> TRUE</td><td>Terry Frisk  </td><td>Protective Frisk</td><td>FALSE</td><td>Arrest Driver</td><td>TRUE</td><td>0-15 Min </td><td>FALSE</td><td>FALSE</td><td>Zone K3</td></tr>\n",
              "</tbody>\n",
              "</table>\n"
            ]
          },
          "metadata": {
            "tags": []
          }
        }
      ]
    },
    {
      "cell_type": "markdown",
      "metadata": {
        "id": "PvPqMYi1EjIO",
        "colab_type": "text"
      },
      "source": [
        "##### Rules for filtering\n",
        "\n",
        "- & AND\n",
        "- | OR\n",
        "- Each condition must be surrounded by () and many are possible\n",
        "- == Equality\n",
        "- != Inequality\n",
        "\n",
        "##### Remember, that we are not making any statement about causation. This is purely a correlation exercise (so far!)\n",
        "\n",
        "#### A bit on boolean series\n",
        "\n",
        "True = 1 and False = 0\n",
        "Which means that you can perform calculations on them:"
      ]
    },
    {
      "cell_type": "code",
      "metadata": {
        "id": "bSS8y102DgW3",
        "colab_type": "code",
        "outputId": "77a33526-5665-44f2-e0ae-538f7e9bd71b",
        "colab": {
          "base_uri": "https://localhost:8080/",
          "height": 367
        }
      },
      "source": [
        "# Create a DataFrame of male and female drivers stopped for speeding\n",
        "# We can take a shortcut using `group_by`\n",
        "data %>%\n",
        "filter(violation == \"Speeding\") %>%\n",
        "count(driver_gender, stop_outcome) %>%\n",
        "group_by(driver_gender) %>%\n",
        "mutate(pct = (n / sum(n, na.rm = TRUE)) %>% round(2) )\n"
      ],
      "execution_count": 25,
      "outputs": [
        {
          "output_type": "display_data",
          "data": {
            "text/plain": [
              "   driver_gender stop_outcome     n      pct \n",
              "1  F             Arrest Driver       456 0.01\n",
              "2  F             Arrest Passenger     89 0.00\n",
              "3  F             Citation          82168 0.95\n",
              "4  F             N/D                  78 0.00\n",
              "5  F             No Action            45 0.00\n",
              "6  F             Warning            3362 0.04\n",
              "7  M             Arrest Driver      2878 0.02\n",
              "8  M             Arrest Passenger    231 0.00\n",
              "9  M             Citation         172432 0.94\n",
              "10 M             N/D                 216 0.00\n",
              "11 M             No Action           194 0.00\n",
              "12 M             Warning            6587 0.04\n",
              "13 NA            Citation              6 0.75\n",
              "14 NA            Warning               2 0.25"
            ],
            "text/latex": "A grouped_df: 14 × 4\n\\begin{tabular}{r|llll}\n driver\\_gender & stop\\_outcome & n & pct\\\\\n <chr> & <chr> & <int> & <dbl>\\\\\n\\hline\n\t F  & Arrest Driver    &    456 & 0.01\\\\\n\t F  & Arrest Passenger &     89 & 0.00\\\\\n\t F  & Citation         &  82168 & 0.95\\\\\n\t F  & N/D              &     78 & 0.00\\\\\n\t F  & No Action        &     45 & 0.00\\\\\n\t F  & Warning          &   3362 & 0.04\\\\\n\t M  & Arrest Driver    &   2878 & 0.02\\\\\n\t M  & Arrest Passenger &    231 & 0.00\\\\\n\t M  & Citation         & 172432 & 0.94\\\\\n\t M  & N/D              &    216 & 0.00\\\\\n\t M  & No Action        &    194 & 0.00\\\\\n\t M  & Warning          &   6587 & 0.04\\\\\n\t NA & Citation         &      6 & 0.75\\\\\n\t NA & Warning          &      2 & 0.25\\\\\n\\end{tabular}\n",
            "text/markdown": "\nA grouped_df: 14 × 4\n\n| driver_gender &lt;chr&gt; | stop_outcome &lt;chr&gt; | n &lt;int&gt; | pct &lt;dbl&gt; |\n|---|---|---|---|\n| F  | Arrest Driver    |    456 | 0.01 |\n| F  | Arrest Passenger |     89 | 0.00 |\n| F  | Citation         |  82168 | 0.95 |\n| F  | N/D              |     78 | 0.00 |\n| F  | No Action        |     45 | 0.00 |\n| F  | Warning          |   3362 | 0.04 |\n| M  | Arrest Driver    |   2878 | 0.02 |\n| M  | Arrest Passenger |    231 | 0.00 |\n| M  | Citation         | 172432 | 0.94 |\n| M  | N/D              |    216 | 0.00 |\n| M  | No Action        |    194 | 0.00 |\n| M  | Warning          |   6587 | 0.04 |\n| NA | Citation         |      6 | 0.75 |\n| NA | Warning          |      2 | 0.25 |\n\n",
            "text/html": [
              "<table>\n",
              "<caption>A grouped_df: 14 × 4</caption>\n",
              "<thead>\n",
              "\t<tr><th scope=col>driver_gender</th><th scope=col>stop_outcome</th><th scope=col>n</th><th scope=col>pct</th></tr>\n",
              "\t<tr><th scope=col>&lt;chr&gt;</th><th scope=col>&lt;chr&gt;</th><th scope=col>&lt;int&gt;</th><th scope=col>&lt;dbl&gt;</th></tr>\n",
              "</thead>\n",
              "<tbody>\n",
              "\t<tr><td>F </td><td>Arrest Driver   </td><td>   456</td><td>0.01</td></tr>\n",
              "\t<tr><td>F </td><td>Arrest Passenger</td><td>    89</td><td>0.00</td></tr>\n",
              "\t<tr><td>F </td><td>Citation        </td><td> 82168</td><td>0.95</td></tr>\n",
              "\t<tr><td>F </td><td>N/D             </td><td>    78</td><td>0.00</td></tr>\n",
              "\t<tr><td>F </td><td>No Action       </td><td>    45</td><td>0.00</td></tr>\n",
              "\t<tr><td>F </td><td>Warning         </td><td>  3362</td><td>0.04</td></tr>\n",
              "\t<tr><td>M </td><td>Arrest Driver   </td><td>  2878</td><td>0.02</td></tr>\n",
              "\t<tr><td>M </td><td>Arrest Passenger</td><td>   231</td><td>0.00</td></tr>\n",
              "\t<tr><td>M </td><td>Citation        </td><td>172432</td><td>0.94</td></tr>\n",
              "\t<tr><td>M </td><td>N/D             </td><td>   216</td><td>0.00</td></tr>\n",
              "\t<tr><td>M </td><td>No Action       </td><td>   194</td><td>0.00</td></tr>\n",
              "\t<tr><td>M </td><td>Warning         </td><td>  6587</td><td>0.04</td></tr>\n",
              "\t<tr><td>NA</td><td>Citation        </td><td>     6</td><td>0.75</td></tr>\n",
              "\t<tr><td>NA</td><td>Warning         </td><td>     2</td><td>0.25</td></tr>\n",
              "</tbody>\n",
              "</table>\n"
            ]
          },
          "metadata": {
            "tags": []
          }
        }
      ]
    },
    {
      "cell_type": "markdown",
      "metadata": {
        "id": "Ak5B7o9mGUxt",
        "colab_type": "text"
      },
      "source": [
        "### \"protective frisk\"\n",
        "Sometimes during stops if a search is conducted, the officer also checks the driver if they have a weapon. This is called a \"protective frisk\".\n",
        "Let's try to figure out if men are frisked more than women."
      ]
    },
    {
      "cell_type": "code",
      "metadata": {
        "id": "Wolkp1PwGViY",
        "colab_type": "code",
        "outputId": "20ddc79e-34fc-4cf9-ada7-907bd4352bef",
        "colab": {
          "base_uri": "https://localhost:8080/",
          "height": 615
        }
      },
      "source": [
        "# Look at the different search types performed\n",
        "data %>%\n",
        "count(search_type, sort = TRUE)\n"
      ],
      "execution_count": 26,
      "outputs": [
        {
          "output_type": "display_data",
          "data": {
            "text/plain": [
              "   search_type                                              n     \n",
              "1  NA                                                       491919\n",
              "2  Incident to Arrest                                         6998\n",
              "3  Probable Cause                                             4989\n",
              "4  Reasonable Suspicion                                       1141\n",
              "5  Inventory                                                  1101\n",
              "6  Protective Frisk                                            879\n",
              "7  Incident to Arrest,Inventory                                649\n",
              "8  Incident to Arrest,Probable Cause                           552\n",
              "9  Probable Cause,Reasonable Suspicion                         334\n",
              "10 Probable Cause,Protective Frisk                             221\n",
              "11 Incident to Arrest,Protective Frisk                         158\n",
              "12 Incident to Arrest,Inventory,Probable Cause                 151\n",
              "13 Inventory,Probable Cause                                    132\n",
              "14 Protective Frisk,Reasonable Suspicion                        83\n",
              "15 Incident to Arrest,Inventory,Protective Frisk                77\n",
              "16 Incident to Arrest,Probable Cause,Protective Frisk           74\n",
              "17 Inventory,Protective Frisk                                   52\n",
              "18 Incident to Arrest,Reasonable Suspicion                      49\n",
              "19 Incident to Arrest,Probable Cause,Reasonable Suspicion       31\n",
              "20 Probable Cause,Protective Frisk,Reasonable Suspicion         31\n",
              "21 Inventory,Reasonable Suspicion                               17\n",
              "22 Inventory,Probable Cause,Protective Frisk                    14\n",
              "23 Incident to Arrest,Inventory,Reasonable Suspicion            12\n",
              "24 Incident to Arrest,Protective Frisk,Reasonable Suspicion      8\n",
              "25 Inventory,Probable Cause,Reasonable Suspicion                 8\n",
              "26 Inventory,Protective Frisk,Reasonable Suspicion               1"
            ],
            "text/latex": "A tibble: 26 × 2\n\\begin{tabular}{r|ll}\n search\\_type & n\\\\\n <chr> & <int>\\\\\n\\hline\n\t NA                                                       & 491919\\\\\n\t Incident to Arrest                                       &   6998\\\\\n\t Probable Cause                                           &   4989\\\\\n\t Reasonable Suspicion                                     &   1141\\\\\n\t Inventory                                                &   1101\\\\\n\t Protective Frisk                                         &    879\\\\\n\t Incident to Arrest,Inventory                             &    649\\\\\n\t Incident to Arrest,Probable Cause                        &    552\\\\\n\t Probable Cause,Reasonable Suspicion                      &    334\\\\\n\t Probable Cause,Protective Frisk                          &    221\\\\\n\t Incident to Arrest,Protective Frisk                      &    158\\\\\n\t Incident to Arrest,Inventory,Probable Cause              &    151\\\\\n\t Inventory,Probable Cause                                 &    132\\\\\n\t Protective Frisk,Reasonable Suspicion                    &     83\\\\\n\t Incident to Arrest,Inventory,Protective Frisk            &     77\\\\\n\t Incident to Arrest,Probable Cause,Protective Frisk       &     74\\\\\n\t Inventory,Protective Frisk                               &     52\\\\\n\t Incident to Arrest,Reasonable Suspicion                  &     49\\\\\n\t Incident to Arrest,Probable Cause,Reasonable Suspicion   &     31\\\\\n\t Probable Cause,Protective Frisk,Reasonable Suspicion     &     31\\\\\n\t Inventory,Reasonable Suspicion                           &     17\\\\\n\t Inventory,Probable Cause,Protective Frisk                &     14\\\\\n\t Incident to Arrest,Inventory,Reasonable Suspicion        &     12\\\\\n\t Incident to Arrest,Protective Frisk,Reasonable Suspicion &      8\\\\\n\t Inventory,Probable Cause,Reasonable Suspicion            &      8\\\\\n\t Inventory,Protective Frisk,Reasonable Suspicion          &      1\\\\\n\\end{tabular}\n",
            "text/markdown": "\nA tibble: 26 × 2\n\n| search_type &lt;chr&gt; | n &lt;int&gt; |\n|---|---|\n| NA                                                       | 491919 |\n| Incident to Arrest                                       |   6998 |\n| Probable Cause                                           |   4989 |\n| Reasonable Suspicion                                     |   1141 |\n| Inventory                                                |   1101 |\n| Protective Frisk                                         |    879 |\n| Incident to Arrest,Inventory                             |    649 |\n| Incident to Arrest,Probable Cause                        |    552 |\n| Probable Cause,Reasonable Suspicion                      |    334 |\n| Probable Cause,Protective Frisk                          |    221 |\n| Incident to Arrest,Protective Frisk                      |    158 |\n| Incident to Arrest,Inventory,Probable Cause              |    151 |\n| Inventory,Probable Cause                                 |    132 |\n| Protective Frisk,Reasonable Suspicion                    |     83 |\n| Incident to Arrest,Inventory,Protective Frisk            |     77 |\n| Incident to Arrest,Probable Cause,Protective Frisk       |     74 |\n| Inventory,Protective Frisk                               |     52 |\n| Incident to Arrest,Reasonable Suspicion                  |     49 |\n| Incident to Arrest,Probable Cause,Reasonable Suspicion   |     31 |\n| Probable Cause,Protective Frisk,Reasonable Suspicion     |     31 |\n| Inventory,Reasonable Suspicion                           |     17 |\n| Inventory,Probable Cause,Protective Frisk                |     14 |\n| Incident to Arrest,Inventory,Reasonable Suspicion        |     12 |\n| Incident to Arrest,Protective Frisk,Reasonable Suspicion |      8 |\n| Inventory,Probable Cause,Reasonable Suspicion            |      8 |\n| Inventory,Protective Frisk,Reasonable Suspicion          |      1 |\n\n",
            "text/html": [
              "<table>\n",
              "<caption>A tibble: 26 × 2</caption>\n",
              "<thead>\n",
              "\t<tr><th scope=col>search_type</th><th scope=col>n</th></tr>\n",
              "\t<tr><th scope=col>&lt;chr&gt;</th><th scope=col>&lt;int&gt;</th></tr>\n",
              "</thead>\n",
              "<tbody>\n",
              "\t<tr><td>NA                                                      </td><td>491919</td></tr>\n",
              "\t<tr><td>Incident to Arrest                                      </td><td>  6998</td></tr>\n",
              "\t<tr><td>Probable Cause                                          </td><td>  4989</td></tr>\n",
              "\t<tr><td>Reasonable Suspicion                                    </td><td>  1141</td></tr>\n",
              "\t<tr><td>Inventory                                               </td><td>  1101</td></tr>\n",
              "\t<tr><td>Protective Frisk                                        </td><td>   879</td></tr>\n",
              "\t<tr><td>Incident to Arrest,Inventory                            </td><td>   649</td></tr>\n",
              "\t<tr><td>Incident to Arrest,Probable Cause                       </td><td>   552</td></tr>\n",
              "\t<tr><td>Probable Cause,Reasonable Suspicion                     </td><td>   334</td></tr>\n",
              "\t<tr><td>Probable Cause,Protective Frisk                         </td><td>   221</td></tr>\n",
              "\t<tr><td>Incident to Arrest,Protective Frisk                     </td><td>   158</td></tr>\n",
              "\t<tr><td>Incident to Arrest,Inventory,Probable Cause             </td><td>   151</td></tr>\n",
              "\t<tr><td>Inventory,Probable Cause                                </td><td>   132</td></tr>\n",
              "\t<tr><td>Protective Frisk,Reasonable Suspicion                   </td><td>    83</td></tr>\n",
              "\t<tr><td>Incident to Arrest,Inventory,Protective Frisk           </td><td>    77</td></tr>\n",
              "\t<tr><td>Incident to Arrest,Probable Cause,Protective Frisk      </td><td>    74</td></tr>\n",
              "\t<tr><td>Inventory,Protective Frisk                              </td><td>    52</td></tr>\n",
              "\t<tr><td>Incident to Arrest,Reasonable Suspicion                 </td><td>    49</td></tr>\n",
              "\t<tr><td>Incident to Arrest,Probable Cause,Reasonable Suspicion  </td><td>    31</td></tr>\n",
              "\t<tr><td>Probable Cause,Protective Frisk,Reasonable Suspicion    </td><td>    31</td></tr>\n",
              "\t<tr><td>Inventory,Reasonable Suspicion                          </td><td>    17</td></tr>\n",
              "\t<tr><td>Inventory,Probable Cause,Protective Frisk               </td><td>    14</td></tr>\n",
              "\t<tr><td>Incident to Arrest,Inventory,Reasonable Suspicion       </td><td>    12</td></tr>\n",
              "\t<tr><td>Incident to Arrest,Protective Frisk,Reasonable Suspicion</td><td>     8</td></tr>\n",
              "\t<tr><td>Inventory,Probable Cause,Reasonable Suspicion           </td><td>     8</td></tr>\n",
              "\t<tr><td>Inventory,Protective Frisk,Reasonable Suspicion         </td><td>     1</td></tr>\n",
              "</tbody>\n",
              "</table>\n"
            ]
          },
          "metadata": {
            "tags": []
          }
        }
      ]
    },
    {
      "cell_type": "markdown",
      "metadata": {
        "id": "4TxPrg_zGt_b",
        "colab_type": "text"
      },
      "source": [
        "#### Extracting a string\n",
        "As you can see, search type is a multiple choice object/string column. *Incident to Arrest* and *Pribable Cause* are the most commont but combinations are possible. Generally, to work with text strings, the `tioyverse` package `stringr` has many useful functions. We can use the `str_detect` method to filter to filter out cases of interest. This will return a boolean series, which we can assign to a new varioable 'frisk' in our dataframe.\n",
        "\n",
        "**NOTE:** For missing search type values, `str_detect()` would traditionaly output an `NA`, therefore we beforehand replace them with an empty string with `replace_na(\"\")`"
      ]
    },
    {
      "cell_type": "code",
      "metadata": {
        "id": "IiUZ2YSWHEhI",
        "colab_type": "code",
        "colab": {}
      },
      "source": [
        "data %<>%\n",
        "mutate(frisk = search_type %>% replace_na(\"\") %>% str_detect(\"Protective Frisk\") )"
      ],
      "execution_count": 0,
      "outputs": []
    },
    {
      "cell_type": "code",
      "metadata": {
        "id": "aUir2m_eM4tZ",
        "colab_type": "code",
        "outputId": "343da27e-ef88-4e11-ab50-797523f77a17",
        "colab": {
          "base_uri": "https://localhost:8080/",
          "height": 35
        }
      },
      "source": [
        "# How many frisks have been performed? (1598)\n",
        "# Notice that pull() extracts a vector from a dataframe\n",
        "data %>% pull(frisk) %>% sum()"
      ],
      "execution_count": 29,
      "outputs": [
        {
          "output_type": "display_data",
          "data": {
            "text/plain": [
              "[1] 1598"
            ],
            "text/latex": "1598",
            "text/markdown": "1598",
            "text/html": [
              "1598"
            ]
          },
          "metadata": {
            "tags": []
          }
        }
      ]
    },
    {
      "cell_type": "markdown",
      "metadata": {
        "id": "kzB0pEKmOwfv",
        "colab_type": "text"
      },
      "source": [
        "## Using the datetime index to select data\n",
        "\n",
        "What if you assume that things got better or worse over the years? Remember the `lubridate` package for handling date-times?"
      ]
    },
    {
      "cell_type": "code",
      "metadata": {
        "id": "MsHIl6f6P5HR",
        "colab_type": "code",
        "colab": {}
      },
      "source": [
        "# Are things getting better or worse over the years?\n",
        "library(lubridate)"
      ],
      "execution_count": 0,
      "outputs": []
    },
    {
      "cell_type": "code",
      "metadata": {
        "id": "WS0Dsb87k0zZ",
        "colab_type": "code",
        "colab": {}
      },
      "source": [
        "data %<>%\n",
        "mutate(year = year(stop_date), month = month(stop_date), day = day (stop_date)) %>%\n",
        "drop_na(year)"
      ],
      "execution_count": 0,
      "outputs": []
    },
    {
      "cell_type": "code",
      "metadata": {
        "id": "LHtn6FX2RRIs",
        "colab_type": "code",
        "outputId": "505c519a-cec2-47a9-ee2a-5bbf5b40bf02",
        "colab": {
          "base_uri": "https://localhost:8080/",
          "height": 305
        }
      },
      "source": [
        "data %>%\n",
        "group_by(year) %>%\n",
        "summarize(frisk_mean = frisk %>% mean())"
      ],
      "execution_count": 49,
      "outputs": [
        {
          "output_type": "display_data",
          "data": {
            "text/plain": [
              "   year frisk_mean  \n",
              "1  2005 0.0090205270\n",
              "2  2006 0.0072673671\n",
              "3  2007 0.0053568408\n",
              "4  2008 0.0035700443\n",
              "5  2009 0.0033829655\n",
              "6  2010 0.0020287325\n",
              "7  2011 0.0014412368\n",
              "8  2012 0.0006247123\n",
              "9  2013 0.0008056214\n",
              "10 2014 0.0019877977\n",
              "11 2015 0.0024009349"
            ],
            "text/latex": "A tibble: 11 × 2\n\\begin{tabular}{r|ll}\n year & frisk\\_mean\\\\\n <dbl> & <dbl>\\\\\n\\hline\n\t 2005 & 0.0090205270\\\\\n\t 2006 & 0.0072673671\\\\\n\t 2007 & 0.0053568408\\\\\n\t 2008 & 0.0035700443\\\\\n\t 2009 & 0.0033829655\\\\\n\t 2010 & 0.0020287325\\\\\n\t 2011 & 0.0014412368\\\\\n\t 2012 & 0.0006247123\\\\\n\t 2013 & 0.0008056214\\\\\n\t 2014 & 0.0019877977\\\\\n\t 2015 & 0.0024009349\\\\\n\\end{tabular}\n",
            "text/markdown": "\nA tibble: 11 × 2\n\n| year &lt;dbl&gt; | frisk_mean &lt;dbl&gt; |\n|---|---|\n| 2005 | 0.0090205270 |\n| 2006 | 0.0072673671 |\n| 2007 | 0.0053568408 |\n| 2008 | 0.0035700443 |\n| 2009 | 0.0033829655 |\n| 2010 | 0.0020287325 |\n| 2011 | 0.0014412368 |\n| 2012 | 0.0006247123 |\n| 2013 | 0.0008056214 |\n| 2014 | 0.0019877977 |\n| 2015 | 0.0024009349 |\n\n",
            "text/html": [
              "<table>\n",
              "<caption>A tibble: 11 × 2</caption>\n",
              "<thead>\n",
              "\t<tr><th scope=col>year</th><th scope=col>frisk_mean</th></tr>\n",
              "\t<tr><th scope=col>&lt;dbl&gt;</th><th scope=col>&lt;dbl&gt;</th></tr>\n",
              "</thead>\n",
              "<tbody>\n",
              "\t<tr><td>2005</td><td>0.0090205270</td></tr>\n",
              "\t<tr><td>2006</td><td>0.0072673671</td></tr>\n",
              "\t<tr><td>2007</td><td>0.0053568408</td></tr>\n",
              "\t<tr><td>2008</td><td>0.0035700443</td></tr>\n",
              "\t<tr><td>2009</td><td>0.0033829655</td></tr>\n",
              "\t<tr><td>2010</td><td>0.0020287325</td></tr>\n",
              "\t<tr><td>2011</td><td>0.0014412368</td></tr>\n",
              "\t<tr><td>2012</td><td>0.0006247123</td></tr>\n",
              "\t<tr><td>2013</td><td>0.0008056214</td></tr>\n",
              "\t<tr><td>2014</td><td>0.0019877977</td></tr>\n",
              "\t<tr><td>2015</td><td>0.0024009349</td></tr>\n",
              "</tbody>\n",
              "</table>\n"
            ]
          },
          "metadata": {
            "tags": []
          }
        }
      ]
    },
    {
      "cell_type": "markdown",
      "metadata": {
        "id": "ARlqX6N1UNvL",
        "colab_type": "text"
      },
      "source": [
        "We can obviously also plot that with `ggplot`.\n",
        "\n",
        "Note: We use `gather()` to create tidy data where multiple variables can be jointly plotted."
      ]
    },
    {
      "cell_type": "code",
      "metadata": {
        "id": "9P5AaAGAjT_H",
        "colab_type": "code",
        "colab": {
          "base_uri": "https://localhost:8080/",
          "height": 857
        },
        "outputId": "ee9c36cc-15ce-4e3b-df2b-a076c2486a9a"
      },
      "source": [
        "data %>%\n",
        "group_by(year) %>%\n",
        "summarize(frisk = frisk %>% mean(na.rm = TRUE), is_arrested = is_arrested %>% mean(na.rm = TRUE))  %>%\n",
        "ungroup() %>% \n",
        "gather(key = \"key\", value = \"mean\", frisk, is_arrested) %>%\n",
        "ggplot(aes(x = year, y = mean, color = key)) +\n",
        "geom_line()"
      ],
      "execution_count": 53,
      "outputs": [
        {
          "output_type": "display_data",
          "data": {
            "image/png": "[encoded data removed]",
            "text/plain": [
              "plot without title"
            ]
          },
          "metadata": {
            "tags": []
          }
        }
      ]
    },
    {
      "cell_type": "markdown",
      "metadata": {
        "id": "Fcyh6ICPnPSv",
        "colab_type": "text"
      },
      "source": [
        "We can do grouping on different levels. For instance, lets see in which months we have most arrests"
      ]
    },
    {
      "cell_type": "code",
      "metadata": {
        "id": "uSiaqQoLnOJg",
        "colab_type": "code",
        "colab": {
          "base_uri": "https://localhost:8080/",
          "height": 857
        },
        "outputId": "e09af61c-1741-4cde-bef9-f29ce3f22167"
      },
      "source": [
        "data %>% \n",
        "filter(is_arrested == TRUE) %>%\n",
        "ggplot(aes(x = month)) + geom_bar()"
      ],
      "execution_count": 73,
      "outputs": [
        {
          "output_type": "display_data",
          "data": {
            "image/png": "[encoded data removed]",
            "text/plain": [
              "plot without title"
            ]
          },
          "metadata": {
            "tags": []
          }
        }
      ]
    },
    {
      "cell_type": "markdown",
      "metadata": {
        "id": "XXbN5bbupaIs",
        "colab_type": "text"
      },
      "source": [
        "We see arrest rates are higher in the winter than in the summer. "
      ]
    },
    {
      "cell_type": "markdown",
      "metadata": {
        "id": "s-UhBprsqy0b",
        "colab_type": "text"
      },
      "source": [
        "### Transforming categorical in to nummerical data\n",
        "\n",
        "You may have noted the `stop_duration` column in our dataset and that it is an `string` variable. That means, we can use it as a dimension but not to perform any calculations. What we can do, is map the categories to a reasonable nummerical value using a mapping dictionary the  `recode` command."
      ]
    },
    {
      "cell_type": "code",
      "metadata": {
        "id": "MHzCtWgjrLHL",
        "colab_type": "code",
        "colab": {
          "base_uri": "https://localhost:8080/",
          "height": 202
        },
        "outputId": "e228624c-dd67-4cc2-98f5-f843e1f3d5ca"
      },
      "source": [
        "data %>%\n",
        "count(stop_duration)"
      ],
      "execution_count": 95,
      "outputs": [
        {
          "output_type": "display_data",
          "data": {
            "text/plain": [
              "  stop_duration n     \n",
              "1 0-15 Min      386665\n",
              "2 1                  5\n",
              "3 16-30 Min      76323\n",
              "4 2                  1\n",
              "5 30+ Min        17614\n",
              "6 NA             29063"
            ],
            "text/latex": "A tibble: 6 × 2\n\\begin{tabular}{r|ll}\n stop\\_duration & n\\\\\n <chr> & <int>\\\\\n\\hline\n\t 0-15 Min  & 386665\\\\\n\t 1         &      5\\\\\n\t 16-30 Min &  76323\\\\\n\t 2         &      1\\\\\n\t 30+ Min   &  17614\\\\\n\t NA        &  29063\\\\\n\\end{tabular}\n",
            "text/markdown": "\nA tibble: 6 × 2\n\n| stop_duration &lt;chr&gt; | n &lt;int&gt; |\n|---|---|\n| 0-15 Min  | 386665 |\n| 1         |      5 |\n| 16-30 Min |  76323 |\n| 2         |      1 |\n| 30+ Min   |  17614 |\n| NA        |  29063 |\n\n",
            "text/html": [
              "<table>\n",
              "<caption>A tibble: 6 × 2</caption>\n",
              "<thead>\n",
              "\t<tr><th scope=col>stop_duration</th><th scope=col>n</th></tr>\n",
              "\t<tr><th scope=col>&lt;chr&gt;</th><th scope=col>&lt;int&gt;</th></tr>\n",
              "</thead>\n",
              "<tbody>\n",
              "\t<tr><td>0-15 Min </td><td>386665</td></tr>\n",
              "\t<tr><td>1        </td><td>     5</td></tr>\n",
              "\t<tr><td>16-30 Min</td><td> 76323</td></tr>\n",
              "\t<tr><td>2        </td><td>     1</td></tr>\n",
              "\t<tr><td>30+ Min  </td><td> 17614</td></tr>\n",
              "\t<tr><td>NA       </td><td> 29063</td></tr>\n",
              "</tbody>\n",
              "</table>\n"
            ]
          },
          "metadata": {
            "tags": []
          }
        }
      ]
    },
    {
      "cell_type": "code",
      "metadata": {
        "id": "op6fIxUAtUlN",
        "colab_type": "code",
        "colab": {}
      },
      "source": [
        "data %<>%\n",
        "  mutate(stop_duration_num =  recode(stop_duration, \"0-15 Min\" = 7.5 , \"16-30 Min\" = 23, \"30+ Min\" = 45, ) )"
      ],
      "execution_count": 0,
      "outputs": []
    },
    {
      "cell_type": "code",
      "metadata": {
        "id": "utjLymoKyZIP",
        "colab_type": "code",
        "colab": {
          "base_uri": "https://localhost:8080/",
          "height": 161
        },
        "outputId": "8bce543f-966e-4358-a29d-e09845796c02"
      },
      "source": [
        "data %>%\n",
        "count(stop_duration_num)"
      ],
      "execution_count": 99,
      "outputs": [
        {
          "output_type": "display_data",
          "data": {
            "text/plain": [
              "  stop_duration_num n     \n",
              "1  7.5              386665\n",
              "2 23.0               76323\n",
              "3 45.0               17614\n",
              "4   NA               29069"
            ],
            "text/latex": "A tibble: 4 × 2\n\\begin{tabular}{r|ll}\n stop\\_duration\\_num & n\\\\\n <dbl> & <int>\\\\\n\\hline\n\t  7.5 & 386665\\\\\n\t 23.0 &  76323\\\\\n\t 45.0 &  17614\\\\\n\t   NA &  29069\\\\\n\\end{tabular}\n",
            "text/markdown": "\nA tibble: 4 × 2\n\n| stop_duration_num &lt;dbl&gt; | n &lt;int&gt; |\n|---|---|\n|  7.5 | 386665 |\n| 23.0 |  76323 |\n| 45.0 |  17614 |\n|   NA |  29069 |\n\n",
            "text/html": [
              "<table>\n",
              "<caption>A tibble: 4 × 2</caption>\n",
              "<thead>\n",
              "\t<tr><th scope=col>stop_duration_num</th><th scope=col>n</th></tr>\n",
              "\t<tr><th scope=col>&lt;dbl&gt;</th><th scope=col>&lt;int&gt;</th></tr>\n",
              "</thead>\n",
              "<tbody>\n",
              "\t<tr><td> 7.5</td><td>386665</td></tr>\n",
              "\t<tr><td>23.0</td><td> 76323</td></tr>\n",
              "\t<tr><td>45.0</td><td> 17614</td></tr>\n",
              "\t<tr><td>  NA</td><td> 29069</td></tr>\n",
              "</tbody>\n",
              "</table>\n"
            ]
          },
          "metadata": {
            "tags": []
          }
        }
      ]
    },
    {
      "cell_type": "markdown",
      "metadata": {
        "id": "fWnfRf82y2m-",
        "colab_type": "text"
      },
      "source": [
        "#### A quick intro to loops\n",
        "\n",
        "Is quite covered in my R intro."
      ]
    },
    {
      "cell_type": "code",
      "metadata": {
        "id": "1xKqNU_sy4FS",
        "colab_type": "code",
        "colab": {
          "base_uri": "https://localhost:8080/",
          "height": 892
        },
        "outputId": "e92faae7-8f6e-4bd6-9005-abd3c8c02988"
      },
      "source": [
        "# Let's do everything in one line\n",
        "data %>%\n",
        "group_by(violation_raw) %>%\n",
        "summarize(stop_duration_num = mean(stop_duration_num, na.rm = TRUE))  %>%\n",
        "ggplot(aes(x = violation_raw, y = stop_duration_num)) +\n",
        "geom_col() +\n",
        "coord_flip() # To have horizontal bars"
      ],
      "execution_count": 104,
      "outputs": [
        {
          "output_type": "stream",
          "text": [
            "Warning message:\n",
            "“Removed 1 rows containing missing values (position_stack).”"
          ],
          "name": "stderr"
        },
        {
          "output_type": "display_data",
          "data": {
            "image/png": "[encoded data removed]",
            "text/plain": [
              "plot without title"
            ]
          },
          "metadata": {
            "tags": []
          }
        }
      ]
    },
    {
      "cell_type": "markdown",
      "metadata": {
        "id": "d0rMoLao2yUH",
        "colab_type": "text"
      },
      "source": [
        "#### Cutting intervals\n",
        "\n",
        "`driver_age` contains the (duh) the age of the driver. It's a continuous nummerical value and thus good for more advanced analysis but perhaps a bit to detailed for exploration.\n",
        "\n",
        "More instrumental in that context would be to slice that variable up into ordered categries corresponding to age-populations of interest, say \"teen\", \"20s\", \"30s\" etc."
      ]
    },
    {
      "cell_type": "code",
      "metadata": {
        "id": "yCyRLjil3RJ6",
        "colab_type": "code",
        "colab": {
          "base_uri": "https://localhost:8080/",
          "height": 156
        },
        "outputId": "8ff4ac28-60c3-4249-c4d5-42ebd80cbf10"
      },
      "source": [
        "data %>% select(driver_age) %>% summary()"
      ],
      "execution_count": 123,
      "outputs": [
        {
          "output_type": "display_data",
          "data": {
            "text/plain": [
              "   driver_age   \n",
              " Min.   :15.00  \n",
              " 1st Qu.:23.00  \n",
              " Median :31.00  \n",
              " Mean   :33.98  \n",
              " 3rd Qu.:43.00  \n",
              " Max.   :99.00  \n",
              " NA's   :30685  "
            ]
          },
          "metadata": {
            "tags": []
          }
        }
      ]
    },
    {
      "cell_type": "code",
      "metadata": {
        "id": "7CVc2PjW3j67",
        "colab_type": "code",
        "colab": {
          "base_uri": "https://localhost:8080/",
          "height": 202
        },
        "outputId": "f8f175d3-6a47-4053-e284-98baa74851cb"
      },
      "source": [
        "# Create categories with cut()\n",
        "data %>% \n",
        "mutate(driver_age_cat = driver_age %>% cut(5)) %>%\n",
        "head()"
      ],
      "execution_count": 124,
      "outputs": [
        {
          "output_type": "display_data",
          "data": {
            "text/plain": [
              "  id            state stop_date  stop_time location_raw county_fips\n",
              "1 RI-2005-00001 RI    2005-01-02 01:55:00  Zone K1      NA         \n",
              "2 RI-2005-00002 RI    2005-01-02 20:30:00  Zone X4      NA         \n",
              "3 RI-2005-00003 RI    2005-01-04 11:30:00  Zone X1      NA         \n",
              "4 RI-2005-00004 RI    2005-01-04 12:55:00  Zone X4      NA         \n",
              "5 RI-2005-00005 RI    2005-01-06 01:30:00  Zone X4      NA         \n",
              "6 RI-2005-00006 RI    2005-01-12 08:05:00  Zone X1      NA         \n",
              "  fine_grained_location police_department driver_gender driver_age_raw ⋯\n",
              "1 NA                    600               M             1985           ⋯\n",
              "2 NA                    500               M             1987           ⋯\n",
              "3 NA                    000               NA              NA           ⋯\n",
              "4 NA                    500               M             1986           ⋯\n",
              "5 NA                    500               M             1978           ⋯\n",
              "6 NA                    000               M             1973           ⋯\n",
              "  stop_duration out_of_state drugs_related_stop district frisk year month day\n",
              "1 0-15 Min      FALSE        FALSE              Zone K1  FALSE 2005 1      2 \n",
              "2 16-30 Min     FALSE        FALSE              Zone X4  FALSE 2005 1      2 \n",
              "3 NA               NA        FALSE              Zone X1  FALSE 2005 1      4 \n",
              "4 0-15 Min      FALSE        FALSE              Zone X4  FALSE 2005 1      4 \n",
              "5 0-15 Min      FALSE        FALSE              Zone X4  FALSE 2005 1      6 \n",
              "6 30+ Min        TRUE        FALSE              Zone X1  FALSE 2005 1     12 \n",
              "  stop_duration_num driver_age_cat\n",
              "1  7.5              (14.9,31.8]   \n",
              "2 23.0              (14.9,31.8]   \n",
              "3   NA              NA            \n",
              "4  7.5              (14.9,31.8]   \n",
              "5  7.5              (14.9,31.8]   \n",
              "6 45.0              (31.8,48.6]   "
            ],
            "text/latex": "A tibble: 6 × 31\n\\begin{tabular}{r|lllllllllllllllllllllllllllllll}\n id & state & stop\\_date & stop\\_time & location\\_raw & county\\_fips & fine\\_grained\\_location & police\\_department & driver\\_gender & driver\\_age\\_raw & driver\\_age & driver\\_race\\_raw & driver\\_race & violation\\_raw & violation & search\\_conducted & search\\_type\\_raw & search\\_type & contraband\\_found & stop\\_outcome & is\\_arrested & stop\\_duration & out\\_of\\_state & drugs\\_related\\_stop & district & frisk & year & month & day & stop\\_duration\\_num & driver\\_age\\_cat\\\\\n <chr> & <chr> & <date> & <time> & <chr> & <lgl> & <lgl> & <chr> & <chr> & <dbl> & <dbl> & <chr> & <chr> & <chr> & <chr> & <lgl> & <chr> & <chr> & <lgl> & <chr> & <lgl> & <chr> & <lgl> & <lgl> & <chr> & <lgl> & <dbl> & <dbl> & <int> & <dbl> & <fct>\\\\\n\\hline\n\t RI-2005-00001 & RI & 2005-01-02 & 01:55:00 & Zone K1 & NA & NA & 600 & M  & 1985 & 20 & W  & White & Speeding                       & Speeding  & FALSE & NA & NA & FALSE & Citation & FALSE & 0-15 Min  & FALSE & FALSE & Zone K1 & FALSE & 2005 & 1 &  2 &  7.5 & (14.9,31.8{]}\\\\\n\t RI-2005-00002 & RI & 2005-01-02 & 20:30:00 & Zone X4 & NA & NA & 500 & M  & 1987 & 18 & W  & White & Speeding                       & Speeding  & FALSE & NA & NA & FALSE & Citation & FALSE & 16-30 Min & FALSE & FALSE & Zone X4 & FALSE & 2005 & 1 &  2 & 23.0 & (14.9,31.8{]}\\\\\n\t RI-2005-00003 & RI & 2005-01-04 & 11:30:00 & Zone X1 & NA & NA & 000 & NA &   NA & NA & NA & NA    & NA                             & NA        & FALSE & NA & NA & FALSE & NA       &    NA & NA        &    NA & FALSE & Zone X1 & FALSE & 2005 & 1 &  4 &   NA & NA         \\\\\n\t RI-2005-00004 & RI & 2005-01-04 & 12:55:00 & Zone X4 & NA & NA & 500 & M  & 1986 & 19 & W  & White & Equipment/Inspection Violation & Equipment & FALSE & NA & NA & FALSE & Citation & FALSE & 0-15 Min  & FALSE & FALSE & Zone X4 & FALSE & 2005 & 1 &  4 &  7.5 & (14.9,31.8{]}\\\\\n\t RI-2005-00005 & RI & 2005-01-06 & 01:30:00 & Zone X4 & NA & NA & 500 & M  & 1978 & 27 & B  & Black & Equipment/Inspection Violation & Equipment & FALSE & NA & NA & FALSE & Citation & FALSE & 0-15 Min  & FALSE & FALSE & Zone X4 & FALSE & 2005 & 1 &  6 &  7.5 & (14.9,31.8{]}\\\\\n\t RI-2005-00006 & RI & 2005-01-12 & 08:05:00 & Zone X1 & NA & NA & 000 & M  & 1973 & 32 & B  & Black & Call for Service               & Other     & FALSE & NA & NA & FALSE & Citation & FALSE & 30+ Min   &  TRUE & FALSE & Zone X1 & FALSE & 2005 & 1 & 12 & 45.0 & (31.8,48.6{]}\\\\\n\\end{tabular}\n",
            "text/markdown": "\nA tibble: 6 × 31\n\n| id &lt;chr&gt; | state &lt;chr&gt; | stop_date &lt;date&gt; | stop_time &lt;time&gt; | location_raw &lt;chr&gt; | county_fips &lt;lgl&gt; | fine_grained_location &lt;lgl&gt; | police_department &lt;chr&gt; | driver_gender &lt;chr&gt; | driver_age_raw &lt;dbl&gt; | ⋯ ⋯ | stop_duration &lt;chr&gt; | out_of_state &lt;lgl&gt; | drugs_related_stop &lt;lgl&gt; | district &lt;chr&gt; | frisk &lt;lgl&gt; | year &lt;dbl&gt; | month &lt;dbl&gt; | day &lt;int&gt; | stop_duration_num &lt;dbl&gt; | driver_age_cat &lt;fct&gt; |\n|---|---|---|---|---|---|---|---|---|---|---|---|---|---|---|---|---|---|---|---|---|\n| RI-2005-00001 | RI | 2005-01-02 | 01:55:00 | Zone K1 | NA | NA | 600 | M  | 1985 | ⋯ | 0-15 Min  | FALSE | FALSE | Zone K1 | FALSE | 2005 | 1 |  2 |  7.5 | (14.9,31.8] |\n| RI-2005-00002 | RI | 2005-01-02 | 20:30:00 | Zone X4 | NA | NA | 500 | M  | 1987 | ⋯ | 16-30 Min | FALSE | FALSE | Zone X4 | FALSE | 2005 | 1 |  2 | 23.0 | (14.9,31.8] |\n| RI-2005-00003 | RI | 2005-01-04 | 11:30:00 | Zone X1 | NA | NA | 000 | NA |   NA | ⋯ | NA        |    NA | FALSE | Zone X1 | FALSE | 2005 | 1 |  4 |   NA | NA          |\n| RI-2005-00004 | RI | 2005-01-04 | 12:55:00 | Zone X4 | NA | NA | 500 | M  | 1986 | ⋯ | 0-15 Min  | FALSE | FALSE | Zone X4 | FALSE | 2005 | 1 |  4 |  7.5 | (14.9,31.8] |\n| RI-2005-00005 | RI | 2005-01-06 | 01:30:00 | Zone X4 | NA | NA | 500 | M  | 1978 | ⋯ | 0-15 Min  | FALSE | FALSE | Zone X4 | FALSE | 2005 | 1 |  6 |  7.5 | (14.9,31.8] |\n| RI-2005-00006 | RI | 2005-01-12 | 08:05:00 | Zone X1 | NA | NA | 000 | M  | 1973 | ⋯ | 30+ Min   |  TRUE | FALSE | Zone X1 | FALSE | 2005 | 1 | 12 | 45.0 | (31.8,48.6] |\n\n",
            "text/html": [
              "<table>\n",
              "<caption>A tibble: 6 × 31</caption>\n",
              "<thead>\n",
              "\t<tr><th scope=col>id</th><th scope=col>state</th><th scope=col>stop_date</th><th scope=col>stop_time</th><th scope=col>location_raw</th><th scope=col>county_fips</th><th scope=col>fine_grained_location</th><th scope=col>police_department</th><th scope=col>driver_gender</th><th scope=col>driver_age_raw</th><th scope=col>⋯</th><th scope=col>stop_duration</th><th scope=col>out_of_state</th><th scope=col>drugs_related_stop</th><th scope=col>district</th><th scope=col>frisk</th><th scope=col>year</th><th scope=col>month</th><th scope=col>day</th><th scope=col>stop_duration_num</th><th scope=col>driver_age_cat</th></tr>\n",
              "\t<tr><th scope=col>&lt;chr&gt;</th><th scope=col>&lt;chr&gt;</th><th scope=col>&lt;date&gt;</th><th scope=col>&lt;time&gt;</th><th scope=col>&lt;chr&gt;</th><th scope=col>&lt;lgl&gt;</th><th scope=col>&lt;lgl&gt;</th><th scope=col>&lt;chr&gt;</th><th scope=col>&lt;chr&gt;</th><th scope=col>&lt;dbl&gt;</th><th scope=col>⋯</th><th scope=col>&lt;chr&gt;</th><th scope=col>&lt;lgl&gt;</th><th scope=col>&lt;lgl&gt;</th><th scope=col>&lt;chr&gt;</th><th scope=col>&lt;lgl&gt;</th><th scope=col>&lt;dbl&gt;</th><th scope=col>&lt;dbl&gt;</th><th scope=col>&lt;int&gt;</th><th scope=col>&lt;dbl&gt;</th><th scope=col>&lt;fct&gt;</th></tr>\n",
              "</thead>\n",
              "<tbody>\n",
              "\t<tr><td>RI-2005-00001</td><td>RI</td><td>2005-01-02</td><td>01:55:00</td><td>Zone K1</td><td>NA</td><td>NA</td><td>600</td><td>M </td><td>1985</td><td>⋯</td><td>0-15 Min </td><td>FALSE</td><td>FALSE</td><td>Zone K1</td><td>FALSE</td><td>2005</td><td>1</td><td> 2</td><td> 7.5</td><td>(14.9,31.8]</td></tr>\n",
              "\t<tr><td>RI-2005-00002</td><td>RI</td><td>2005-01-02</td><td>20:30:00</td><td>Zone X4</td><td>NA</td><td>NA</td><td>500</td><td>M </td><td>1987</td><td>⋯</td><td>16-30 Min</td><td>FALSE</td><td>FALSE</td><td>Zone X4</td><td>FALSE</td><td>2005</td><td>1</td><td> 2</td><td>23.0</td><td>(14.9,31.8]</td></tr>\n",
              "\t<tr><td>RI-2005-00003</td><td>RI</td><td>2005-01-04</td><td>11:30:00</td><td>Zone X1</td><td>NA</td><td>NA</td><td>000</td><td>NA</td><td>  NA</td><td>⋯</td><td>NA       </td><td>   NA</td><td>FALSE</td><td>Zone X1</td><td>FALSE</td><td>2005</td><td>1</td><td> 4</td><td>  NA</td><td>NA         </td></tr>\n",
              "\t<tr><td>RI-2005-00004</td><td>RI</td><td>2005-01-04</td><td>12:55:00</td><td>Zone X4</td><td>NA</td><td>NA</td><td>500</td><td>M </td><td>1986</td><td>⋯</td><td>0-15 Min </td><td>FALSE</td><td>FALSE</td><td>Zone X4</td><td>FALSE</td><td>2005</td><td>1</td><td> 4</td><td> 7.5</td><td>(14.9,31.8]</td></tr>\n",
              "\t<tr><td>RI-2005-00005</td><td>RI</td><td>2005-01-06</td><td>01:30:00</td><td>Zone X4</td><td>NA</td><td>NA</td><td>500</td><td>M </td><td>1978</td><td>⋯</td><td>0-15 Min </td><td>FALSE</td><td>FALSE</td><td>Zone X4</td><td>FALSE</td><td>2005</td><td>1</td><td> 6</td><td> 7.5</td><td>(14.9,31.8]</td></tr>\n",
              "\t<tr><td>RI-2005-00006</td><td>RI</td><td>2005-01-12</td><td>08:05:00</td><td>Zone X1</td><td>NA</td><td>NA</td><td>000</td><td>M </td><td>1973</td><td>⋯</td><td>30+ Min  </td><td> TRUE</td><td>FALSE</td><td>Zone X1</td><td>FALSE</td><td>2005</td><td>1</td><td>12</td><td>45.0</td><td>(31.8,48.6]</td></tr>\n",
              "</tbody>\n",
              "</table>\n"
            ]
          },
          "metadata": {
            "tags": []
          }
        }
      ]
    },
    {
      "cell_type": "code",
      "metadata": {
        "id": "Ddg4mJKy32Ag",
        "colab_type": "code",
        "colab": {
          "base_uri": "https://localhost:8080/",
          "height": 149
        },
        "outputId": "1cc1f51d-9f00-454e-db15-27303faf9eac"
      },
      "source": [
        "# We can also provide labels\n",
        "labs <- c(\"teen\", \"20s\", \"30s\", \"40s\", \"50+\")\n",
        "\n",
        "# Create categories with cut()\n",
        "data %>% mutate(driver_age_cat =  driver_age %>% cut(breaks = c(20,30,40,50)) %>% head()"
      ],
      "execution_count": 130,
      "outputs": [
        {
          "output_type": "error",
          "ename": "ERROR",
          "evalue": "ignored",
          "traceback": [
            "Error in parse(text = x, srcfile = src): <text>:5:0: unexpected end of input\n3: # Create categories with cut()\n4: data %>% mutate(driver_age_cat =  driver_age %>% drop_na() %>% cut(breaks = c(20,30,40,50)) %>% head()\n  ^\nTraceback:\n"
          ]
        }
      ]
    }
  ]
}