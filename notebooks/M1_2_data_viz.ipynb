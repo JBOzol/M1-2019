{
  "nbformat": 4,
  "nbformat_minor": 0,
  "metadata": {
    "Rmd_header": {
      "author": "Daniel S. Hain (dsh@business.aau.dk)",
      "output": {
        "html_document": {
          "df_print": "paged",
          "number_sections": true,
          "toc": true,
          "toc_float": true
        }
      },
      "title": "Data Exploration and Visualization (in R)"
    },
    "kernelspec": {
      "display_name": "R",
      "language": "R",
      "name": "ir"
    },
    "language_info": {
      "codemirror_mode": "r",
      "file_extension": ".r",
      "mimetype": "text/x-r-source",
      "name": "R",
      "pygments_lexer": "r"
    },
    "colab": {
      "name": "M1_2_data_viz.ipynb",
      "version": "0.3.2",
      "provenance": [],
      "collapsed_sections": []
    }
  },
  "cells": [
    {
      "cell_type": "code",
      "metadata": {
        "Rmd_chunk_options": "setup, include=FALSE",
        "autoscroll": false,
        "id": "SjzbmjGZH15y",
        "colab_type": "code",
        "colab": {}
      },
      "source": [
        "### Generic preamble\n",
        "Sys.setenv(LANG = \"en\") # For english language\n",
        "options(scipen = 5) # To deactivate annoying scientific number notation\n",
        "set.seed(1337) # To have a seed defined for reproducability\n",
        "\n",
        "rm(list=ls()); graphics.off() # get rid of everything in the workspace\n",
        "if (!require(\"pacman\")) install.packages(\"pacman\") # package for loading and checking packages :)"
      ],
      "execution_count": 0,
      "outputs": []
    },
    {
      "cell_type": "code",
      "metadata": {
        "autoscroll": false,
        "id": "FXHwQLB9H151",
        "colab_type": "code",
        "colab": {}
      },
      "source": [
        "### Install packages if necessary\n",
        "pacman::p_load(tidyverse, # Collection of all the good stuff like dplyr, ggplot2 ect.\n",
        "               magrittr, # For extra-piping operators (eg. %<>%)\n",
        "               ggmap # For geoplotting\n",
        "               )"
      ],
      "execution_count": 0,
      "outputs": []
    },
    {
      "cell_type": "markdown",
      "metadata": {
        "id": "1IP5Iiq0H153",
        "colab_type": "text"
      },
      "source": [
        "\n",
        "# Introduction\n",
        "[`ggplot2`](https://ggplot2.tidyverse.org/) can be thought of as a mini-language (domain-specific language) within the `R` language. It is an R implementation of [Wilkinson's Grammar of Graphics book](https://www.springer.com/gp/book/9780387245447). [A Layered Grammar of Graphics](http://vita.had.co.nz/papers/layered-grammar.pdf) describes Hadley's implementation of these thoughts in the ggplot2's design. Conceptually, the main idea behind the Grammar of Graphics is that a statistical graphic is a mapping from variables to aesthetic attributes (x axis value, y axis value, color, shape, size) of geometric objects (points, line, bars).\n",
        "\n",
        "![](https://www.dropbox.com/s/o5pvv2j2ztj3qo2/ggplot_structure.png?dl=1)\n",
        "\n",
        "Lets take a step back and zoom a bit into different forms of visualization. We will now take a look at the `BIXI Bikeshare Data`, covering 500k bike-rides in the BIXI bike-sharing system in Montreal.\n",
        "\n"
      ]
    },
    {
      "cell_type": "code",
      "metadata": {
        "autoscroll": false,
        "id": "k1xlS0cLH154",
        "colab_type": "code",
        "colab": {}
      },
      "source": [
        "bike <- readRDS(url(\"https://www.dropbox.com/s/ydbn67h8as7rxet/bikes_montreal.rds?dl=1\"))"
      ],
      "execution_count": 0,
      "outputs": []
    },
    {
      "cell_type": "markdown",
      "metadata": {
        "id": "Ywxa2fuAH156",
        "colab_type": "text"
      },
      "source": [
        "\n",
        "Lets take a look:\n",
        "\n"
      ]
    },
    {
      "cell_type": "code",
      "metadata": {
        "autoscroll": false,
        "id": "9ado8AIWH157",
        "colab_type": "code",
        "colab": {}
      },
      "source": [
        "bike %>% glimpse()"
      ],
      "execution_count": 0,
      "outputs": []
    },
    {
      "cell_type": "markdown",
      "metadata": {
        "id": "ft2XwYMkH159",
        "colab_type": "text"
      },
      "source": [
        "\n",
        "We see here a number of different variable types present, namely:\n",
        "\n",
        "* Continuous variables\n",
        "* Categorical variables\n",
        "* Temporal variables\n",
        "\n",
        "First of all: Lets remeber, the first thing we do is defining the aestetics, first of all the dimensions (x, y) of the visualization.\n",
        "\n"
      ]
    },
    {
      "cell_type": "code",
      "metadata": {
        "autoscroll": false,
        "id": "5em76ysTH15-",
        "colab_type": "code",
        "colab": {}
      },
      "source": [
        "bike %>% ggplot(aes(x = weekday, y = start_hod))"
      ],
      "execution_count": 0,
      "outputs": []
    },
    {
      "cell_type": "markdown",
      "metadata": {
        "id": "rycmLxI2H16A",
        "colab_type": "text"
      },
      "source": [
        "\n",
        "The result will be an empry plane with the dimensions we defined. Note that there are more aestetic dimensions which can be used to convey informations visualy, such as for instance:\n",
        "\n",
        "* Position (x, y)\n",
        "* Color\n",
        "* Shape\n",
        "* Alpha (Transparency)\n",
        "\n",
        "We will explore them later.\n",
        "\n",
        "# Basic visualization of variable types\n",
        "\n",
        "### Summaries of One Variable: Continuous\n",
        "\n",
        "When attempting to summarize a single variable, histograms and density distributions are often the visualization of choice. We can do that easily by using the `geom_histogram()` layer. Notice that we only define a `x` aestetic, since we only summarize one variable\n",
        "\n"
      ]
    },
    {
      "cell_type": "code",
      "metadata": {
        "autoscroll": false,
        "id": "-OlGigoxH16B",
        "colab_type": "code",
        "colab": {}
      },
      "source": [
        "bike %>% ggplot(aes(x = duration_sec)) +\n",
        "  geom_histogram()"
      ],
      "execution_count": 0,
      "outputs": []
    },
    {
      "cell_type": "markdown",
      "metadata": {
        "id": "hG8P557WH16D",
        "colab_type": "text"
      },
      "source": [
        "\n",
        "To plot a probability density function (PDF) instead, we can use the `geom_density()` layer.\n",
        "\n"
      ]
    },
    {
      "cell_type": "code",
      "metadata": {
        "autoscroll": false,
        "id": "1wWJ-ZgfH16E",
        "colab_type": "code",
        "colab": {}
      },
      "source": [
        "bike %>% ggplot(aes(x = duration_sec)) +\n",
        "  geom_density()"
      ],
      "execution_count": 0,
      "outputs": []
    },
    {
      "cell_type": "markdown",
      "metadata": {
        "id": "kAXAVGVyH16I",
        "colab_type": "text"
      },
      "source": [
        "\n",
        "Note the distribution appears right-skewed, since we have some outliers of very long bike rides. Adding a log-scale on the x-axis might help to reduce their impact on the visualization.\n",
        "\n",
        "\n"
      ]
    },
    {
      "cell_type": "code",
      "metadata": {
        "autoscroll": false,
        "id": "IW4hjcSgH16J",
        "colab_type": "code",
        "colab": {}
      },
      "source": [
        "bike %>% ggplot(aes(x = duration_sec)) +\n",
        "  geom_histogram() +\n",
        "  scale_x_log10()"
      ],
      "execution_count": 0,
      "outputs": []
    },
    {
      "cell_type": "markdown",
      "metadata": {
        "id": "lHHWR3AVH16N",
        "colab_type": "text"
      },
      "source": [
        "\n",
        "In case we would already like to start looking at conditional distributions, we could add an adittional `fill` aestetic.\n",
        "\n"
      ]
    },
    {
      "cell_type": "code",
      "metadata": {
        "autoscroll": false,
        "id": "p28samfwH16O",
        "colab_type": "code",
        "colab": {}
      },
      "source": [
        "bike %>% ggplot(aes(x = duration_sec, fill = weekday)) +\n",
        "  geom_histogram() +\n",
        "  scale_x_log10()"
      ],
      "execution_count": 0,
      "outputs": []
    },
    {
      "cell_type": "markdown",
      "metadata": {
        "id": "ntzKWhLvH16R",
        "colab_type": "text"
      },
      "source": [
        "\n",
        "### Summaries of One Variable: Discrete\n",
        "\n",
        "To do the same for a discrete variable, we would start with a simple barplot via `geom_bar()`. Notice again that we only define a x aestetic. `ggplot` per default will use the count on the y-axis.\n",
        "\n"
      ]
    },
    {
      "cell_type": "code",
      "metadata": {
        "autoscroll": false,
        "id": "UuqlWevzH16S",
        "colab_type": "code",
        "colab": {}
      },
      "source": [
        "bike %>% ggplot(aes(x = start_dow)) +\n",
        "  geom_bar()"
      ],
      "execution_count": 0,
      "outputs": []
    },
    {
      "cell_type": "markdown",
      "metadata": {
        "id": "80HFuKpmH16U",
        "colab_type": "text"
      },
      "source": [
        "\n",
        "### Summaries of One Variable: Temporal\n",
        "\n",
        "A temporal variable can also be visualized as a line-plot with `geom_line()`.\n",
        "\n"
      ]
    },
    {
      "cell_type": "code",
      "metadata": {
        "autoscroll": false,
        "id": "99bDHu0sH16V",
        "colab_type": "code",
        "colab": {}
      },
      "source": [
        "bike %>%\n",
        "  group_by(start_wk) %>%\n",
        "  summarise(n = n()) %>%\n",
        "  ggplot(aes(x = start_wk, y = n)) +\n",
        "  geom_line()"
      ],
      "execution_count": 0,
      "outputs": []
    },
    {
      "cell_type": "markdown",
      "metadata": {
        "id": "q42cqNAzH16Y",
        "colab_type": "text"
      },
      "source": [
        "\n",
        "To instead (or in adittion) add a trendline, we can use `geom_smooth()`\n",
        "\n"
      ]
    },
    {
      "cell_type": "code",
      "metadata": {
        "autoscroll": false,
        "id": "dTZ9mWfPH16Y",
        "colab_type": "code",
        "colab": {}
      },
      "source": [
        "bike %>%\n",
        "  group_by(start_wk) %>%\n",
        "  summarise(n = n()) %>%\n",
        "  ggplot(aes(x = start_wk, y = n)) +\n",
        "  geom_smooth()"
      ],
      "execution_count": 0,
      "outputs": []
    },
    {
      "cell_type": "markdown",
      "metadata": {
        "id": "Y-zvVQjLH16a",
        "colab_type": "text"
      },
      "source": [
        "\n",
        "## Summarizing multiple variablea jointly\n",
        "\n",
        "Ok, that was pretty easy. However, the insights gained so far are pretty little. To tease out interesting pattern in our data, it might not be enough to only look at one variable at a time. To display relationships between multiple variables, we mainly can:\n",
        "\n",
        "* Use aestetics such as `color`, `fill`, `size`, `shape` (alter the aestetics within one plot)\n",
        "* Use `facet_wrap()`(produce  multiple plots)\n",
        "\n",
        "Lets look at some examples:\n",
        "\n",
        "First, we could take a look at the number of daily rides with  workweek / weekend days colored differently.\n",
        "\n"
      ]
    },
    {
      "cell_type": "code",
      "metadata": {
        "autoscroll": false,
        "id": "3OkQ1VU5H16b",
        "colab_type": "code",
        "colab": {}
      },
      "source": [
        "# Compute daily counts\n",
        "daily <- bike %>%\n",
        "  group_by(start_day, weekday) %>%\n",
        "  summarise(n = n())\n",
        "\n",
        "# Plot the result\n",
        "ggplot(daily, aes(start_day, n, color = weekday)) +\n",
        "  geom_point()"
      ],
      "execution_count": 0,
      "outputs": []
    },
    {
      "cell_type": "markdown",
      "metadata": {
        "id": "CrsJK7NRH16d",
        "colab_type": "text"
      },
      "source": [
        "\n",
        "Now let's look at how rides are distributed according to the time of day. Let's make a summary plot of weekly ride counts faceted by start hour of day and broken down by workweek/weekend. Here, we will use the `facet_grid`\n",
        "\n",
        "\n"
      ]
    },
    {
      "cell_type": "code",
      "metadata": {
        "Rmd_chunk_options": "fig.height=5 , fig.width=15",
        "autoscroll": false,
        "id": "Q2Ahoo0fH16e",
        "colab_type": "code",
        "colab": {}
      },
      "source": [
        "# Compute week_hod\n",
        "week_hod <- bike %>%\n",
        "  group_by(start_wk, start_hod, weekday) %>%\n",
        "  summarise(n = n())\n",
        "\n",
        "# Plot the result\n",
        "ggplot(week_hod, aes(start_wk, n, color = weekday)) +\n",
        "  geom_point() +\n",
        "  facet_grid(~ start_hod) +\n",
        "  scale_y_sqrt()"
      ],
      "execution_count": 0,
      "outputs": []
    },
    {
      "cell_type": "markdown",
      "metadata": {
        "id": "KzoPm-lxH16g",
        "colab_type": "text"
      },
      "source": [
        "\n",
        "\n",
        "Expanding on the previous plot, let's add one more variable into our summary, adding a facet dimension for whether or not the rider is a member of BIXI.\n",
        "\n"
      ]
    },
    {
      "cell_type": "code",
      "metadata": {
        "Rmd_chunk_options": "fig.height=7.5, fig.width=15",
        "autoscroll": false,
        "id": "Pe2-a8BvH16g",
        "colab_type": "code",
        "colab": {}
      },
      "source": [
        "# Compute wk_memb_hod\n",
        "wk_memb_hod <- bike %>%\n",
        "  group_by(start_wk, start_hod, weekday, membership) %>%\n",
        "  summarise(n = n())\n",
        "\n",
        "# Plot the result\n",
        "ggplot(wk_memb_hod, aes(start_wk, n, color = weekday)) +\n",
        "  geom_point() +\n",
        "  facet_grid(membership ~ start_hod) +\n",
        "  scale_y_sqrt()"
      ],
      "execution_count": 0,
      "outputs": []
    },
    {
      "cell_type": "markdown",
      "metadata": {
        "id": "PdC3Zjd2H16k",
        "colab_type": "text"
      },
      "source": [
        "\n",
        "Let's now look at the number of rides vs. hour for each day. To start, we'll create a summary dataset for the first full month in the dataset (May) and look at it.\n",
        "\n"
      ]
    },
    {
      "cell_type": "code",
      "metadata": {
        "Rmd_chunk_options": "fig.height=7.5, fig.width=15",
        "autoscroll": false,
        "id": "Mf4-z_4RH16m",
        "colab_type": "code",
        "colab": {}
      },
      "source": [
        "# Compute daily_may\n",
        "daily_may <- bike %>%\n",
        "  filter(start_mon == 5) %>%\n",
        "  group_by(start_day, start_hod, membership) %>%\n",
        "  summarise(n = n())\n",
        "\n",
        "# Plot the result\n",
        "ggplot(daily_may, aes(start_hod, n, color = membership)) +\n",
        "  geom_point() +\n",
        "  facet_wrap(~ start_day, ncol = 7)"
      ],
      "execution_count": 0,
      "outputs": []
    },
    {
      "cell_type": "markdown",
      "metadata": {
        "id": "CRYM6emWH16q",
        "colab_type": "text"
      },
      "source": [
        "\n",
        "\n",
        "\n",
        "## What's next\n",
        "\n",
        "There is so much more to explore. However, since time is limited, I will leave it up to you to explore more. Take a moment to review the diferent geoms offered by `ggplot` [here](https://ggplot2.tidyverse.org/reference/index.html). For inspiration what can be done, check [here](http://r-statistics.co/Top50-Ggplot2-Visualizations-MasterList-R-Code.html).\n",
        "\n",
        "In the upcominglectures, we will start exploring further types of visualization. In `R`, most packages that provide datavis are by now consolidated as adittional geometries compatible with `ggplot2`. You find the up to now official list of addons on CRAN [here](https://www.ggplot2-exts.org/gallery/)\n",
        "Some of my favorite are:\n",
        "\n",
        "* `ggridges`\n",
        "* `ggalluvial`\n",
        "* `GGally`\n",
        "* `ggmap`\n",
        "* `ggraph`\n",
        "\n",
        "\n",
        "\n",
        "## Your turn\n",
        "\n",
        "Ok, its your turn again. We will take a look at the `gapminder` data, a dataset with a set of socio-economic macro indicators. Please solve **Exercise 1** in the corresponding section on `github`\n",
        "\n",
        "# Endnotes\n",
        "\n"
      ]
    },
    {
      "cell_type": "code",
      "metadata": {
        "autoscroll": false,
        "id": "xhcNO6PeH16q",
        "colab_type": "code",
        "colab": {}
      },
      "source": [
        "sessionInfo()"
      ],
      "execution_count": 0,
      "outputs": []
    }
  ]
}