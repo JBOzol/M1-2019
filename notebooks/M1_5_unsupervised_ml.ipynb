{
  "nbformat": 4,
  "nbformat_minor": 0,
  "metadata": {
    "Rmd_header": {
      "author": "Daniel S. Hain (dsh@business.aau.dk)",
      "output": {
        "html_document": {
          "df_print": "paged",
          "number_sections": true,
          "toc": true,
          "toc_float": true
        }
      },
      "title": "Unsupervised Machine Learning (in R)"
    },
    "kernelspec": {
      "display_name": "R",
      "language": "R",
      "name": "ir"
    },
    "language_info": {
      "codemirror_mode": "r",
      "file_extension": ".r",
      "mimetype": "text/x-r-source",
      "name": "R",
      "pygments_lexer": "r"
    },
    "colab": {
      "name": "M1_5_unsupervised_ml.ipynb",
      "version": "0.3.2",
      "provenance": [],
      "include_colab_link": true
    }
  },
  "cells": [
    {
      "cell_type": "markdown",
      "metadata": {
        "id": "view-in-github",
        "colab_type": "text"
      },
      "source": [
        "<a href=\"https://colab.research.google.com/github/SDS-AAU/M1-2019/blob/master/notebooks/M1_5_unsupervised_ml.ipynb\" target=\"_parent\"><img src=\"https://colab.research.google.com/assets/colab-badge.svg\" alt=\"Open In Colab\"/></a>"
      ]
    },
    {
      "cell_type": "code",
      "metadata": {
        "Rmd_chunk_options": "setup, include=FALSE",
        "autoscroll": false,
        "id": "tVzqQq62hsNI",
        "colab_type": "code",
        "colab": {}
      },
      "source": [
        "### Generic preamble\n",
        "Sys.setenv(LANG = \"en\") # For english language\n",
        "options(scipen = 5) # To deactivate annoying scientific number notation\n",
        "set.seed(1337) # To have a seed defined for reproducability\n",
        "\n",
        "rm(list=ls()); graphics.off() # get rid of everything in the workspace\n",
        "if (!require(\"pacman\")) install.packages(\"pacman\") # package for loading and checking packages :)\n",
        "if (!require(\"knitr\")) install.packages(\"knitr\"); library(knitr) # For display of the markdown\n",
        "\n",
        "### Knitr options\n",
        "knitr::opts_chunk$set(warning=FALSE,\n",
        "                     message=FALSE,\n",
        "                     fig.align=\"center\"\n",
        "                     )"
      ],
      "execution_count": 0,
      "outputs": []
    },
    {
      "cell_type": "code",
      "metadata": {
        "autoscroll": false,
        "id": "D_4LlUlUhsNV",
        "colab_type": "code",
        "colab": {}
      },
      "source": [
        "### Install packages if necessary\n",
        "pacman::p_load(tidyverse, magrittr, data.table,\n",
        "               VIM, # For missing data diagnostics\n",
        "               mice, # for missing data inputation\n",
        "               FactoMineR, # For factor analysis, PCA, and clustering\n",
        "               factoextra, # for adittional visualizations of PCA etc\n",
        "               GGally # For some very nice datazis addons for ggplot2\n",
        "               )"
      ],
      "execution_count": 0,
      "outputs": []
    },
    {
      "cell_type": "markdown",
      "metadata": {
        "id": "NpeFcEbbhsNe",
        "colab_type": "text"
      },
      "source": [
        "\n",
        "# Introduction to Machine Learning\n",
        "\n",
        "## General\n",
        "\n",
        "As with any concept, machine learning may have a slightly different definition, depending on whom you ask. A little compilation of definitions by academics and practioneers alike:\n",
        "\n",
        "* \"Machine Learning at its most basic is the practice of using algorithms to parse data, learn from it, and then make a determination or prediction about something in the world.\" - Nvidia\n",
        "* \"Machine learning is the science of getting computers to act without being explicitly programmed.\" - Stanford\n",
        "* \"Machine learning is based on algorithms that can learn from data without relying on rules-based programming.\"- McKinsey & Co.\n",
        "* \"Machine learning algorithms can figure out how to perform important tasks by generalizing from examples.\" - University of Washington\n",
        "* \"The field of Machine Learning seeks to answer the question \"How can we build computer systems that automatically improve with experience, and what are the fundamental laws that govern all learning processes?\" - Carnegie Mellon University\n",
        "\n",
        "## Supervised vs. Unsupervised ML\n",
        "\n",
        "### An intuitive perspective\n",
        "\n",
        "![](https://www.dropbox.com/s/45m8ef7qsmqbhvs/super_unsuper2.png?dl=1){width=750px}\n",
        "\n",
        "### A functional perspective\n",
        "\n",
        "![](https://www.dropbox.com/s/7zqk77g2ihlxotw/super_unsuper.png?dl=1){width=750px}\n",
        "\n",
        "### Overview over types and classes of algorithms\n",
        "\n",
        "Sometimes, the lines are blurry, given the vast amount of algorithms and techniques, which constantly expands.\n",
        "\n",
        "![](https://www.dropbox.com/s/1ncdytmoqs5idh5/ml_map.png?dl=1){width=1000px}\n",
        "\n",
        "### Supervised ML\n",
        "\n",
        "* Concerned with labeling/classification/input-output-mapping/prediction tasks\n",
        "* Subject of the next lecture, so stay patient\n",
        "\n",
        "### Unsupervised ML\n",
        "\n",
        "Tasks related to pattern recognition and data exploration, in dase there yet does not exist a right answer or problem structure. Main applications:\n",
        "\n",
        "1. **Dimensionality reduction:** Finding patterns in the features of the data\n",
        "2. **Clustering:** Finding homogenous subgroups within larger group\n",
        "\n",
        "\n",
        "\n",
        "# Dimensionality Reduction Techniques\n",
        "\n",
        "## Introduction\n",
        "\n",
        "Dimensionality reduction techniques are foremost useful to (you might see it coming) reduce the dimensionality of our data. So, what does that mean? And why should we want to do that?\n",
        "\n",
        "Dimensions here is a synonym for variables, so what we want to really do is have less variables. To do that, we have to find ways to express the same amount of information with fewer, but more information-rich variables. This is particularly useful to:\n",
        "\n",
        "* Find patterns in the **features** of the data.\n",
        "* Visualization of **high-dimensional** data.\n",
        "* **Pre-processing** before supervised ML tasks.\n",
        "\n",
        "The type of analysis to be performed depends on the data set formats and structures. The most commonly used DR techniques are:\n",
        "\n",
        "* **Principal Component Analysis (PCA):** Is used to summarize the information contained in a continuous (i.e, quantitative) multivariate data by reducing the dimensionality of the data without loosing important information.\n",
        "* **Correspondence Analysis (CA):** An extension of the principal component analysis suited to analyse a large contingency table formed by two qualitative variables (or categorical data).\n",
        "* **Multiple Correspondence Analysis (MCA):** An adaptation of CA to a data table containing more than two categorical variables.\n",
        "* **Multiple Factor Analysis (MFA):** Dedicated to datasets where variables are organized into groups (qualitative and/or quantitative variables).\n",
        "* **Hierarchical Multiple Factor Analysis (HMFA):** An extension of MFA in a situation where the data are organized into a hierarchical structure.\n",
        "* **Factor Analysis of Mixed Data (FAMD):** A particular case of the MFA, dedicated to analyze a data set containing both quantitative and qualitative variables.\n",
        "\n",
        "![](https://www.dropbox.com/s/uwhlsjwl4yxb25y/dim_tech.png?dl=1){width=500px}\n",
        "\n",
        "## Principal Component Analysis (PCA)\n",
        "\n",
        "### General\n",
        "\n",
        "* A popular method is \"Principal Component Analysis\" (PCA)\n",
        "* Three goals when finding lower dimensional\n",
        "representation of features:\n",
        "     1. Find linear combination of variables to createprincipal components\n",
        "     2. Maintain most variance in the data\n",
        "     3. Principal components are uncorrelated (i.e.orthogonal to each other)\n",
        "\n",
        "### The math and intuition behind it\n",
        "The mathematics underlying it are somewhat complex, so I won't go into too much detail, but the basics of PCA are as follows: you take a dataset with many variables, and you simplify that dataset by turning your original variables into a smaller number of \"Principal Components\".\n",
        "\n",
        "![](https://www.dropbox.com/s/n8mefi1s2wt9h9g/PCA1.png?dl=1){width=500px}\n",
        "\n",
        "But what are these exactly? Principal Components are the underlying structure in the data. They are the directions where there is the most variance, the directions where the data is most spread out. This means that we try to find the straight line that best spreads the data out when it is projected along it. This is the first principal component, the straight line that shows the most substantial variance in the data.\n",
        "\n",
        "![](https://www.dropbox.com/s/3iw8vizfick75lh/PCA2.png?dl=1){width=500px}\n",
        "\n",
        "Where many variables correlate with one another, they will all contribute strongly to the same principal component. Each principal component sums up a certain percentage of the total variation in the dataset. Where your initial variables are strongly correlated with one another, you will be able to approximate most of the complexity in your dataset with just a few principal components. Usually, the first principal component captures the main similarity in your data, the second the main difference.\n",
        "\n",
        "![](https://www.dropbox.com/s/tjooyreiguak7oy/PCA3.png?dl=3){width=500px}\n",
        "\n",
        "These principal components can be computed via **Eigenvalues** and **Eigenvectors**. Just like many things in life, eigenvectors, and eigenvalues come in pairs: every eigenvector has a corresponding eigenvalue. Simply put, an eigenvector is a direction, such as \"vertical\" or \"45 degrees\", while an eigenvalue is a number telling you how much variance there is in the data in that direction. The eigenvector with the highest eigenvalue is, therefore, the first principal component. The number of eigenvalues and eigenvectors that exits is equal to the number of dimensions the data set has. Consequently, we can reframe a dataset in terms of these eigenvectors and eigenvalues without changing the underlying information.\n",
        "\n",
        "Note that reframing a dataset regarding a set of eigenvalues and eigenvectors does not entail changing the data itself, you're just looking at it from a different angle, which should represent the data better.\n",
        "\n",
        "## Case study: (Digital) Nomad Life\n",
        "\n",
        "### Load, clean and inspect\n",
        "\n",
        "Allright, lets load some data. Here, we will draw from some own work, where we explore the life of digital nomads. The paper is not written, but the preliminary work is summarized in [this presentation](https://aaudk-my.sharepoint.com/:b:/g/personal/dsh_id_aau_dk/ESeuvplEytZCuNBhKGmA4U8BOGpfbGIbilqTGdgQLA4a6A?e=UGRnvR). You probably already know the data from [NomadList](https://nomadlist.com/). Here, we look at the 2017 crawl of city data, which compiles the digital nomads ranking of cities according to a couple of dimensions. Lets take a look.\n",
        "\n",
        "Roman's web-crawl data is always a bit messy, so we do some little cosmetics upfront.\n",
        "\n"
      ]
    },
    {
      "cell_type": "code",
      "metadata": {
        "autoscroll": false,
        "id": "AIxIlUIZhsNg",
        "colab_type": "code",
        "colab": {}
      },
      "source": [
        "# Note: I here use the fread() command from data.table, which is faster than read_csv\n",
        "data <- fread(\"https://www.dropbox.com/s/grpu23w5r8bo4ss/nomad_cities.csv?dl=1\",\n",
        "              sep=\"\\t\",\n",
        "              dec=\".\",\n",
        "              na.strings=c(\"NA\", \"DotMap(__next__=DotMap())\", \"DotMap()\") )\n",
        "\n",
        "data %<>%\n",
        "  select(-V1, -nomadScore) %>%\n",
        "  select(place, nomad_score, longitude, latitude, everything()) %>%\n",
        "  mutate(racism = if_else(racism > 1, 1, racism))"
      ],
      "execution_count": 0,
      "outputs": []
    },
    {
      "cell_type": "markdown",
      "metadata": {
        "id": "2e_KETR3hsNm",
        "colab_type": "text"
      },
      "source": [
        "\n",
        "Lets take a look:\n",
        "\n"
      ]
    },
    {
      "cell_type": "code",
      "metadata": {
        "autoscroll": false,
        "id": "GBSE3_XphsNo",
        "colab_type": "code",
        "colab": {}
      },
      "source": [
        "data %>% head()"
      ],
      "execution_count": 0,
      "outputs": []
    },
    {
      "cell_type": "code",
      "metadata": {
        "autoscroll": false,
        "id": "iq3YQe13hsNv",
        "colab_type": "code",
        "colab": {}
      },
      "source": [
        "data %>% glimpse()"
      ],
      "execution_count": 0,
      "outputs": []
    },
    {
      "cell_type": "markdown",
      "metadata": {
        "id": "JQh57XswhsN1",
        "colab_type": "text"
      },
      "source": [
        "\n",
        "Quite a set of interesting features, which are all numerically coded. Lets select the one we want to analyze and organize them a bit. Since it's a lot of variables, I afterwards select only a subset on which we do some graphical exploration.\n",
        "\n"
      ]
    },
    {
      "cell_type": "code",
      "metadata": {
        "autoscroll": false,
        "id": "mF2R24xghsN3",
        "colab_type": "code",
        "colab": {}
      },
      "source": [
        "# Variables for analysis\n",
        "vars <- c(\"cost_nomad\", \"cost_coworking\", \"cost_expat\", \"coffee_in_cafe\", \"cost_beer\", # costs\n",
        "          \"places_to_work\", \"free_wifi_available\", \"internet_speed\", # work\n",
        "          \"freedom_score\", \"peace_score\", \"safety\", \"fragile_states_index\", \"press_freedom_index\", # safety & freedom\n",
        "          \"female_friendly\", \"lgbt_friendly\", \"friendly_to_foreigners\", \"racism\", # friendly\n",
        "          \"leisure\",\"life_score\",\"nightlife\",\"weed\" # fun\n",
        "          )\n",
        "\n",
        "# Variables for descriptives\n",
        "vars.desc <- c(\"nomad_score\", \"cost_nomad\", \"places_to_work\", \"freedom_score\", \"friendly_to_foreigners\", \"life_score\")\n"
      ],
      "execution_count": 0,
      "outputs": []
    },
    {
      "cell_type": "markdown",
      "metadata": {
        "id": "Gp9wePGDhsN-",
        "colab_type": "text"
      },
      "source": [
        "\n",
        "Ok, time for some exploration. Here I will introduce the `GGally` package, a wrapper for `ggplot2` which has some functions for very nice visual summaries in matrix form.\n",
        "\n"
      ]
    },
    {
      "cell_type": "code",
      "metadata": {
        "Rmd_chunk_options": "warning=FALSE,echo=FALSE",
        "autoscroll": false,
        "id": "QWOKekDJhsOA",
        "colab_type": "code",
        "colab": {}
      },
      "source": [
        "library(GGally)"
      ],
      "execution_count": 0,
      "outputs": []
    },
    {
      "cell_type": "markdown",
      "metadata": {
        "id": "42swNAKVhsOH",
        "colab_type": "text"
      },
      "source": [
        "\n",
        "First, lets look at a classical correlation matrix.\n",
        "\n"
      ]
    },
    {
      "cell_type": "code",
      "metadata": {
        "Rmd_chunk_options": "fig.width=10,fig.height=10,fig.align='center'",
        "autoscroll": false,
        "id": "xTdwHQeihsOJ",
        "colab_type": "code",
        "colab": {}
      },
      "source": [
        "ggcorr(data[vars], label = TRUE, label_size = 3, label_round = 2, label_alpha = TRUE)"
      ],
      "execution_count": 0,
      "outputs": []
    },
    {
      "cell_type": "markdown",
      "metadata": {
        "id": "bw6YaeuFhsOP",
        "colab_type": "text"
      },
      "source": [
        "\n",
        "Even cooler, the `ggpairs` function creates you a scatterplot matrix plus all variable distributions and correlations. Before I used the package `PerformanceAnalytics` for that, but I like the ggplot-style more.\n",
        "\n"
      ]
    },
    {
      "cell_type": "code",
      "metadata": {
        "Rmd_chunk_options": "fig.width=10,fig.height=10,fig.align='center'",
        "autoscroll": false,
        "id": "20rw4hvDhsOR",
        "colab_type": "code",
        "colab": {}
      },
      "source": [
        "ggpairs(data[,vars.desc],\n",
        "        aes(alpha = 0.3),\n",
        "        ggtheme = theme_gray())"
      ],
      "execution_count": 0,
      "outputs": []
    },
    {
      "cell_type": "markdown",
      "metadata": {
        "id": "vXjQ2CbIhsOY",
        "colab_type": "text"
      },
      "source": [
        "\n",
        "\n",
        "### Digression: Missing value imputation\n",
        "To remind you, component scores cannot be computed on missing features. So lets impute them. It's a good point to introduce you to some neath imputation techniques. First, the package `VIM` has some nice imputation functions, but also some nice diagnistic plots.\n",
        "\n"
      ]
    },
    {
      "cell_type": "code",
      "metadata": {
        "Rmd_chunk_options": "warning=FALSE,echo=FALSE",
        "autoscroll": false,
        "collapsed": true,
        "id": "FATPTv1RhsOa",
        "colab_type": "code",
        "colab": {}
      },
      "source": [
        "library(VIM)"
      ],
      "execution_count": 0,
      "outputs": []
    },
    {
      "cell_type": "code",
      "metadata": {
        "Rmd_chunk_options": "fig.width=10,fig.height=10,fig.align='center'",
        "autoscroll": false,
        "collapsed": true,
        "id": "wh5MlmQqhsOh",
        "colab_type": "code",
        "colab": {}
      },
      "source": [
        "data[,vars] %>%\n",
        "  aggr(col = c('navyblue','red'),\n",
        "       numbers = TRUE,\n",
        "       sortVars = TRUE,\n",
        "       labels = names(data[,vars]),\n",
        "       cex.axis = 0.5,\n",
        "       gap = 0.5,\n",
        "       ylab=c(\"Histogram of missing data\",\"Pattern\"))"
      ],
      "execution_count": 0,
      "outputs": []
    },
    {
      "cell_type": "markdown",
      "metadata": {
        "id": "abPKFUW2hsOn",
        "colab_type": "text"
      },
      "source": [
        "\n",
        "For the real imputation, I prefer the `mice` package, which works with a neural network \"under the hood\". Here, every feature is sequentially predicted by all other existing features in an iterative process. Since this process involves some stochachics, I define a seed upfront for reproducible results.\n",
        "\n",
        "\n"
      ]
    },
    {
      "cell_type": "code",
      "metadata": {
        "Rmd_chunk_options": "echo=FALSE,warning=FALSE",
        "autoscroll": false,
        "collapsed": true,
        "id": "ocGoZLcohsOo",
        "colab_type": "code",
        "colab": {}
      },
      "source": [
        "set.seed(1337)\n",
        "\n",
        "library(mice)\n",
        "data.mice <- data[,vars] %>%\n",
        "  mice(m = 1, maxit = 50, seed = 1337)\n"
      ],
      "execution_count": 0,
      "outputs": []
    },
    {
      "cell_type": "markdown",
      "metadata": {
        "id": "IB4BHJ2_hsOu",
        "colab_type": "text"
      },
      "source": [
        "\n",
        "Let's look at the distribution of the imputed vs. the existing features.\n",
        "\n"
      ]
    },
    {
      "cell_type": "code",
      "metadata": {
        "Rmd_chunk_options": "fig.align='center'",
        "autoscroll": false,
        "collapsed": true,
        "id": "Q3p1ari1hsOv",
        "colab_type": "code",
        "colab": {}
      },
      "source": [
        "densityplot(data.mice)"
      ],
      "execution_count": 0,
      "outputs": []
    },
    {
      "cell_type": "markdown",
      "metadata": {
        "id": "UAOWlm9-hsOz",
        "colab_type": "text"
      },
      "source": [
        "\n",
        "I would say, good enough. Lets take them!\n",
        "\n"
      ]
    },
    {
      "cell_type": "code",
      "metadata": {
        "autoscroll": false,
        "collapsed": true,
        "id": "6JLxG0bThsO1",
        "colab_type": "code",
        "colab": {}
      },
      "source": [
        "var.imp <- c(\"freedom_score\", \"peace_score\", \"fragile_states_index\", \"press_freedom_index\")\n",
        "\n",
        "data.imp <-  complete(data.mice, action = 1)\n",
        "data[,var.imp] <- data.imp[,var.imp]\n",
        "\n",
        "rm(data.mice, data.imp, var.imp)"
      ],
      "execution_count": 0,
      "outputs": []
    },
    {
      "cell_type": "markdown",
      "metadata": {
        "id": "Uf_8tHTdhsO5",
        "colab_type": "text"
      },
      "source": [
        "\n",
        "\n",
        "### Dimensionality reduction\n",
        "\n",
        "To execute the PCA, we'll here use the [`FactoMineR`](http://factominer.free.fr/) package to compute PCA, and  [`factoextra`](https://github.com/kassambara/factoextra) for extracting and visualizing the results. `FactoMineR` is a great and my favorite package for computing principal component methods in R. It's very easy to use and very well documented. There are other alternatives around, but I since quite some time find it to be the most powerful and convenient one. `factoextra` is just a convenient `ggplot` wrapper that easily produces nice and informative diagnistic plots for a variety of DR and clustering techniques.\n",
        "\n"
      ]
    },
    {
      "cell_type": "code",
      "metadata": {
        "Rmd_chunk_options": "warning=FALSE,echo=FALSE",
        "autoscroll": false,
        "collapsed": true,
        "id": "RGqODodYhsO6",
        "colab_type": "code",
        "colab": {}
      },
      "source": [
        "library(FactoMineR)\n",
        "library(factoextra)"
      ],
      "execution_count": 0,
      "outputs": []
    },
    {
      "cell_type": "markdown",
      "metadata": {
        "id": "qeCrMj-khsPA",
        "colab_type": "text"
      },
      "source": [
        "\n",
        "Lets do that. Notice the `scale.unit = TRUE` argument, which you should ALWAYS use. Afterwards, we take a look at the resulting list object.\n",
        "\n"
      ]
    },
    {
      "cell_type": "code",
      "metadata": {
        "autoscroll": false,
        "collapsed": true,
        "id": "wJSaIyPHhsPC",
        "colab_type": "code",
        "colab": {}
      },
      "source": [
        "res.pca <- data[,vars] %>%\n",
        "  PCA(scale.unit = TRUE, graph = FALSE)\n",
        "\n",
        "res.pca %>% glimpse()"
      ],
      "execution_count": 0,
      "outputs": []
    },
    {
      "cell_type": "markdown",
      "metadata": {
        "id": "oNmT_XeBhsPL",
        "colab_type": "text"
      },
      "source": [
        "\n",
        "Ok, lets see look at the \"screeplot\", a diagnostic visualization that displays the variance explained by every component. We here use the `factoextra` package, like for all following visualizations with the `fviz_` prefix. Notice that the output in every case is an `ggplot2` object, which could be complemented with further layers.\n",
        "\n"
      ]
    },
    {
      "cell_type": "code",
      "metadata": {
        "Rmd_chunk_options": "fig.align='center'",
        "autoscroll": false,
        "collapsed": true,
        "id": "U_FUYuQDhsPP",
        "colab_type": "code",
        "colab": {}
      },
      "source": [
        "res.pca %>%\n",
        "  fviz_screeplot(addlabels = TRUE,\n",
        "                 ncp = 10,\n",
        "                 ggtheme = theme_gray())"
      ],
      "execution_count": 0,
      "outputs": []
    },
    {
      "cell_type": "markdown",
      "metadata": {
        "id": "FFFCoePJhsPY",
        "colab_type": "text"
      },
      "source": [
        "\n",
        "As expected, we see that the first component already captures a main share of the variance. Let's look at the corresponding eigenvalues.\n",
        "\n"
      ]
    },
    {
      "cell_type": "code",
      "metadata": {
        "autoscroll": false,
        "collapsed": true,
        "id": "3bPTYPbehsPZ",
        "colab_type": "code",
        "colab": {}
      },
      "source": [
        "res.pca$eig %>% as_tibble()"
      ],
      "execution_count": 0,
      "outputs": []
    },
    {
      "cell_type": "markdown",
      "metadata": {
        "id": "cWV6V7dphsPg",
        "colab_type": "text"
      },
      "source": [
        "\n",
        "For feature selection, our rule-of-thumb is to only include components with an eigenvalue > 1, meaning that we in this case would have reduced our data to 4 dimensions. Lets project them onto 2-dimensional space and take a look at the vector of our features.\n",
        "\n",
        "\n"
      ]
    },
    {
      "cell_type": "code",
      "metadata": {
        "Rmd_chunk_options": "fig.width=10,fig.height=10,fig.align='center'",
        "autoscroll": false,
        "collapsed": true,
        "id": "wjI4Jy_ahsPl",
        "colab_type": "code",
        "colab": {}
      },
      "source": [
        "res.pca %>%\n",
        "  fviz_pca_var(alpha.var = \"cos2\",\n",
        "               col.var = \"contrib\",\n",
        "               gradient.cols = c(\"#00AFBB\", \"#E7B800\", \"#FC4E07\"),\n",
        "               repel = TRUE,\n",
        "               ggtheme = theme_gray())"
      ],
      "execution_count": 0,
      "outputs": []
    },
    {
      "cell_type": "markdown",
      "metadata": {
        "id": "MUhGP_inhsPt",
        "colab_type": "text"
      },
      "source": [
        "\n",
        "We see that they tend to cluster in 3 groups:\n",
        "\n",
        "1. Fun, friendlyness, work (upper right)\n",
        "2. Costs (lower right)\n",
        "3. Safety and stability (left)\n",
        "\n",
        "Lets look at the numeric values.\n",
        "\n"
      ]
    },
    {
      "cell_type": "code",
      "metadata": {
        "autoscroll": false,
        "collapsed": true,
        "id": "CwxNGcZQhsPv",
        "colab_type": "code",
        "colab": {}
      },
      "source": [
        "res.pca %>% get_pca_var()"
      ],
      "execution_count": 0,
      "outputs": []
    },
    {
      "cell_type": "code",
      "metadata": {
        "autoscroll": false,
        "collapsed": true,
        "id": "IOwYYm9-hsP0",
        "colab_type": "code",
        "colab": {}
      },
      "source": [
        "res.pca$var$coord %>% as_tibble() %>%  head()"
      ],
      "execution_count": 0,
      "outputs": []
    },
    {
      "cell_type": "markdown",
      "metadata": {
        "id": "Qn4QyDh7hsP4",
        "colab_type": "text"
      },
      "source": [
        "\n",
        "\n",
        "The results-object also contains the observations loading on the components.\n",
        "\n"
      ]
    },
    {
      "cell_type": "code",
      "metadata": {
        "autoscroll": false,
        "collapsed": true,
        "id": "x124jjZIhsP6",
        "colab_type": "code",
        "colab": {}
      },
      "source": [
        "res.pca %>% get_pca_var()"
      ],
      "execution_count": 0,
      "outputs": []
    },
    {
      "cell_type": "code",
      "metadata": {
        "autoscroll": false,
        "collapsed": true,
        "id": "XbQsTLAkhsP-",
        "colab_type": "code",
        "colab": {}
      },
      "source": [
        "res.pca$ind$coord %>% as_tibble() %>% head()"
      ],
      "execution_count": 0,
      "outputs": []
    },
    {
      "cell_type": "markdown",
      "metadata": {
        "id": "mDyqxDTehsQC",
        "colab_type": "text"
      },
      "source": [
        "\n",
        "\n",
        "Let's visualize our observations and the variable-loading together in the space of the first 2 components.\n",
        "\n"
      ]
    },
    {
      "cell_type": "code",
      "metadata": {
        "Rmd_chunk_options": "fig.width=15,fig.height=10,fig.align='center'",
        "autoscroll": false,
        "collapsed": true,
        "id": "uF4X1SW4hsQE",
        "colab_type": "code",
        "colab": {}
      },
      "source": [
        "res.pca %>%\n",
        "  fviz_pca_biplot(alpha.ind = \"cos2\",\n",
        "                  col.ind = \"contrib\",\n",
        "                  gradient.cols = c(\"#00AFBB\", \"#E7B800\", \"#FC4E07\"),\n",
        "                  geom = \"point\",\n",
        "                  ggtheme = theme_gray())"
      ],
      "execution_count": 0,
      "outputs": []
    },
    {
      "cell_type": "markdown",
      "metadata": {
        "id": "0wWVG7bQhsQK",
        "colab_type": "text"
      },
      "source": [
        "\n",
        "\n",
        "We cal also briefly check if our ndimensionality reductions is helpful to differentiate between `nomadscore`.\n",
        "\n"
      ]
    },
    {
      "cell_type": "code",
      "metadata": {
        "Rmd_chunk_options": "fig.width=10,fig.height=10,fig.align='center'",
        "autoscroll": false,
        "collapsed": true,
        "id": "BLugmSpKhsQM",
        "colab_type": "code",
        "colab": {}
      },
      "source": [
        "data %<>%\n",
        "  mutate(popular = ifelse(nomad_score > mean(nomad_score), TRUE, FALSE))\n",
        "\n",
        "res.pca %>%\n",
        "  fviz_pca_biplot(alpha.ind = \"cos2\",\n",
        "                  geom = \"point\",\n",
        "                  habillage = data$popular %>% factor(),\n",
        "                  addEllipses = TRUE,\n",
        "                  ggtheme = theme_gray())"
      ],
      "execution_count": 0,
      "outputs": []
    },
    {
      "cell_type": "markdown",
      "metadata": {
        "id": "Xpx2CbUWhsQR",
        "colab_type": "text"
      },
      "source": [
        "\n",
        "## Your turn\n",
        "Alright, its time for some wake-up work again. Please explore clustering a bit more in **Exercise 1** in the corresponding `Github` section. Have fun!\n",
        "\n",
        "\n",
        "# Clustering\n",
        "\n",
        "## Introduction\n",
        "\n",
        "### Types of Clustering\n",
        "Clustering can be broadly divided into two subgroups:\n",
        "\n",
        "1. **Hard clustering:** in hard clustering, each data object or point either belongs to a cluster completely or not. For example in the Uber dataset, each location belongs to either one borough or the other.\n",
        "2. **Soft clustering:** in soft clustering, a data point can belong to more than one cluster with some probability or likelihood value. For example, you could identify some locations as the border points belonging to two or more boroughs.\n",
        "\n",
        "Clustering algorithms can also be categorized based on their **cluster model**, that is based on how they form clusters or groups. This tutorial only highlights some of the prominent clustering algorithms.\n",
        "\n",
        "* **Connectivity-based clustering:** the main idea behind this clustering is that data points that are closer in the data space are more related (similar) than to data points farther away. The clusters are formed by connecting data points according to their distance. At different distances, different clusters will form and can be represented using a dendrogram, which gives away why they are also commonly called **hierarchical clustering**. These methods do not produce a unique partitioning of the dataset, rather a hierarchy from which the user still needs to choose appropriate clusters by choosing the level where they want to cluster. Note: They are also not very robust towards outliers, which might show up as additional clusters or even cause other clusters to merge.\n",
        "\n",
        "* **Centroid-based clustering:** in this type of clustering, clusters are represented by a central vector or a centroid. This centroid might not necessarily be a member of the dataset. This is an iterative clustering algorithms in which the notion of similarity is derived by how close a data point is to the centroid of the cluster. **k-means** is a centroid based clustering, and will you see this topic more in detail later on in the tutorial.\n",
        "\n",
        "* **Distribution-based clustering:** this clustering is very closely related to statistics: distributional modeling. Clustering is based on the notion of how probable is it for a data point to belong to a certain distribution, such as the Gaussian distribution, for example. Data points in a cluster belong to the same distribution. These models have a strong theoritical foundation, however they often suffer from overfitting. Gaussian mixture models, using the expectation-maximization algorithm is a famous distribution based clustering method.\n",
        "\n",
        "* **Density-based methods:** search the data space for areas of varied density of data points. Clusters are defined as areas of higher density within the data space compared to other regions. Data points in the sparse areas are usually considered to be noise and/or border points. The drawback with these methods is that they expect some kind of density guide or parameters to detect cluster borders. `DBSCAN` and `OPTICS` are some prominent density based clustering.\n",
        "\n",
        "So, what is the best to use? Hard to say. Clustering is an subjective task and there can be more than one correct clustering algorithm. Every algorithm follows a different set of rules for defining the 'similarity' among data points. The most appropriate clustering algorithm for a particular problem often needs to be chosen experimentally, unless there is a mathematical reason to prefer one clustering algorithm over another. An algorithm might work well on a particular dataset but fail for a different kind of dataset. Since there is most times no wrong or right, the clustering that delivers the most useful results is the way to go.\n",
        "\n",
        "## K-means Clustering\n",
        "K-means clustering is the most commonly used unsupervised machine learning algorithm for dividing a given dataset into `k` clusters, which must be provided by the user. The basic idea behind k-means clustering consists of defining clusters so that the total intra-cluster variation (known as total within-cluster variation) is minimized. There are several k-means algorithms available. However, the standard algorithm defines the total within-cluster variation as the sum of squared distances Euclidean distances between items and the corresponding centroid. Its an iterative process containing the following steps\n",
        "\n",
        "1. Specify `k` - the number of clusters to be created.\n",
        "2. Select randomly `k` objects from the dataset as the initial cluster centers.\n",
        "![](https://www.dropbox.com/s/lk2oo3amjhll44u/km1.png?dl=1){width=500px}\n",
        "\n",
        "3. Assign each observation to their closest centroid, based on the Euclidean distance between the object and the centroid.\n",
        "4. For each of the `k` clusters recompute the cluster centroid by calculating the new mean value of all the data points in the cluster.\n",
        "![](https://www.dropbox.com/s/sp40wn2eo0i1934/km2.png?dl=1){width=500px}\n",
        "\n",
        "5. Iteratively minimize the total within sum of square. Repeat Step 3 and Step 4, until the centroids do not change or the maximum number of iterations is reached (`R` uses 10 as the default value for the maximum number of iterations).\n",
        "![](https://www.dropbox.com/s/o3w74tnfhe2e5u0/km3.png?dl=1){width=500px}\n",
        "\n",
        "So, lets do that. As already mentioned, we have to upfront choose our `k`. However, there exists some guidance, for example the highest gain in \"total within sum of sqares\" (fast to calculate), the \"siluette\", as well as the \"gap statistics\" (hard to calculate, takes time).\n",
        "\n",
        "Notice that data with different scales also needs to be scaled before clustering.\n",
        "\n"
      ]
    },
    {
      "cell_type": "code",
      "metadata": {
        "Rmd_chunk_options": "fig.align='center'",
        "autoscroll": false,
        "id": "Oje_o2XthsQS",
        "colab_type": "code",
        "colab": {}
      },
      "source": [
        "data[,vars] %>%\n",
        "  scale() %>%\n",
        "  fviz_nbclust(kmeans, method = \"wss\")\n"
      ],
      "execution_count": 0,
      "outputs": []
    },
    {
      "cell_type": "markdown",
      "metadata": {
        "id": "U9RaI8n3hsQX",
        "colab_type": "text"
      },
      "source": [
        "\n",
        "Ok,w e here settle for 3 (executive desicion). Before we start, something weird upfront. The function takes the observation names from the rownames (which nobody uses anymore, and are depreciated by `dplyr`). So, remeber to define them just straight before you cluster, otherwise the next `dplyr` pipe will delete them again.\n",
        "\n"
      ]
    },
    {
      "cell_type": "code",
      "metadata": {
        "autoscroll": false,
        "id": "NUZHD_DLhsQY",
        "colab_type": "code",
        "colab": {}
      },
      "source": [
        "rownames(data) <- data %>% pull(place)"
      ],
      "execution_count": 0,
      "outputs": []
    },
    {
      "cell_type": "markdown",
      "metadata": {
        "id": "SZ941QOrhsQb",
        "colab_type": "text"
      },
      "source": [
        "\n",
        "Oflets run the algorythm.\n",
        "\n"
      ]
    },
    {
      "cell_type": "code",
      "metadata": {
        "autoscroll": false,
        "id": "Yhe0l8N_hsQb",
        "colab_type": "code",
        "colab": {}
      },
      "source": [
        "km <- data[,vars] %>%\n",
        "  scale() %>%\n",
        "  kmeans( centers = 3, nstart = 20)\n",
        "\n",
        "km %>% glimpse()"
      ],
      "execution_count": 0,
      "outputs": []
    },
    {
      "cell_type": "markdown",
      "metadata": {
        "id": "hOLBaa1lhsQe",
        "colab_type": "text"
      },
      "source": [
        "\n",
        "Again, lets visualize it. To have a meaningful way for 2d visualization, we again project the observations on the space of the first 2 components.\n",
        "\n"
      ]
    },
    {
      "cell_type": "code",
      "metadata": {
        "Rmd_chunk_options": "fig.width=15,fig.height=10,fig.align='center'",
        "autoscroll": false,
        "id": "vtUvFA1thsQf",
        "colab_type": "code",
        "colab": {}
      },
      "source": [
        "km %>%\n",
        "  fviz_cluster(data = data[,vars],\n",
        "               ggtheme = theme_gray())"
      ],
      "execution_count": 0,
      "outputs": []
    },
    {
      "cell_type": "markdown",
      "metadata": {
        "id": "qYi5kOQGhsQi",
        "colab_type": "text"
      },
      "source": [
        "\n",
        "Ok, we got 3 clusters. Let's look what's in them.\n",
        "\n"
      ]
    },
    {
      "cell_type": "code",
      "metadata": {
        "autoscroll": false,
        "id": "_gWA8BH4hsQi",
        "colab_type": "code",
        "colab": {}
      },
      "source": [
        "data %>%\n",
        "  bind_cols(cluster = km$cluster) %>%\n",
        "  select(vars.desc, cluster) %>%\n",
        "  group_by(cluster) %>%\n",
        "  mutate(n = n()) %>%\n",
        "  summarise_all(funs(mean))"
      ],
      "execution_count": 0,
      "outputs": []
    },
    {
      "cell_type": "markdown",
      "metadata": {
        "id": "mXA5wwdshsQl",
        "colab_type": "text"
      },
      "source": [
        "\n",
        "\n",
        "## Hirarchical Clustering\n",
        "\n",
        "### Introduction\n",
        "The key operation in hierarchical agglomerative clustering is to repeatedly combine the two nearest clusters into a larger cluster. There are three key questions that need to be answered first:\n",
        "\n",
        "* How do you represent a cluster of more than one point?\n",
        "* How do you determine the \"nearness\" of clusters?\n",
        "* When do you stop combining clusters?\n",
        "* Hopefully by the end this tutorial you will be able to answer all of these questions. Before applying hierarchical clustering let's have a look at its working:\n",
        "\n",
        "1. It starts by calculating the distance between every pair of observation points and store it in a distance matrix.\n",
        "2. It then puts every point in its own cluster.\n",
        "\n",
        "![](https://www.dropbox.com/s/imx4q63nmp04mll/hc1.png?dl=1){width=500px}\n",
        "\n",
        "3. Then it starts merging the closest pairs of points based on the distances from the distance matrix and as a result the amount of clusters goes down by 1.\n",
        "\n",
        "![](https://www.dropbox.com/s/86vyqc6pfjb8aoy/hc2.png?dl=2){width=500px}\n",
        "\n",
        "4. Then it recomputes the distance between the new cluster and the old ones and stores them in a new distance matrix.\n",
        "5. Lastly it repeats steps 2 and 3 until all the clusters are merged into one single cluster.\n",
        "\n",
        "![](https://www.dropbox.com/s/zbg0eqs6hg0aw7h/hc3.png?dl=1){width=500px}\n",
        "\n",
        "There are several ways to measure the distance between clusters in order to decide the rules for clustering, and they are often called Linkage Methods. Some of the common linkage methods are:\n",
        "\n",
        "* **Complete-linkage:** calculates the maximum distance between clusters before merging.\n",
        "* **Single-linkage:** calculates the minimum distance between the clusters before merging. This linkage may be used to detect high values in your dataset which may be outliers as they will be merged at the end.\n",
        "* **Average-linkage:** calculates the average distance between clusters before merging.\n",
        "* **Centroid-linkage:** finds centroid of cluster 1 and centroid of cluster 2, and then calculates the distance between the two before merging (hint: usually not a good idea).\n",
        "\n",
        "The choice of linkage method entirely depends on you and there is no hard and fast method that will always give you good results. Different linkage methods lead to different clusters.\n",
        "\n",
        "Some further practical issues:\n",
        "\n",
        "* Data on different scales can cause undesirable resultsin clustering methods\n",
        "* Solution is to scale data so that features have same mean and standard deviation\n",
        "* Subtract mean of a feature from all observations, Divide each feature by the standard deviation ofthe feature\n",
        "* Normalized features have a mean of zero and a standard deviation of one\n",
        "\n",
        "### Performing a hirarchical clustering\n",
        "However, let's get it started and perform a cluster. We here use the `hcut` function, which includes most of the abovementioned mapproaches as options.\n",
        "\n",
        "Notice that `hcut` has a `stand = TRUE` argument, meaning we do not need to scale the data beforehand.\n",
        "\n"
      ]
    },
    {
      "cell_type": "code",
      "metadata": {
        "autoscroll": false,
        "id": "S33DywKVhsQm",
        "colab_type": "code",
        "colab": {}
      },
      "source": [
        "hc <- data[,vars] %>%\n",
        "  hcut(hc_func = \"hclust\",\n",
        "       k = 3,\n",
        "       stand = TRUE)"
      ],
      "execution_count": 0,
      "outputs": []
    },
    {
      "cell_type": "markdown",
      "metadata": {
        "id": "8SjJKjfLhsQp",
        "colab_type": "text"
      },
      "source": [
        "\n",
        "In hierarchical clustering, you categorize the objects into a hierarchy similar to a tree-like diagram which is called a dendrogram. The distance of split or merge (called height) is shown on the y-axis of the dendrogram below.\n",
        "\n"
      ]
    },
    {
      "cell_type": "code",
      "metadata": {
        "Rmd_chunk_options": "fig.width=15,fig.height=10,fig.align='center'",
        "autoscroll": false,
        "id": "-VkZ28EshsQq",
        "colab_type": "code",
        "colab": {}
      },
      "source": [
        "hc %>%\n",
        "  fviz_dend(rect = TRUE, cex = 0.5)"
      ],
      "execution_count": 0,
      "outputs": []
    },
    {
      "cell_type": "markdown",
      "metadata": {
        "id": "fF6hko_xhsQt",
        "colab_type": "text"
      },
      "source": [
        "\n",
        "**Notice** how the dendrogram is built and every data point finally merges into a single cluster with the height(distance) shown on the y-axis.\n",
        "\n",
        "Let's inspect what's in the clusters.\n",
        "\n"
      ]
    },
    {
      "cell_type": "code",
      "metadata": {
        "autoscroll": false,
        "id": "f7_7JjashsQt",
        "colab_type": "code",
        "colab": {}
      },
      "source": [
        "data %>%\n",
        "  bind_cols(cluster = hc$cluster) %>%\n",
        "  select(vars.desc, cluster) %>%\n",
        "  group_by(cluster) %>%\n",
        "  mutate(n = n()) %>%\n",
        "  summarise_all(funs(mean))"
      ],
      "execution_count": 0,
      "outputs": []
    },
    {
      "cell_type": "markdown",
      "metadata": {
        "id": "SpQTJ3lshsQw",
        "colab_type": "text"
      },
      "source": [
        "\n",
        "And again visualize them:\n",
        "\n"
      ]
    },
    {
      "cell_type": "code",
      "metadata": {
        "Rmd_chunk_options": "fig.width=15,fig.height=10,fig.align='center'",
        "autoscroll": false,
        "id": "76y_H0J1hsQw",
        "colab_type": "code",
        "colab": {}
      },
      "source": [
        "hc %>%\n",
        "  fviz_cluster(data = data[,vars],\n",
        "               ggtheme = theme_gray())"
      ],
      "execution_count": 0,
      "outputs": []
    },
    {
      "cell_type": "markdown",
      "metadata": {
        "id": "wvYyxu0ZhsQz",
        "colab_type": "text"
      },
      "source": [
        "\n",
        "Looks very similar, even though the middle cluster is a bit more sqeezed in between now. We can also use our scatterplot diagnostics again, and color the observations by their cluster assignment.\n",
        "\n"
      ]
    },
    {
      "cell_type": "code",
      "metadata": {
        "Rmd_chunk_options": "fig.width=15,fig.height=15,fig.align='center'",
        "autoscroll": false,
        "id": "6YKy5RqbhsQz",
        "colab_type": "code",
        "colab": {}
      },
      "source": [
        "data[,vars.desc] %>%\n",
        "  ggpairs(lower = list(continuous = \"smooth\"),\n",
        "          aes(colour = as.factor(hc$cluster), alpha = 0.4),\n",
        "          progress = FALSE,\n",
        "          ggtheme = theme_gray() )"
      ],
      "execution_count": 0,
      "outputs": []
    },
    {
      "cell_type": "markdown",
      "metadata": {
        "id": "KA37EujmhsQ2",
        "colab_type": "text"
      },
      "source": [
        "\n",
        "\n",
        "### Hirarchical Clustering based in PCA\n",
        "You might already have wondered: \"COuld one combine a PCA with clustering techniques\"? The answer is: \"Yes!\". In practice, that actually works very fine, and often delivers more robust clusters. So, lets give it a shot. We could do it by hand, but the `HCPC` function already does that for us, and offers also a nice diagnostic viz.\n",
        "\n",
        "\n"
      ]
    },
    {
      "cell_type": "code",
      "metadata": {
        "autoscroll": false,
        "collapsed": true,
        "id": "O48GqhlshsQ3",
        "colab_type": "code",
        "colab": {}
      },
      "source": [
        "hcpc <- res.pca %>%\n",
        "  HCPC(nb.clust = -1, #  self determined: higher relative loss of inertia\n",
        "       graph = FALSE)"
      ],
      "execution_count": 0,
      "outputs": []
    },
    {
      "cell_type": "code",
      "metadata": {
        "Rmd_chunk_options": "fig.width=15,fig.height=10,fig.align='center'",
        "autoscroll": false,
        "collapsed": true,
        "id": "h9CbSaKphsQ5",
        "colab_type": "code",
        "colab": {}
      },
      "source": [
        "hcpc %>%\n",
        "  plot(choice = \"3D.map\")"
      ],
      "execution_count": 0,
      "outputs": []
    },
    {
      "cell_type": "markdown",
      "metadata": {
        "id": "yQp8u1AXhsQ8",
        "colab_type": "text"
      },
      "source": [
        "\n",
        "\n",
        "To finish up, lets plot it in a map, simplest way possible.\n",
        "\n"
      ]
    },
    {
      "cell_type": "code",
      "metadata": {
        "autoscroll": false,
        "collapsed": true,
        "id": "WufICXOHhsQ9",
        "colab_type": "code",
        "colab": {}
      },
      "source": [
        "library(ggmap)\n",
        "mapWorld <- borders(\"world\", colour = \"gray50\", fill = \"gray50\")\n",
        "\n",
        "mp <- ggplot() +\n",
        "  mapWorld\n",
        "\n",
        "mp +\n",
        "  geom_point(aes(x = data$longitude, y = data$latitude) , color = hcpc$data.clust$clust)\n"
      ],
      "execution_count": 0,
      "outputs": []
    },
    {
      "cell_type": "markdown",
      "metadata": {
        "id": "efFclE26hsQ_",
        "colab_type": "text"
      },
      "source": [
        "\n",
        "### Note: Comparing with K-Means clustering algorithm\n",
        "You might have heard about the k-means clustering algorithm; if not, take a look at this tutorial. There are many fundamental differences between the two algorithms, although any one can perform better than the other in different cases. Some of the differences are:\n",
        "\n",
        "* **Distance used:** Hierarchical clustering can virtually handle any distance metric while k-means rely on euclidean distances.\n",
        "* **Stability of results:** k-means requires a random step at its initialization that may yield different results if the process is re-run. That wouldn't be the case in hierarchical clustering.\n",
        "* **Number of Clusters:** While you can use elbow plots, Silhouette plot etc. to figure the right number of clusters in k-means, hierarchical too can use all of those but with the added benefit of leveraging the dendrogram for the same.\n",
        "* **Computation Complexity:** K-means is less computationally expensive than hierarchical clustering and can be run on large datasets within a reasonable time frame, which is the main reason k-means is more popular.\n",
        "\n",
        "### Note: Measuring Godness-of-Fit in clusters\n",
        "Perhaps the most important part in any unsupervised learning task is the analysis of the results. After you have performed the clustering using any algorithm and any sets of parameters you need to make sure that you did it right. But how do you determine that?\n",
        "\n",
        "Well, there are many measures to do this, perhaps the most popular one is the Dunn's Index. Dunn's index is the ratio between the minimum inter-cluster distances to the maximum intra-cluster diameter. The diameter of a cluster is the distance between its two furthermost points. In order to have well separated and compact clusters you should aim for a higher Dunn's index.\n",
        "\n",
        "Furthermore, graphical inspection often helps comparing the results of different algorithms and poarameters. [Here](https://cran.r-project.org/web/packages/dendextend/vignettes/Cluster_Analysis.html) you find some advanced diagnostic visualizations for hirarchical clustering.\n",
        "\n",
        "Lastly, a clusters quality is to a large extend determined by its usefulness.\n",
        "* Internal Validity\n",
        "* External Validity\n",
        "\n",
        "## Your turn!\n",
        "So, why not have some fun on your own now? try to use what you learned up to now in the following extercise dealing with Gert Hofstede's [\"6-D model of national culture\"\"](https://geerthofstede.com/culture-geert-hofstede-gert-jan-hofstede/6d-model-of-national-culture/). Please do the **Exercise 2** in the corresponding section on `github`.\n",
        "\n",
        "Have fun!\n",
        "\n",
        "# Endnotes\n",
        "\n"
      ]
    },
    {
      "cell_type": "code",
      "metadata": {
        "autoscroll": false,
        "collapsed": true,
        "id": "LMkx5HpkhsRA",
        "colab_type": "code",
        "colab": {}
      },
      "source": [
        "sessionInfo()"
      ],
      "execution_count": 0,
      "outputs": []
    },
    {
      "cell_type": "markdown",
      "metadata": {
        "id": "DXZglaLZhsRC",
        "colab_type": "text"
      },
      "source": [
        "\n"
      ]
    }
  ]
}