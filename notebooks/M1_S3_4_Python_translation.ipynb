{
  "nbformat": 4,
  "nbformat_minor": 0,
  "metadata": {
    "colab": {
      "name": "M1-S3/4 - Python translation",
      "version": "0.3.2",
      "provenance": [],
      "collapsed_sections": [],
      "include_colab_link": true
    },
    "kernelspec": {
      "name": "python3",
      "display_name": "Python 3"
    }
  },
  "cells": [
    {
      "cell_type": "markdown",
      "metadata": {
        "id": "view-in-github",
        "colab_type": "text"
      },
      "source": [
        "<a href=\"https://colab.research.google.com/github/SDS-AAU/M1-2019/blob/master/notebooks/M1_S3_4_Python_translation.ipynb\" target=\"_parent\"><img src=\"https://colab.research.google.com/assets/colab-badge.svg\" alt=\"Open In Colab\"/></a>"
      ]
    },
    {
      "cell_type": "code",
      "metadata": {
        "id": "1IFxzzzd-hRl",
        "colab_type": "code",
        "colab": {}
      },
      "source": [
        "import pandas as pd\n",
        "import numpy as np"
      ],
      "execution_count": 0,
      "outputs": []
    },
    {
      "cell_type": "code",
      "metadata": {
        "id": "W-65WhS4TVsb",
        "colab_type": "code",
        "colab": {}
      },
      "source": [
        ""
      ],
      "execution_count": 0,
      "outputs": []
    },
    {
      "cell_type": "markdown",
      "metadata": {
        "id": "s0LRc_qV_rQB",
        "colab_type": "text"
      },
      "source": [
        "\n",
        "The first part is 90% the same in python. No need for a translation\n",
        "## 2.2. Object classes\n",
        "\n",
        "Python and R objects are similar but there are some considerable differences\n",
        "R vectors can be roughly translated to lists in python.\n",
        "Below, we will try to do some of the presented operations in python."
      ]
    },
    {
      "cell_type": "code",
      "metadata": {
        "id": "6YNedwER_yer",
        "colab_type": "code",
        "outputId": "e59ebd44-0eea-444d-f096-fab738644ada",
        "colab": {
          "base_uri": "https://localhost:8080/",
          "height": 35
        }
      },
      "source": [
        "# [] initiate a list\n",
        "\n",
        "v1 = [1,5,11,33]\n",
        "v1"
      ],
      "execution_count": 0,
      "outputs": [
        {
          "output_type": "execute_result",
          "data": {
            "text/plain": [
              "[1, 5, 11, 33]"
            ]
          },
          "metadata": {
            "tags": []
          },
          "execution_count": 5
        }
      ]
    },
    {
      "cell_type": "code",
      "metadata": {
        "id": "MuVsjqw_A5sL",
        "colab_type": "code",
        "outputId": "4d207ffa-8cde-4ecd-bd73-0906f8804082",
        "colab": {
          "base_uri": "https://localhost:8080/",
          "height": 35
        }
      },
      "source": [
        "v2 = [\"hello\",\"world\"]\n",
        "v2"
      ],
      "execution_count": 0,
      "outputs": [
        {
          "output_type": "execute_result",
          "data": {
            "text/plain": [
              "['hello', 'world']"
            ]
          },
          "metadata": {
            "tags": []
          },
          "execution_count": 7
        }
      ]
    },
    {
      "cell_type": "code",
      "metadata": {
        "id": "5r-3iAR3A-DC",
        "colab_type": "code",
        "outputId": "478bb0ec-4284-4f8c-a090-fcceb51b4ebb",
        "colab": {
          "base_uri": "https://localhost:8080/",
          "height": 35
        }
      },
      "source": [
        "v3 = [True, True, False, True]\n",
        "v3"
      ],
      "execution_count": 0,
      "outputs": [
        {
          "output_type": "execute_result",
          "data": {
            "text/plain": [
              "[True, True, False, True]"
            ]
          },
          "metadata": {
            "tags": []
          },
          "execution_count": 16
        }
      ]
    },
    {
      "cell_type": "markdown",
      "metadata": {
        "id": "odc1xHxmBWsA",
        "colab_type": "text"
      },
      "source": [
        "Combining different types of elements in one vector will coerce the elements to the least restrictive type when using R\n",
        "\n",
        "In python you obtain a list of lists with all elements in their original format"
      ]
    },
    {
      "cell_type": "code",
      "metadata": {
        "id": "fQZ7HVJDBH6y",
        "colab_type": "code",
        "outputId": "1483497b-4534-4f4b-e19f-8f65785d68f5",
        "colab": {
          "base_uri": "https://localhost:8080/",
          "height": 35
        }
      },
      "source": [
        "v4 =[v1, v2, v3, 'boo']\n",
        "v4"
      ],
      "execution_count": 0,
      "outputs": [
        {
          "output_type": "execute_result",
          "data": {
            "text/plain": [
              "[[1, 5, 11, 33], ['hello', 'world'], [True, True, False], 'boo']"
            ]
          },
          "metadata": {
            "tags": []
          },
          "execution_count": 11
        }
      ]
    },
    {
      "cell_type": "markdown",
      "metadata": {
        "id": "lD1HhJUdBnle",
        "colab_type": "text"
      },
      "source": [
        "Integers (numbers) are still numbers, not strings (text). Easy to see because they don't have ' '"
      ]
    },
    {
      "cell_type": "markdown",
      "metadata": {
        "id": "4nwBrA3mB3kM",
        "colab_type": "text"
      },
      "source": [
        "Element-wise operations: \n",
        "Are not possible with lists in the same way as in R. Addition will just lead to appending lists.\n",
        "Yet, you can achieve the same functionality using numpy.arrays rather than lists."
      ]
    },
    {
      "cell_type": "code",
      "metadata": {
        "id": "U5ozc0Q8BR4L",
        "colab_type": "code",
        "outputId": "e61bb949-0419-4938-a83b-a7b4014411e3",
        "colab": {
          "base_uri": "https://localhost:8080/",
          "height": 35
        }
      },
      "source": [
        "v1 + v3"
      ],
      "execution_count": 0,
      "outputs": [
        {
          "output_type": "execute_result",
          "data": {
            "text/plain": [
              "[1, 5, 11, 33, True, True, False, True]"
            ]
          },
          "metadata": {
            "tags": []
          },
          "execution_count": 18
        }
      ]
    },
    {
      "cell_type": "code",
      "metadata": {
        "id": "15du6wGyB0qj",
        "colab_type": "code",
        "outputId": "8e9a97b7-ff5e-4222-99f3-46cf28853d32",
        "colab": {
          "base_uri": "https://localhost:8080/",
          "height": 35
        }
      },
      "source": [
        "np.array(v1) + np.array(v3)"
      ],
      "execution_count": 0,
      "outputs": [
        {
          "output_type": "execute_result",
          "data": {
            "text/plain": [
              "array([ 2,  6, 11, 34])"
            ]
          },
          "metadata": {
            "tags": []
          },
          "execution_count": 19
        }
      ]
    },
    {
      "cell_type": "markdown",
      "metadata": {
        "id": "Pii89a7VCguH",
        "colab_type": "text"
      },
      "source": [
        "NumPy is a library, adding support for large, multi-dimensional arrays and matrices, along with a large collection of high-level mathematical functions to operate on these arrays. Here, you can already see that R comes from Maths and Stats, while Python is a CS language."
      ]
    },
    {
      "cell_type": "code",
      "metadata": {
        "id": "LTbWQMQyCKmT",
        "colab_type": "code",
        "outputId": "61ecad05-0a43-4507-cb01-c4a49523e18c",
        "colab": {
          "base_uri": "https://localhost:8080/",
          "height": 35
        }
      },
      "source": [
        "# Same for multiplication\n",
        "v1 * 2"
      ],
      "execution_count": 0,
      "outputs": [
        {
          "output_type": "execute_result",
          "data": {
            "text/plain": [
              "[1, 5, 11, 33, 1, 5, 11, 33]"
            ]
          },
          "metadata": {
            "tags": []
          },
          "execution_count": 20
        }
      ]
    },
    {
      "cell_type": "markdown",
      "metadata": {
        "id": "5_RPEc6LLCv8",
        "colab_type": "text"
      },
      "source": [
        "To do math, we need to transform the list into an array"
      ]
    },
    {
      "cell_type": "code",
      "metadata": {
        "id": "fxe8YWGUC462",
        "colab_type": "code",
        "outputId": "bf2b3bd5-1fae-4bcc-f8fd-2f6d66cfbbb5",
        "colab": {
          "base_uri": "https://localhost:8080/",
          "height": 35
        }
      },
      "source": [
        "v1_array  = np.array(v1)\n",
        "\n",
        "v1_array * 2"
      ],
      "execution_count": 0,
      "outputs": [
        {
          "output_type": "execute_result",
          "data": {
            "text/plain": [
              "array([ 2, 10, 22, 66])"
            ]
          },
          "metadata": {
            "tags": []
          },
          "execution_count": 21
        }
      ]
    },
    {
      "cell_type": "code",
      "metadata": {
        "id": "h9EGsZTRDA23",
        "colab_type": "code",
        "outputId": "56f74df9-8098-480e-c1c5-f65e98600d81",
        "colab": {
          "base_uri": "https://localhost:8080/",
          "height": 165
        }
      },
      "source": [
        "# What works in R, doesn't necessarily work in Python (probably there is some way to get there but just \n",
        "# running + gives you an error)\n",
        "v1_array + np.array([1,7])"
      ],
      "execution_count": 0,
      "outputs": [
        {
          "output_type": "error",
          "ename": "ValueError",
          "evalue": "ignored",
          "traceback": [
            "\u001b[0;31m---------------------------------------------------------------------------\u001b[0m",
            "\u001b[0;31mValueError\u001b[0m                                Traceback (most recent call last)",
            "\u001b[0;32m<ipython-input-22-ce6a8b370c8c>\u001b[0m in \u001b[0;36m<module>\u001b[0;34m()\u001b[0m\n\u001b[0;32m----> 1\u001b[0;31m \u001b[0mv1_array\u001b[0m \u001b[0;34m+\u001b[0m \u001b[0mnp\u001b[0m\u001b[0;34m.\u001b[0m\u001b[0marray\u001b[0m\u001b[0;34m(\u001b[0m\u001b[0;34m[\u001b[0m\u001b[0;36m1\u001b[0m\u001b[0;34m,\u001b[0m\u001b[0;36m7\u001b[0m\u001b[0;34m]\u001b[0m\u001b[0;34m)\u001b[0m\u001b[0;34m\u001b[0m\u001b[0;34m\u001b[0m\u001b[0m\n\u001b[0m",
            "\u001b[0;31mValueError\u001b[0m: operands could not be broadcast together with shapes (4,) (2,) "
          ]
        }
      ]
    },
    {
      "cell_type": "code",
      "metadata": {
        "id": "pBsnrz9GDXlU",
        "colab_type": "code",
        "outputId": "f4c2333e-645a-4f9c-b056-608d29714154",
        "colab": {
          "base_uri": "https://localhost:8080/",
          "height": 35
        }
      },
      "source": [
        "# that works the same way\n",
        "sum(v1)"
      ],
      "execution_count": 0,
      "outputs": [
        {
          "output_type": "execute_result",
          "data": {
            "text/plain": [
              "50"
            ]
          },
          "metadata": {
            "tags": []
          },
          "execution_count": 23
        }
      ]
    },
    {
      "cell_type": "markdown",
      "metadata": {
        "id": "37KJ4XIPDwwe",
        "colab_type": "text"
      },
      "source": [
        "For more maths you need to engage numpy or other modules (Python is not a maths language)"
      ]
    },
    {
      "cell_type": "code",
      "metadata": {
        "id": "NXuWEoQ7DrFd",
        "colab_type": "code",
        "outputId": "46e3a406-26c0-4965-c529-355c302fa2e2",
        "colab": {
          "base_uri": "https://localhost:8080/",
          "height": 35
        }
      },
      "source": [
        "np.mean(v1)"
      ],
      "execution_count": 0,
      "outputs": [
        {
          "output_type": "execute_result",
          "data": {
            "text/plain": [
              "12.5"
            ]
          },
          "metadata": {
            "tags": []
          },
          "execution_count": 25
        }
      ]
    },
    {
      "cell_type": "code",
      "metadata": {
        "id": "sjAX77_4KfAT",
        "colab_type": "code",
        "outputId": "7d93dbf6-b63a-43a0-d143-e04828453d4f",
        "colab": {
          "base_uri": "https://localhost:8080/",
          "height": 35
        }
      },
      "source": [
        "# Standard deviation for population - DeltaDegreesOfFreedom = 0 by default\n",
        "np.std(v1, ddof=0)"
      ],
      "execution_count": 0,
      "outputs": [
        {
          "output_type": "execute_result",
          "data": {
            "text/plain": [
              "12.359207094308275"
            ]
          },
          "metadata": {
            "tags": []
          },
          "execution_count": 34
        }
      ]
    },
    {
      "cell_type": "code",
      "metadata": {
        "id": "kDOkhq4cDvVe",
        "colab_type": "code",
        "outputId": "f83c1eb7-52c5-42be-bebf-b597e165b081",
        "colab": {
          "base_uri": "https://localhost:8080/",
          "height": 35
        }
      },
      "source": [
        "# This will give you the same as R\n",
        "\n",
        "np.std(v1, ddof=1)"
      ],
      "execution_count": 0,
      "outputs": [
        {
          "output_type": "execute_result",
          "data": {
            "text/plain": [
              "14.27118308573843"
            ]
          },
          "metadata": {
            "tags": []
          },
          "execution_count": 33
        }
      ]
    },
    {
      "cell_type": "code",
      "metadata": {
        "id": "gGf4jB8MKbgA",
        "colab_type": "code",
        "outputId": "4fd5b42a-9c39-4107-9145-093282794f82",
        "colab": {
          "base_uri": "https://localhost:8080/",
          "height": 52
        }
      },
      "source": [
        "np.corrcoef(v1_array,v1_array*5)"
      ],
      "execution_count": 0,
      "outputs": [
        {
          "output_type": "execute_result",
          "data": {
            "text/plain": [
              "array([[1., 1.],\n",
              "       [1., 1.]])"
            ]
          },
          "metadata": {
            "tags": []
          },
          "execution_count": 36
        }
      ]
    },
    {
      "cell_type": "code",
      "metadata": {
        "id": "VNW88bY6K6T-",
        "colab_type": "code",
        "outputId": "18acba74-87f6-40dd-af9d-226cf431faef",
        "colab": {
          "base_uri": "https://localhost:8080/",
          "height": 35
        }
      },
      "source": [
        "v1_array > 2"
      ],
      "execution_count": 0,
      "outputs": [
        {
          "output_type": "execute_result",
          "data": {
            "text/plain": [
              "array([False,  True,  True,  True])"
            ]
          },
          "metadata": {
            "tags": []
          },
          "execution_count": 38
        }
      ]
    },
    {
      "cell_type": "markdown",
      "metadata": {
        "id": "wFqKVINTL1RN",
        "colab_type": "text"
      },
      "source": [
        "The majority of the contents before 2.2.5 can be found in this cheat sheet\n",
        "\n",
        "https://s3.amazonaws.com/assets.datacamp.com/blog_assets/Numpy_Python_Cheat_Sheet.pdf"
      ]
    },
    {
      "cell_type": "markdown",
      "metadata": {
        "id": "QoEnu2rcMMSY",
        "colab_type": "text"
      },
      "source": [
        "## 2.2.5 Data Frames\n",
        "\n",
        "In Python Data Frames are managed by Pandas, a very comprehensive library for data manipulation and analysis\n",
        "\n",
        "https://pandas.pydata.org/Pandas_Cheat_Sheet.pdf"
      ]
    },
    {
      "cell_type": "code",
      "metadata": {
        "id": "_FQ-oFLZL7CG",
        "colab_type": "code",
        "colab": {}
      },
      "source": [
        "# We construct the DF from a dictionary which is indicated by {'some_key':['some_values']}\n",
        "\n",
        "dfr1 = pd.DataFrame(\n",
        "    {'ID':range(1,5), # Python counts from 0 and the last value in a range is excluded\n",
        "     'FirstName':[\"Jesper\",\"Jonas\",\"Pernille\",\"Helle\"],\n",
        "     'Female':[False,False,True,True],\n",
        "     'Age':[22,33,44,55]\n",
        "})"
      ],
      "execution_count": 0,
      "outputs": []
    },
    {
      "cell_type": "code",
      "metadata": {
        "id": "qipUW6Q1NVKY",
        "colab_type": "code",
        "outputId": "1e87bf31-e55b-4a1d-a4ea-d7c1af4ab18f",
        "colab": {
          "base_uri": "https://localhost:8080/",
          "height": 173
        }
      },
      "source": [
        "# Python doesn't really do much factors and as you can see pandas understood your input formats\n",
        "dfr1.info()"
      ],
      "execution_count": 0,
      "outputs": [
        {
          "output_type": "stream",
          "text": [
            "<class 'pandas.core.frame.DataFrame'>\n",
            "RangeIndex: 4 entries, 0 to 3\n",
            "Data columns (total 4 columns):\n",
            "ID           4 non-null int64\n",
            "FirstName    4 non-null object\n",
            "Female       4 non-null bool\n",
            "Age          4 non-null int64\n",
            "dtypes: bool(1), int64(2), object(1)\n",
            "memory usage: 180.0+ bytes\n"
          ],
          "name": "stdout"
        }
      ]
    },
    {
      "cell_type": "code",
      "metadata": {
        "id": "SD7HZIQQNkpU",
        "colab_type": "code",
        "outputId": "30611304-b1d8-4994-f04a-0380decc284f",
        "colab": {
          "base_uri": "https://localhost:8080/",
          "height": 104
        }
      },
      "source": [
        "dfr1.FirstName #dot notation"
      ],
      "execution_count": 0,
      "outputs": [
        {
          "output_type": "execute_result",
          "data": {
            "text/plain": [
              "0      Jesper\n",
              "1       Jonas\n",
              "2    Pernille\n",
              "3       Helle\n",
              "Name: FirstName, dtype: object"
            ]
          },
          "metadata": {
            "tags": []
          },
          "execution_count": 53
        }
      ]
    },
    {
      "cell_type": "code",
      "metadata": {
        "id": "0Do1Lk-uN2zO",
        "colab_type": "code",
        "outputId": "bac24356-7840-468a-8c10-53e0de4e45a5",
        "colab": {
          "base_uri": "https://localhost:8080/",
          "height": 104
        }
      },
      "source": [
        "dfr1['FirstName'] #more traditional subsetting"
      ],
      "execution_count": 0,
      "outputs": [
        {
          "output_type": "execute_result",
          "data": {
            "text/plain": [
              "0      Jesper\n",
              "1       Jonas\n",
              "2    Pernille\n",
              "3       Helle\n",
              "Name: FirstName, dtype: object"
            ]
          },
          "metadata": {
            "tags": []
          },
          "execution_count": 54
        }
      ]
    },
    {
      "cell_type": "code",
      "metadata": {
        "id": "zLFKVJVsN9bD",
        "colab_type": "code",
        "outputId": "d245b40c-f67c-41ba-997e-de4f091fca2b",
        "colab": {
          "base_uri": "https://localhost:8080/",
          "height": 104
        }
      },
      "source": [
        "dfr1.loc[:,'FirstName'] #more complex subsetting"
      ],
      "execution_count": 0,
      "outputs": [
        {
          "output_type": "execute_result",
          "data": {
            "text/plain": [
              "0      Jesper\n",
              "1       Jonas\n",
              "2    Pernille\n",
              "3       Helle\n",
              "Name: FirstName, dtype: object"
            ]
          },
          "metadata": {
            "tags": []
          },
          "execution_count": 55
        }
      ]
    },
    {
      "cell_type": "code",
      "metadata": {
        "id": "9J8NRzRrOBcD",
        "colab_type": "code",
        "outputId": "e82c99e8-c18e-48e6-d6e8-a7c8fbe16f2b",
        "colab": {
          "base_uri": "https://localhost:8080/",
          "height": 104
        }
      },
      "source": [
        "dfr1.iloc[:,1] #index based"
      ],
      "execution_count": 0,
      "outputs": [
        {
          "output_type": "execute_result",
          "data": {
            "text/plain": [
              "0      Jesper\n",
              "1       Jonas\n",
              "2    Pernille\n",
              "3       Helle\n",
              "Name: FirstName, dtype: object"
            ]
          },
          "metadata": {
            "tags": []
          },
          "execution_count": 56
        }
      ]
    },
    {
      "cell_type": "code",
      "metadata": {
        "id": "duwAHqnyOHlH",
        "colab_type": "code",
        "outputId": "0e4851f2-7922-4f6d-ba67-0f9d029e1ff3",
        "colab": {
          "base_uri": "https://localhost:8080/",
          "height": 108
        }
      },
      "source": [
        "# Rows 1 and 2, columns 3 and 4 - the gender and age of Jesper & Jonas\n",
        "dfr1.iloc[[0,1],[2,3]]\n"
      ],
      "execution_count": 0,
      "outputs": [
        {
          "output_type": "execute_result",
          "data": {
            "text/html": [
              "<div>\n",
              "<style scoped>\n",
              "    .dataframe tbody tr th:only-of-type {\n",
              "        vertical-align: middle;\n",
              "    }\n",
              "\n",
              "    .dataframe tbody tr th {\n",
              "        vertical-align: top;\n",
              "    }\n",
              "\n",
              "    .dataframe thead th {\n",
              "        text-align: right;\n",
              "    }\n",
              "</style>\n",
              "<table border=\"1\" class=\"dataframe\">\n",
              "  <thead>\n",
              "    <tr style=\"text-align: right;\">\n",
              "      <th></th>\n",
              "      <th>Female</th>\n",
              "      <th>Age</th>\n",
              "    </tr>\n",
              "  </thead>\n",
              "  <tbody>\n",
              "    <tr>\n",
              "      <th>0</th>\n",
              "      <td>False</td>\n",
              "      <td>22</td>\n",
              "    </tr>\n",
              "    <tr>\n",
              "      <th>1</th>\n",
              "      <td>False</td>\n",
              "      <td>33</td>\n",
              "    </tr>\n",
              "  </tbody>\n",
              "</table>\n",
              "</div>"
            ],
            "text/plain": [
              "   Female  Age\n",
              "0   False   22\n",
              "1   False   33"
            ]
          },
          "metadata": {
            "tags": []
          },
          "execution_count": 57
        }
      ]
    },
    {
      "cell_type": "code",
      "metadata": {
        "id": "xUHIecqoOjhR",
        "colab_type": "code",
        "outputId": "65b493fa-d58a-4aeb-805c-108367584681",
        "colab": {
          "base_uri": "https://localhost:8080/",
          "height": 108
        }
      },
      "source": [
        "#Same thing\n",
        "dfr1.loc[[0,1],['Female','Age']]"
      ],
      "execution_count": 0,
      "outputs": [
        {
          "output_type": "execute_result",
          "data": {
            "text/html": [
              "<div>\n",
              "<style scoped>\n",
              "    .dataframe tbody tr th:only-of-type {\n",
              "        vertical-align: middle;\n",
              "    }\n",
              "\n",
              "    .dataframe tbody tr th {\n",
              "        vertical-align: top;\n",
              "    }\n",
              "\n",
              "    .dataframe thead th {\n",
              "        text-align: right;\n",
              "    }\n",
              "</style>\n",
              "<table border=\"1\" class=\"dataframe\">\n",
              "  <thead>\n",
              "    <tr style=\"text-align: right;\">\n",
              "      <th></th>\n",
              "      <th>Female</th>\n",
              "      <th>Age</th>\n",
              "    </tr>\n",
              "  </thead>\n",
              "  <tbody>\n",
              "    <tr>\n",
              "      <th>0</th>\n",
              "      <td>False</td>\n",
              "      <td>22</td>\n",
              "    </tr>\n",
              "    <tr>\n",
              "      <th>1</th>\n",
              "      <td>False</td>\n",
              "      <td>33</td>\n",
              "    </tr>\n",
              "  </tbody>\n",
              "</table>\n",
              "</div>"
            ],
            "text/plain": [
              "   Female  Age\n",
              "0   False   22\n",
              "1   False   33"
            ]
          },
          "metadata": {
            "tags": []
          },
          "execution_count": 58
        }
      ]
    },
    {
      "cell_type": "code",
      "metadata": {
        "id": "XDKencHoOy5O",
        "colab_type": "code",
        "outputId": "0f1886a8-f742-4091-c076-253de4e6da5f",
        "colab": {
          "base_uri": "https://localhost:8080/",
          "height": 108
        }
      },
      "source": [
        "# Rows 1 and 3, all columns\n",
        "\n",
        "dfr1.iloc[[0,2],:] # don't forget to count index-1 when going from R to python"
      ],
      "execution_count": 0,
      "outputs": [
        {
          "output_type": "execute_result",
          "data": {
            "text/html": [
              "<div>\n",
              "<style scoped>\n",
              "    .dataframe tbody tr th:only-of-type {\n",
              "        vertical-align: middle;\n",
              "    }\n",
              "\n",
              "    .dataframe tbody tr th {\n",
              "        vertical-align: top;\n",
              "    }\n",
              "\n",
              "    .dataframe thead th {\n",
              "        text-align: right;\n",
              "    }\n",
              "</style>\n",
              "<table border=\"1\" class=\"dataframe\">\n",
              "  <thead>\n",
              "    <tr style=\"text-align: right;\">\n",
              "      <th></th>\n",
              "      <th>ID</th>\n",
              "      <th>FirstName</th>\n",
              "      <th>Female</th>\n",
              "      <th>Age</th>\n",
              "    </tr>\n",
              "  </thead>\n",
              "  <tbody>\n",
              "    <tr>\n",
              "      <th>0</th>\n",
              "      <td>1</td>\n",
              "      <td>Jesper</td>\n",
              "      <td>False</td>\n",
              "      <td>22</td>\n",
              "    </tr>\n",
              "    <tr>\n",
              "      <th>2</th>\n",
              "      <td>3</td>\n",
              "      <td>Pernille</td>\n",
              "      <td>True</td>\n",
              "      <td>44</td>\n",
              "    </tr>\n",
              "  </tbody>\n",
              "</table>\n",
              "</div>"
            ],
            "text/plain": [
              "   ID FirstName  Female  Age\n",
              "0   1    Jesper   False   22\n",
              "2   3  Pernille    True   44"
            ]
          },
          "metadata": {
            "tags": []
          },
          "execution_count": 60
        }
      ]
    },
    {
      "cell_type": "code",
      "metadata": {
        "id": "b8vrtaLOPBuy",
        "colab_type": "code",
        "outputId": "7a446167-b890-4c21-d9a3-95ce9b5df907",
        "colab": {
          "base_uri": "https://localhost:8080/",
          "height": 138
        }
      },
      "source": [
        "#Find the names of everyone over the age of 30 in the data\n",
        "dfr1[dfr1.Age > 30]"
      ],
      "execution_count": 0,
      "outputs": [
        {
          "output_type": "execute_result",
          "data": {
            "text/html": [
              "<div>\n",
              "<style scoped>\n",
              "    .dataframe tbody tr th:only-of-type {\n",
              "        vertical-align: middle;\n",
              "    }\n",
              "\n",
              "    .dataframe tbody tr th {\n",
              "        vertical-align: top;\n",
              "    }\n",
              "\n",
              "    .dataframe thead th {\n",
              "        text-align: right;\n",
              "    }\n",
              "</style>\n",
              "<table border=\"1\" class=\"dataframe\">\n",
              "  <thead>\n",
              "    <tr style=\"text-align: right;\">\n",
              "      <th></th>\n",
              "      <th>ID</th>\n",
              "      <th>FirstName</th>\n",
              "      <th>Female</th>\n",
              "      <th>Age</th>\n",
              "    </tr>\n",
              "  </thead>\n",
              "  <tbody>\n",
              "    <tr>\n",
              "      <th>1</th>\n",
              "      <td>2</td>\n",
              "      <td>Jonas</td>\n",
              "      <td>False</td>\n",
              "      <td>33</td>\n",
              "    </tr>\n",
              "    <tr>\n",
              "      <th>2</th>\n",
              "      <td>3</td>\n",
              "      <td>Pernille</td>\n",
              "      <td>True</td>\n",
              "      <td>44</td>\n",
              "    </tr>\n",
              "    <tr>\n",
              "      <th>3</th>\n",
              "      <td>4</td>\n",
              "      <td>Helle</td>\n",
              "      <td>True</td>\n",
              "      <td>55</td>\n",
              "    </tr>\n",
              "  </tbody>\n",
              "</table>\n",
              "</div>"
            ],
            "text/plain": [
              "   ID FirstName  Female  Age\n",
              "1   2     Jonas   False   33\n",
              "2   3  Pernille    True   44\n",
              "3   4     Helle    True   55"
            ]
          },
          "metadata": {
            "tags": []
          },
          "execution_count": 62
        }
      ]
    },
    {
      "cell_type": "code",
      "metadata": {
        "id": "2ORTGEiMPR-M",
        "colab_type": "code",
        "outputId": "308018a9-c3d6-45d6-98c7-51235d052b25",
        "colab": {
          "base_uri": "https://localhost:8080/",
          "height": 138
        }
      },
      "source": [
        "# or \"Query style\" (There are always many ways of doing the same thing)\n",
        "\n",
        "dfr1.query('Age > 30')"
      ],
      "execution_count": 0,
      "outputs": [
        {
          "output_type": "execute_result",
          "data": {
            "text/html": [
              "<div>\n",
              "<style scoped>\n",
              "    .dataframe tbody tr th:only-of-type {\n",
              "        vertical-align: middle;\n",
              "    }\n",
              "\n",
              "    .dataframe tbody tr th {\n",
              "        vertical-align: top;\n",
              "    }\n",
              "\n",
              "    .dataframe thead th {\n",
              "        text-align: right;\n",
              "    }\n",
              "</style>\n",
              "<table border=\"1\" class=\"dataframe\">\n",
              "  <thead>\n",
              "    <tr style=\"text-align: right;\">\n",
              "      <th></th>\n",
              "      <th>ID</th>\n",
              "      <th>FirstName</th>\n",
              "      <th>Female</th>\n",
              "      <th>Age</th>\n",
              "    </tr>\n",
              "  </thead>\n",
              "  <tbody>\n",
              "    <tr>\n",
              "      <th>1</th>\n",
              "      <td>2</td>\n",
              "      <td>Jonas</td>\n",
              "      <td>False</td>\n",
              "      <td>33</td>\n",
              "    </tr>\n",
              "    <tr>\n",
              "      <th>2</th>\n",
              "      <td>3</td>\n",
              "      <td>Pernille</td>\n",
              "      <td>True</td>\n",
              "      <td>44</td>\n",
              "    </tr>\n",
              "    <tr>\n",
              "      <th>3</th>\n",
              "      <td>4</td>\n",
              "      <td>Helle</td>\n",
              "      <td>True</td>\n",
              "      <td>55</td>\n",
              "    </tr>\n",
              "  </tbody>\n",
              "</table>\n",
              "</div>"
            ],
            "text/plain": [
              "   ID FirstName  Female  Age\n",
              "1   2     Jonas   False   33\n",
              "2   3  Pernille    True   44\n",
              "3   4     Helle    True   55"
            ]
          },
          "metadata": {
            "tags": []
          },
          "execution_count": 63
        }
      ]
    },
    {
      "cell_type": "markdown",
      "metadata": {
        "id": "2zKsNBO2Puim",
        "colab_type": "text"
      },
      "source": [
        "## 2.2.6 Flow Control (loops & friends)\n",
        "\n",
        "Python is made for readability and therefor tabs and new lines have syntax meaning\n"
      ]
    },
    {
      "cell_type": "code",
      "metadata": {
        "id": "OEdVwW4oPmrG",
        "colab_type": "code",
        "outputId": "333b9359-1179-4e11-e4c4-e4d19cd69b62",
        "colab": {
          "base_uri": "https://localhost:8080/",
          "height": 35
        }
      },
      "source": [
        "x = 5 \n",
        "y = 10\n",
        "\n",
        "if (x==0):\n",
        "  y = 0 \n",
        "else:\n",
        "  y = y/x  \n",
        "  print(y)"
      ],
      "execution_count": 0,
      "outputs": [
        {
          "output_type": "stream",
          "text": [
            "2.0\n"
          ],
          "name": "stdout"
        }
      ]
    },
    {
      "cell_type": "code",
      "metadata": {
        "id": "CPnjWDyUQBA2",
        "colab_type": "code",
        "outputId": "244cf6d7-b071-4227-82c7-0069e6c0761e",
        "colab": {
          "base_uri": "https://localhost:8080/",
          "height": 104
        }
      },
      "source": [
        "for i in range(1,x+1):\n",
        "  print(\"OMG, i just counted to \" + str(i))"
      ],
      "execution_count": 0,
      "outputs": [
        {
          "output_type": "stream",
          "text": [
            "OMG, i just counted to 1\n",
            "OMG, i just counted to 2\n",
            "OMG, i just counted to 3\n",
            "OMG, i just counted to 4\n",
            "OMG, i just counted to 5\n"
          ],
          "name": "stdout"
        }
      ]
    },
    {
      "cell_type": "code",
      "metadata": {
        "id": "fF4dZdA_QwWQ",
        "colab_type": "code",
        "outputId": "2e9ad8a0-3133-4234-8c81-25571eff5f5d",
        "colab": {
          "base_uri": "https://localhost:8080/",
          "height": 104
        }
      },
      "source": [
        "while x > 0:\n",
        "  print(x) \n",
        "  x = x-1"
      ],
      "execution_count": 0,
      "outputs": [
        {
          "output_type": "stream",
          "text": [
            "5\n",
            "4\n",
            "3\n",
            "2\n",
            "1\n"
          ],
          "name": "stdout"
        }
      ]
    },
    {
      "cell_type": "code",
      "metadata": {
        "id": "4sLNd02bQ__C",
        "colab_type": "code",
        "outputId": "d22d166e-dae1-4dc6-c7a8-28ef779dea36",
        "colab": {
          "base_uri": "https://localhost:8080/",
          "height": 155
        }
      },
      "source": [
        "while True: #kind of like repeat in R\n",
        "  print(x)\n",
        "  x = x + 1\n",
        "  if x > 7:\n",
        "    break"
      ],
      "execution_count": 0,
      "outputs": [
        {
          "output_type": "stream",
          "text": [
            "0\n",
            "1\n",
            "2\n",
            "3\n",
            "4\n",
            "5\n",
            "6\n",
            "7\n"
          ],
          "name": "stdout"
        }
      ]
    },
    {
      "cell_type": "markdown",
      "metadata": {
        "id": "6wdFDhN3VlC7",
        "colab_type": "text"
      },
      "source": [
        "Python does not have pipes. Yet, much of the piping is very similar to dot \".\" in Python"
      ]
    },
    {
      "cell_type": "code",
      "metadata": {
        "id": "ZYJJlO9zahZH",
        "colab_type": "code",
        "colab": {}
      },
      "source": [
        "starwars = pd.read_csv(\"http://sds-datacrunch.aau.dk/public/characters.csv\")"
      ],
      "execution_count": 0,
      "outputs": []
    },
    {
      "cell_type": "markdown",
      "metadata": {
        "id": "9Fz8UY0udQAj",
        "colab_type": "text"
      },
      "source": [
        "Python does not offer the same consistant verb and pipe grammer. But it's OK :-)\n",
        "\n",
        "More on that here: https://gist.github.com/conormm/fd8b1980c28dd21cfaf6975c86c74d07"
      ]
    },
    {
      "cell_type": "code",
      "metadata": {
        "id": "dHrWIiAac17f",
        "colab_type": "code",
        "outputId": "75a7954b-1673-4cff-a2d4-c7e3e46c2d5e",
        "colab": {
          "base_uri": "https://localhost:8080/",
          "height": 198
        }
      },
      "source": [
        "# filter\n",
        "\n",
        "starwars[starwars['species'] == 'Droid']"
      ],
      "execution_count": 0,
      "outputs": [
        {
          "output_type": "execute_result",
          "data": {
            "text/html": [
              "<div>\n",
              "<style scoped>\n",
              "    .dataframe tbody tr th:only-of-type {\n",
              "        vertical-align: middle;\n",
              "    }\n",
              "\n",
              "    .dataframe tbody tr th {\n",
              "        vertical-align: top;\n",
              "    }\n",
              "\n",
              "    .dataframe thead th {\n",
              "        text-align: right;\n",
              "    }\n",
              "</style>\n",
              "<table border=\"1\" class=\"dataframe\">\n",
              "  <thead>\n",
              "    <tr style=\"text-align: right;\">\n",
              "      <th></th>\n",
              "      <th>name</th>\n",
              "      <th>height</th>\n",
              "      <th>mass</th>\n",
              "      <th>hair_color</th>\n",
              "      <th>skin_color</th>\n",
              "      <th>eye_color</th>\n",
              "      <th>birth_year</th>\n",
              "      <th>gender</th>\n",
              "      <th>homeworld</th>\n",
              "      <th>species</th>\n",
              "    </tr>\n",
              "  </thead>\n",
              "  <tbody>\n",
              "    <tr>\n",
              "      <th>1</th>\n",
              "      <td>C-3PO</td>\n",
              "      <td>167.0</td>\n",
              "      <td>75.0</td>\n",
              "      <td>NaN</td>\n",
              "      <td>gold</td>\n",
              "      <td>yellow</td>\n",
              "      <td>112BBY</td>\n",
              "      <td>NaN</td>\n",
              "      <td>Tatooine</td>\n",
              "      <td>Droid</td>\n",
              "    </tr>\n",
              "    <tr>\n",
              "      <th>2</th>\n",
              "      <td>R2-D2</td>\n",
              "      <td>96.0</td>\n",
              "      <td>32.0</td>\n",
              "      <td>NaN</td>\n",
              "      <td>white, blue</td>\n",
              "      <td>red</td>\n",
              "      <td>33BBY</td>\n",
              "      <td>NaN</td>\n",
              "      <td>Naboo</td>\n",
              "      <td>Droid</td>\n",
              "    </tr>\n",
              "    <tr>\n",
              "      <th>7</th>\n",
              "      <td>R5-D4</td>\n",
              "      <td>97.0</td>\n",
              "      <td>32.0</td>\n",
              "      <td>NaN</td>\n",
              "      <td>white, red</td>\n",
              "      <td>red</td>\n",
              "      <td>NaN</td>\n",
              "      <td>NaN</td>\n",
              "      <td>Tatooine</td>\n",
              "      <td>Droid</td>\n",
              "    </tr>\n",
              "    <tr>\n",
              "      <th>21</th>\n",
              "      <td>IG-88</td>\n",
              "      <td>200.0</td>\n",
              "      <td>140.0</td>\n",
              "      <td>none</td>\n",
              "      <td>metal</td>\n",
              "      <td>red</td>\n",
              "      <td>15BBY</td>\n",
              "      <td>none</td>\n",
              "      <td>NaN</td>\n",
              "      <td>Droid</td>\n",
              "    </tr>\n",
              "    <tr>\n",
              "      <th>84</th>\n",
              "      <td>BB8</td>\n",
              "      <td>NaN</td>\n",
              "      <td>NaN</td>\n",
              "      <td>none</td>\n",
              "      <td>none</td>\n",
              "      <td>black</td>\n",
              "      <td>NaN</td>\n",
              "      <td>none</td>\n",
              "      <td>NaN</td>\n",
              "      <td>Droid</td>\n",
              "    </tr>\n",
              "  </tbody>\n",
              "</table>\n",
              "</div>"
            ],
            "text/plain": [
              "     name  height   mass hair_color  ... birth_year gender homeworld species\n",
              "1   C-3PO   167.0   75.0        NaN  ...     112BBY    NaN  Tatooine   Droid\n",
              "2   R2-D2    96.0   32.0        NaN  ...      33BBY    NaN     Naboo   Droid\n",
              "7   R5-D4    97.0   32.0        NaN  ...        NaN    NaN  Tatooine   Droid\n",
              "21  IG-88   200.0  140.0       none  ...      15BBY   none       NaN   Droid\n",
              "84    BB8     NaN    NaN       none  ...        NaN   none       NaN   Droid\n",
              "\n",
              "[5 rows x 10 columns]"
            ]
          },
          "metadata": {
            "tags": []
          },
          "execution_count": 150
        }
      ]
    },
    {
      "cell_type": "code",
      "metadata": {
        "id": "gVSEWCC-dET6",
        "colab_type": "code",
        "outputId": "5468bb02-5ba8-4412-9ad5-13e5796d97bc",
        "colab": {
          "base_uri": "https://localhost:8080/",
          "height": 348
        }
      },
      "source": [
        "# select\n",
        "\n",
        "starwars[['name','homeworld']].head(10)"
      ],
      "execution_count": 0,
      "outputs": [
        {
          "output_type": "execute_result",
          "data": {
            "text/html": [
              "<div>\n",
              "<style scoped>\n",
              "    .dataframe tbody tr th:only-of-type {\n",
              "        vertical-align: middle;\n",
              "    }\n",
              "\n",
              "    .dataframe tbody tr th {\n",
              "        vertical-align: top;\n",
              "    }\n",
              "\n",
              "    .dataframe thead th {\n",
              "        text-align: right;\n",
              "    }\n",
              "</style>\n",
              "<table border=\"1\" class=\"dataframe\">\n",
              "  <thead>\n",
              "    <tr style=\"text-align: right;\">\n",
              "      <th></th>\n",
              "      <th>name</th>\n",
              "      <th>homeworld</th>\n",
              "    </tr>\n",
              "  </thead>\n",
              "  <tbody>\n",
              "    <tr>\n",
              "      <th>0</th>\n",
              "      <td>Luke Skywalker</td>\n",
              "      <td>Tatooine</td>\n",
              "    </tr>\n",
              "    <tr>\n",
              "      <th>1</th>\n",
              "      <td>C-3PO</td>\n",
              "      <td>Tatooine</td>\n",
              "    </tr>\n",
              "    <tr>\n",
              "      <th>2</th>\n",
              "      <td>R2-D2</td>\n",
              "      <td>Naboo</td>\n",
              "    </tr>\n",
              "    <tr>\n",
              "      <th>3</th>\n",
              "      <td>Darth Vader</td>\n",
              "      <td>Tatooine</td>\n",
              "    </tr>\n",
              "    <tr>\n",
              "      <th>4</th>\n",
              "      <td>Leia Organa</td>\n",
              "      <td>Alderaan</td>\n",
              "    </tr>\n",
              "    <tr>\n",
              "      <th>5</th>\n",
              "      <td>Owen Lars</td>\n",
              "      <td>Tatooine</td>\n",
              "    </tr>\n",
              "    <tr>\n",
              "      <th>6</th>\n",
              "      <td>Beru Whitesun lars</td>\n",
              "      <td>Tatooine</td>\n",
              "    </tr>\n",
              "    <tr>\n",
              "      <th>7</th>\n",
              "      <td>R5-D4</td>\n",
              "      <td>Tatooine</td>\n",
              "    </tr>\n",
              "    <tr>\n",
              "      <th>8</th>\n",
              "      <td>Biggs Darklighter</td>\n",
              "      <td>Tatooine</td>\n",
              "    </tr>\n",
              "    <tr>\n",
              "      <th>9</th>\n",
              "      <td>Obi-Wan Kenobi</td>\n",
              "      <td>Stewjon</td>\n",
              "    </tr>\n",
              "  </tbody>\n",
              "</table>\n",
              "</div>"
            ],
            "text/plain": [
              "                 name homeworld\n",
              "0      Luke Skywalker  Tatooine\n",
              "1               C-3PO  Tatooine\n",
              "2               R2-D2     Naboo\n",
              "3         Darth Vader  Tatooine\n",
              "4         Leia Organa  Alderaan\n",
              "5           Owen Lars  Tatooine\n",
              "6  Beru Whitesun lars  Tatooine\n",
              "7               R5-D4  Tatooine\n",
              "8   Biggs Darklighter  Tatooine\n",
              "9      Obi-Wan Kenobi   Stewjon"
            ]
          },
          "metadata": {
            "tags": []
          },
          "execution_count": 151
        }
      ]
    },
    {
      "cell_type": "code",
      "metadata": {
        "id": "h7Glc70ldbsC",
        "colab_type": "code",
        "outputId": "b974360d-c4fa-4ef8-a402-aaa31a0db8c8",
        "colab": {
          "base_uri": "https://localhost:8080/",
          "height": 348
        }
      },
      "source": [
        "starwars.drop(['birth_year','skin_color'], axis=1).head(10)"
      ],
      "execution_count": 0,
      "outputs": [
        {
          "output_type": "execute_result",
          "data": {
            "text/html": [
              "<div>\n",
              "<style scoped>\n",
              "    .dataframe tbody tr th:only-of-type {\n",
              "        vertical-align: middle;\n",
              "    }\n",
              "\n",
              "    .dataframe tbody tr th {\n",
              "        vertical-align: top;\n",
              "    }\n",
              "\n",
              "    .dataframe thead th {\n",
              "        text-align: right;\n",
              "    }\n",
              "</style>\n",
              "<table border=\"1\" class=\"dataframe\">\n",
              "  <thead>\n",
              "    <tr style=\"text-align: right;\">\n",
              "      <th></th>\n",
              "      <th>name</th>\n",
              "      <th>height</th>\n",
              "      <th>mass</th>\n",
              "      <th>hair_color</th>\n",
              "      <th>eye_color</th>\n",
              "      <th>gender</th>\n",
              "      <th>homeworld</th>\n",
              "      <th>species</th>\n",
              "    </tr>\n",
              "  </thead>\n",
              "  <tbody>\n",
              "    <tr>\n",
              "      <th>0</th>\n",
              "      <td>Luke Skywalker</td>\n",
              "      <td>172.0</td>\n",
              "      <td>77.0</td>\n",
              "      <td>blond</td>\n",
              "      <td>blue</td>\n",
              "      <td>male</td>\n",
              "      <td>Tatooine</td>\n",
              "      <td>Human</td>\n",
              "    </tr>\n",
              "    <tr>\n",
              "      <th>1</th>\n",
              "      <td>C-3PO</td>\n",
              "      <td>167.0</td>\n",
              "      <td>75.0</td>\n",
              "      <td>NaN</td>\n",
              "      <td>yellow</td>\n",
              "      <td>NaN</td>\n",
              "      <td>Tatooine</td>\n",
              "      <td>Droid</td>\n",
              "    </tr>\n",
              "    <tr>\n",
              "      <th>2</th>\n",
              "      <td>R2-D2</td>\n",
              "      <td>96.0</td>\n",
              "      <td>32.0</td>\n",
              "      <td>NaN</td>\n",
              "      <td>red</td>\n",
              "      <td>NaN</td>\n",
              "      <td>Naboo</td>\n",
              "      <td>Droid</td>\n",
              "    </tr>\n",
              "    <tr>\n",
              "      <th>3</th>\n",
              "      <td>Darth Vader</td>\n",
              "      <td>202.0</td>\n",
              "      <td>136.0</td>\n",
              "      <td>none</td>\n",
              "      <td>yellow</td>\n",
              "      <td>male</td>\n",
              "      <td>Tatooine</td>\n",
              "      <td>Human</td>\n",
              "    </tr>\n",
              "    <tr>\n",
              "      <th>4</th>\n",
              "      <td>Leia Organa</td>\n",
              "      <td>150.0</td>\n",
              "      <td>49.0</td>\n",
              "      <td>brown</td>\n",
              "      <td>brown</td>\n",
              "      <td>female</td>\n",
              "      <td>Alderaan</td>\n",
              "      <td>Human</td>\n",
              "    </tr>\n",
              "    <tr>\n",
              "      <th>5</th>\n",
              "      <td>Owen Lars</td>\n",
              "      <td>178.0</td>\n",
              "      <td>120.0</td>\n",
              "      <td>brown, grey</td>\n",
              "      <td>blue</td>\n",
              "      <td>male</td>\n",
              "      <td>Tatooine</td>\n",
              "      <td>Human</td>\n",
              "    </tr>\n",
              "    <tr>\n",
              "      <th>6</th>\n",
              "      <td>Beru Whitesun lars</td>\n",
              "      <td>165.0</td>\n",
              "      <td>75.0</td>\n",
              "      <td>brown</td>\n",
              "      <td>blue</td>\n",
              "      <td>female</td>\n",
              "      <td>Tatooine</td>\n",
              "      <td>Human</td>\n",
              "    </tr>\n",
              "    <tr>\n",
              "      <th>7</th>\n",
              "      <td>R5-D4</td>\n",
              "      <td>97.0</td>\n",
              "      <td>32.0</td>\n",
              "      <td>NaN</td>\n",
              "      <td>red</td>\n",
              "      <td>NaN</td>\n",
              "      <td>Tatooine</td>\n",
              "      <td>Droid</td>\n",
              "    </tr>\n",
              "    <tr>\n",
              "      <th>8</th>\n",
              "      <td>Biggs Darklighter</td>\n",
              "      <td>183.0</td>\n",
              "      <td>84.0</td>\n",
              "      <td>black</td>\n",
              "      <td>brown</td>\n",
              "      <td>male</td>\n",
              "      <td>Tatooine</td>\n",
              "      <td>Human</td>\n",
              "    </tr>\n",
              "    <tr>\n",
              "      <th>9</th>\n",
              "      <td>Obi-Wan Kenobi</td>\n",
              "      <td>182.0</td>\n",
              "      <td>77.0</td>\n",
              "      <td>auburn, white</td>\n",
              "      <td>blue-gray</td>\n",
              "      <td>male</td>\n",
              "      <td>Stewjon</td>\n",
              "      <td>Human</td>\n",
              "    </tr>\n",
              "  </tbody>\n",
              "</table>\n",
              "</div>"
            ],
            "text/plain": [
              "                 name  height   mass  ...  gender homeworld species\n",
              "0      Luke Skywalker   172.0   77.0  ...    male  Tatooine   Human\n",
              "1               C-3PO   167.0   75.0  ...     NaN  Tatooine   Droid\n",
              "2               R2-D2    96.0   32.0  ...     NaN     Naboo   Droid\n",
              "3         Darth Vader   202.0  136.0  ...    male  Tatooine   Human\n",
              "4         Leia Organa   150.0   49.0  ...  female  Alderaan   Human\n",
              "5           Owen Lars   178.0  120.0  ...    male  Tatooine   Human\n",
              "6  Beru Whitesun lars   165.0   75.0  ...  female  Tatooine   Human\n",
              "7               R5-D4    97.0   32.0  ...     NaN  Tatooine   Droid\n",
              "8   Biggs Darklighter   183.0   84.0  ...    male  Tatooine   Human\n",
              "9      Obi-Wan Kenobi   182.0   77.0  ...    male   Stewjon   Human\n",
              "\n",
              "[10 rows x 8 columns]"
            ]
          },
          "metadata": {
            "tags": []
          },
          "execution_count": 152
        }
      ]
    },
    {
      "cell_type": "code",
      "metadata": {
        "id": "Q5scuwupdlss",
        "colab_type": "code",
        "outputId": "3796ef3f-5ee6-48a6-d5a6-8d6958a94001",
        "colab": {
          "base_uri": "https://localhost:8080/",
          "height": 348
        }
      },
      "source": [
        "# not as pretty as in R but hey...we get there...and who wants to select that way?\n",
        "\n",
        "fancy_columns = [x for x in starwars.columns if x.endswith('color')]\n",
        "\n",
        "starwars[['name'] + fancy_columns].head(10)"
      ],
      "execution_count": 0,
      "outputs": [
        {
          "output_type": "execute_result",
          "data": {
            "text/html": [
              "<div>\n",
              "<style scoped>\n",
              "    .dataframe tbody tr th:only-of-type {\n",
              "        vertical-align: middle;\n",
              "    }\n",
              "\n",
              "    .dataframe tbody tr th {\n",
              "        vertical-align: top;\n",
              "    }\n",
              "\n",
              "    .dataframe thead th {\n",
              "        text-align: right;\n",
              "    }\n",
              "</style>\n",
              "<table border=\"1\" class=\"dataframe\">\n",
              "  <thead>\n",
              "    <tr style=\"text-align: right;\">\n",
              "      <th></th>\n",
              "      <th>name</th>\n",
              "      <th>hair_color</th>\n",
              "      <th>skin_color</th>\n",
              "      <th>eye_color</th>\n",
              "    </tr>\n",
              "  </thead>\n",
              "  <tbody>\n",
              "    <tr>\n",
              "      <th>0</th>\n",
              "      <td>Luke Skywalker</td>\n",
              "      <td>blond</td>\n",
              "      <td>fair</td>\n",
              "      <td>blue</td>\n",
              "    </tr>\n",
              "    <tr>\n",
              "      <th>1</th>\n",
              "      <td>C-3PO</td>\n",
              "      <td>NaN</td>\n",
              "      <td>gold</td>\n",
              "      <td>yellow</td>\n",
              "    </tr>\n",
              "    <tr>\n",
              "      <th>2</th>\n",
              "      <td>R2-D2</td>\n",
              "      <td>NaN</td>\n",
              "      <td>white, blue</td>\n",
              "      <td>red</td>\n",
              "    </tr>\n",
              "    <tr>\n",
              "      <th>3</th>\n",
              "      <td>Darth Vader</td>\n",
              "      <td>none</td>\n",
              "      <td>white</td>\n",
              "      <td>yellow</td>\n",
              "    </tr>\n",
              "    <tr>\n",
              "      <th>4</th>\n",
              "      <td>Leia Organa</td>\n",
              "      <td>brown</td>\n",
              "      <td>light</td>\n",
              "      <td>brown</td>\n",
              "    </tr>\n",
              "    <tr>\n",
              "      <th>5</th>\n",
              "      <td>Owen Lars</td>\n",
              "      <td>brown, grey</td>\n",
              "      <td>light</td>\n",
              "      <td>blue</td>\n",
              "    </tr>\n",
              "    <tr>\n",
              "      <th>6</th>\n",
              "      <td>Beru Whitesun lars</td>\n",
              "      <td>brown</td>\n",
              "      <td>light</td>\n",
              "      <td>blue</td>\n",
              "    </tr>\n",
              "    <tr>\n",
              "      <th>7</th>\n",
              "      <td>R5-D4</td>\n",
              "      <td>NaN</td>\n",
              "      <td>white, red</td>\n",
              "      <td>red</td>\n",
              "    </tr>\n",
              "    <tr>\n",
              "      <th>8</th>\n",
              "      <td>Biggs Darklighter</td>\n",
              "      <td>black</td>\n",
              "      <td>light</td>\n",
              "      <td>brown</td>\n",
              "    </tr>\n",
              "    <tr>\n",
              "      <th>9</th>\n",
              "      <td>Obi-Wan Kenobi</td>\n",
              "      <td>auburn, white</td>\n",
              "      <td>fair</td>\n",
              "      <td>blue-gray</td>\n",
              "    </tr>\n",
              "  </tbody>\n",
              "</table>\n",
              "</div>"
            ],
            "text/plain": [
              "                 name     hair_color   skin_color  eye_color\n",
              "0      Luke Skywalker          blond         fair       blue\n",
              "1               C-3PO            NaN         gold     yellow\n",
              "2               R2-D2            NaN  white, blue        red\n",
              "3         Darth Vader           none        white     yellow\n",
              "4         Leia Organa          brown        light      brown\n",
              "5           Owen Lars    brown, grey        light       blue\n",
              "6  Beru Whitesun lars          brown        light       blue\n",
              "7               R5-D4            NaN   white, red        red\n",
              "8   Biggs Darklighter          black        light      brown\n",
              "9      Obi-Wan Kenobi  auburn, white         fair  blue-gray"
            ]
          },
          "metadata": {
            "tags": []
          },
          "execution_count": 153
        }
      ]
    },
    {
      "cell_type": "code",
      "metadata": {
        "id": "Jyx8YXN0ei0y",
        "colab_type": "code",
        "outputId": "77955d18-5f47-4764-c02b-26b9e8708dba",
        "colab": {
          "base_uri": "https://localhost:8080/",
          "height": 558
        }
      },
      "source": [
        "# arrange in python is sort_values homeworld-ascending, mass-descending\n",
        "starwars.sort_values(by=['homeworld', 'mass'], ascending=[True, False]).head(10)"
      ],
      "execution_count": 0,
      "outputs": [
        {
          "output_type": "execute_result",
          "data": {
            "text/html": [
              "<div>\n",
              "<style scoped>\n",
              "    .dataframe tbody tr th:only-of-type {\n",
              "        vertical-align: middle;\n",
              "    }\n",
              "\n",
              "    .dataframe tbody tr th {\n",
              "        vertical-align: top;\n",
              "    }\n",
              "\n",
              "    .dataframe thead th {\n",
              "        text-align: right;\n",
              "    }\n",
              "</style>\n",
              "<table border=\"1\" class=\"dataframe\">\n",
              "  <thead>\n",
              "    <tr style=\"text-align: right;\">\n",
              "      <th></th>\n",
              "      <th>name</th>\n",
              "      <th>height</th>\n",
              "      <th>mass</th>\n",
              "      <th>hair_color</th>\n",
              "      <th>skin_color</th>\n",
              "      <th>eye_color</th>\n",
              "      <th>birth_year</th>\n",
              "      <th>gender</th>\n",
              "      <th>homeworld</th>\n",
              "      <th>species</th>\n",
              "    </tr>\n",
              "  </thead>\n",
              "  <tbody>\n",
              "    <tr>\n",
              "      <th>78</th>\n",
              "      <td>Raymus Antilles</td>\n",
              "      <td>188.0</td>\n",
              "      <td>79.0</td>\n",
              "      <td>brown</td>\n",
              "      <td>light</td>\n",
              "      <td>brown</td>\n",
              "      <td>NaN</td>\n",
              "      <td>male</td>\n",
              "      <td>Alderaan</td>\n",
              "      <td>Human</td>\n",
              "    </tr>\n",
              "    <tr>\n",
              "      <th>4</th>\n",
              "      <td>Leia Organa</td>\n",
              "      <td>150.0</td>\n",
              "      <td>49.0</td>\n",
              "      <td>brown</td>\n",
              "      <td>light</td>\n",
              "      <td>brown</td>\n",
              "      <td>19BBY</td>\n",
              "      <td>female</td>\n",
              "      <td>Alderaan</td>\n",
              "      <td>Human</td>\n",
              "    </tr>\n",
              "    <tr>\n",
              "      <th>64</th>\n",
              "      <td>Bail Prestor Organa</td>\n",
              "      <td>191.0</td>\n",
              "      <td>NaN</td>\n",
              "      <td>black</td>\n",
              "      <td>tan</td>\n",
              "      <td>brown</td>\n",
              "      <td>67BBY</td>\n",
              "      <td>male</td>\n",
              "      <td>Alderaan</td>\n",
              "      <td>Human</td>\n",
              "    </tr>\n",
              "    <tr>\n",
              "      <th>71</th>\n",
              "      <td>Ratts Tyerell</td>\n",
              "      <td>79.0</td>\n",
              "      <td>15.0</td>\n",
              "      <td>none</td>\n",
              "      <td>grey, blue</td>\n",
              "      <td>NaN</td>\n",
              "      <td>NaN</td>\n",
              "      <td>male</td>\n",
              "      <td>Aleen Minor</td>\n",
              "      <td>Aleena</td>\n",
              "    </tr>\n",
              "    <tr>\n",
              "      <th>24</th>\n",
              "      <td>Lobot</td>\n",
              "      <td>175.0</td>\n",
              "      <td>79.0</td>\n",
              "      <td>none</td>\n",
              "      <td>light</td>\n",
              "      <td>blue</td>\n",
              "      <td>37BBY</td>\n",
              "      <td>male</td>\n",
              "      <td>Bespin</td>\n",
              "      <td>Human</td>\n",
              "    </tr>\n",
              "    <tr>\n",
              "      <th>17</th>\n",
              "      <td>Jek Tono Porkins</td>\n",
              "      <td>180.0</td>\n",
              "      <td>110.0</td>\n",
              "      <td>brown</td>\n",
              "      <td>fair</td>\n",
              "      <td>blue</td>\n",
              "      <td>NaN</td>\n",
              "      <td>male</td>\n",
              "      <td>Bestine IV</td>\n",
              "      <td>Human</td>\n",
              "    </tr>\n",
              "    <tr>\n",
              "      <th>31</th>\n",
              "      <td>Nute Gunray</td>\n",
              "      <td>191.0</td>\n",
              "      <td>90.0</td>\n",
              "      <td>none</td>\n",
              "      <td>mottled green</td>\n",
              "      <td>red</td>\n",
              "      <td>NaN</td>\n",
              "      <td>male</td>\n",
              "      <td>Cato Neimoidia</td>\n",
              "      <td>Neimodian</td>\n",
              "    </tr>\n",
              "    <tr>\n",
              "      <th>48</th>\n",
              "      <td>Ki-Adi-Mundi</td>\n",
              "      <td>198.0</td>\n",
              "      <td>82.0</td>\n",
              "      <td>white</td>\n",
              "      <td>pale</td>\n",
              "      <td>yellow</td>\n",
              "      <td>92BBY</td>\n",
              "      <td>male</td>\n",
              "      <td>Cerea</td>\n",
              "      <td>Cerean</td>\n",
              "    </tr>\n",
              "    <tr>\n",
              "      <th>55</th>\n",
              "      <td>Mas Amedda</td>\n",
              "      <td>196.0</td>\n",
              "      <td>NaN</td>\n",
              "      <td>none</td>\n",
              "      <td>blue</td>\n",
              "      <td>blue</td>\n",
              "      <td>NaN</td>\n",
              "      <td>male</td>\n",
              "      <td>Champala</td>\n",
              "      <td>Chagrian</td>\n",
              "    </tr>\n",
              "    <tr>\n",
              "      <th>26</th>\n",
              "      <td>Mon Mothma</td>\n",
              "      <td>150.0</td>\n",
              "      <td>NaN</td>\n",
              "      <td>auburn</td>\n",
              "      <td>fair</td>\n",
              "      <td>blue</td>\n",
              "      <td>48BBY</td>\n",
              "      <td>female</td>\n",
              "      <td>Chandrila</td>\n",
              "      <td>Human</td>\n",
              "    </tr>\n",
              "  </tbody>\n",
              "</table>\n",
              "</div>"
            ],
            "text/plain": [
              "                   name  height   mass  ...  gender       homeworld    species\n",
              "78      Raymus Antilles   188.0   79.0  ...    male        Alderaan      Human\n",
              "4           Leia Organa   150.0   49.0  ...  female        Alderaan      Human\n",
              "64  Bail Prestor Organa   191.0    NaN  ...    male        Alderaan      Human\n",
              "71        Ratts Tyerell    79.0   15.0  ...    male     Aleen Minor     Aleena\n",
              "24                Lobot   175.0   79.0  ...    male          Bespin      Human\n",
              "17     Jek Tono Porkins   180.0  110.0  ...    male      Bestine IV      Human\n",
              "31          Nute Gunray   191.0   90.0  ...    male  Cato Neimoidia  Neimodian\n",
              "48         Ki-Adi-Mundi   198.0   82.0  ...    male           Cerea     Cerean\n",
              "55           Mas Amedda   196.0    NaN  ...    male        Champala   Chagrian\n",
              "26           Mon Mothma   150.0    NaN  ...  female       Chandrila      Human\n",
              "\n",
              "[10 rows x 10 columns]"
            ]
          },
          "metadata": {
            "tags": []
          },
          "execution_count": 154
        }
      ]
    },
    {
      "cell_type": "markdown",
      "metadata": {
        "id": "olwXYxJ5gveI",
        "colab_type": "text"
      },
      "source": [
        "mutate in R is a bit weird from a python point of view. Let's try\n",
        "There are many ways to accomplish that in python\n",
        "\n",
        "In the example Daniel calculates BMI and mass.rel for all characters\n",
        "In python you can use `map` departing from a single column and `apply` departing from a whole dataframe functions for that\n",
        "\n",
        "we can combine these two with so-called lambda functions (anonymous fuctions). They have a strange syntax but are nice\n"
      ]
    },
    {
      "cell_type": "code",
      "metadata": {
        "id": "6rncjwwwfZ7t",
        "colab_type": "code",
        "colab": {}
      },
      "source": [
        "# Complicated but good for more complex stuff\n",
        "\n",
        "starwars['bmi'] = starwars.apply(lambda x: x['mass']/(x['height'] / 100)**2, axis=1) #x is here one row of the DF "
      ],
      "execution_count": 0,
      "outputs": []
    },
    {
      "cell_type": "code",
      "metadata": {
        "id": "kFBDRpP_hnm5",
        "colab_type": "code",
        "colab": {}
      },
      "source": [
        "# easy!\n",
        "\n",
        "starwars['bmi'] = starwars['mass'] / (starwars['height'] /100)**2"
      ],
      "execution_count": 0,
      "outputs": []
    },
    {
      "cell_type": "code",
      "metadata": {
        "id": "rB54QzqpiRVt",
        "colab_type": "code",
        "colab": {}
      },
      "source": [
        "starwars['mass_rel'] = starwars['mass'] / starwars['mass'].max()"
      ],
      "execution_count": 0,
      "outputs": []
    },
    {
      "cell_type": "code",
      "metadata": {
        "id": "tnSZM8WanMlj",
        "colab_type": "code",
        "outputId": "0e67d8f0-29ee-49b2-c5a8-63c53cf05e80",
        "colab": {
          "base_uri": "https://localhost:8080/",
          "height": 348
        }
      },
      "source": [
        "rng = starwars.loc[:,'name':'mass'].columns.to_list() #some trickery\n",
        "\n",
        "starwars.loc[:,rng+['bmi','mass_rel']].sort_values('bmi', ascending=False).head(10)"
      ],
      "execution_count": 0,
      "outputs": [
        {
          "output_type": "execute_result",
          "data": {
            "text/html": [
              "<div>\n",
              "<style scoped>\n",
              "    .dataframe tbody tr th:only-of-type {\n",
              "        vertical-align: middle;\n",
              "    }\n",
              "\n",
              "    .dataframe tbody tr th {\n",
              "        vertical-align: top;\n",
              "    }\n",
              "\n",
              "    .dataframe thead th {\n",
              "        text-align: right;\n",
              "    }\n",
              "</style>\n",
              "<table border=\"1\" class=\"dataframe\">\n",
              "  <thead>\n",
              "    <tr style=\"text-align: right;\">\n",
              "      <th></th>\n",
              "      <th>name</th>\n",
              "      <th>height</th>\n",
              "      <th>mass</th>\n",
              "      <th>bmi</th>\n",
              "      <th>mass_rel</th>\n",
              "    </tr>\n",
              "  </thead>\n",
              "  <tbody>\n",
              "    <tr>\n",
              "      <th>15</th>\n",
              "      <td>Jabba Desilijic Tiure</td>\n",
              "      <td>175.0</td>\n",
              "      <td>1358.0</td>\n",
              "      <td>443.428571</td>\n",
              "      <td>1.000000</td>\n",
              "    </tr>\n",
              "    <tr>\n",
              "      <th>44</th>\n",
              "      <td>Dud Bolt</td>\n",
              "      <td>94.0</td>\n",
              "      <td>45.0</td>\n",
              "      <td>50.928022</td>\n",
              "      <td>0.033137</td>\n",
              "    </tr>\n",
              "    <tr>\n",
              "      <th>18</th>\n",
              "      <td>Yoda</td>\n",
              "      <td>66.0</td>\n",
              "      <td>17.0</td>\n",
              "      <td>39.026630</td>\n",
              "      <td>0.012518</td>\n",
              "    </tr>\n",
              "    <tr>\n",
              "      <th>5</th>\n",
              "      <td>Owen Lars</td>\n",
              "      <td>178.0</td>\n",
              "      <td>120.0</td>\n",
              "      <td>37.874006</td>\n",
              "      <td>0.088365</td>\n",
              "    </tr>\n",
              "    <tr>\n",
              "      <th>21</th>\n",
              "      <td>IG-88</td>\n",
              "      <td>200.0</td>\n",
              "      <td>140.0</td>\n",
              "      <td>35.000000</td>\n",
              "      <td>0.103093</td>\n",
              "    </tr>\n",
              "    <tr>\n",
              "      <th>2</th>\n",
              "      <td>R2-D2</td>\n",
              "      <td>96.0</td>\n",
              "      <td>32.0</td>\n",
              "      <td>34.722222</td>\n",
              "      <td>0.023564</td>\n",
              "    </tr>\n",
              "    <tr>\n",
              "      <th>76</th>\n",
              "      <td>Grievous</td>\n",
              "      <td>216.0</td>\n",
              "      <td>159.0</td>\n",
              "      <td>34.079218</td>\n",
              "      <td>0.117084</td>\n",
              "    </tr>\n",
              "    <tr>\n",
              "      <th>7</th>\n",
              "      <td>R5-D4</td>\n",
              "      <td>97.0</td>\n",
              "      <td>32.0</td>\n",
              "      <td>34.009990</td>\n",
              "      <td>0.023564</td>\n",
              "    </tr>\n",
              "    <tr>\n",
              "      <th>17</th>\n",
              "      <td>Jek Tono Porkins</td>\n",
              "      <td>180.0</td>\n",
              "      <td>110.0</td>\n",
              "      <td>33.950617</td>\n",
              "      <td>0.081001</td>\n",
              "    </tr>\n",
              "    <tr>\n",
              "      <th>3</th>\n",
              "      <td>Darth Vader</td>\n",
              "      <td>202.0</td>\n",
              "      <td>136.0</td>\n",
              "      <td>33.330066</td>\n",
              "      <td>0.100147</td>\n",
              "    </tr>\n",
              "  </tbody>\n",
              "</table>\n",
              "</div>"
            ],
            "text/plain": [
              "                     name  height    mass         bmi  mass_rel\n",
              "15  Jabba Desilijic Tiure   175.0  1358.0  443.428571  1.000000\n",
              "44               Dud Bolt    94.0    45.0   50.928022  0.033137\n",
              "18                   Yoda    66.0    17.0   39.026630  0.012518\n",
              "5               Owen Lars   178.0   120.0   37.874006  0.088365\n",
              "21                  IG-88   200.0   140.0   35.000000  0.103093\n",
              "2                   R2-D2    96.0    32.0   34.722222  0.023564\n",
              "76               Grievous   216.0   159.0   34.079218  0.117084\n",
              "7                   R5-D4    97.0    32.0   34.009990  0.023564\n",
              "17       Jek Tono Porkins   180.0   110.0   33.950617  0.081001\n",
              "3             Darth Vader   202.0   136.0   33.330066  0.100147"
            ]
          },
          "metadata": {
            "tags": []
          },
          "execution_count": 159
        }
      ]
    },
    {
      "cell_type": "code",
      "metadata": {
        "id": "dgelH9ntos1Z",
        "colab_type": "code",
        "outputId": "1bfe9fb1-75b1-4f64-9421-539cd40bd091",
        "colab": {
          "base_uri": "https://localhost:8080/",
          "height": 86
        }
      },
      "source": [
        "#summarize\n",
        "\n",
        "print(starwars['height'].min())\n",
        "print(starwars['height'].mean())\n",
        "print(starwars['height'].max())\n",
        "print(starwars['height'].std())"
      ],
      "execution_count": 0,
      "outputs": [
        {
          "output_type": "stream",
          "text": [
            "66.0\n",
            "174.35802469135803\n",
            "264.0\n",
            "34.770428758492216\n"
          ],
          "name": "stdout"
        }
      ]
    },
    {
      "cell_type": "code",
      "metadata": {
        "id": "5v8scrJ7owI1",
        "colab_type": "code",
        "outputId": "34e840d0-c0a9-4ee9-e2c6-886df29481c5",
        "colab": {
          "base_uri": "https://localhost:8080/",
          "height": 138
        }
      },
      "source": [
        "# group_by\n",
        "\n",
        "starwars.groupby(by='homeworld')['height'].mean().sort_values(ascending=False).head(10)"
      ],
      "execution_count": 0,
      "outputs": [
        {
          "output_type": "execute_result",
          "data": {
            "text/plain": [
              "homeworld\n",
              "Quermia     264.000000\n",
              "Kashyyyk    231.000000\n",
              "Kalee       216.000000\n",
              "Kamino      208.333333\n",
              "Utapau      206.000000\n",
              "Name: height, dtype: float64"
            ]
          },
          "metadata": {
            "tags": []
          },
          "execution_count": 171
        }
      ]
    },
    {
      "cell_type": "markdown",
      "metadata": {
        "id": "OZ1kGFoFrsDE",
        "colab_type": "text"
      },
      "source": [
        "## 4 Case Study: Cleaning up historical data on voting of the United Nations General Assembly"
      ]
    },
    {
      "cell_type": "code",
      "metadata": {
        "id": "0l_-oKXQrDzo",
        "colab_type": "code",
        "colab": {}
      },
      "source": [
        "# R has RDS, in Python we have parquet and a bunch of other stuff\n",
        "votes = pd.read_parquet(\"http://sds-datacrunch.aau.dk/public/votes.pq\")\n"
      ],
      "execution_count": 0,
      "outputs": []
    },
    {
      "cell_type": "code",
      "metadata": {
        "id": "r3tOGPCntRy9",
        "colab_type": "code",
        "outputId": "863b5256-8f73-46b3-b8b3-fd810dfc732b",
        "colab": {
          "base_uri": "https://localhost:8080/",
          "height": 204
        }
      },
      "source": [
        "votes.head()"
      ],
      "execution_count": 11,
      "outputs": [
        {
          "output_type": "execute_result",
          "data": {
            "text/html": [
              "<div>\n",
              "<style scoped>\n",
              "    .dataframe tbody tr th:only-of-type {\n",
              "        vertical-align: middle;\n",
              "    }\n",
              "\n",
              "    .dataframe tbody tr th {\n",
              "        vertical-align: top;\n",
              "    }\n",
              "\n",
              "    .dataframe thead th {\n",
              "        text-align: right;\n",
              "    }\n",
              "</style>\n",
              "<table border=\"1\" class=\"dataframe\">\n",
              "  <thead>\n",
              "    <tr style=\"text-align: right;\">\n",
              "      <th></th>\n",
              "      <th>rcid</th>\n",
              "      <th>session</th>\n",
              "      <th>vote</th>\n",
              "      <th>ccode</th>\n",
              "    </tr>\n",
              "  </thead>\n",
              "  <tbody>\n",
              "    <tr>\n",
              "      <th>1</th>\n",
              "      <td>46</td>\n",
              "      <td>2</td>\n",
              "      <td>1</td>\n",
              "      <td>2</td>\n",
              "    </tr>\n",
              "    <tr>\n",
              "      <th>2</th>\n",
              "      <td>46</td>\n",
              "      <td>2</td>\n",
              "      <td>1</td>\n",
              "      <td>20</td>\n",
              "    </tr>\n",
              "    <tr>\n",
              "      <th>3</th>\n",
              "      <td>46</td>\n",
              "      <td>2</td>\n",
              "      <td>9</td>\n",
              "      <td>31</td>\n",
              "    </tr>\n",
              "    <tr>\n",
              "      <th>4</th>\n",
              "      <td>46</td>\n",
              "      <td>2</td>\n",
              "      <td>1</td>\n",
              "      <td>40</td>\n",
              "    </tr>\n",
              "    <tr>\n",
              "      <th>5</th>\n",
              "      <td>46</td>\n",
              "      <td>2</td>\n",
              "      <td>1</td>\n",
              "      <td>41</td>\n",
              "    </tr>\n",
              "  </tbody>\n",
              "</table>\n",
              "</div>"
            ],
            "text/plain": [
              "   rcid  session  vote  ccode\n",
              "1    46        2     1      2\n",
              "2    46        2     1     20\n",
              "3    46        2     9     31\n",
              "4    46        2     1     40\n",
              "5    46        2     1     41"
            ]
          },
          "metadata": {
            "tags": []
          },
          "execution_count": 11
        }
      ]
    },
    {
      "cell_type": "code",
      "metadata": {
        "id": "yNrWcEjY1HqC",
        "colab_type": "code",
        "outputId": "20915d88-364d-4e95-ce96-f53e9a54464c",
        "colab": {
          "base_uri": "https://localhost:8080/",
          "height": 34
        }
      },
      "source": [
        "votes.vote.unique()"
      ],
      "execution_count": 12,
      "outputs": [
        {
          "output_type": "execute_result",
          "data": {
            "text/plain": [
              "array([1, 9, 8, 3, 2])"
            ]
          },
          "metadata": {
            "tags": []
          },
          "execution_count": 12
        }
      ]
    },
    {
      "cell_type": "code",
      "metadata": {
        "id": "Gg59ZOndtSpp",
        "colab_type": "code",
        "outputId": "4f0c2dbd-4db6-42ee-8e2b-e8fc4a271531",
        "colab": {
          "base_uri": "https://localhost:8080/",
          "height": 204
        }
      },
      "source": [
        "# 4.3.1\n",
        "votes[votes['vote'] <= 3].head()"
      ],
      "execution_count": 13,
      "outputs": [
        {
          "output_type": "execute_result",
          "data": {
            "text/html": [
              "<div>\n",
              "<style scoped>\n",
              "    .dataframe tbody tr th:only-of-type {\n",
              "        vertical-align: middle;\n",
              "    }\n",
              "\n",
              "    .dataframe tbody tr th {\n",
              "        vertical-align: top;\n",
              "    }\n",
              "\n",
              "    .dataframe thead th {\n",
              "        text-align: right;\n",
              "    }\n",
              "</style>\n",
              "<table border=\"1\" class=\"dataframe\">\n",
              "  <thead>\n",
              "    <tr style=\"text-align: right;\">\n",
              "      <th></th>\n",
              "      <th>rcid</th>\n",
              "      <th>session</th>\n",
              "      <th>vote</th>\n",
              "      <th>ccode</th>\n",
              "    </tr>\n",
              "  </thead>\n",
              "  <tbody>\n",
              "    <tr>\n",
              "      <th>1</th>\n",
              "      <td>46</td>\n",
              "      <td>2</td>\n",
              "      <td>1</td>\n",
              "      <td>2</td>\n",
              "    </tr>\n",
              "    <tr>\n",
              "      <th>2</th>\n",
              "      <td>46</td>\n",
              "      <td>2</td>\n",
              "      <td>1</td>\n",
              "      <td>20</td>\n",
              "    </tr>\n",
              "    <tr>\n",
              "      <th>4</th>\n",
              "      <td>46</td>\n",
              "      <td>2</td>\n",
              "      <td>1</td>\n",
              "      <td>40</td>\n",
              "    </tr>\n",
              "    <tr>\n",
              "      <th>5</th>\n",
              "      <td>46</td>\n",
              "      <td>2</td>\n",
              "      <td>1</td>\n",
              "      <td>41</td>\n",
              "    </tr>\n",
              "    <tr>\n",
              "      <th>6</th>\n",
              "      <td>46</td>\n",
              "      <td>2</td>\n",
              "      <td>1</td>\n",
              "      <td>42</td>\n",
              "    </tr>\n",
              "  </tbody>\n",
              "</table>\n",
              "</div>"
            ],
            "text/plain": [
              "   rcid  session  vote  ccode\n",
              "1    46        2     1      2\n",
              "2    46        2     1     20\n",
              "4    46        2     1     40\n",
              "5    46        2     1     41\n",
              "6    46        2     1     42"
            ]
          },
          "metadata": {
            "tags": []
          },
          "execution_count": 13
        }
      ]
    },
    {
      "cell_type": "code",
      "metadata": {
        "id": "cyRzUloXttlh",
        "colab_type": "code",
        "colab": {
          "base_uri": "https://localhost:8080/",
          "height": 1000
        },
        "outputId": "c74e571e-0f1b-40c2-b499-5e20a9aeeb1d"
      },
      "source": [
        "# 4.3.2\n",
        "votes['session'] + 1945"
      ],
      "execution_count": 14,
      "outputs": [
        {
          "output_type": "execute_result",
          "data": {
            "text/plain": [
              "1         1947\n",
              "2         1947\n",
              "3         1947\n",
              "4         1947\n",
              "5         1947\n",
              "6         1947\n",
              "7         1947\n",
              "8         1947\n",
              "9         1947\n",
              "10        1947\n",
              "11        1947\n",
              "12        1947\n",
              "13        1947\n",
              "14        1947\n",
              "15        1947\n",
              "16        1947\n",
              "17        1947\n",
              "18        1947\n",
              "19        1947\n",
              "20        1947\n",
              "21        1947\n",
              "22        1947\n",
              "23        1947\n",
              "24        1947\n",
              "25        1947\n",
              "26        1947\n",
              "27        1947\n",
              "28        1947\n",
              "29        1947\n",
              "30        1947\n",
              "          ... \n",
              "508900    1967\n",
              "508901    1967\n",
              "508902    1967\n",
              "508903    1967\n",
              "508904    1967\n",
              "508905    1967\n",
              "508906    1967\n",
              "508907    1967\n",
              "508908    1967\n",
              "508909    1967\n",
              "508910    1967\n",
              "508911    1967\n",
              "508912    1967\n",
              "508913    1967\n",
              "508914    1967\n",
              "508915    1967\n",
              "508916    1967\n",
              "508917    1967\n",
              "508918    1967\n",
              "508919    1967\n",
              "508920    1967\n",
              "508921    1967\n",
              "508922    1967\n",
              "508923    1967\n",
              "508924    1967\n",
              "508925    1967\n",
              "508926    1967\n",
              "508927    1967\n",
              "508928    1967\n",
              "508929    1967\n",
              "Name: session, Length: 508929, dtype: int64"
            ]
          },
          "metadata": {
            "tags": []
          },
          "execution_count": 14
        }
      ]
    },
    {
      "cell_type": "code",
      "metadata": {
        "id": "M16-y5ppvk3e",
        "colab_type": "code",
        "outputId": "5e72e292-d059-41d7-a652-07cb94c8bdd2",
        "colab": {
          "base_uri": "https://localhost:8080/",
          "height": 170
        }
      },
      "source": [
        "!pip install countrycode"
      ],
      "execution_count": 8,
      "outputs": [
        {
          "output_type": "stream",
          "text": [
            "Collecting countrycode\n",
            "  Downloading https://files.pythonhosted.org/packages/73/c2/01f0747ddc98f29144eae1a00edd88392df81ea305d0da8de244944c9a91/countrycode-0.2.tar.gz\n",
            "Building wheels for collected packages: countrycode\n",
            "  Building wheel for countrycode (setup.py) ... \u001b[?25l\u001b[?25hdone\n",
            "  Created wheel for countrycode: filename=countrycode-0.2-cp36-none-any.whl size=13575 sha256=2d82c67076d56c79b9b9c678e9daffee2b5266fcc3ec5339068978081d5af07e\n",
            "  Stored in directory: /root/.cache/pip/wheels/1a/11/ab/98290004b887300bfc55136f8b687dbbd07d2a849496e39cd2\n",
            "Successfully built countrycode\n",
            "Installing collected packages: countrycode\n",
            "Successfully installed countrycode-0.2\n"
          ],
          "name": "stdout"
        }
      ]
    },
    {
      "cell_type": "code",
      "metadata": {
        "id": "pIHQukNvw9Th",
        "colab_type": "code",
        "outputId": "3c7dd1f5-0665-4ee0-d0fb-5c5969745dc8",
        "colab": {
          "base_uri": "https://localhost:8080/",
          "height": 51
        }
      },
      "source": [
        "from countrycode import countrycode\n",
        "# let's measure how long it takes\n",
        "%time countries = countrycode.countrycode(votes.ccode[:100], origin='cown', target='country_name')"
      ],
      "execution_count": 15,
      "outputs": [
        {
          "output_type": "stream",
          "text": [
            "CPU times: user 37.2 ms, sys: 1.81 ms, total: 39 ms\n",
            "Wall time: 39.5 ms\n"
          ],
          "name": "stdout"
        }
      ]
    },
    {
      "cell_type": "markdown",
      "metadata": {
        "id": "9oh1Te1ZzR-b",
        "colab_type": "text"
      },
      "source": [
        "The package is a bit slow and thus perhaps it is easier to speed up things by transforming only the unique country-codes and then just merge them back (this is a bit of a deviation from the R notebook)"
      ]
    },
    {
      "cell_type": "code",
      "metadata": {
        "id": "2jPfY5FuxtqI",
        "colab_type": "code",
        "colab": {}
      },
      "source": [
        "unique_countrycodes = votes.ccode.unique()\n",
        "uniques_countries = countrycode.countrycode(unique_countrycodes, origin='cown', target='country_name')"
      ],
      "execution_count": 0,
      "outputs": []
    },
    {
      "cell_type": "code",
      "metadata": {
        "id": "kbVxMX0vzv46",
        "colab_type": "code",
        "outputId": "d260fcfe-127c-42e5-af73-e8227558589f",
        "colab": {
          "base_uri": "https://localhost:8080/",
          "height": 204
        }
      },
      "source": [
        "lookup_df = pd.DataFrame({'ccode' : unique_countrycodes,\n",
        "                          'country_name': uniques_countries})\n",
        "\n",
        "lookup_df.head()"
      ],
      "execution_count": 17,
      "outputs": [
        {
          "output_type": "execute_result",
          "data": {
            "text/html": [
              "<div>\n",
              "<style scoped>\n",
              "    .dataframe tbody tr th:only-of-type {\n",
              "        vertical-align: middle;\n",
              "    }\n",
              "\n",
              "    .dataframe tbody tr th {\n",
              "        vertical-align: top;\n",
              "    }\n",
              "\n",
              "    .dataframe thead th {\n",
              "        text-align: right;\n",
              "    }\n",
              "</style>\n",
              "<table border=\"1\" class=\"dataframe\">\n",
              "  <thead>\n",
              "    <tr style=\"text-align: right;\">\n",
              "      <th></th>\n",
              "      <th>ccode</th>\n",
              "      <th>country_name</th>\n",
              "    </tr>\n",
              "  </thead>\n",
              "  <tbody>\n",
              "    <tr>\n",
              "      <th>0</th>\n",
              "      <td>2</td>\n",
              "      <td>UNITED STATES</td>\n",
              "    </tr>\n",
              "    <tr>\n",
              "      <th>1</th>\n",
              "      <td>20</td>\n",
              "      <td>CANADA</td>\n",
              "    </tr>\n",
              "    <tr>\n",
              "      <th>2</th>\n",
              "      <td>31</td>\n",
              "      <td>BAHAMAS</td>\n",
              "    </tr>\n",
              "    <tr>\n",
              "      <th>3</th>\n",
              "      <td>40</td>\n",
              "      <td>CUBA</td>\n",
              "    </tr>\n",
              "    <tr>\n",
              "      <th>4</th>\n",
              "      <td>41</td>\n",
              "      <td>HAITI</td>\n",
              "    </tr>\n",
              "  </tbody>\n",
              "</table>\n",
              "</div>"
            ],
            "text/plain": [
              "   ccode   country_name\n",
              "0      2  UNITED STATES\n",
              "1     20         CANADA\n",
              "2     31        BAHAMAS\n",
              "3     40           CUBA\n",
              "4     41          HAITI"
            ]
          },
          "metadata": {
            "tags": []
          },
          "execution_count": 17
        }
      ]
    },
    {
      "cell_type": "code",
      "metadata": {
        "id": "uG-HXMfGz3B1",
        "colab_type": "code",
        "outputId": "8e2953b6-c93e-4087-a14d-479bb83fff5b",
        "colab": {
          "base_uri": "https://localhost:8080/",
          "height": 359
        }
      },
      "source": [
        "#adding the countries to the initial data\n",
        "# this will be covered later\n",
        "\n",
        "votes.merge(lookup_df, how='left').head(10)"
      ],
      "execution_count": 18,
      "outputs": [
        {
          "output_type": "execute_result",
          "data": {
            "text/html": [
              "<div>\n",
              "<style scoped>\n",
              "    .dataframe tbody tr th:only-of-type {\n",
              "        vertical-align: middle;\n",
              "    }\n",
              "\n",
              "    .dataframe tbody tr th {\n",
              "        vertical-align: top;\n",
              "    }\n",
              "\n",
              "    .dataframe thead th {\n",
              "        text-align: right;\n",
              "    }\n",
              "</style>\n",
              "<table border=\"1\" class=\"dataframe\">\n",
              "  <thead>\n",
              "    <tr style=\"text-align: right;\">\n",
              "      <th></th>\n",
              "      <th>rcid</th>\n",
              "      <th>session</th>\n",
              "      <th>vote</th>\n",
              "      <th>ccode</th>\n",
              "      <th>country_name</th>\n",
              "    </tr>\n",
              "  </thead>\n",
              "  <tbody>\n",
              "    <tr>\n",
              "      <th>0</th>\n",
              "      <td>46</td>\n",
              "      <td>2</td>\n",
              "      <td>1</td>\n",
              "      <td>2</td>\n",
              "      <td>UNITED STATES</td>\n",
              "    </tr>\n",
              "    <tr>\n",
              "      <th>1</th>\n",
              "      <td>46</td>\n",
              "      <td>2</td>\n",
              "      <td>1</td>\n",
              "      <td>20</td>\n",
              "      <td>CANADA</td>\n",
              "    </tr>\n",
              "    <tr>\n",
              "      <th>2</th>\n",
              "      <td>46</td>\n",
              "      <td>2</td>\n",
              "      <td>9</td>\n",
              "      <td>31</td>\n",
              "      <td>BAHAMAS</td>\n",
              "    </tr>\n",
              "    <tr>\n",
              "      <th>3</th>\n",
              "      <td>46</td>\n",
              "      <td>2</td>\n",
              "      <td>1</td>\n",
              "      <td>40</td>\n",
              "      <td>CUBA</td>\n",
              "    </tr>\n",
              "    <tr>\n",
              "      <th>4</th>\n",
              "      <td>46</td>\n",
              "      <td>2</td>\n",
              "      <td>1</td>\n",
              "      <td>41</td>\n",
              "      <td>HAITI</td>\n",
              "    </tr>\n",
              "    <tr>\n",
              "      <th>5</th>\n",
              "      <td>46</td>\n",
              "      <td>2</td>\n",
              "      <td>1</td>\n",
              "      <td>42</td>\n",
              "      <td>DOMINICAN REPUBLIC</td>\n",
              "    </tr>\n",
              "    <tr>\n",
              "      <th>6</th>\n",
              "      <td>46</td>\n",
              "      <td>2</td>\n",
              "      <td>9</td>\n",
              "      <td>51</td>\n",
              "      <td>JAMAICA</td>\n",
              "    </tr>\n",
              "    <tr>\n",
              "      <th>7</th>\n",
              "      <td>46</td>\n",
              "      <td>2</td>\n",
              "      <td>9</td>\n",
              "      <td>52</td>\n",
              "      <td>TRINIDAD AND TOBAGO</td>\n",
              "    </tr>\n",
              "    <tr>\n",
              "      <th>8</th>\n",
              "      <td>46</td>\n",
              "      <td>2</td>\n",
              "      <td>9</td>\n",
              "      <td>53</td>\n",
              "      <td>BARBADOS</td>\n",
              "    </tr>\n",
              "    <tr>\n",
              "      <th>9</th>\n",
              "      <td>46</td>\n",
              "      <td>2</td>\n",
              "      <td>9</td>\n",
              "      <td>54</td>\n",
              "      <td>DOMINICA</td>\n",
              "    </tr>\n",
              "  </tbody>\n",
              "</table>\n",
              "</div>"
            ],
            "text/plain": [
              "   rcid  session  vote  ccode         country_name\n",
              "0    46        2     1      2        UNITED STATES\n",
              "1    46        2     1     20               CANADA\n",
              "2    46        2     9     31              BAHAMAS\n",
              "3    46        2     1     40                 CUBA\n",
              "4    46        2     1     41                HAITI\n",
              "5    46        2     1     42   DOMINICAN REPUBLIC\n",
              "6    46        2     9     51              JAMAICA\n",
              "7    46        2     9     52  TRINIDAD AND TOBAGO\n",
              "8    46        2     9     53             BARBADOS\n",
              "9    46        2     9     54             DOMINICA"
            ]
          },
          "metadata": {
            "tags": []
          },
          "execution_count": 18
        }
      ]
    },
    {
      "cell_type": "code",
      "metadata": {
        "id": "mJUhhbNq0-3N",
        "colab_type": "code",
        "colab": {}
      },
      "source": [
        ""
      ],
      "execution_count": 0,
      "outputs": []
    },
    {
      "cell_type": "code",
      "metadata": {
        "id": "TIkvKOK60SAW",
        "colab_type": "code",
        "colab": {}
      },
      "source": [
        "# bringing all together\n",
        "\n",
        "votes = votes[votes.vote <= 3]\n",
        "votes['year'] = votes['session'] + 1945\n",
        "votes = votes.merge(lookup_df, how='left') # left merge on ccode\n",
        "votes = votes.sort_values(['year','rcid','ccode'])\n"
      ],
      "execution_count": 0,
      "outputs": []
    },
    {
      "cell_type": "code",
      "metadata": {
        "id": "iV4C8Mjk3Oh3",
        "colab_type": "code",
        "colab": {}
      },
      "source": [
        "votes.reset_index(drop=True,inplace=True)"
      ],
      "execution_count": 0,
      "outputs": []
    },
    {
      "cell_type": "code",
      "metadata": {
        "id": "7vCbR5Oi1osQ",
        "colab_type": "code",
        "outputId": "337c1dd9-2b17-4319-cf47-ba5f2c102a98",
        "colab": {
          "base_uri": "https://localhost:8080/",
          "height": 359
        }
      },
      "source": [
        "votes.head(10)"
      ],
      "execution_count": 21,
      "outputs": [
        {
          "output_type": "execute_result",
          "data": {
            "text/html": [
              "<div>\n",
              "<style scoped>\n",
              "    .dataframe tbody tr th:only-of-type {\n",
              "        vertical-align: middle;\n",
              "    }\n",
              "\n",
              "    .dataframe tbody tr th {\n",
              "        vertical-align: top;\n",
              "    }\n",
              "\n",
              "    .dataframe thead th {\n",
              "        text-align: right;\n",
              "    }\n",
              "</style>\n",
              "<table border=\"1\" class=\"dataframe\">\n",
              "  <thead>\n",
              "    <tr style=\"text-align: right;\">\n",
              "      <th></th>\n",
              "      <th>rcid</th>\n",
              "      <th>session</th>\n",
              "      <th>vote</th>\n",
              "      <th>ccode</th>\n",
              "      <th>year</th>\n",
              "      <th>country_name</th>\n",
              "    </tr>\n",
              "  </thead>\n",
              "  <tbody>\n",
              "    <tr>\n",
              "      <th>0</th>\n",
              "      <td>46</td>\n",
              "      <td>2</td>\n",
              "      <td>1</td>\n",
              "      <td>2</td>\n",
              "      <td>1947</td>\n",
              "      <td>UNITED STATES</td>\n",
              "    </tr>\n",
              "    <tr>\n",
              "      <th>1</th>\n",
              "      <td>46</td>\n",
              "      <td>2</td>\n",
              "      <td>1</td>\n",
              "      <td>20</td>\n",
              "      <td>1947</td>\n",
              "      <td>CANADA</td>\n",
              "    </tr>\n",
              "    <tr>\n",
              "      <th>2</th>\n",
              "      <td>46</td>\n",
              "      <td>2</td>\n",
              "      <td>1</td>\n",
              "      <td>40</td>\n",
              "      <td>1947</td>\n",
              "      <td>CUBA</td>\n",
              "    </tr>\n",
              "    <tr>\n",
              "      <th>3</th>\n",
              "      <td>46</td>\n",
              "      <td>2</td>\n",
              "      <td>1</td>\n",
              "      <td>41</td>\n",
              "      <td>1947</td>\n",
              "      <td>HAITI</td>\n",
              "    </tr>\n",
              "    <tr>\n",
              "      <th>4</th>\n",
              "      <td>46</td>\n",
              "      <td>2</td>\n",
              "      <td>1</td>\n",
              "      <td>42</td>\n",
              "      <td>1947</td>\n",
              "      <td>DOMINICAN REPUBLIC</td>\n",
              "    </tr>\n",
              "    <tr>\n",
              "      <th>5</th>\n",
              "      <td>46</td>\n",
              "      <td>2</td>\n",
              "      <td>1</td>\n",
              "      <td>70</td>\n",
              "      <td>1947</td>\n",
              "      <td>MEXICO</td>\n",
              "    </tr>\n",
              "    <tr>\n",
              "      <th>6</th>\n",
              "      <td>46</td>\n",
              "      <td>2</td>\n",
              "      <td>1</td>\n",
              "      <td>90</td>\n",
              "      <td>1947</td>\n",
              "      <td>GUATEMALA</td>\n",
              "    </tr>\n",
              "    <tr>\n",
              "      <th>7</th>\n",
              "      <td>46</td>\n",
              "      <td>2</td>\n",
              "      <td>1</td>\n",
              "      <td>91</td>\n",
              "      <td>1947</td>\n",
              "      <td>HONDURAS</td>\n",
              "    </tr>\n",
              "    <tr>\n",
              "      <th>8</th>\n",
              "      <td>46</td>\n",
              "      <td>2</td>\n",
              "      <td>1</td>\n",
              "      <td>92</td>\n",
              "      <td>1947</td>\n",
              "      <td>EL SALVADOR</td>\n",
              "    </tr>\n",
              "    <tr>\n",
              "      <th>9</th>\n",
              "      <td>46</td>\n",
              "      <td>2</td>\n",
              "      <td>1</td>\n",
              "      <td>93</td>\n",
              "      <td>1947</td>\n",
              "      <td>NICARAGUA</td>\n",
              "    </tr>\n",
              "  </tbody>\n",
              "</table>\n",
              "</div>"
            ],
            "text/plain": [
              "   rcid  session  vote  ccode  year        country_name\n",
              "0    46        2     1      2  1947       UNITED STATES\n",
              "1    46        2     1     20  1947              CANADA\n",
              "2    46        2     1     40  1947                CUBA\n",
              "3    46        2     1     41  1947               HAITI\n",
              "4    46        2     1     42  1947  DOMINICAN REPUBLIC\n",
              "5    46        2     1     70  1947              MEXICO\n",
              "6    46        2     1     90  1947           GUATEMALA\n",
              "7    46        2     1     91  1947            HONDURAS\n",
              "8    46        2     1     92  1947         EL SALVADOR\n",
              "9    46        2     1     93  1947           NICARAGUA"
            ]
          },
          "metadata": {
            "tags": []
          },
          "execution_count": 21
        }
      ]
    },
    {
      "cell_type": "markdown",
      "metadata": {
        "id": "KcJzpo_v2L6A",
        "colab_type": "text"
      },
      "source": [
        "## 4.4 Generating first insights"
      ]
    },
    {
      "cell_type": "code",
      "metadata": {
        "id": "2BT2qGj-1r_F",
        "colab_type": "code",
        "outputId": "ce814243-4fa0-4cff-a65a-bd54971c9bc3",
        "colab": {
          "base_uri": "https://localhost:8080/",
          "height": 34
        }
      },
      "source": [
        "# not entirely sure where some votes went missing as compared to R\n",
        "# find it our, ppl\n",
        "len(votes[votes.vote == 1]) / len(votes)"
      ],
      "execution_count": 22,
      "outputs": [
        {
          "output_type": "execute_result",
          "data": {
            "text/plain": [
              "0.7999247624785389"
            ]
          },
          "metadata": {
            "tags": []
          },
          "execution_count": 22
        }
      ]
    },
    {
      "cell_type": "code",
      "metadata": {
        "id": "9JYxRhay2iEM",
        "colab_type": "code",
        "outputId": "9c062e08-cf85-48d7-da1b-b18f7a3c48c4",
        "colab": {
          "base_uri": "https://localhost:8080/",
          "height": 85
        }
      },
      "source": [
        "# Using nice built in stuff\n",
        "\n",
        "votes.vote.value_counts(normalize=True)"
      ],
      "execution_count": 23,
      "outputs": [
        {
          "output_type": "execute_result",
          "data": {
            "text/plain": [
              "1    0.799925\n",
              "2    0.128532\n",
              "3    0.071544\n",
              "Name: vote, dtype: float64"
            ]
          },
          "metadata": {
            "tags": []
          },
          "execution_count": 23
        }
      ]
    },
    {
      "cell_type": "code",
      "metadata": {
        "id": "mozXVLQG4pYh",
        "colab_type": "code",
        "outputId": "56f518a4-7fc7-422e-86ec-47eca19d8dc1",
        "colab": {
          "base_uri": "https://localhost:8080/",
          "height": 1000
        }
      },
      "source": [
        "votes.groupby('year')['vote'].value_counts(normalize=True)"
      ],
      "execution_count": 24,
      "outputs": [
        {
          "output_type": "execute_result",
          "data": {
            "text/plain": [
              "year  vote\n",
              "1947  1       0.569397\n",
              "      3       0.293771\n",
              "      2       0.136832\n",
              "1949  1       0.437590\n",
              "      3       0.325742\n",
              "      2       0.236668\n",
              "1951  1       0.585077\n",
              "      3       0.246165\n",
              "      2       0.168759\n",
              "1953  1       0.631750\n",
              "      3       0.202342\n",
              "      2       0.165908\n",
              "1955  1       0.694790\n",
              "      3       0.161365\n",
              "      2       0.143845\n",
              "1957  1       0.608567\n",
              "      3       0.211965\n",
              "      2       0.179468\n",
              "1959  1       0.588072\n",
              "      2       0.211512\n",
              "      3       0.200416\n",
              "1961  1       0.572975\n",
              "      2       0.228148\n",
              "      3       0.198877\n",
              "1963  1       0.729444\n",
              "      2       0.147521\n",
              "      3       0.123035\n",
              "1965  1       0.707896\n",
              "      2       0.171155\n",
              "      3       0.120949\n",
              "                ...   \n",
              "1995  1       0.809411\n",
              "      2       0.148596\n",
              "      3       0.041993\n",
              "1997  1       0.807491\n",
              "      2       0.141545\n",
              "      3       0.050963\n",
              "1999  1       0.814458\n",
              "      2       0.132503\n",
              "      3       0.053039\n",
              "2001  1       0.811782\n",
              "      2       0.121584\n",
              "      3       0.066634\n",
              "2003  1       0.812199\n",
              "      2       0.123216\n",
              "      3       0.064585\n",
              "2005  1       0.822995\n",
              "      2       0.111497\n",
              "      3       0.065508\n",
              "2007  1       0.810769\n",
              "      2       0.109462\n",
              "      3       0.079770\n",
              "2009  1       0.802180\n",
              "      2       0.115340\n",
              "      3       0.082480\n",
              "2011  1       0.811054\n",
              "      2       0.109404\n",
              "      3       0.079542\n",
              "2013  1       0.807042\n",
              "      2       0.114994\n",
              "      3       0.077964\n",
              "Name: vote, Length: 102, dtype: float64"
            ]
          },
          "metadata": {
            "tags": []
          },
          "execution_count": 24
        }
      ]
    },
    {
      "cell_type": "markdown",
      "metadata": {
        "id": "77cjR__-TDmf",
        "colab_type": "text"
      },
      "source": [
        "The rest of this section has ben covered in many assignments and the python EDA lecture\n",
        "\n",
        "descriptions <- readRDS(\"data/UN_votes_descriptions.rds\")"
      ]
    },
    {
      "cell_type": "code",
      "metadata": {
        "id": "zJNSvjD843QP",
        "colab_type": "code",
        "colab": {
          "base_uri": "https://localhost:8080/",
          "height": 289
        },
        "outputId": "2d03dad2-a412-4655-eb21-314f8a63fa93"
      },
      "source": [
        "!wget https://github.com/SDS-AAU/M1-2019/raw/master/data/UN_votes_descriptions.rds"
      ],
      "execution_count": 3,
      "outputs": [
        {
          "output_type": "stream",
          "text": [
            "--2019-09-06 16:01:32--  https://github.com/SDS-AAU/M1-2019/raw/master/data/UN_votes_descriptions.rds\n",
            "Resolving github.com (github.com)... 140.82.114.3\n",
            "Connecting to github.com (github.com)|140.82.114.3|:443... connected.\n",
            "HTTP request sent, awaiting response... 302 Found\n",
            "Location: https://raw.githubusercontent.com/SDS-AAU/M1-2019/master/data/UN_votes_descriptions.rds [following]\n",
            "--2019-09-06 16:01:32--  https://raw.githubusercontent.com/SDS-AAU/M1-2019/master/data/UN_votes_descriptions.rds\n",
            "Resolving raw.githubusercontent.com (raw.githubusercontent.com)... 151.101.0.133, 151.101.64.133, 151.101.128.133, ...\n",
            "Connecting to raw.githubusercontent.com (raw.githubusercontent.com)|151.101.0.133|:443... connected.\n",
            "HTTP request sent, awaiting response... 200 OK\n",
            "Length: 19924 (19K) [application/octet-stream]\n",
            "Saving to: ‘UN_votes_descriptions.rds’\n",
            "\n",
            "\r          UN_votes_   0%[                    ]       0  --.-KB/s               \rUN_votes_descriptio 100%[===================>]  19.46K  --.-KB/s    in 0.01s   \n",
            "\n",
            "2019-09-06 16:01:33 (1.61 MB/s) - ‘UN_votes_descriptions.rds’ saved [19924/19924]\n",
            "\n"
          ],
          "name": "stdout"
        }
      ]
    },
    {
      "cell_type": "code",
      "metadata": {
        "id": "FEUDvx13Ti4o",
        "colab_type": "code",
        "colab": {
          "base_uri": "https://localhost:8080/",
          "height": 102
        },
        "outputId": "9d43b07b-e8e4-4a2f-bd13-ad001d28f108"
      },
      "source": [
        "!pip install pyreadr"
      ],
      "execution_count": 1,
      "outputs": [
        {
          "output_type": "stream",
          "text": [
            "Collecting pyreadr\n",
            "\u001b[?25l  Downloading https://files.pythonhosted.org/packages/cc/a8/69cdfb59bcafc88d574865d520c61429b9ae80d447b3f2d659fef0be4afc/pyreadr-0.2.1-cp36-cp36m-manylinux1_x86_64.whl (219kB)\n",
            "\u001b[K     |████████████████████████████████| 225kB 2.8MB/s \n",
            "\u001b[?25hInstalling collected packages: pyreadr\n",
            "Successfully installed pyreadr-0.2.1\n"
          ],
          "name": "stdout"
        }
      ]
    },
    {
      "cell_type": "code",
      "metadata": {
        "id": "CCM7XaesTjUQ",
        "colab_type": "code",
        "colab": {}
      },
      "source": [
        "import pyreadr"
      ],
      "execution_count": 0,
      "outputs": []
    },
    {
      "cell_type": "code",
      "metadata": {
        "id": "keiyoYyeTmlm",
        "colab_type": "code",
        "colab": {}
      },
      "source": [
        "result = pyreadr.read_r('UN_votes_descriptions.rds')"
      ],
      "execution_count": 0,
      "outputs": []
    },
    {
      "cell_type": "code",
      "metadata": {
        "id": "rteCs7pxT1nI",
        "colab_type": "code",
        "colab": {}
      },
      "source": [
        "descriptions = result[None]"
      ],
      "execution_count": 0,
      "outputs": []
    },
    {
      "cell_type": "code",
      "metadata": {
        "id": "dTtCZyBTT4c3",
        "colab_type": "code",
        "colab": {}
      },
      "source": [
        "descriptions['year'] = pd.to_datetime(descriptions.date).dt.year"
      ],
      "execution_count": 0,
      "outputs": []
    },
    {
      "cell_type": "code",
      "metadata": {
        "id": "dX7-0w4kVGeZ",
        "colab_type": "code",
        "colab": {
          "base_uri": "https://localhost:8080/",
          "height": 204
        },
        "outputId": "16e0bf09-526d-4264-a3ad-c32bf5eb05c0"
      },
      "source": [
        "votes_joined = votes.merge(descriptions, how='inner')\n",
        "votes_joined.drop(['ccode','date','session','unres'], axis=1, inplace=True)\n",
        "votes_joined.head()"
      ],
      "execution_count": 42,
      "outputs": [
        {
          "output_type": "execute_result",
          "data": {
            "text/html": [
              "<div>\n",
              "<style scoped>\n",
              "    .dataframe tbody tr th:only-of-type {\n",
              "        vertical-align: middle;\n",
              "    }\n",
              "\n",
              "    .dataframe tbody tr th {\n",
              "        vertical-align: top;\n",
              "    }\n",
              "\n",
              "    .dataframe thead th {\n",
              "        text-align: right;\n",
              "    }\n",
              "</style>\n",
              "<table border=\"1\" class=\"dataframe\">\n",
              "  <thead>\n",
              "    <tr style=\"text-align: right;\">\n",
              "      <th></th>\n",
              "      <th>rcid</th>\n",
              "      <th>vote</th>\n",
              "      <th>year</th>\n",
              "      <th>country_name</th>\n",
              "      <th>me</th>\n",
              "      <th>nu</th>\n",
              "      <th>di</th>\n",
              "      <th>hr</th>\n",
              "      <th>co</th>\n",
              "      <th>ec</th>\n",
              "    </tr>\n",
              "  </thead>\n",
              "  <tbody>\n",
              "    <tr>\n",
              "      <th>0</th>\n",
              "      <td>46</td>\n",
              "      <td>1</td>\n",
              "      <td>1947</td>\n",
              "      <td>UNITED STATES</td>\n",
              "      <td>0.0</td>\n",
              "      <td>0.0</td>\n",
              "      <td>0.0</td>\n",
              "      <td>0.0</td>\n",
              "      <td>0.0</td>\n",
              "      <td>0.0</td>\n",
              "    </tr>\n",
              "    <tr>\n",
              "      <th>1</th>\n",
              "      <td>46</td>\n",
              "      <td>1</td>\n",
              "      <td>1947</td>\n",
              "      <td>CANADA</td>\n",
              "      <td>0.0</td>\n",
              "      <td>0.0</td>\n",
              "      <td>0.0</td>\n",
              "      <td>0.0</td>\n",
              "      <td>0.0</td>\n",
              "      <td>0.0</td>\n",
              "    </tr>\n",
              "    <tr>\n",
              "      <th>2</th>\n",
              "      <td>46</td>\n",
              "      <td>1</td>\n",
              "      <td>1947</td>\n",
              "      <td>CUBA</td>\n",
              "      <td>0.0</td>\n",
              "      <td>0.0</td>\n",
              "      <td>0.0</td>\n",
              "      <td>0.0</td>\n",
              "      <td>0.0</td>\n",
              "      <td>0.0</td>\n",
              "    </tr>\n",
              "    <tr>\n",
              "      <th>3</th>\n",
              "      <td>46</td>\n",
              "      <td>1</td>\n",
              "      <td>1947</td>\n",
              "      <td>HAITI</td>\n",
              "      <td>0.0</td>\n",
              "      <td>0.0</td>\n",
              "      <td>0.0</td>\n",
              "      <td>0.0</td>\n",
              "      <td>0.0</td>\n",
              "      <td>0.0</td>\n",
              "    </tr>\n",
              "    <tr>\n",
              "      <th>4</th>\n",
              "      <td>46</td>\n",
              "      <td>1</td>\n",
              "      <td>1947</td>\n",
              "      <td>DOMINICAN REPUBLIC</td>\n",
              "      <td>0.0</td>\n",
              "      <td>0.0</td>\n",
              "      <td>0.0</td>\n",
              "      <td>0.0</td>\n",
              "      <td>0.0</td>\n",
              "      <td>0.0</td>\n",
              "    </tr>\n",
              "  </tbody>\n",
              "</table>\n",
              "</div>"
            ],
            "text/plain": [
              "   rcid  vote  year        country_name   me   nu   di   hr   co   ec\n",
              "0    46     1  1947       UNITED STATES  0.0  0.0  0.0  0.0  0.0  0.0\n",
              "1    46     1  1947              CANADA  0.0  0.0  0.0  0.0  0.0  0.0\n",
              "2    46     1  1947                CUBA  0.0  0.0  0.0  0.0  0.0  0.0\n",
              "3    46     1  1947               HAITI  0.0  0.0  0.0  0.0  0.0  0.0\n",
              "4    46     1  1947  DOMINICAN REPUBLIC  0.0  0.0  0.0  0.0  0.0  0.0"
            ]
          },
          "metadata": {
            "tags": []
          },
          "execution_count": 42
        }
      ]
    },
    {
      "cell_type": "code",
      "metadata": {
        "id": "1Ci9-btxUWCy",
        "colab_type": "code",
        "colab": {}
      },
      "source": [
        ""
      ],
      "execution_count": 0,
      "outputs": []
    }
  ]
}