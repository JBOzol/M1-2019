{
  "nbformat": 4,
  "nbformat_minor": 0,
  "metadata": {
    "colab": {
      "name": "SDS M1 _ S1/2 _ Exercise.ipynb",
      "version": "0.3.2",
      "provenance": [],
      "include_colab_link": true
    },
    "kernelspec": {
      "name": "python3",
      "display_name": "Python 3"
    }
  },
  "cells": [
    {
      "cell_type": "markdown",
      "metadata": {
        "id": "view-in-github",
        "colab_type": "text"
      },
      "source": [
        "<a href=\"https://colab.research.google.com/github/SDS-AAU/M1-2019/blob/master/notebooks/SDS_M1___S1_2___Exercise.ipynb\" target=\"_parent\"><img src=\"https://colab.research.google.com/assets/colab-badge.svg\" alt=\"Open In Colab\"/></a>"
      ]
    },
    {
      "cell_type": "code",
      "metadata": {
        "id": "DRK9M2HpT8nu",
        "colab_type": "code",
        "colab": {}
      },
      "source": [
        "!pip install pyreadr"
      ],
      "execution_count": 0,
      "outputs": []
    },
    {
      "cell_type": "markdown",
      "metadata": {
        "id": "U3lPLUIqWSZN",
        "colab_type": "text"
      },
      "source": [
        "## Stuff to do\n",
        "\n",
        "- Remove missing data (where that is needed/useful) - Columns/Rows\n",
        "- Recode variable types (objects to boolian and other where Pandas did not detect automatically )\n",
        "- Create Date-Time index\n",
        "- Think about some interesting things to explore!"
      ]
    },
    {
      "cell_type": "code",
      "metadata": {
        "id": "8JL1Lj_LUPJf",
        "colab_type": "code",
        "colab": {}
      },
      "source": [
        "!wget http://sds-datacrunch.aau.dk/public/SDS2019/new_orleans_2019.rds"
      ],
      "execution_count": 0,
      "outputs": []
    },
    {
      "cell_type": "code",
      "metadata": {
        "id": "I_GFUDF_Uh-R",
        "colab_type": "code",
        "colab": {}
      },
      "source": [
        "import pyreadr\n",
        "import pandas as pd\n",
        "\n",
        "result = pyreadr.read_r('new_orleans_2019.rds')\n",
        "\n",
        "data = result[None]"
      ],
      "execution_count": 0,
      "outputs": []
    },
    {
      "cell_type": "code",
      "metadata": {
        "id": "FdAq3kt-cpdD",
        "colab_type": "code",
        "colab": {}
      },
      "source": [
        "data['time'] = data['time'] / 3600"
      ],
      "execution_count": 0,
      "outputs": []
    },
    {
      "cell_type": "code",
      "metadata": {
        "id": "Qtf0tP5ydUEc",
        "colab_type": "code",
        "colab": {}
      },
      "source": [
        "data['time'] = data['time'].astype(str)"
      ],
      "execution_count": 0,
      "outputs": []
    },
    {
      "cell_type": "code",
      "metadata": {
        "id": "r04RfD0cdAaU",
        "colab_type": "code",
        "colab": {}
      },
      "source": [
        "datetime_combined = data.date.str.cat(data.time, sep=' ')"
      ],
      "execution_count": 0,
      "outputs": []
    },
    {
      "cell_type": "code",
      "metadata": {
        "id": "-wna5xYSU56_",
        "colab_type": "code",
        "colab": {}
      },
      "source": [
        "data['date'] = pd.to_datetime(data.date)"
      ],
      "execution_count": 0,
      "outputs": []
    },
    {
      "cell_type": "code",
      "metadata": {
        "id": "nhe6zOcQa2IZ",
        "colab_type": "code",
        "colab": {}
      },
      "source": [
        "data.index = data['date']"
      ],
      "execution_count": 0,
      "outputs": []
    },
    {
      "cell_type": "code",
      "metadata": {
        "id": "cP6qvvKdbX96",
        "colab_type": "code",
        "colab": {}
      },
      "source": [
        "data.info()"
      ],
      "execution_count": 0,
      "outputs": []
    },
    {
      "cell_type": "code",
      "metadata": {
        "id": "jGMfI3chbehd",
        "colab_type": "code",
        "colab": {}
      },
      "source": [
        "data.dropna(subset=['date', 'subject_age'], inplace=True)"
      ],
      "execution_count": 0,
      "outputs": []
    },
    {
      "cell_type": "code",
      "metadata": {
        "id": "qYRtxxkHb2e_",
        "colab_type": "code",
        "colab": {
          "base_uri": "https://localhost:8080/",
          "height": 538
        },
        "outputId": "b0d81b91-6377-499a-a897-eff78edb9b3f"
      },
      "source": [
        "data.isnull().sum()"
      ],
      "execution_count": 37,
      "outputs": [
        {
          "output_type": "execute_result",
          "data": {
            "text/plain": [
              "raw_row_number             0\n",
              "date                      10\n",
              "time                       0\n",
              "location               96644\n",
              "lat                   252441\n",
              "lng                   252441\n",
              "district                   0\n",
              "zone                       0\n",
              "subject_age            13185\n",
              "subject_race           12127\n",
              "subject_sex            12127\n",
              "officer_assignment       124\n",
              "type                  150149\n",
              "arrest_made           123349\n",
              "citation_issued       123349\n",
              "warning_issued        123349\n",
              "outcome               177385\n",
              "contraband_found      437263\n",
              "contraband_drugs      437263\n",
              "contraband_weapons    437263\n",
              "frisk_performed       123349\n",
              "search_conducted      123349\n",
              "search_person         123349\n",
              "search_vehicle        123349\n",
              "search_basis          437263\n",
              "reason_for_stop            0\n",
              "vehicle_color         239498\n",
              "vehicle_make          236111\n",
              "vehicle_model         253379\n",
              "vehicle_year          240697\n",
              "dtype: int64"
            ]
          },
          "metadata": {
            "tags": []
          },
          "execution_count": 37
        }
      ]
    },
    {
      "cell_type": "markdown",
      "metadata": {
        "id": "tW6I12AnelUP",
        "colab_type": "text"
      },
      "source": [
        "Do men and women have different vehicles colors?"
      ]
    },
    {
      "cell_type": "code",
      "metadata": {
        "id": "-rqiiy0IcNIH",
        "colab_type": "code",
        "colab": {}
      },
      "source": [
        "pd.crosstab(data.vehicle_color,data.subject_sex, normalize='index')"
      ],
      "execution_count": 0,
      "outputs": []
    },
    {
      "cell_type": "code",
      "metadata": {
        "id": "ObSS--oQe-Tv",
        "colab_type": "code",
        "colab": {}
      },
      "source": [
        "pd.crosstab(data.vehicle_make,data.search_vehicle, normalize='index')"
      ],
      "execution_count": 0,
      "outputs": []
    },
    {
      "cell_type": "code",
      "metadata": {
        "id": "PhiKmobmfbAG",
        "colab_type": "code",
        "colab": {}
      },
      "source": [
        ""
      ],
      "execution_count": 0,
      "outputs": []
    }
  ]
}