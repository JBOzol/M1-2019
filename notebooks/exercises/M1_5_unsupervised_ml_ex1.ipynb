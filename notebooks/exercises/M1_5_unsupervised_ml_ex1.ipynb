{
  "nbformat": 4,
  "nbformat_minor": 0,
  "metadata": {
    "kernelspec": {
      "display_name": "R",
      "language": "R",
      "name": "ir"
    },
    "language_info": {
      "mimetype": "text/x-r-source",
      "name": "R",
      "pygments_lexer": "r",
      "version": "3.4.2",
      "file_extension": ".r",
      "codemirror_mode": "r"
    },
    "colab": {
      "name": "M1_5_unsupervised_ml_ex1.ipynb",
      "version": "0.3.2",
      "provenance": []
    }
  },
  "cells": [
    {
      "cell_type": "code",
      "metadata": {
        "_uuid": "39113dee8b1a927a268acaabf27848ef106a4e5b",
        "_execution_state": "idle",
        "trusted": true,
        "id": "bAm3gi1EMH7K",
        "colab_type": "code",
        "colab": {}
      },
      "source": [
        "# Sorry guys, this takes some time....\n",
        "install.packages(\"FactoMineR\")\n",
        "install.packages(\"factoextra\")"
      ],
      "execution_count": 0,
      "outputs": []
    },
    {
      "cell_type": "code",
      "metadata": {
        "id": "koCHAKaGOXMQ",
        "colab_type": "code",
        "colab": {}
      },
      "source": [
        "library(tidyverse) # metapackage with lots of helpful functions\n",
        "library(magrittr)"
      ],
      "execution_count": 0,
      "outputs": []
    },
    {
      "cell_type": "markdown",
      "metadata": {
        "_uuid": "34077d7910142e5ff24603966c582918c6c66ce1",
        "id": "6kuLMf2BMH7Q",
        "colab_type": "text"
      },
      "source": [
        "# Inspect the data\n",
        "We will use the `mtcars` dataset. It contains different cars and their "
      ]
    },
    {
      "cell_type": "code",
      "metadata": {
        "id": "FacN8zTEaOgB",
        "colab_type": "code",
        "colab": {}
      },
      "source": [
        "data <- mtcars"
      ],
      "execution_count": 0,
      "outputs": []
    },
    {
      "cell_type": "code",
      "metadata": {
        "id": "EXPhA868Z0Vu",
        "colab_type": "code",
        "colab": {}
      },
      "source": [
        "data %>% head()"
      ],
      "execution_count": 0,
      "outputs": []
    },
    {
      "cell_type": "code",
      "metadata": {
        "id": "LtOWoSMTYYz6",
        "colab_type": "code",
        "colab": {}
      },
      "source": [
        "data %>% glimpse()"
      ],
      "execution_count": 0,
      "outputs": []
    },
    {
      "cell_type": "code",
      "metadata": {
        "trusted": true,
        "_uuid": "66d4a5d5521852fae812dde2af381db512c0f1ab",
        "id": "z7eVT4RNMH7b",
        "colab_type": "code",
        "outputId": "c649fd63-66a6-4e40-8d4b-0187f9888ed2",
        "colab": {
          "base_uri": "https://localhost:8080/",
          "height": 34
        }
      },
      "source": [
        "# Load the packages we need\n",
        "library(FactoMineR)\n",
        "library(factoextra)"
      ],
      "execution_count": 14,
      "outputs": [
        {
          "output_type": "stream",
          "text": [
            "Welcome! Related Books: `Practical Guide To Cluster Analysis in R` at https://goo.gl/13EFCZ\n"
          ],
          "name": "stderr"
        }
      ]
    },
    {
      "cell_type": "markdown",
      "metadata": {
        "_uuid": "1e44b62b72c160676c32a6c40aec8fbf60d2be58",
        "id": "cJYW2ZPSMH7i",
        "colab_type": "text"
      },
      "source": [
        "Some preprocessing upfront"
      ]
    },
    {
      "cell_type": "code",
      "metadata": {
        "trusted": true,
        "_uuid": "bf3c99c91f97f014c453c3e4d5d6168fe548f94a",
        "id": "wCZUfRohMH7j",
        "colab_type": "code",
        "colab": {}
      },
      "source": [
        "# First, let's get rid of NAs (we could impute them, but lets be lazy for now)\n",
        "data %<>% drop_na()\n",
        "\n",
        "# define rownames (for the visualization)\n",
        "rownames(data) <- data %>% pull(****)"
      ],
      "execution_count": 0,
      "outputs": []
    },
    {
      "cell_type": "markdown",
      "metadata": {
        "_uuid": "0838067f7ce6cc6d99b087141825dfc09e29ef7c",
        "id": "7Eah3M-bMH7m",
        "colab_type": "text"
      },
      "source": [
        "Now its really your turn, let's do a PCA. "
      ]
    },
    {
      "cell_type": "code",
      "metadata": {
        "trusted": true,
        "_uuid": "182890ff90f0f82a565f1e59359b6aeb47a08b98",
        "id": "cZltGODkMH7n",
        "colab_type": "code",
        "colab": {}
      },
      "source": [
        "res.pca <- PCA(***)"
      ],
      "execution_count": 0,
      "outputs": []
    },
    {
      "cell_type": "markdown",
      "metadata": {
        "id": "cfBeXUUUajn1",
        "colab_type": "text"
      },
      "source": [
        "So far so good, how many components with Eigenvector > 1 do we get?"
      ]
    },
    {
      "cell_type": "code",
      "metadata": {
        "id": "0uKNAXd8bKTs",
        "colab_type": "code",
        "colab": {}
      },
      "source": [
        "***** %>% as_tibble()"
      ],
      "execution_count": 0,
      "outputs": []
    },
    {
      "cell_type": "markdown",
      "metadata": {
        "_uuid": "09ded70a22a05ed8bd4933bf8b0c279da1147fcd",
        "id": "vBSzrJujMH7r",
        "colab_type": "text"
      },
      "source": [
        "And now, let's visualize it..."
      ]
    },
    {
      "cell_type": "code",
      "metadata": {
        "trusted": true,
        "_uuid": "3df2d0de586c608fc03ef9ff614cb25a5de889ab",
        "id": "Fk1R-yJkMH7s",
        "colab_type": "code",
        "colab": {}
      },
      "source": [
        "fviz_pca_var(***) "
      ],
      "execution_count": 0,
      "outputs": []
    },
    {
      "cell_type": "markdown",
      "metadata": {
        "id": "sziGqs4nafTv",
        "colab_type": "text"
      },
      "source": [
        "Do we see something interesting? Lets see which variable load on which dimension to get a feeling. "
      ]
    },
    {
      "cell_type": "code",
      "metadata": {
        "id": "dqSEabExdUDH",
        "colab_type": "code",
        "colab": {}
      },
      "source": [
        "***** %>% as_tibble()"
      ],
      "execution_count": 0,
      "outputs": []
    },
    {
      "cell_type": "markdown",
      "metadata": {
        "id": "Hv9nDPBgda-u",
        "colab_type": "text"
      },
      "source": [
        "Allright, now let us plot the components plus observations in one plot."
      ]
    },
    {
      "cell_type": "code",
      "metadata": {
        "id": "2dn0SP8TcV6P",
        "colab_type": "code",
        "colab": {}
      },
      "source": [
        "fviz_pca_biplot(***)"
      ],
      "execution_count": 0,
      "outputs": []
    },
    {
      "cell_type": "markdown",
      "metadata": {
        "id": "s6yPddSUdr9N",
        "colab_type": "text"
      },
      "source": [
        "Ok, we now add another observation, a superfast \"spacecar\""
      ]
    },
    {
      "cell_type": "code",
      "metadata": {
        "id": "DQR-geCEdxjU",
        "colab_type": "code",
        "colab": {}
      },
      "source": [
        "spacecar <- (c(1000,60,50,500,0,0.5,2.5,0,1,0,0) )\n",
        "names(spacecar) <- \"spacecar\"\n",
        "\n",
        "dataplus <- data %>%\n",
        "rbind(spacecar)"
      ],
      "execution_count": 0,
      "outputs": []
    },
    {
      "cell_type": "markdown",
      "metadata": {
        "id": "2ga66SKmeBFc",
        "colab_type": "text"
      },
      "source": [
        "Lets repeat the PCA and see where the spacecar gets placed...."
      ]
    },
    {
      "cell_type": "code",
      "metadata": {
        "id": "n6wDcsR9eI9L",
        "colab_type": "code",
        "colab": {}
      },
      "source": [
        "res.pca.plus <- PCA(***)"
      ],
      "execution_count": 0,
      "outputs": []
    },
    {
      "cell_type": "code",
      "metadata": {
        "id": "93rHdAjNeOq9",
        "colab_type": "code",
        "colab": {}
      },
      "source": [
        "fviz_pca_biplot(***)"
      ],
      "execution_count": 0,
      "outputs": []
    }
  ]
}