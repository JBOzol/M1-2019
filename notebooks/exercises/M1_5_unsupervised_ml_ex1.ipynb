{
  "nbformat": 4,
  "nbformat_minor": 0,
  "metadata": {
    "kernelspec": {
      "display_name": "R",
      "language": "R",
      "name": "ir"
    },
    "language_info": {
      "mimetype": "text/x-r-source",
      "name": "R",
      "pygments_lexer": "r",
      "version": "3.4.2",
      "file_extension": ".r",
      "codemirror_mode": "r"
    },
    "colab": {
      "name": "M1_5_unsupervised_ml_ex1.ipynb",
      "version": "0.3.2",
      "provenance": []
    }
  },
  "cells": [
    {
      "cell_type": "code",
      "metadata": {
        "_uuid": "39113dee8b1a927a268acaabf27848ef106a4e5b",
        "_execution_state": "idle",
        "trusted": true,
        "id": "bAm3gi1EMH7K",
        "colab_type": "code",
        "colab": {}
      },
      "source": [
        "library(tidyverse) # metapackage with lots of helpful functions\n",
        "library(magrittr)"
      ],
      "execution_count": 0,
      "outputs": []
    },
    {
      "cell_type": "markdown",
      "metadata": {
        "_uuid": "34077d7910142e5ff24603966c582918c6c66ce1",
        "id": "6kuLMf2BMH7Q",
        "colab_type": "text"
      },
      "source": [
        "# Read the data\n",
        "Lets load some data!  You will find a dataset on Gert Hofstede's [\"6-D model of national culture\"\"](https://geerthofstede.com/culture-geert-hofstede-gert-jan-hofstede/6d-model-of-national-culture/). This popular measures of country-level culture in (by now) 6 dimensions became very popular in sociology, economics, and management science to explain cross-cultural interaction as well as frictions. a exhaustive documentation of the 2013 dataset can be found [here](https://geerthofstede.com/wp-content/uploads/2016/07/Manual-VSM-2013.pdf)."
      ]
    },
    {
      "cell_type": "code",
      "metadata": {
        "trusted": true,
        "_uuid": "0c3699c99edee2b45c2474c6a10e985fda6afaa1",
        "id": "7VRS9wqIMH7S",
        "colab_type": "code",
        "colab": {}
      },
      "source": [
        "data <- read_csv2(\"https://www.dropbox.com/s/6can8ofrh1mqukh/vsm13.csv?dl=1\", na = \"#NULL!\")"
      ],
      "execution_count": 0,
      "outputs": []
    },
    {
      "cell_type": "code",
      "metadata": {
        "trusted": true,
        "_uuid": "2eed53700d37c0befd51e81b627279d468c3659c",
        "id": "kDdCzggJMH7X",
        "colab_type": "code",
        "colab": {}
      },
      "source": [
        "data %>% head()"
      ],
      "execution_count": 0,
      "outputs": []
    },
    {
      "cell_type": "code",
      "metadata": {
        "id": "Fcfi4ToVM40B",
        "colab_type": "code",
        "colab": {}
      },
      "source": [
        "data %>% glimpse()"
      ],
      "execution_count": 0,
      "outputs": []
    },
    {
      "cell_type": "markdown",
      "metadata": {
        "_uuid": "0ca8ffb598086993bd71431409b6c9cab627afa1",
        "id": "DLqin6nNMH7V",
        "colab_type": "text"
      },
      "source": [
        "* **`pdi:`**  The power distance index is defined as \"the extent to which the less powerful members of organizations and institutions (like the family) accept and expect that power is distributed unequally.\"In this dimension, inequality and power is perceived from the followers, or the lower level. A higher degree of the Index indicates that hierarchy is clearly established and executed in society, without doubt or reason. A lower degree of the Index signifies that people question authority and attempt to distribute power.\n",
        "* **`idv:`**  This index explores the \"degree to which people in a society are integrated into groups.\"\" Individualistic societies have loose ties that often only relates an individual to his/her immediate family. They emphasize the \"I\" versus the \"we\". Its counterpart, collectivism, describes a society in which tightly-integrated relationships tie extended families and others into in-groups. These in-groups are laced with undoubted loyalty and support each other when a conflict arises with another in-group.\n",
        "* **`mas:`**  In this dimension, masculinity is defined as \"a preference in society for achievement, heroism, assertiveness and material rewards for success.\"\" Its counterpart represents \"a preference for cooperation, modesty, caring for the weak and quality of life.\" Women in the respective societies tend to display different values. In feminine societies, they share modest and caring views equally with men. In more masculine societies, women are somewhat assertive and competitive, but notably less than men. In other words, they still recognize a gap between male and female values. This dimension is frequently viewed as taboo in highly masculine societies.\n",
        "* **`uai:`**  The uncertainty avoidance index is defined as \"a society's tolerance for ambiguity,\" in which people embrace or avert an event of something unexpected, unknown, or away from the status quo. Societies that score a high degree in this index opt for stiff codes of behavior, guidelines, laws, and generally rely on absolute truth, or the belief that one lone truth dictates everything and people know what it is. A lower degree in this index shows more acceptance of differing thoughts or ideas. Society tends to impose fewer regulations, ambiguity is more accustomed to, and the environment is more free-flowing.\n",
        "* **`ltowvs:`** This dimension associates the connection of the past with the current and future actions/challenges. A lower degree of this index (short-term) indicates that traditions are honored and kept, while steadfastness is valued. Societies with a high degree in this index (long-term) views adaptation and circumstantial, pragmatic problem-solving as a necessity. A poor country that is short-term oriented usually has little to no economic development, while long-term oriented countries continue to develop to a point. \n",
        "* **`ivr:`**  This dimension is essentially a measure of happiness; whether or not simple joys are fulfilled. Indulgence is defined as \"a society that allows relatively free gratification of basic and natural human desires related to enjoying life and having fun.\" Its counterpart is defined as \"a society that controls gratification of needs and regulates it by means of strict social norms. Indulgent societies believe themselves to be in control of their own life and emotions; restrained societies believe other factors dictate their life and emotions."
      ]
    },
    {
      "cell_type": "markdown",
      "metadata": {
        "_uuid": "9a24cac8dfd7ad357cb712247542f19c7e9d0368",
        "id": "ePXEUdbPMH7a",
        "colab_type": "text"
      },
      "source": [
        "Ok, looks interesting. Let's do the fololwing:\n",
        "\n",
        "0. The data is not perfect. So some small upfront-munging is necessary.\n",
        "1. Gert Hofstede claims this dimensions to emasure orthogonal features of culture. That raises the question if they reasy measure different constructs. To find out, lets execute a PCA on them. How do the dimensions load? And how do countries score? Illustrate and visualize the results.\n",
        "2. Can we form meaningful \"cultural clusters\" among countries?\n",
        "3. Let's create a meaningful measure for \"cultural distance\" between countries. What do we see? Interpret.\n",
        "4. (Advanced) Does bilateral \"cultural distance\" or the assignment to a \"cultural cluster\" help us to explain other interaction between countries we might be interested in, such as trade, migration etc.? Here you will need some skills from M1-1 & 2."
      ]
    },
    {
      "cell_type": "code",
      "metadata": {
        "trusted": true,
        "_uuid": "66d4a5d5521852fae812dde2af381db512c0f1ab",
        "id": "z7eVT4RNMH7b",
        "colab_type": "code",
        "colab": {}
      },
      "source": [
        "# Load the packages we need\n",
        "library(FactoMineR)\n",
        "library(factoextra)"
      ],
      "execution_count": 0,
      "outputs": []
    },
    {
      "cell_type": "markdown",
      "metadata": {
        "_uuid": "1e44b62b72c160676c32a6c40aec8fbf60d2be58",
        "id": "cJYW2ZPSMH7i",
        "colab_type": "text"
      },
      "source": [
        "Some preprocessing upfront"
      ]
    },
    {
      "cell_type": "code",
      "metadata": {
        "trusted": true,
        "_uuid": "bf3c99c91f97f014c453c3e4d5d6168fe548f94a",
        "id": "wCZUfRohMH7j",
        "colab_type": "code",
        "colab": {}
      },
      "source": [
        "# First, let's get rid of NAs (we could impute them, but lets be lazy for now)\n",
        "data %<>% drop_na()\n",
        "\n",
        "# define rownames (for the visualization)\n",
        "rownames(data) <- data %>% pull(country)"
      ],
      "execution_count": 0,
      "outputs": []
    },
    {
      "cell_type": "markdown",
      "metadata": {
        "_uuid": "0838067f7ce6cc6d99b087141825dfc09e29ef7c",
        "id": "7Eah3M-bMH7m",
        "colab_type": "text"
      },
      "source": [
        "Now its really your turn, let's do a PCA"
      ]
    },
    {
      "cell_type": "code",
      "metadata": {
        "trusted": true,
        "_uuid": "182890ff90f0f82a565f1e59359b6aeb47a08b98",
        "id": "cZltGODkMH7n",
        "colab_type": "code",
        "colab": {}
      },
      "source": [
        "res.pca <- PCA(data %>% select(-country, -ctr), scale.unit = TRUE, graph = FALSE)\n",
        "glimpse(res.pca)"
      ],
      "execution_count": 0,
      "outputs": []
    },
    {
      "cell_type": "markdown",
      "metadata": {
        "_uuid": "09ded70a22a05ed8bd4933bf8b0c279da1147fcd",
        "id": "vBSzrJujMH7r",
        "colab_type": "text"
      },
      "source": [
        "And now, let's visualize it..."
      ]
    },
    {
      "cell_type": "code",
      "metadata": {
        "trusted": true,
        "_uuid": "3df2d0de586c608fc03ef9ff614cb25a5de889ab",
        "id": "Fk1R-yJkMH7s",
        "colab_type": "code",
        "colab": {}
      },
      "source": [
        "fviz_pca_var(res.pca, \n",
        "             alpha.var = \"cos2\",\n",
        "             col.var = \"contrib\",\n",
        "             gradient.cols = c(\"#00AFBB\", \"#E7B800\", \"#FC4E07\"),\n",
        "             repel = TRUE,\n",
        "             ggtheme = theme_gray()) "
      ],
      "execution_count": 0,
      "outputs": []
    },
    {
      "cell_type": "markdown",
      "metadata": {
        "_uuid": "34152bd166eb1c1cbcdf1172a5a467139393c6fc",
        "id": "KLkn3zizMH7w",
        "colab_type": "text"
      },
      "source": [
        "So, now without help... can you create a distance matrix?"
      ]
    },
    {
      "cell_type": "code",
      "metadata": {
        "trusted": true,
        "_uuid": "f4af9acbba82327126e2b3bbe98bc4358be74bab",
        "id": "W0Mxl0LsMH7y",
        "colab_type": "code",
        "colab": {}
      },
      "source": [
        ""
      ],
      "execution_count": 0,
      "outputs": []
    },
    {
      "cell_type": "markdown",
      "metadata": {
        "_uuid": "b41dc4525a87df3e07980d17f974edaf230abcfe",
        "id": "rGD1ebB7MH73",
        "colab_type": "text"
      },
      "source": [
        "So, which countries are the most, and the least culturally distant?"
      ]
    },
    {
      "cell_type": "code",
      "metadata": {
        "trusted": true,
        "_uuid": "2bcf1468b60337081a262b444a0b47d5d36033f2",
        "id": "rtqW6b5pMH74",
        "colab_type": "code",
        "colab": {}
      },
      "source": [
        ""
      ],
      "execution_count": 0,
      "outputs": []
    },
    {
      "cell_type": "markdown",
      "metadata": {
        "_uuid": "27ca0504f0fb9265b7bae7a5308380111221c397",
        "id": "4Ojx1pzcMH77",
        "colab_type": "text"
      },
      "source": [
        "Lets do a kmeans clustering"
      ]
    },
    {
      "cell_type": "code",
      "metadata": {
        "trusted": true,
        "_uuid": "06ed8e9f109c177bc7479fb99c2a68509dec888a",
        "id": "ZVmtyYucMH78",
        "colab_type": "code",
        "colab": {}
      },
      "source": [
        "km <- kmeans(scale(data[***]), centers = *)  \n",
        "glimpse(km)"
      ],
      "execution_count": 0,
      "outputs": []
    },
    {
      "cell_type": "markdown",
      "metadata": {
        "_uuid": "b450fed75464e2ab204b2f24f9320fb20097fb36",
        "id": "L_yv9b3OMH7_",
        "colab_type": "text"
      },
      "source": [
        "And visualize it..."
      ]
    },
    {
      "cell_type": "code",
      "metadata": {
        "trusted": true,
        "_uuid": "7a5f23860bd3ba976626f66bd4755d36f6554bb8",
        "id": "Ajh_p6eLMH8A",
        "colab_type": "code",
        "colab": {}
      },
      "source": [
        "fviz_cluster(***, data = ***,\n",
        "             ggtheme = theme_gray())  "
      ],
      "execution_count": 0,
      "outputs": []
    },
    {
      "cell_type": "markdown",
      "metadata": {
        "_uuid": "f677caec512dd3634429ade59c2ec278f588aa4f",
        "id": "93j6nhe2MH8D",
        "colab_type": "text"
      },
      "source": [
        ""
      ]
    },
    {
      "cell_type": "markdown",
      "metadata": {
        "_uuid": "ae89947e615304bafe161169dd66737e263a5a6b",
        "id": "vbtnJUQdMH8E",
        "colab_type": "text"
      },
      "source": [
        ""
      ]
    },
    {
      "cell_type": "markdown",
      "metadata": {
        "_uuid": "3e9998c4a52767685f0ee09700cf4063b569d75a",
        "id": "l4kDnkL5MH8F",
        "colab_type": "text"
      },
      "source": [
        ""
      ]
    },
    {
      "cell_type": "markdown",
      "metadata": {
        "_uuid": "a83f63dcffb80b606d62cf74faefd7f9097f7292",
        "id": "42CVkw6bMH8G",
        "colab_type": "text"
      },
      "source": [
        ""
      ]
    }
  ]
}