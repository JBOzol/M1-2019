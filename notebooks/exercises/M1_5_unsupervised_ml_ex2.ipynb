{
  "nbformat": 4,
  "nbformat_minor": 0,
  "metadata": {
    "kernelspec": {
      "display_name": "R",
      "language": "R",
      "name": "ir"
    },
    "language_info": {
      "mimetype": "text/x-r-source",
      "name": "R",
      "pygments_lexer": "r",
      "version": "3.4.2",
      "file_extension": ".r",
      "codemirror_mode": "r"
    },
    "colab": {
      "name": "M1_5_unsupervised_ml_ex2.ipynb",
      "version": "0.3.2",
      "provenance": []
    }
  },
  "cells": [
    {
      "cell_type": "code",
      "metadata": {
        "_uuid": "39113dee8b1a927a268acaabf27848ef106a4e5b",
        "_execution_state": "idle",
        "trusted": true,
        "id": "qfGORrQ-MJNK",
        "colab_type": "code",
        "colab": {
          "base_uri": "https://localhost:8080/",
          "height": 347
        },
        "outputId": "b63dc130-8753-4916-bdb6-37beb11dafbb"
      },
      "source": [
        "library(tidyverse) # metapackage with lots of helpful functions\n",
        "library(magrittr)"
      ],
      "execution_count": 2,
      "outputs": [
        {
          "output_type": "stream",
          "text": [
            "── \u001b[1mAttaching packages\u001b[22m ─────────────────────────────────────── tidyverse 1.2.1 ──\n",
            "\u001b[32m✔\u001b[39m \u001b[34mggplot2\u001b[39m 3.2.1     \u001b[32m✔\u001b[39m \u001b[34mpurrr  \u001b[39m 0.3.2\n",
            "\u001b[32m✔\u001b[39m \u001b[34mtibble \u001b[39m 2.1.3     \u001b[32m✔\u001b[39m \u001b[34mdplyr  \u001b[39m 0.8.3\n",
            "\u001b[32m✔\u001b[39m \u001b[34mtidyr  \u001b[39m 0.8.3     \u001b[32m✔\u001b[39m \u001b[34mstringr\u001b[39m 1.4.0\n",
            "\u001b[32m✔\u001b[39m \u001b[34mreadr  \u001b[39m 1.3.1     \u001b[32m✔\u001b[39m \u001b[34mforcats\u001b[39m 0.4.0\n",
            "── \u001b[1mConflicts\u001b[22m ────────────────────────────────────────── tidyverse_conflicts() ──\n",
            "\u001b[31m✖\u001b[39m \u001b[34mdplyr\u001b[39m::\u001b[32mfilter()\u001b[39m masks \u001b[34mstats\u001b[39m::filter()\n",
            "\u001b[31m✖\u001b[39m \u001b[34mdplyr\u001b[39m::\u001b[32mlag()\u001b[39m    masks \u001b[34mstats\u001b[39m::lag()\n",
            "\n",
            "Attaching package: ‘magrittr’\n",
            "\n",
            "The following object is masked from ‘package:purrr’:\n",
            "\n",
            "    set_names\n",
            "\n",
            "The following object is masked from ‘package:tidyr’:\n",
            "\n",
            "    extract\n",
            "\n"
          ],
          "name": "stderr"
        }
      ]
    },
    {
      "cell_type": "markdown",
      "metadata": {
        "_uuid": "34077d7910142e5ff24603966c582918c6c66ce1",
        "id": "My0-Fip9MJNR",
        "colab_type": "text"
      },
      "source": [
        "# Read the data\n",
        "Lets load some data!  You will find a dataset on Gert Hofstede's [\"6-D model of national culture\"\"](https://geerthofstede.com/culture-geert-hofstede-gert-jan-hofstede/6d-model-of-national-culture/). This popular measures of country-level culture in (by now) 6 dimensions became very popular in sociology, economics, and management science to explain cross-cultural interaction as well as frictions. a exhaustive documentation of the 2013 dataset can be found [here](https://geerthofstede.com/wp-content/uploads/2016/07/Manual-VSM-2013.pdf)."
      ]
    },
    {
      "cell_type": "code",
      "metadata": {
        "trusted": true,
        "_uuid": "0c3699c99edee2b45c2474c6a10e985fda6afaa1",
        "id": "gGaoJXHQMJNT",
        "colab_type": "code",
        "colab": {
          "base_uri": "https://localhost:8080/",
          "height": 225
        },
        "outputId": "6939ae15-4662-4d12-c733-e89bc51321b9"
      },
      "source": [
        "data <- read_csv2(\"https://www.dropbox.com/s/6can8ofrh1mqukh/vsm13.csv?dl=1\", na = \"#NULL!\")"
      ],
      "execution_count": 5,
      "outputs": [
        {
          "output_type": "stream",
          "text": [
            "Using ',' as decimal and '.' as grouping mark. Use read_delim() for more control.\n",
            "Parsed with column specification:\n",
            "cols(\n",
            "  ctr = \u001b[31mcol_character()\u001b[39m,\n",
            "  country = \u001b[31mcol_character()\u001b[39m,\n",
            "  pdi = \u001b[32mcol_double()\u001b[39m,\n",
            "  idv = \u001b[32mcol_double()\u001b[39m,\n",
            "  mas = \u001b[32mcol_double()\u001b[39m,\n",
            "  uai = \u001b[32mcol_double()\u001b[39m,\n",
            "  ltowvs = \u001b[32mcol_double()\u001b[39m,\n",
            "  ivr = \u001b[32mcol_double()\u001b[39m\n",
            ")\n"
          ],
          "name": "stderr"
        }
      ]
    },
    {
      "cell_type": "code",
      "metadata": {
        "trusted": true,
        "_uuid": "2eed53700d37c0befd51e81b627279d468c3659c",
        "id": "p9w4IwKlMJNa",
        "colab_type": "code",
        "colab": {
          "base_uri": "https://localhost:8080/",
          "height": 202
        },
        "outputId": "66bbd26a-2b06-4330-f82b-84233297cd69"
      },
      "source": [
        "data %>% head()"
      ],
      "execution_count": 6,
      "outputs": [
        {
          "output_type": "display_data",
          "data": {
            "text/plain": [
              "  ctr country        pdi idv mas uai ltowvs ivr\n",
              "1 AFE Africa East    64  27  41  52  32     40 \n",
              "2 AFW Africa West    77  20  46  54   9     78 \n",
              "3 ALB Albania        NA  NA  NA  NA  61     15 \n",
              "4 ALG Algeria        NA  NA  NA  NA  26     32 \n",
              "5 AND Andorra        NA  NA  NA  NA  NA     65 \n",
              "6 ARA Arab countries 80  38  53  68  23     34 "
            ],
            "text/latex": "A tibble: 6 × 8\n\\begin{tabular}{r|llllllll}\n ctr & country & pdi & idv & mas & uai & ltowvs & ivr\\\\\n <chr> & <chr> & <dbl> & <dbl> & <dbl> & <dbl> & <dbl> & <dbl>\\\\\n\\hline\n\t AFE & Africa East    & 64 & 27 & 41 & 52 & 32 & 40\\\\\n\t AFW & Africa West    & 77 & 20 & 46 & 54 &  9 & 78\\\\\n\t ALB & Albania        & NA & NA & NA & NA & 61 & 15\\\\\n\t ALG & Algeria        & NA & NA & NA & NA & 26 & 32\\\\\n\t AND & Andorra        & NA & NA & NA & NA & NA & 65\\\\\n\t ARA & Arab countries & 80 & 38 & 53 & 68 & 23 & 34\\\\\n\\end{tabular}\n",
            "text/markdown": "\nA tibble: 6 × 8\n\n| ctr &lt;chr&gt; | country &lt;chr&gt; | pdi &lt;dbl&gt; | idv &lt;dbl&gt; | mas &lt;dbl&gt; | uai &lt;dbl&gt; | ltowvs &lt;dbl&gt; | ivr &lt;dbl&gt; |\n|---|---|---|---|---|---|---|---|\n| AFE | Africa East    | 64 | 27 | 41 | 52 | 32 | 40 |\n| AFW | Africa West    | 77 | 20 | 46 | 54 |  9 | 78 |\n| ALB | Albania        | NA | NA | NA | NA | 61 | 15 |\n| ALG | Algeria        | NA | NA | NA | NA | 26 | 32 |\n| AND | Andorra        | NA | NA | NA | NA | NA | 65 |\n| ARA | Arab countries | 80 | 38 | 53 | 68 | 23 | 34 |\n\n",
            "text/html": [
              "<table>\n",
              "<caption>A tibble: 6 × 8</caption>\n",
              "<thead>\n",
              "\t<tr><th scope=col>ctr</th><th scope=col>country</th><th scope=col>pdi</th><th scope=col>idv</th><th scope=col>mas</th><th scope=col>uai</th><th scope=col>ltowvs</th><th scope=col>ivr</th></tr>\n",
              "\t<tr><th scope=col>&lt;chr&gt;</th><th scope=col>&lt;chr&gt;</th><th scope=col>&lt;dbl&gt;</th><th scope=col>&lt;dbl&gt;</th><th scope=col>&lt;dbl&gt;</th><th scope=col>&lt;dbl&gt;</th><th scope=col>&lt;dbl&gt;</th><th scope=col>&lt;dbl&gt;</th></tr>\n",
              "</thead>\n",
              "<tbody>\n",
              "\t<tr><td>AFE</td><td>Africa East   </td><td>64</td><td>27</td><td>41</td><td>52</td><td>32</td><td>40</td></tr>\n",
              "\t<tr><td>AFW</td><td>Africa West   </td><td>77</td><td>20</td><td>46</td><td>54</td><td> 9</td><td>78</td></tr>\n",
              "\t<tr><td>ALB</td><td>Albania       </td><td>NA</td><td>NA</td><td>NA</td><td>NA</td><td>61</td><td>15</td></tr>\n",
              "\t<tr><td>ALG</td><td>Algeria       </td><td>NA</td><td>NA</td><td>NA</td><td>NA</td><td>26</td><td>32</td></tr>\n",
              "\t<tr><td>AND</td><td>Andorra       </td><td>NA</td><td>NA</td><td>NA</td><td>NA</td><td>NA</td><td>65</td></tr>\n",
              "\t<tr><td>ARA</td><td>Arab countries</td><td>80</td><td>38</td><td>53</td><td>68</td><td>23</td><td>34</td></tr>\n",
              "</tbody>\n",
              "</table>\n"
            ]
          },
          "metadata": {
            "tags": []
          }
        }
      ]
    },
    {
      "cell_type": "code",
      "metadata": {
        "id": "46wvx4DHMS7Z",
        "colab_type": "code",
        "colab": {
          "base_uri": "https://localhost:8080/",
          "height": 191
        },
        "outputId": "6828fb16-b11b-4b83-ed68-8c22709992ae"
      },
      "source": [
        "data %>% glimpse()"
      ],
      "execution_count": 7,
      "outputs": [
        {
          "output_type": "stream",
          "text": [
            "Observations: 111\n",
            "Variables: 8\n",
            "$ ctr     \u001b[3m\u001b[90m<chr>\u001b[39m\u001b[23m \"AFE\", \"AFW\", \"ALB\", \"ALG\", \"AND\", \"ARA\", \"ARG\", \"ARM\", \"AUL\"…\n",
            "$ country \u001b[3m\u001b[90m<chr>\u001b[39m\u001b[23m \"Africa East\", \"Africa West\", \"Albania\", \"Algeria\", \"Andorra\"…\n",
            "$ pdi     \u001b[3m\u001b[90m<dbl>\u001b[39m\u001b[23m 64, 77, NA, NA, NA, 80, 49, NA, 38, 11, NA, 80, NA, 65, 67, 6…\n",
            "$ idv     \u001b[3m\u001b[90m<dbl>\u001b[39m\u001b[23m 27, 20, NA, NA, NA, 38, 46, NA, 90, 55, NA, 20, NA, 75, 72, 7…\n",
            "$ mas     \u001b[3m\u001b[90m<dbl>\u001b[39m\u001b[23m 41, 46, NA, NA, NA, 53, 56, NA, 61, 79, NA, 55, NA, 54, 60, 4…\n",
            "$ uai     \u001b[3m\u001b[90m<dbl>\u001b[39m\u001b[23m 52, 54, NA, NA, NA, 68, 86, NA, 51, 70, NA, 60, NA, 94, 93, 9…\n",
            "$ ltowvs  \u001b[3m\u001b[90m<dbl>\u001b[39m\u001b[23m 32, 9, 61, 26, NA, 23, 20, 61, 21, 60, 61, 47, 81, 82, NA, NA…\n",
            "$ ivr     \u001b[3m\u001b[90m<dbl>\u001b[39m\u001b[23m 40, 78, 15, 32, 65, 34, 62, NA, 71, 63, 22, 20, 15, 57, NA, N…\n"
          ],
          "name": "stdout"
        }
      ]
    },
    {
      "cell_type": "markdown",
      "metadata": {
        "_uuid": "0ca8ffb598086993bd71431409b6c9cab627afa1",
        "id": "DF42QOvaMJNZ",
        "colab_type": "text"
      },
      "source": [
        "* **`pdi:`**  The power distance index is defined as \"the extent to which the less powerful members of organizations and institutions (like the family) accept and expect that power is distributed unequally.\"In this dimension, inequality and power is perceived from the followers, or the lower level. A higher degree of the Index indicates that hierarchy is clearly established and executed in society, without doubt or reason. A lower degree of the Index signifies that people question authority and attempt to distribute power.\n",
        "* **`idv:`**  This index explores the \"degree to which people in a society are integrated into groups.\"\" Individualistic societies have loose ties that often only relates an individual to his/her immediate family. They emphasize the \"I\" versus the \"we\". Its counterpart, collectivism, describes a society in which tightly-integrated relationships tie extended families and others into in-groups. These in-groups are laced with undoubted loyalty and support each other when a conflict arises with another in-group.\n",
        "* **`mas:`**  In this dimension, masculinity is defined as \"a preference in society for achievement, heroism, assertiveness and material rewards for success.\"\" Its counterpart represents \"a preference for cooperation, modesty, caring for the weak and quality of life.\" Women in the respective societies tend to display different values. In feminine societies, they share modest and caring views equally with men. In more masculine societies, women are somewhat assertive and competitive, but notably less than men. In other words, they still recognize a gap between male and female values. This dimension is frequently viewed as taboo in highly masculine societies.\n",
        "* **`uai:`**  The uncertainty avoidance index is defined as \"a society's tolerance for ambiguity,\" in which people embrace or avert an event of something unexpected, unknown, or away from the status quo. Societies that score a high degree in this index opt for stiff codes of behavior, guidelines, laws, and generally rely on absolute truth, or the belief that one lone truth dictates everything and people know what it is. A lower degree in this index shows more acceptance of differing thoughts or ideas. Society tends to impose fewer regulations, ambiguity is more accustomed to, and the environment is more free-flowing.\n",
        "* **`ltowvs:`** This dimension associates the connection of the past with the current and future actions/challenges. A lower degree of this index (short-term) indicates that traditions are honored and kept, while steadfastness is valued. Societies with a high degree in this index (long-term) views adaptation and circumstantial, pragmatic problem-solving as a necessity. A poor country that is short-term oriented usually has little to no economic development, while long-term oriented countries continue to develop to a point. \n",
        "* **`ivr:`**  This dimension is essentially a measure of happiness; whether or not simple joys are fulfilled. Indulgence is defined as \"a society that allows relatively free gratification of basic and natural human desires related to enjoying life and having fun.\" Its counterpart is defined as \"a society that controls gratification of needs and regulates it by means of strict social norms. Indulgent societies believe themselves to be in control of their own life and emotions; restrained societies believe other factors dictate their life and emotions."
      ]
    },
    {
      "cell_type": "markdown",
      "metadata": {
        "_uuid": "9a24cac8dfd7ad357cb712247542f19c7e9d0368",
        "id": "-B9y9yCTMJNe",
        "colab_type": "text"
      },
      "source": [
        "Ok, looks interesting. Let's do the fololwing:\n",
        "\n",
        "0. The data is not perfect. So some small upfront-munging is necessary.\n",
        "1. Gert Hofstede claims this dimensions to emasure orthogonal features of culture. That raises the question if they reasy measure different constructs. To find out, lets execute a PCA on them. How do the dimensions load? And how do countries score? Illustrate and visualize the results.\n",
        "2. Can we form meaningful \"cultural clusters\" among countries?\n",
        "3. Let's create a meaningful measure for \"cultural distance\" between countries. What do we see? Interpret.\n",
        "4. (Advanced) Does bilateral \"cultural distance\" or the assignment to a \"cultural cluster\" help us to explain other interaction between countries we might be interested in, such as trade, migration etc.? Here you will need some skills from M1-1 & 2."
      ]
    },
    {
      "cell_type": "code",
      "metadata": {
        "trusted": true,
        "_uuid": "66d4a5d5521852fae812dde2af381db512c0f1ab",
        "id": "Kh1J-FkaMJNf",
        "colab_type": "code",
        "colab": {}
      },
      "source": [
        "# Load the packages we need\n",
        "library(FactoMineR)\n",
        "library(factoextra)"
      ],
      "execution_count": 0,
      "outputs": []
    },
    {
      "cell_type": "markdown",
      "metadata": {
        "_uuid": "1e44b62b72c160676c32a6c40aec8fbf60d2be58",
        "id": "r9UOmjlpMJNj",
        "colab_type": "text"
      },
      "source": [
        "Some preprocessing upfront"
      ]
    },
    {
      "cell_type": "code",
      "metadata": {
        "trusted": true,
        "_uuid": "bf3c99c91f97f014c453c3e4d5d6168fe548f94a",
        "id": "J_j2ECXiMJNk",
        "colab_type": "code",
        "colab": {}
      },
      "source": [
        "# First, let's get rid of NAs (we could impute them, but lets be lazy for now)\n",
        "data %<>% drop_na()\n",
        "\n",
        "# define rownames (for the visualization)\n",
        "rownames(data) <- data %>% pull(country)"
      ],
      "execution_count": 0,
      "outputs": []
    },
    {
      "cell_type": "markdown",
      "metadata": {
        "_uuid": "0838067f7ce6cc6d99b087141825dfc09e29ef7c",
        "id": "scMZe41SMJNo",
        "colab_type": "text"
      },
      "source": [
        "Now its really your turn, let's do a PCA"
      ]
    },
    {
      "cell_type": "code",
      "metadata": {
        "trusted": true,
        "_uuid": "182890ff90f0f82a565f1e59359b6aeb47a08b98",
        "id": "VQCKy-QdMJNq",
        "colab_type": "code",
        "colab": {}
      },
      "source": [
        "res.pca <- PCA(data %>% select(-country, -ctr), scale.unit = TRUE, graph = FALSE)\n",
        "glimpse(res.pca)"
      ],
      "execution_count": 0,
      "outputs": []
    },
    {
      "cell_type": "markdown",
      "metadata": {
        "_uuid": "09ded70a22a05ed8bd4933bf8b0c279da1147fcd",
        "id": "FWDvtZR9MJNu",
        "colab_type": "text"
      },
      "source": [
        "And now, let's visualize it..."
      ]
    },
    {
      "cell_type": "code",
      "metadata": {
        "trusted": true,
        "_uuid": "3df2d0de586c608fc03ef9ff614cb25a5de889ab",
        "id": "2yzbqKCRMJNv",
        "colab_type": "code",
        "colab": {}
      },
      "source": [
        "fviz_pca_var(res.pca, \n",
        "             alpha.var = \"cos2\",\n",
        "             col.var = \"contrib\",\n",
        "             gradient.cols = c(\"#00AFBB\", \"#E7B800\", \"#FC4E07\"),\n",
        "             repel = TRUE,\n",
        "             ggtheme = theme_gray()) "
      ],
      "execution_count": 0,
      "outputs": []
    },
    {
      "cell_type": "markdown",
      "metadata": {
        "_uuid": "34152bd166eb1c1cbcdf1172a5a467139393c6fc",
        "id": "PAW-VMHZMJNz",
        "colab_type": "text"
      },
      "source": [
        "So, now without help... can you create a distance matrix?"
      ]
    },
    {
      "cell_type": "code",
      "metadata": {
        "trusted": true,
        "_uuid": "f4af9acbba82327126e2b3bbe98bc4358be74bab",
        "id": "JPNqLA_SMJN0",
        "colab_type": "code",
        "colab": {}
      },
      "source": [
        ""
      ],
      "execution_count": 0,
      "outputs": []
    },
    {
      "cell_type": "markdown",
      "metadata": {
        "_uuid": "b41dc4525a87df3e07980d17f974edaf230abcfe",
        "id": "NtEk78gLMJN4",
        "colab_type": "text"
      },
      "source": [
        "So, which countries are the most, and the least culturally distant?"
      ]
    },
    {
      "cell_type": "code",
      "metadata": {
        "trusted": true,
        "_uuid": "2bcf1468b60337081a262b444a0b47d5d36033f2",
        "id": "lf2l3X_-MJN6",
        "colab_type": "code",
        "colab": {}
      },
      "source": [
        ""
      ],
      "execution_count": 0,
      "outputs": []
    },
    {
      "cell_type": "markdown",
      "metadata": {
        "_uuid": "27ca0504f0fb9265b7bae7a5308380111221c397",
        "id": "egiyZrdXMJN-",
        "colab_type": "text"
      },
      "source": [
        "Lets do a kmeans clustering"
      ]
    },
    {
      "cell_type": "code",
      "metadata": {
        "trusted": true,
        "_uuid": "06ed8e9f109c177bc7479fb99c2a68509dec888a",
        "id": "TyXMJRIlMJN_",
        "colab_type": "code",
        "colab": {}
      },
      "source": [
        "km <- kmeans(scale(data[***]), centers = *)  \n",
        "glimpse(km)"
      ],
      "execution_count": 0,
      "outputs": []
    },
    {
      "cell_type": "markdown",
      "metadata": {
        "_uuid": "b450fed75464e2ab204b2f24f9320fb20097fb36",
        "id": "icQ2Ow5hMJOC",
        "colab_type": "text"
      },
      "source": [
        "And visualize it..."
      ]
    },
    {
      "cell_type": "code",
      "metadata": {
        "trusted": true,
        "_uuid": "7a5f23860bd3ba976626f66bd4755d36f6554bb8",
        "id": "i0O9pKzUMJOD",
        "colab_type": "code",
        "colab": {}
      },
      "source": [
        "fviz_cluster(***, data = ***,\n",
        "             ggtheme = theme_gray())  "
      ],
      "execution_count": 0,
      "outputs": []
    },
    {
      "cell_type": "markdown",
      "metadata": {
        "_uuid": "f677caec512dd3634429ade59c2ec278f588aa4f",
        "id": "03JowHmgMJOG",
        "colab_type": "text"
      },
      "source": [
        ""
      ]
    },
    {
      "cell_type": "markdown",
      "metadata": {
        "_uuid": "ae89947e615304bafe161169dd66737e263a5a6b",
        "id": "2kSrH1MKMJOH",
        "colab_type": "text"
      },
      "source": [
        ""
      ]
    },
    {
      "cell_type": "markdown",
      "metadata": {
        "_uuid": "3e9998c4a52767685f0ee09700cf4063b569d75a",
        "id": "xoaDvQqrMJOI",
        "colab_type": "text"
      },
      "source": [
        ""
      ]
    },
    {
      "cell_type": "markdown",
      "metadata": {
        "_uuid": "a83f63dcffb80b606d62cf74faefd7f9097f7292",
        "id": "7JkRXCwDMJOJ",
        "colab_type": "text"
      },
      "source": [
        ""
      ]
    }
  ]
}